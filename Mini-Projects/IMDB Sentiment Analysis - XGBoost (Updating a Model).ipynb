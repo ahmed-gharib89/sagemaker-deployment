{
 "cells": [
  {
   "cell_type": "markdown",
   "metadata": {},
   "source": [
    "# Sentiment Analysis\n",
    "\n",
    "## Updating a Model in SageMaker\n",
    "\n",
    "_Deep Learning Nanodegree Program | Deployment_\n",
    "\n",
    "---\n",
    "\n",
    "In this notebook we will consider a situation in which a model that we constructed is no longer working as we intended. In particular, we will look at the XGBoost sentiment analysis model that we constructed earlier. In this case, however, we have some new data that our model doesn't seem to perform very well on. As a result, we will re-train our model and update an existing endpoint so that it uses our new model.\n",
    "\n",
    "This notebook starts by re-creating the XGBoost sentiment analysis model that was created in earlier notebooks. This means that you will have already seen the cells up to the end of Step 4. The new content in this notebook begins at Step 5.\n",
    "\n",
    "## Instructions\n",
    "\n",
    "Some template code has already been provided for you, and you will need to implement additional functionality to successfully complete this notebook. You will not need to modify the included code beyond what is requested. Sections that begin with '**TODO**' in the header indicate that you need to complete or implement some portion within them. Instructions will be provided for each section and the specifics of the implementation are marked in the code block with a `# TODO: ...` comment. Please be sure to read the instructions carefully!\n",
    "\n",
    "In addition to implementing code, there will be questions for you to answer which relate to the task and your implementation. Each section where you will answer a question is preceded by a '**Question:**' header. Carefully read each question and provide your answer below the '**Answer:**' header by editing the Markdown cell.\n",
    "\n",
    "> **Note**: Code and Markdown cells can be executed using the **Shift+Enter** keyboard shortcut. In addition, a cell can be edited by typically clicking it (double-click for Markdown cells) or by pressing **Enter** while it is highlighted."
   ]
  },
  {
   "cell_type": "markdown",
   "metadata": {},
   "source": [
    "## Step 1: Downloading the data\n",
    "\n",
    "The dataset we are going to use is very popular among researchers in Natural Language Processing, usually referred to as the [IMDb dataset](http://ai.stanford.edu/~amaas/data/sentiment/). It consists of movie reviews from the website [imdb.com](http://www.imdb.com/), each labeled as either '**pos**itive', if the reviewer enjoyed the film, or '**neg**ative' otherwise.\n",
    "\n",
    "> Maas, Andrew L., et al. [Learning Word Vectors for Sentiment Analysis](http://ai.stanford.edu/~amaas/data/sentiment/). In _Proceedings of the 49th Annual Meeting of the Association for Computational Linguistics: Human Language Technologies_. Association for Computational Linguistics, 2011.\n",
    "\n",
    "We begin by using some Jupyter Notebook magic to download and extract the dataset."
   ]
  },
  {
   "cell_type": "code",
   "execution_count": 1,
   "metadata": {},
   "outputs": [
    {
     "name": "stdout",
     "output_type": "stream",
     "text": [
      "mkdir: cannot create directory ‘../data’: File exists\n",
      "--2020-08-29 20:55:31--  http://ai.stanford.edu/~amaas/data/sentiment/aclImdb_v1.tar.gz\n",
      "Resolving ai.stanford.edu (ai.stanford.edu)... 171.64.68.10\n",
      "Connecting to ai.stanford.edu (ai.stanford.edu)|171.64.68.10|:80... connected.\n",
      "HTTP request sent, awaiting response... 200 OK\n",
      "Length: 84125825 (80M) [application/x-gzip]\n",
      "Saving to: ‘../data/aclImdb_v1.tar.gz’\n",
      "\n",
      "../data/aclImdb_v1. 100%[===================>]  80.23M  9.53MB/s    in 12s     \n",
      "\n",
      "2020-08-29 20:55:44 (6.57 MB/s) - ‘../data/aclImdb_v1.tar.gz’ saved [84125825/84125825]\n",
      "\n"
     ]
    }
   ],
   "source": [
    "%mkdir ../data\n",
    "!wget -O ../data/aclImdb_v1.tar.gz http://ai.stanford.edu/~amaas/data/sentiment/aclImdb_v1.tar.gz\n",
    "!tar -zxf ../data/aclImdb_v1.tar.gz -C ../data"
   ]
  },
  {
   "cell_type": "markdown",
   "metadata": {},
   "source": [
    "## Step 2: Preparing the data\n",
    "\n",
    "The data we have downloaded is split into various files, each of which contains a single review. It will be much easier going forward if we combine these individual files into two large files, one for training and one for testing."
   ]
  },
  {
   "cell_type": "code",
   "execution_count": 3,
   "metadata": {},
   "outputs": [],
   "source": [
    "import os\n",
    "import glob\n",
    "\n",
    "def read_imdb_data(data_dir='../data/aclImdb'):\n",
    "    data = {}\n",
    "    labels = {}\n",
    "    \n",
    "    for data_type in ['train', 'test']:\n",
    "        data[data_type] = {}\n",
    "        labels[data_type] = {}\n",
    "        \n",
    "        for sentiment in ['pos', 'neg']:\n",
    "            data[data_type][sentiment] = []\n",
    "            labels[data_type][sentiment] = []\n",
    "            \n",
    "            path = os.path.join(data_dir, data_type, sentiment, '*.txt')\n",
    "            files = glob.glob(path)\n",
    "            \n",
    "            for f in files:\n",
    "                with open(f) as review:\n",
    "                    data[data_type][sentiment].append(review.read())\n",
    "                    # Here we represent a positive review by '1' and a negative review by '0'\n",
    "                    labels[data_type][sentiment].append(1 if sentiment == 'pos' else 0)\n",
    "                    \n",
    "            assert len(data[data_type][sentiment]) == len(labels[data_type][sentiment]), \\\n",
    "                    \"{}/{} data size does not match labels size\".format(data_type, sentiment)\n",
    "                \n",
    "    return data, labels"
   ]
  },
  {
   "cell_type": "code",
   "execution_count": 3,
   "metadata": {},
   "outputs": [
    {
     "name": "stdout",
     "output_type": "stream",
     "text": [
      "IMDB reviews: train = 12500 pos / 12500 neg, test = 12500 pos / 12500 neg\n"
     ]
    }
   ],
   "source": [
    "data, labels = read_imdb_data()\n",
    "print(\"IMDB reviews: train = {} pos / {} neg, test = {} pos / {} neg\".format(\n",
    "            len(data['train']['pos']), len(data['train']['neg']),\n",
    "            len(data['test']['pos']), len(data['test']['neg'])))"
   ]
  },
  {
   "cell_type": "code",
   "execution_count": 4,
   "metadata": {},
   "outputs": [],
   "source": [
    "from sklearn.utils import shuffle\n",
    "\n",
    "def prepare_imdb_data(data, labels):\n",
    "    \"\"\"Prepare training and test sets from IMDb movie reviews.\"\"\"\n",
    "    \n",
    "    #Combine positive and negative reviews and labels\n",
    "    data_train = data['train']['pos'] + data['train']['neg']\n",
    "    data_test = data['test']['pos'] + data['test']['neg']\n",
    "    labels_train = labels['train']['pos'] + labels['train']['neg']\n",
    "    labels_test = labels['test']['pos'] + labels['test']['neg']\n",
    "    \n",
    "    #Shuffle reviews and corresponding labels within training and test sets\n",
    "    data_train, labels_train = shuffle(data_train, labels_train)\n",
    "    data_test, labels_test = shuffle(data_test, labels_test)\n",
    "    \n",
    "    # Return a unified training data, test data, training labels, test labets\n",
    "    return data_train, data_test, labels_train, labels_test"
   ]
  },
  {
   "cell_type": "code",
   "execution_count": 5,
   "metadata": {},
   "outputs": [
    {
     "name": "stdout",
     "output_type": "stream",
     "text": [
      "IMDb reviews (combined): train = 25000, test = 25000\n"
     ]
    }
   ],
   "source": [
    "train_X, test_X, train_y, test_y = prepare_imdb_data(data, labels)\n",
    "print(\"IMDb reviews (combined): train = {}, test = {}\".format(len(train_X), len(test_X)))"
   ]
  },
  {
   "cell_type": "code",
   "execution_count": 6,
   "metadata": {},
   "outputs": [
    {
     "data": {
      "text/plain": [
       "'Just got my copy of this DVD two disc set and while not perfect, I found the overall experience to be a fun way to waste some time. I have to say right up front that I am a huge fan of Zombie movies, and I truly think that the fine people who made these films must be too. I also have a soft spot for people who are trying, sometimes against all odds, to live a dream. And again, these people are doing it. Is this some award-winning collection of amazing film? No. Not even close. But for what they do on their meager budgets, these films should be recommended. For me, the bottom line is always, was I entertained? Did I have a good time with this movie? And here the answer to both was \"Yes.\" The first in the series is also the most raw. It opens with some kind of accident at a nuclear facility and people melt down or something. Cut to some years later and a new housing community is built over the old reactor site. Some kids making a video fall into a hole and find themselves trapped in the bottom levels of the facility. They get rescued, but the hole is not sealed and the people from the opening start lumbering out of the hole. Soon, the whole town is overtaken by the undead. And these zombies are fun. They go from cool rot makeup to the cheapest slap on white-face ever, but they are fun. The whole movie culminates in a showdown between the final survivors of the area and the undead, with our heroes going into the reactor\\'s lower levels to take out the flesh eating zombies and seal the hole forever! Pretty cheesy, but I think it was meant to be. Still, it moves very fast, has buckets of gruesome effects and really tries to have some style. The acting is uneven, but a few good performances shine through and one really should listen to the commentary track. I went back and watched it again with that on and found it to be a good bit of information on the trials and fun that the crew and cast experienced on the movie. Director Todd Sheets seems pretty proud of this, his first film, but also has no delusions. He knows it\\'s a trashy zombie movie, but he does show respect to people involved. Also, Sheets has a great sense of humor and some humble integrity that others could learn from in the movie field. The behind the scenes of Zombie Bloodbath is pretty fun as well. I felt it was almost as entertaining as the film it was made for. There are some great interviews and behind the scenes footage, mixed with news stories about the film from some major places like CNN, FOX and MTV. Over all, a fun little film that is VERY rough around the edges, but still had me laughing and enjoying the ride! I have seen many DV films, and some shot of video films, and many are quite dull, but this one really wasn\\'t. While newer DV films are technically superior, they just aren\\'t fun! Overall, this is a solid, if a bit flawed, release with plenty of extras and TONS of gore and splatter. While not breaking any grand rules of move making, I found the series to be fun and always a laugh, so I give this set a solid recommendation. Todd Sheets was not trying to make award winning art here folks, he was trying, sometimes against all odds it seems, to make fun zero budget, splattery horror and to that end, he has succeeded in spades.'"
      ]
     },
     "execution_count": 6,
     "metadata": {},
     "output_type": "execute_result"
    }
   ],
   "source": [
    "train_X[100]"
   ]
  },
  {
   "cell_type": "markdown",
   "metadata": {},
   "source": [
    "## Step 3: Processing the data\n",
    "\n",
    "Now that we have our training and testing datasets merged and ready to use, we need to start processing the raw data into something that will be useable by our machine learning algorithm. To begin with, we remove any html formatting that may appear in the reviews and perform some standard natural language processing in order to homogenize the data."
   ]
  },
  {
   "cell_type": "code",
   "execution_count": 4,
   "metadata": {},
   "outputs": [
    {
     "name": "stderr",
     "output_type": "stream",
     "text": [
      "[nltk_data] Downloading package stopwords to\n",
      "[nltk_data]     /home/ec2-user/nltk_data...\n",
      "[nltk_data]   Package stopwords is already up-to-date!\n"
     ]
    }
   ],
   "source": [
    "import nltk\n",
    "nltk.download(\"stopwords\")\n",
    "from nltk.corpus import stopwords\n",
    "from nltk.stem.porter import *\n",
    "stemmer = PorterStemmer()"
   ]
  },
  {
   "cell_type": "code",
   "execution_count": 5,
   "metadata": {},
   "outputs": [],
   "source": [
    "import re\n",
    "from bs4 import BeautifulSoup\n",
    "\n",
    "def review_to_words(review):\n",
    "    text = BeautifulSoup(review, \"html.parser\").get_text() # Remove HTML tags\n",
    "    text = re.sub(r\"[^a-zA-Z0-9]\", \" \", text.lower()) # Convert to lower case\n",
    "    words = text.split() # Split string into words\n",
    "    words = [w for w in words if w not in stopwords.words(\"english\")] # Remove stopwords\n",
    "    words = [PorterStemmer().stem(w) for w in words] # stem\n",
    "    \n",
    "    return words"
   ]
  },
  {
   "cell_type": "code",
   "execution_count": 9,
   "metadata": {},
   "outputs": [
    {
     "data": {
      "text/plain": [
       "['got',\n",
       " 'copi',\n",
       " 'dvd',\n",
       " 'two',\n",
       " 'disc',\n",
       " 'set',\n",
       " 'perfect',\n",
       " 'found',\n",
       " 'overal',\n",
       " 'experi',\n",
       " 'fun',\n",
       " 'way',\n",
       " 'wast',\n",
       " 'time',\n",
       " 'say',\n",
       " 'right',\n",
       " 'front',\n",
       " 'huge',\n",
       " 'fan',\n",
       " 'zombi',\n",
       " 'movi',\n",
       " 'truli',\n",
       " 'think',\n",
       " 'fine',\n",
       " 'peopl',\n",
       " 'made',\n",
       " 'film',\n",
       " 'must',\n",
       " 'also',\n",
       " 'soft',\n",
       " 'spot',\n",
       " 'peopl',\n",
       " 'tri',\n",
       " 'sometim',\n",
       " 'odd',\n",
       " 'live',\n",
       " 'dream',\n",
       " 'peopl',\n",
       " 'award',\n",
       " 'win',\n",
       " 'collect',\n",
       " 'amaz',\n",
       " 'film',\n",
       " 'even',\n",
       " 'close',\n",
       " 'meager',\n",
       " 'budget',\n",
       " 'film',\n",
       " 'recommend',\n",
       " 'bottom',\n",
       " 'line',\n",
       " 'alway',\n",
       " 'entertain',\n",
       " 'good',\n",
       " 'time',\n",
       " 'movi',\n",
       " 'answer',\n",
       " 'ye',\n",
       " 'first',\n",
       " 'seri',\n",
       " 'also',\n",
       " 'raw',\n",
       " 'open',\n",
       " 'kind',\n",
       " 'accid',\n",
       " 'nuclear',\n",
       " 'facil',\n",
       " 'peopl',\n",
       " 'melt',\n",
       " 'someth',\n",
       " 'cut',\n",
       " 'year',\n",
       " 'later',\n",
       " 'new',\n",
       " 'hous',\n",
       " 'commun',\n",
       " 'built',\n",
       " 'old',\n",
       " 'reactor',\n",
       " 'site',\n",
       " 'kid',\n",
       " 'make',\n",
       " 'video',\n",
       " 'fall',\n",
       " 'hole',\n",
       " 'find',\n",
       " 'trap',\n",
       " 'bottom',\n",
       " 'level',\n",
       " 'facil',\n",
       " 'get',\n",
       " 'rescu',\n",
       " 'hole',\n",
       " 'seal',\n",
       " 'peopl',\n",
       " 'open',\n",
       " 'start',\n",
       " 'lumber',\n",
       " 'hole',\n",
       " 'soon',\n",
       " 'whole',\n",
       " 'town',\n",
       " 'overtaken',\n",
       " 'undead',\n",
       " 'zombi',\n",
       " 'fun',\n",
       " 'go',\n",
       " 'cool',\n",
       " 'rot',\n",
       " 'makeup',\n",
       " 'cheapest',\n",
       " 'slap',\n",
       " 'white',\n",
       " 'face',\n",
       " 'ever',\n",
       " 'fun',\n",
       " 'whole',\n",
       " 'movi',\n",
       " 'culmin',\n",
       " 'showdown',\n",
       " 'final',\n",
       " 'survivor',\n",
       " 'area',\n",
       " 'undead',\n",
       " 'hero',\n",
       " 'go',\n",
       " 'reactor',\n",
       " 'lower',\n",
       " 'level',\n",
       " 'take',\n",
       " 'flesh',\n",
       " 'eat',\n",
       " 'zombi',\n",
       " 'seal',\n",
       " 'hole',\n",
       " 'forev',\n",
       " 'pretti',\n",
       " 'cheesi',\n",
       " 'think',\n",
       " 'meant',\n",
       " 'still',\n",
       " 'move',\n",
       " 'fast',\n",
       " 'bucket',\n",
       " 'gruesom',\n",
       " 'effect',\n",
       " 'realli',\n",
       " 'tri',\n",
       " 'style',\n",
       " 'act',\n",
       " 'uneven',\n",
       " 'good',\n",
       " 'perform',\n",
       " 'shine',\n",
       " 'one',\n",
       " 'realli',\n",
       " 'listen',\n",
       " 'commentari',\n",
       " 'track',\n",
       " 'went',\n",
       " 'back',\n",
       " 'watch',\n",
       " 'found',\n",
       " 'good',\n",
       " 'bit',\n",
       " 'inform',\n",
       " 'trial',\n",
       " 'fun',\n",
       " 'crew',\n",
       " 'cast',\n",
       " 'experienc',\n",
       " 'movi',\n",
       " 'director',\n",
       " 'todd',\n",
       " 'sheet',\n",
       " 'seem',\n",
       " 'pretti',\n",
       " 'proud',\n",
       " 'first',\n",
       " 'film',\n",
       " 'also',\n",
       " 'delus',\n",
       " 'know',\n",
       " 'trashi',\n",
       " 'zombi',\n",
       " 'movi',\n",
       " 'show',\n",
       " 'respect',\n",
       " 'peopl',\n",
       " 'involv',\n",
       " 'also',\n",
       " 'sheet',\n",
       " 'great',\n",
       " 'sens',\n",
       " 'humor',\n",
       " 'humbl',\n",
       " 'integr',\n",
       " 'other',\n",
       " 'could',\n",
       " 'learn',\n",
       " 'movi',\n",
       " 'field',\n",
       " 'behind',\n",
       " 'scene',\n",
       " 'zombi',\n",
       " 'bloodbath',\n",
       " 'pretti',\n",
       " 'fun',\n",
       " 'well',\n",
       " 'felt',\n",
       " 'almost',\n",
       " 'entertain',\n",
       " 'film',\n",
       " 'made',\n",
       " 'great',\n",
       " 'interview',\n",
       " 'behind',\n",
       " 'scene',\n",
       " 'footag',\n",
       " 'mix',\n",
       " 'news',\n",
       " 'stori',\n",
       " 'film',\n",
       " 'major',\n",
       " 'place',\n",
       " 'like',\n",
       " 'cnn',\n",
       " 'fox',\n",
       " 'mtv',\n",
       " 'fun',\n",
       " 'littl',\n",
       " 'film',\n",
       " 'rough',\n",
       " 'around',\n",
       " 'edg',\n",
       " 'still',\n",
       " 'laugh',\n",
       " 'enjoy',\n",
       " 'ride',\n",
       " 'seen',\n",
       " 'mani',\n",
       " 'dv',\n",
       " 'film',\n",
       " 'shot',\n",
       " 'video',\n",
       " 'film',\n",
       " 'mani',\n",
       " 'quit',\n",
       " 'dull',\n",
       " 'one',\n",
       " 'realli',\n",
       " 'newer',\n",
       " 'dv',\n",
       " 'film',\n",
       " 'technic',\n",
       " 'superior',\n",
       " 'fun',\n",
       " 'overal',\n",
       " 'solid',\n",
       " 'bit',\n",
       " 'flaw',\n",
       " 'releas',\n",
       " 'plenti',\n",
       " 'extra',\n",
       " 'ton',\n",
       " 'gore',\n",
       " 'splatter',\n",
       " 'break',\n",
       " 'grand',\n",
       " 'rule',\n",
       " 'move',\n",
       " 'make',\n",
       " 'found',\n",
       " 'seri',\n",
       " 'fun',\n",
       " 'alway',\n",
       " 'laugh',\n",
       " 'give',\n",
       " 'set',\n",
       " 'solid',\n",
       " 'recommend',\n",
       " 'todd',\n",
       " 'sheet',\n",
       " 'tri',\n",
       " 'make',\n",
       " 'award',\n",
       " 'win',\n",
       " 'art',\n",
       " 'folk',\n",
       " 'tri',\n",
       " 'sometim',\n",
       " 'odd',\n",
       " 'seem',\n",
       " 'make',\n",
       " 'fun',\n",
       " 'zero',\n",
       " 'budget',\n",
       " 'splatteri',\n",
       " 'horror',\n",
       " 'end',\n",
       " 'succeed',\n",
       " 'spade']"
      ]
     },
     "execution_count": 9,
     "metadata": {},
     "output_type": "execute_result"
    }
   ],
   "source": [
    "review_to_words(train_X[100])"
   ]
  },
  {
   "cell_type": "code",
   "execution_count": 6,
   "metadata": {},
   "outputs": [],
   "source": [
    "import pickle\n",
    "\n",
    "cache_dir = os.path.join(\"../cache\", \"sentiment_analysis\")  # where to store cache files\n",
    "os.makedirs(cache_dir, exist_ok=True)  # ensure cache directory exists\n",
    "\n",
    "def preprocess_data(data_train, data_test, labels_train, labels_test,\n",
    "                    cache_dir=cache_dir, cache_file=\"preprocessed_data.pkl\"):\n",
    "    \"\"\"Convert each review to words; read from cache if available.\"\"\"\n",
    "\n",
    "    # If cache_file is not None, try to read from it first\n",
    "    cache_data = None\n",
    "    if cache_file is not None:\n",
    "        try:\n",
    "            with open(os.path.join(cache_dir, cache_file), \"rb\") as f:\n",
    "                cache_data = pickle.load(f)\n",
    "            print(\"Read preprocessed data from cache file:\", cache_file)\n",
    "        except:\n",
    "            pass  # unable to read from cache, but that's okay\n",
    "    \n",
    "    # If cache is missing, then do the heavy lifting\n",
    "    if cache_data is None:\n",
    "        # Preprocess training and test data to obtain words for each review\n",
    "        #words_train = list(map(review_to_words, data_train))\n",
    "        #words_test = list(map(review_to_words, data_test))\n",
    "        words_train = [review_to_words(review) for review in data_train]\n",
    "        words_test = [review_to_words(review) for review in data_test]\n",
    "        \n",
    "        # Write to cache file for future runs\n",
    "        if cache_file is not None:\n",
    "            cache_data = dict(words_train=words_train, words_test=words_test,\n",
    "                              labels_train=labels_train, labels_test=labels_test)\n",
    "            with open(os.path.join(cache_dir, cache_file), \"wb\") as f:\n",
    "                pickle.dump(cache_data, f)\n",
    "            print(\"Wrote preprocessed data to cache file:\", cache_file)\n",
    "    else:\n",
    "        # Unpack data loaded from cache file\n",
    "        words_train, words_test, labels_train, labels_test = (cache_data['words_train'],\n",
    "                cache_data['words_test'], cache_data['labels_train'], cache_data['labels_test'])\n",
    "    \n",
    "    return words_train, words_test, labels_train, labels_test"
   ]
  },
  {
   "cell_type": "code",
   "execution_count": 11,
   "metadata": {},
   "outputs": [
    {
     "name": "stdout",
     "output_type": "stream",
     "text": [
      "Wrote preprocessed data to cache file: preprocessed_data.pkl\n"
     ]
    }
   ],
   "source": [
    "# Preprocess data\n",
    "train_X, test_X, train_y, test_y = preprocess_data(train_X, test_X, train_y, test_y)"
   ]
  },
  {
   "cell_type": "markdown",
   "metadata": {},
   "source": [
    "### Extract Bag-of-Words features\n",
    "\n",
    "For the model we will be implementing, rather than using the reviews directly, we are going to transform each review into a Bag-of-Words feature representation. Keep in mind that 'in the wild' we will only have access to the training set so our transformer can only use the training set to construct a representation."
   ]
  },
  {
   "cell_type": "code",
   "execution_count": 7,
   "metadata": {},
   "outputs": [],
   "source": [
    "import numpy as np\n",
    "from sklearn.feature_extraction.text import CountVectorizer\n",
    "import joblib\n",
    "# joblib is an enhanced version of pickle that is more efficient for storing NumPy arrays\n",
    "\n",
    "def extract_BoW_features(words_train, words_test, vocabulary_size=5000,\n",
    "                         cache_dir=cache_dir, cache_file=\"bow_features.pkl\"):\n",
    "    \"\"\"Extract Bag-of-Words for a given set of documents, already preprocessed into words.\"\"\"\n",
    "    \n",
    "    # If cache_file is not None, try to read from it first\n",
    "    cache_data = None\n",
    "    if cache_file is not None:\n",
    "        try:\n",
    "            with open(os.path.join(cache_dir, cache_file), \"rb\") as f:\n",
    "                cache_data = joblib.load(f)\n",
    "            print(\"Read features from cache file:\", cache_file)\n",
    "        except:\n",
    "            pass  # unable to read from cache, but that's okay\n",
    "    \n",
    "    # If cache is missing, then do the heavy lifting\n",
    "    if cache_data is None:\n",
    "        # Fit a vectorizer to training documents and use it to transform them\n",
    "        # NOTE: Training documents have already been preprocessed and tokenized into words;\n",
    "        #       pass in dummy functions to skip those steps, e.g. preprocessor=lambda x: x\n",
    "        vectorizer = CountVectorizer(max_features=vocabulary_size,\n",
    "                preprocessor=lambda x: x, tokenizer=lambda x: x)  # already preprocessed\n",
    "        features_train = vectorizer.fit_transform(words_train).toarray()\n",
    "\n",
    "        # Apply the same vectorizer to transform the test documents (ignore unknown words)\n",
    "        features_test = vectorizer.transform(words_test).toarray()\n",
    "        \n",
    "        # NOTE: Remember to convert the features using .toarray() for a compact representation\n",
    "        \n",
    "        # Write to cache file for future runs (store vocabulary as well)\n",
    "        if cache_file is not None:\n",
    "            vocabulary = vectorizer.vocabulary_\n",
    "            cache_data = dict(features_train=features_train, features_test=features_test,\n",
    "                             vocabulary=vocabulary)\n",
    "            with open(os.path.join(cache_dir, cache_file), \"wb\") as f:\n",
    "                joblib.dump(cache_data, f)\n",
    "            print(\"Wrote features to cache file:\", cache_file)\n",
    "    else:\n",
    "        # Unpack data loaded from cache file\n",
    "        features_train, features_test, vocabulary = (cache_data['features_train'],\n",
    "                cache_data['features_test'], cache_data['vocabulary'])\n",
    "    \n",
    "    # Return both the extracted features as well as the vocabulary\n",
    "    return features_train, features_test, vocabulary"
   ]
  },
  {
   "cell_type": "code",
   "execution_count": 14,
   "metadata": {},
   "outputs": [
    {
     "name": "stdout",
     "output_type": "stream",
     "text": [
      "Wrote features to cache file: bow_features.pkl\n"
     ]
    }
   ],
   "source": [
    "# Extract Bag of Words features for both training and test datasets\n",
    "train_X, test_X, vocabulary = extract_BoW_features(train_X, test_X)"
   ]
  },
  {
   "cell_type": "code",
   "execution_count": 15,
   "metadata": {},
   "outputs": [
    {
     "data": {
      "text/plain": [
       "5000"
      ]
     },
     "execution_count": 15,
     "metadata": {},
     "output_type": "execute_result"
    }
   ],
   "source": [
    "len(train_X[100])"
   ]
  },
  {
   "cell_type": "markdown",
   "metadata": {},
   "source": [
    "## Step 4: Classification using XGBoost\n",
    "\n",
    "Now that we have created the feature representation of our training (and testing) data, it is time to start setting up and using the XGBoost classifier provided by SageMaker.\n",
    "\n",
    "### Writing the dataset\n",
    "\n",
    "The XGBoost classifier that we will be using requires the dataset to be written to a file and stored using Amazon S3. To do this, we will start by splitting the training dataset into two parts, the data we will train the model with and a validation set. Then, we will write those datasets to a file and upload the files to S3. In addition, we will write the test set input to a file and upload the file to S3. This is so that we can use SageMakers Batch Transform functionality to test our model once we've fit it."
   ]
  },
  {
   "cell_type": "code",
   "execution_count": 16,
   "metadata": {},
   "outputs": [],
   "source": [
    "import pandas as pd\n",
    "\n",
    "# Earlier we shuffled the training dataset so to make things simple we can just assign\n",
    "# the first 10 000 reviews to the validation set and use the remaining reviews for training.\n",
    "val_X = pd.DataFrame(train_X[:10000])\n",
    "train_X = pd.DataFrame(train_X[10000:])\n",
    "\n",
    "val_y = pd.DataFrame(train_y[:10000])\n",
    "train_y = pd.DataFrame(train_y[10000:])"
   ]
  },
  {
   "cell_type": "markdown",
   "metadata": {},
   "source": [
    "The documentation for the XGBoost algorithm in SageMaker requires that the saved datasets should contain no headers or index and that for the training and validation data, the label should occur first for each sample.\n",
    "\n",
    "For more information about this and other algorithms, the SageMaker developer documentation can be found on __[Amazon's website.](https://docs.aws.amazon.com/sagemaker/latest/dg/)__"
   ]
  },
  {
   "cell_type": "code",
   "execution_count": 17,
   "metadata": {},
   "outputs": [],
   "source": [
    "# First we make sure that the local directory in which we'd like to store the training and validation csv files exists.\n",
    "data_dir = '../data/sentiment_update'\n",
    "if not os.path.exists(data_dir):\n",
    "    os.makedirs(data_dir)"
   ]
  },
  {
   "cell_type": "code",
   "execution_count": 18,
   "metadata": {},
   "outputs": [],
   "source": [
    "pd.DataFrame(test_X).to_csv(os.path.join(data_dir, 'test.csv'), header=False, index=False)\n",
    "\n",
    "pd.concat([val_y, val_X], axis=1).to_csv(os.path.join(data_dir, 'validation.csv'), header=False, index=False)\n",
    "pd.concat([train_y, train_X], axis=1).to_csv(os.path.join(data_dir, 'train.csv'), header=False, index=False)"
   ]
  },
  {
   "cell_type": "code",
   "execution_count": 19,
   "metadata": {},
   "outputs": [],
   "source": [
    "# To save a bit of memory we can set text_X, train_X, val_X, train_y and val_y to None.\n",
    "\n",
    "test_X = train_X = val_X = train_y = val_y = None"
   ]
  },
  {
   "cell_type": "markdown",
   "metadata": {},
   "source": [
    "### Uploading Training / Validation files to S3\n",
    "\n",
    "Amazon's S3 service allows us to store files that can be access by both the built-in training models such as the XGBoost model we will be using as well as custom models such as the one we will see a little later.\n",
    "\n",
    "For this, and most other tasks we will be doing using SageMaker, there are two methods we could use. The first is to use the low level functionality of SageMaker which requires knowing each of the objects involved in the SageMaker environment. The second is to use the high level functionality in which certain choices have been made on the user's behalf. The low level approach benefits from allowing the user a great deal of flexibility while the high level approach makes development much quicker. For our purposes we will opt to use the high level approach although using the low-level approach is certainly an option.\n",
    "\n",
    "Recall the method `upload_data()` which is a member of object representing our current SageMaker session. What this method does is upload the data to the default bucket (which is created if it does not exist) into the path described by the key_prefix variable. To see this for yourself, once you have uploaded the data files, go to the S3 console and look to see where the files have been uploaded.\n",
    "\n",
    "For additional resources, see the __[SageMaker API documentation](http://sagemaker.readthedocs.io/en/latest/)__ and in addition the __[SageMaker Developer Guide.](https://docs.aws.amazon.com/sagemaker/latest/dg/)__"
   ]
  },
  {
   "cell_type": "code",
   "execution_count": 20,
   "metadata": {},
   "outputs": [],
   "source": [
    "import sagemaker\n",
    "\n",
    "session = sagemaker.Session() # Store the current SageMaker session\n",
    "\n",
    "# S3 prefix (which folder will we use)\n",
    "prefix = 'sentiment-update'\n",
    "\n",
    "test_location = session.upload_data(os.path.join(data_dir, 'test.csv'), key_prefix=prefix)\n",
    "val_location = session.upload_data(os.path.join(data_dir, 'validation.csv'), key_prefix=prefix)\n",
    "train_location = session.upload_data(os.path.join(data_dir, 'train.csv'), key_prefix=prefix)"
   ]
  },
  {
   "cell_type": "markdown",
   "metadata": {},
   "source": [
    "### Creating the XGBoost model\n",
    "\n",
    "Now that the data has been uploaded it is time to create the XGBoost model. To begin with, we need to do some setup. At this point it is worth discussing what a model is in SageMaker. It is easiest to think of a model of comprising three different objects in the SageMaker ecosystem, which interact with one another.\n",
    "\n",
    "- Model Artifacts\n",
    "- Training Code (Container)\n",
    "- Inference Code (Container)\n",
    "\n",
    "The Model Artifacts are what you might think of as the actual model itself. For example, if you were building a neural network, the model artifacts would be the weights of the various layers. In our case, for an XGBoost model, the artifacts are the actual trees that are created during training.\n",
    "\n",
    "The other two objects, the training code and the inference code are then used the manipulate the training artifacts. More precisely, the training code uses the training data that is provided and creates the model artifacts, while the inference code uses the model artifacts to make predictions on new data.\n",
    "\n",
    "The way that SageMaker runs the training and inference code is by making use of Docker containers. For now, think of a container as being a way of packaging code up so that dependencies aren't an issue."
   ]
  },
  {
   "cell_type": "code",
   "execution_count": 21,
   "metadata": {},
   "outputs": [],
   "source": [
    "from sagemaker import get_execution_role\n",
    "\n",
    "# Our current execution role is require when creating the model as the training\n",
    "# and inference code will need to access the model artifacts.\n",
    "role = get_execution_role()"
   ]
  },
  {
   "cell_type": "code",
   "execution_count": 22,
   "metadata": {},
   "outputs": [
    {
     "name": "stderr",
     "output_type": "stream",
     "text": [
      "'get_image_uri' method will be deprecated in favor of 'ImageURIProvider' class in SageMaker Python SDK v2.\n",
      "There is a more up to date SageMaker XGBoost image. To use the newer image, please set 'repo_version'='1.0-1'. For example:\n",
      "\tget_image_uri(region, 'xgboost', '1.0-1').\n"
     ]
    }
   ],
   "source": [
    "# We need to retrieve the location of the container which is provided by Amazon for using XGBoost.\n",
    "# As a matter of convenience, the training and inference code both use the same container.\n",
    "from sagemaker.amazon.amazon_estimator import get_image_uri\n",
    "\n",
    "container = get_image_uri(session.boto_region_name, 'xgboost')"
   ]
  },
  {
   "cell_type": "code",
   "execution_count": 23,
   "metadata": {},
   "outputs": [
    {
     "name": "stderr",
     "output_type": "stream",
     "text": [
      "Parameter image_name will be renamed to image_uri in SageMaker Python SDK v2.\n"
     ]
    }
   ],
   "source": [
    "# First we create a SageMaker estimator object for our model.\n",
    "xgb = sagemaker.estimator.Estimator(container, # The location of the container we wish to use\n",
    "                                    role,                                    # What is our current IAM Role\n",
    "                                    train_instance_count=1,                  # How many compute instances\n",
    "                                    train_instance_type='ml.m4.xlarge',      # What kind of compute instances\n",
    "                                    output_path='s3://{}/{}/output'.format(session.default_bucket(), prefix),\n",
    "                                    sagemaker_session=session)\n",
    "\n",
    "# And then set the algorithm specific parameters.\n",
    "xgb.set_hyperparameters(max_depth=5,\n",
    "                        eta=0.2,\n",
    "                        gamma=4,\n",
    "                        min_child_weight=6,\n",
    "                        subsample=0.8,\n",
    "                        silent=0,\n",
    "                        objective='binary:logistic',\n",
    "                        early_stopping_rounds=10,\n",
    "                        num_round=500)"
   ]
  },
  {
   "cell_type": "markdown",
   "metadata": {},
   "source": [
    "### Fit the XGBoost model\n",
    "\n",
    "Now that our model has been set up we simply need to attach the training and validation datasets and then ask SageMaker to set up the computation."
   ]
  },
  {
   "cell_type": "code",
   "execution_count": 24,
   "metadata": {},
   "outputs": [
    {
     "name": "stderr",
     "output_type": "stream",
     "text": [
      "'s3_input' class will be renamed to 'TrainingInput' in SageMaker Python SDK v2.\n",
      "'s3_input' class will be renamed to 'TrainingInput' in SageMaker Python SDK v2.\n"
     ]
    }
   ],
   "source": [
    "s3_input_train = sagemaker.s3_input(s3_data=train_location, content_type='csv')\n",
    "s3_input_validation = sagemaker.s3_input(s3_data=val_location, content_type='csv')"
   ]
  },
  {
   "cell_type": "code",
   "execution_count": 25,
   "metadata": {},
   "outputs": [
    {
     "name": "stdout",
     "output_type": "stream",
     "text": [
      "2020-08-29 21:25:18 Starting - Starting the training job...\n",
      "2020-08-29 21:25:20 Starting - Launching requested ML instances......\n",
      "2020-08-29 21:26:43 Starting - Preparing the instances for training......\n",
      "2020-08-29 21:27:34 Downloading - Downloading input data...\n",
      "2020-08-29 21:28:13 Training - Training image download completed. Training in progress..\u001b[34mArguments: train\u001b[0m\n",
      "\u001b[34m[2020-08-29:21:28:14:INFO] Running standalone xgboost training.\u001b[0m\n",
      "\u001b[34m[2020-08-29:21:28:14:INFO] File size need to be processed in the node: 238.47mb. Available memory size in the node: 8488.98mb\u001b[0m\n",
      "\u001b[34m[2020-08-29:21:28:14:INFO] Determined delimiter of CSV input is ','\u001b[0m\n",
      "\u001b[34m[21:28:14] S3DistributionType set as FullyReplicated\u001b[0m\n",
      "\u001b[34m[21:28:16] 15000x5000 matrix with 75000000 entries loaded from /opt/ml/input/data/train?format=csv&label_column=0&delimiter=,\u001b[0m\n",
      "\u001b[34m[2020-08-29:21:28:16:INFO] Determined delimiter of CSV input is ','\u001b[0m\n",
      "\u001b[34m[21:28:16] S3DistributionType set as FullyReplicated\u001b[0m\n",
      "\u001b[34m[21:28:17] 10000x5000 matrix with 50000000 entries loaded from /opt/ml/input/data/validation?format=csv&label_column=0&delimiter=,\u001b[0m\n",
      "\u001b[34m[21:28:20] src/tree/updater_prune.cc:74: tree pruning end, 1 roots, 38 extra nodes, 10 pruned nodes, max_depth=5\u001b[0m\n",
      "\u001b[34m[0]#011train-error:0.299067#011validation-error:0.2998\u001b[0m\n",
      "\u001b[34mMultiple eval metrics have been passed: 'validation-error' will be used for early stopping.\n",
      "\u001b[0m\n",
      "\u001b[34mWill train until validation-error hasn't improved in 10 rounds.\u001b[0m\n",
      "\u001b[34m[21:28:21] src/tree/updater_prune.cc:74: tree pruning end, 1 roots, 40 extra nodes, 4 pruned nodes, max_depth=5\u001b[0m\n",
      "\u001b[34m[1]#011train-error:0.280333#011validation-error:0.2838\u001b[0m\n",
      "\u001b[34m[21:28:23] src/tree/updater_prune.cc:74: tree pruning end, 1 roots, 38 extra nodes, 10 pruned nodes, max_depth=5\u001b[0m\n",
      "\u001b[34m[2]#011train-error:0.268133#011validation-error:0.2726\u001b[0m\n",
      "\u001b[34m[21:28:25] src/tree/updater_prune.cc:74: tree pruning end, 1 roots, 36 extra nodes, 6 pruned nodes, max_depth=5\u001b[0m\n",
      "\u001b[34m[3]#011train-error:0.271333#011validation-error:0.2748\u001b[0m\n",
      "\u001b[34m[21:28:26] src/tree/updater_prune.cc:74: tree pruning end, 1 roots, 48 extra nodes, 6 pruned nodes, max_depth=5\u001b[0m\n",
      "\u001b[34m[4]#011train-error:0.2606#011validation-error:0.2648\u001b[0m\n",
      "\u001b[34m[21:28:27] src/tree/updater_prune.cc:74: tree pruning end, 1 roots, 34 extra nodes, 6 pruned nodes, max_depth=5\u001b[0m\n",
      "\u001b[34m[5]#011train-error:0.250933#011validation-error:0.2572\u001b[0m\n",
      "\u001b[34m[21:28:28] src/tree/updater_prune.cc:74: tree pruning end, 1 roots, 32 extra nodes, 6 pruned nodes, max_depth=5\u001b[0m\n",
      "\u001b[34m[6]#011train-error:0.2394#011validation-error:0.2478\u001b[0m\n",
      "\u001b[34m[21:28:30] src/tree/updater_prune.cc:74: tree pruning end, 1 roots, 34 extra nodes, 8 pruned nodes, max_depth=5\u001b[0m\n",
      "\u001b[34m[7]#011train-error:0.2364#011validation-error:0.2416\u001b[0m\n",
      "\u001b[34m[21:28:31] src/tree/updater_prune.cc:74: tree pruning end, 1 roots, 28 extra nodes, 4 pruned nodes, max_depth=5\u001b[0m\n",
      "\u001b[34m[8]#011train-error:0.231467#011validation-error:0.2392\u001b[0m\n",
      "\u001b[34m[21:28:32] src/tree/updater_prune.cc:74: tree pruning end, 1 roots, 30 extra nodes, 6 pruned nodes, max_depth=5\u001b[0m\n",
      "\u001b[34m[9]#011train-error:0.227067#011validation-error:0.2332\u001b[0m\n",
      "\u001b[34m[21:28:33] src/tree/updater_prune.cc:74: tree pruning end, 1 roots, 30 extra nodes, 8 pruned nodes, max_depth=5\u001b[0m\n",
      "\u001b[34m[10]#011train-error:0.219733#011validation-error:0.2277\u001b[0m\n",
      "\u001b[34m[21:28:35] src/tree/updater_prune.cc:74: tree pruning end, 1 roots, 40 extra nodes, 4 pruned nodes, max_depth=5\u001b[0m\n",
      "\u001b[34m[11]#011train-error:0.2148#011validation-error:0.224\u001b[0m\n",
      "\u001b[34m[21:28:36] src/tree/updater_prune.cc:74: tree pruning end, 1 roots, 34 extra nodes, 10 pruned nodes, max_depth=5\u001b[0m\n",
      "\u001b[34m[12]#011train-error:0.212933#011validation-error:0.2239\u001b[0m\n",
      "\u001b[34m[21:28:37] src/tree/updater_prune.cc:74: tree pruning end, 1 roots, 26 extra nodes, 10 pruned nodes, max_depth=5\u001b[0m\n",
      "\u001b[34m[13]#011train-error:0.209067#011validation-error:0.218\u001b[0m\n",
      "\u001b[34m[21:28:39] src/tree/updater_prune.cc:74: tree pruning end, 1 roots, 24 extra nodes, 8 pruned nodes, max_depth=5\u001b[0m\n",
      "\u001b[34m[14]#011train-error:0.2044#011validation-error:0.2152\u001b[0m\n",
      "\u001b[34m[21:28:40] src/tree/updater_prune.cc:74: tree pruning end, 1 roots, 26 extra nodes, 4 pruned nodes, max_depth=5\u001b[0m\n",
      "\u001b[34m[15]#011train-error:0.1996#011validation-error:0.2125\u001b[0m\n",
      "\u001b[34m[21:28:41] src/tree/updater_prune.cc:74: tree pruning end, 1 roots, 26 extra nodes, 16 pruned nodes, max_depth=5\u001b[0m\n",
      "\u001b[34m[16]#011train-error:0.198533#011validation-error:0.2133\u001b[0m\n",
      "\u001b[34m[21:28:42] src/tree/updater_prune.cc:74: tree pruning end, 1 roots, 28 extra nodes, 10 pruned nodes, max_depth=5\u001b[0m\n",
      "\u001b[34m[17]#011train-error:0.197133#011validation-error:0.2107\u001b[0m\n",
      "\u001b[34m[21:28:44] src/tree/updater_prune.cc:74: tree pruning end, 1 roots, 30 extra nodes, 4 pruned nodes, max_depth=5\u001b[0m\n",
      "\u001b[34m[18]#011train-error:0.195933#011validation-error:0.2094\u001b[0m\n",
      "\u001b[34m[21:28:45] src/tree/updater_prune.cc:74: tree pruning end, 1 roots, 30 extra nodes, 8 pruned nodes, max_depth=5\u001b[0m\n",
      "\u001b[34m[19]#011train-error:0.190533#011validation-error:0.2045\u001b[0m\n",
      "\u001b[34m[21:28:46] src/tree/updater_prune.cc:74: tree pruning end, 1 roots, 44 extra nodes, 6 pruned nodes, max_depth=5\u001b[0m\n",
      "\u001b[34m[20]#011train-error:0.1858#011validation-error:0.2034\u001b[0m\n",
      "\u001b[34m[21:28:47] src/tree/updater_prune.cc:74: tree pruning end, 1 roots, 32 extra nodes, 8 pruned nodes, max_depth=5\u001b[0m\n",
      "\u001b[34m[21]#011train-error:0.1834#011validation-error:0.2016\u001b[0m\n",
      "\u001b[34m[21:28:49] src/tree/updater_prune.cc:74: tree pruning end, 1 roots, 24 extra nodes, 12 pruned nodes, max_depth=5\u001b[0m\n",
      "\u001b[34m[22]#011train-error:0.179133#011validation-error:0.1992\u001b[0m\n",
      "\u001b[34m[21:28:50] src/tree/updater_prune.cc:74: tree pruning end, 1 roots, 32 extra nodes, 2 pruned nodes, max_depth=5\u001b[0m\n",
      "\u001b[34m[23]#011train-error:0.177333#011validation-error:0.1967\u001b[0m\n",
      "\u001b[34m[21:28:51] src/tree/updater_prune.cc:74: tree pruning end, 1 roots, 20 extra nodes, 6 pruned nodes, max_depth=5\u001b[0m\n",
      "\u001b[34m[24]#011train-error:0.1738#011validation-error:0.1943\u001b[0m\n",
      "\u001b[34m[21:28:53] src/tree/updater_prune.cc:74: tree pruning end, 1 roots, 24 extra nodes, 6 pruned nodes, max_depth=5\u001b[0m\n",
      "\u001b[34m[25]#011train-error:0.1712#011validation-error:0.1928\u001b[0m\n",
      "\u001b[34m[21:28:54] src/tree/updater_prune.cc:74: tree pruning end, 1 roots, 22 extra nodes, 8 pruned nodes, max_depth=5\u001b[0m\n",
      "\u001b[34m[26]#011train-error:0.170933#011validation-error:0.1917\u001b[0m\n",
      "\u001b[34m[21:28:55] src/tree/updater_prune.cc:74: tree pruning end, 1 roots, 18 extra nodes, 12 pruned nodes, max_depth=5\u001b[0m\n",
      "\u001b[34m[27]#011train-error:0.168933#011validation-error:0.1912\u001b[0m\n",
      "\u001b[34m[21:28:56] src/tree/updater_prune.cc:74: tree pruning end, 1 roots, 26 extra nodes, 12 pruned nodes, max_depth=5\u001b[0m\n",
      "\u001b[34m[28]#011train-error:0.166733#011validation-error:0.1892\u001b[0m\n",
      "\u001b[34m[21:28:58] src/tree/updater_prune.cc:74: tree pruning end, 1 roots, 18 extra nodes, 14 pruned nodes, max_depth=5\u001b[0m\n",
      "\u001b[34m[29]#011train-error:0.165667#011validation-error:0.1879\u001b[0m\n",
      "\u001b[34m[21:28:59] src/tree/updater_prune.cc:74: tree pruning end, 1 roots, 20 extra nodes, 10 pruned nodes, max_depth=5\u001b[0m\n",
      "\u001b[34m[30]#011train-error:0.164733#011validation-error:0.1859\u001b[0m\n",
      "\u001b[34m[21:29:00] src/tree/updater_prune.cc:74: tree pruning end, 1 roots, 26 extra nodes, 14 pruned nodes, max_depth=5\u001b[0m\n",
      "\u001b[34m[31]#011train-error:0.162667#011validation-error:0.1834\u001b[0m\n",
      "\u001b[34m[21:29:02] src/tree/updater_prune.cc:74: tree pruning end, 1 roots, 26 extra nodes, 6 pruned nodes, max_depth=5\u001b[0m\n",
      "\u001b[34m[32]#011train-error:0.161533#011validation-error:0.1812\u001b[0m\n",
      "\u001b[34m[21:29:03] src/tree/updater_prune.cc:74: tree pruning end, 1 roots, 22 extra nodes, 16 pruned nodes, max_depth=5\u001b[0m\n",
      "\u001b[34m[33]#011train-error:0.1594#011validation-error:0.1811\u001b[0m\n",
      "\u001b[34m[21:29:04] src/tree/updater_prune.cc:74: tree pruning end, 1 roots, 26 extra nodes, 4 pruned nodes, max_depth=5\u001b[0m\n",
      "\u001b[34m[34]#011train-error:0.1586#011validation-error:0.1806\u001b[0m\n",
      "\u001b[34m[21:29:05] src/tree/updater_prune.cc:74: tree pruning end, 1 roots, 24 extra nodes, 10 pruned nodes, max_depth=5\u001b[0m\n",
      "\u001b[34m[35]#011train-error:0.157933#011validation-error:0.1789\u001b[0m\n",
      "\u001b[34m[21:29:07] src/tree/updater_prune.cc:74: tree pruning end, 1 roots, 26 extra nodes, 4 pruned nodes, max_depth=5\u001b[0m\n",
      "\u001b[34m[36]#011train-error:0.156333#011validation-error:0.1774\u001b[0m\n",
      "\u001b[34m[21:29:08] src/tree/updater_prune.cc:74: tree pruning end, 1 roots, 16 extra nodes, 10 pruned nodes, max_depth=5\u001b[0m\n",
      "\u001b[34m[37]#011train-error:0.155#011validation-error:0.1767\u001b[0m\n",
      "\u001b[34m[21:29:09] src/tree/updater_prune.cc:74: tree pruning end, 1 roots, 22 extra nodes, 4 pruned nodes, max_depth=5\u001b[0m\n",
      "\u001b[34m[38]#011train-error:0.1542#011validation-error:0.1752\u001b[0m\n",
      "\u001b[34m[21:29:10] src/tree/updater_prune.cc:74: tree pruning end, 1 roots, 36 extra nodes, 8 pruned nodes, max_depth=5\u001b[0m\n",
      "\u001b[34m[39]#011train-error:0.152733#011validation-error:0.1743\u001b[0m\n",
      "\u001b[34m[21:29:12] src/tree/updater_prune.cc:74: tree pruning end, 1 roots, 18 extra nodes, 16 pruned nodes, max_depth=5\u001b[0m\n",
      "\u001b[34m[40]#011train-error:0.151333#011validation-error:0.173\u001b[0m\n",
      "\u001b[34m[21:29:13] src/tree/updater_prune.cc:74: tree pruning end, 1 roots, 22 extra nodes, 4 pruned nodes, max_depth=5\u001b[0m\n",
      "\u001b[34m[41]#011train-error:0.1486#011validation-error:0.1724\u001b[0m\n",
      "\u001b[34m[21:29:14] src/tree/updater_prune.cc:74: tree pruning end, 1 roots, 32 extra nodes, 6 pruned nodes, max_depth=5\u001b[0m\n",
      "\u001b[34m[42]#011train-error:0.1482#011validation-error:0.1718\u001b[0m\n",
      "\u001b[34m[21:29:15] src/tree/updater_prune.cc:74: tree pruning end, 1 roots, 30 extra nodes, 8 pruned nodes, max_depth=5\u001b[0m\n",
      "\u001b[34m[43]#011train-error:0.1466#011validation-error:0.1709\u001b[0m\n",
      "\u001b[34m[21:29:17] src/tree/updater_prune.cc:74: tree pruning end, 1 roots, 26 extra nodes, 6 pruned nodes, max_depth=5\u001b[0m\n",
      "\u001b[34m[44]#011train-error:0.143533#011validation-error:0.1699\u001b[0m\n",
      "\u001b[34m[21:29:18] src/tree/updater_prune.cc:74: tree pruning end, 1 roots, 14 extra nodes, 4 pruned nodes, max_depth=5\u001b[0m\n",
      "\u001b[34m[45]#011train-error:0.142933#011validation-error:0.1693\u001b[0m\n",
      "\u001b[34m[21:29:19] src/tree/updater_prune.cc:74: tree pruning end, 1 roots, 32 extra nodes, 8 pruned nodes, max_depth=5\u001b[0m\n",
      "\u001b[34m[46]#011train-error:0.141867#011validation-error:0.1693\u001b[0m\n",
      "\u001b[34m[21:29:21] src/tree/updater_prune.cc:74: tree pruning end, 1 roots, 24 extra nodes, 8 pruned nodes, max_depth=5\u001b[0m\n",
      "\u001b[34m[47]#011train-error:0.139933#011validation-error:0.1692\u001b[0m\n",
      "\u001b[34m[21:29:22] src/tree/updater_prune.cc:74: tree pruning end, 1 roots, 16 extra nodes, 6 pruned nodes, max_depth=5\u001b[0m\n",
      "\u001b[34m[48]#011train-error:0.139733#011validation-error:0.1685\u001b[0m\n",
      "\u001b[34m[21:29:23] src/tree/updater_prune.cc:74: tree pruning end, 1 roots, 24 extra nodes, 10 pruned nodes, max_depth=5\u001b[0m\n",
      "\u001b[34m[49]#011train-error:0.1382#011validation-error:0.1671\u001b[0m\n",
      "\u001b[34m[21:29:24] src/tree/updater_prune.cc:74: tree pruning end, 1 roots, 20 extra nodes, 14 pruned nodes, max_depth=5\u001b[0m\n",
      "\u001b[34m[50]#011train-error:0.1376#011validation-error:0.1676\u001b[0m\n",
      "\u001b[34m[21:29:26] src/tree/updater_prune.cc:74: tree pruning end, 1 roots, 14 extra nodes, 10 pruned nodes, max_depth=5\u001b[0m\n",
      "\u001b[34m[51]#011train-error:0.1362#011validation-error:0.1675\u001b[0m\n",
      "\u001b[34m[21:29:27] src/tree/updater_prune.cc:74: tree pruning end, 1 roots, 12 extra nodes, 18 pruned nodes, max_depth=5\u001b[0m\n",
      "\u001b[34m[52]#011train-error:0.135467#011validation-error:0.1676\u001b[0m\n",
      "\u001b[34m[21:29:28] src/tree/updater_prune.cc:74: tree pruning end, 1 roots, 22 extra nodes, 6 pruned nodes, max_depth=5\u001b[0m\n",
      "\u001b[34m[53]#011train-error:0.1348#011validation-error:0.1661\u001b[0m\n",
      "\u001b[34m[21:29:29] src/tree/updater_prune.cc:74: tree pruning end, 1 roots, 20 extra nodes, 14 pruned nodes, max_depth=5\u001b[0m\n",
      "\u001b[34m[54]#011train-error:0.1334#011validation-error:0.1642\u001b[0m\n",
      "\u001b[34m[21:29:31] src/tree/updater_prune.cc:74: tree pruning end, 1 roots, 32 extra nodes, 4 pruned nodes, max_depth=5\u001b[0m\n",
      "\u001b[34m[55]#011train-error:0.132333#011validation-error:0.1631\u001b[0m\n",
      "\u001b[34m[21:29:32] src/tree/updater_prune.cc:74: tree pruning end, 1 roots, 22 extra nodes, 4 pruned nodes, max_depth=5\u001b[0m\n",
      "\u001b[34m[56]#011train-error:0.131867#011validation-error:0.1655\u001b[0m\n",
      "\u001b[34m[21:29:33] src/tree/updater_prune.cc:74: tree pruning end, 1 roots, 34 extra nodes, 14 pruned nodes, max_depth=5\u001b[0m\n",
      "\u001b[34m[57]#011train-error:0.130733#011validation-error:0.1649\u001b[0m\n",
      "\u001b[34m[21:29:34] src/tree/updater_prune.cc:74: tree pruning end, 1 roots, 24 extra nodes, 4 pruned nodes, max_depth=5\u001b[0m\n",
      "\u001b[34m[58]#011train-error:0.130467#011validation-error:0.1645\u001b[0m\n",
      "\u001b[34m[21:29:36] src/tree/updater_prune.cc:74: tree pruning end, 1 roots, 32 extra nodes, 12 pruned nodes, max_depth=5\u001b[0m\n",
      "\u001b[34m[59]#011train-error:0.129067#011validation-error:0.1634\u001b[0m\n",
      "\u001b[34m[21:29:37] src/tree/updater_prune.cc:74: tree pruning end, 1 roots, 12 extra nodes, 12 pruned nodes, max_depth=5\u001b[0m\n",
      "\u001b[34m[60]#011train-error:0.129133#011validation-error:0.1634\u001b[0m\n",
      "\u001b[34m[21:29:38] src/tree/updater_prune.cc:74: tree pruning end, 1 roots, 22 extra nodes, 12 pruned nodes, max_depth=5\u001b[0m\n",
      "\u001b[34m[61]#011train-error:0.128867#011validation-error:0.1627\u001b[0m\n",
      "\u001b[34m[21:29:40] src/tree/updater_prune.cc:74: tree pruning end, 1 roots, 26 extra nodes, 6 pruned nodes, max_depth=5\u001b[0m\n",
      "\u001b[34m[62]#011train-error:0.127267#011validation-error:0.1622\u001b[0m\n",
      "\u001b[34m[21:29:41] src/tree/updater_prune.cc:74: tree pruning end, 1 roots, 12 extra nodes, 10 pruned nodes, max_depth=5\u001b[0m\n",
      "\u001b[34m[63]#011train-error:0.126533#011validation-error:0.1612\u001b[0m\n",
      "\u001b[34m[21:29:42] src/tree/updater_prune.cc:74: tree pruning end, 1 roots, 22 extra nodes, 2 pruned nodes, max_depth=5\u001b[0m\n",
      "\u001b[34m[64]#011train-error:0.125533#011validation-error:0.1599\u001b[0m\n",
      "\u001b[34m[21:29:43] src/tree/updater_prune.cc:74: tree pruning end, 1 roots, 26 extra nodes, 10 pruned nodes, max_depth=5\u001b[0m\n",
      "\u001b[34m[65]#011train-error:0.1256#011validation-error:0.1605\u001b[0m\n",
      "\u001b[34m[21:29:45] src/tree/updater_prune.cc:74: tree pruning end, 1 roots, 26 extra nodes, 12 pruned nodes, max_depth=5\u001b[0m\n",
      "\u001b[34m[66]#011train-error:0.1246#011validation-error:0.1588\u001b[0m\n",
      "\u001b[34m[21:29:46] src/tree/updater_prune.cc:74: tree pruning end, 1 roots, 14 extra nodes, 10 pruned nodes, max_depth=5\u001b[0m\n",
      "\u001b[34m[67]#011train-error:0.124667#011validation-error:0.1589\u001b[0m\n",
      "\u001b[34m[21:29:47] src/tree/updater_prune.cc:74: tree pruning end, 1 roots, 22 extra nodes, 10 pruned nodes, max_depth=5\u001b[0m\n",
      "\u001b[34m[68]#011train-error:0.123533#011validation-error:0.159\u001b[0m\n",
      "\u001b[34m[21:29:48] src/tree/updater_prune.cc:74: tree pruning end, 1 roots, 10 extra nodes, 6 pruned nodes, max_depth=5\u001b[0m\n",
      "\u001b[34m[69]#011train-error:0.1228#011validation-error:0.1588\u001b[0m\n",
      "\u001b[34m[21:29:50] src/tree/updater_prune.cc:74: tree pruning end, 1 roots, 24 extra nodes, 6 pruned nodes, max_depth=5\u001b[0m\n",
      "\u001b[34m[70]#011train-error:0.1228#011validation-error:0.1584\u001b[0m\n",
      "\u001b[34m[21:29:51] src/tree/updater_prune.cc:74: tree pruning end, 1 roots, 20 extra nodes, 12 pruned nodes, max_depth=5\u001b[0m\n",
      "\u001b[34m[71]#011train-error:0.122333#011validation-error:0.1581\u001b[0m\n",
      "\u001b[34m[21:29:52] src/tree/updater_prune.cc:74: tree pruning end, 1 roots, 20 extra nodes, 8 pruned nodes, max_depth=5\u001b[0m\n",
      "\u001b[34m[72]#011train-error:0.1218#011validation-error:0.1584\u001b[0m\n",
      "\u001b[34m[21:29:53] src/tree/updater_prune.cc:74: tree pruning end, 1 roots, 12 extra nodes, 8 pruned nodes, max_depth=5\u001b[0m\n",
      "\u001b[34m[73]#011train-error:0.121067#011validation-error:0.1569\u001b[0m\n",
      "\u001b[34m[21:29:55] src/tree/updater_prune.cc:74: tree pruning end, 1 roots, 14 extra nodes, 6 pruned nodes, max_depth=5\u001b[0m\n",
      "\u001b[34m[74]#011train-error:0.119933#011validation-error:0.157\u001b[0m\n",
      "\u001b[34m[21:29:56] src/tree/updater_prune.cc:74: tree pruning end, 1 roots, 22 extra nodes, 8 pruned nodes, max_depth=5\u001b[0m\n",
      "\u001b[34m[75]#011train-error:0.119667#011validation-error:0.1559\u001b[0m\n",
      "\u001b[34m[21:29:57] src/tree/updater_prune.cc:74: tree pruning end, 1 roots, 34 extra nodes, 4 pruned nodes, max_depth=5\u001b[0m\n",
      "\u001b[34m[76]#011train-error:0.117#011validation-error:0.1564\u001b[0m\n",
      "\u001b[34m[21:29:59] src/tree/updater_prune.cc:74: tree pruning end, 1 roots, 22 extra nodes, 8 pruned nodes, max_depth=5\u001b[0m\n",
      "\u001b[34m[77]#011train-error:0.1178#011validation-error:0.1555\u001b[0m\n",
      "\u001b[34m[21:30:00] src/tree/updater_prune.cc:74: tree pruning end, 1 roots, 18 extra nodes, 6 pruned nodes, max_depth=5\u001b[0m\n",
      "\u001b[34m[78]#011train-error:0.117333#011validation-error:0.1562\u001b[0m\n",
      "\u001b[34m[21:30:01] src/tree/updater_prune.cc:74: tree pruning end, 1 roots, 26 extra nodes, 8 pruned nodes, max_depth=5\u001b[0m\n",
      "\u001b[34m[79]#011train-error:0.115867#011validation-error:0.1559\u001b[0m\n",
      "\u001b[34m[21:30:02] src/tree/updater_prune.cc:74: tree pruning end, 1 roots, 20 extra nodes, 8 pruned nodes, max_depth=5\u001b[0m\n",
      "\u001b[34m[80]#011train-error:0.115#011validation-error:0.1557\u001b[0m\n",
      "\u001b[34m[21:30:04] src/tree/updater_prune.cc:74: tree pruning end, 1 roots, 20 extra nodes, 18 pruned nodes, max_depth=5\u001b[0m\n",
      "\u001b[34m[81]#011train-error:0.113867#011validation-error:0.1543\u001b[0m\n",
      "\u001b[34m[21:30:05] src/tree/updater_prune.cc:74: tree pruning end, 1 roots, 30 extra nodes, 4 pruned nodes, max_depth=5\u001b[0m\n",
      "\u001b[34m[82]#011train-error:0.1122#011validation-error:0.1541\u001b[0m\n",
      "\u001b[34m[21:30:06] src/tree/updater_prune.cc:74: tree pruning end, 1 roots, 18 extra nodes, 8 pruned nodes, max_depth=5\u001b[0m\n",
      "\u001b[34m[83]#011train-error:0.111933#011validation-error:0.1532\u001b[0m\n",
      "\u001b[34m[21:30:07] src/tree/updater_prune.cc:74: tree pruning end, 1 roots, 10 extra nodes, 18 pruned nodes, max_depth=5\u001b[0m\n",
      "\u001b[34m[84]#011train-error:0.1124#011validation-error:0.1534\u001b[0m\n",
      "\u001b[34m[21:30:09] src/tree/updater_prune.cc:74: tree pruning end, 1 roots, 10 extra nodes, 6 pruned nodes, max_depth=5\u001b[0m\n",
      "\u001b[34m[85]#011train-error:0.111133#011validation-error:0.1528\u001b[0m\n",
      "\u001b[34m[21:30:10] src/tree/updater_prune.cc:74: tree pruning end, 1 roots, 18 extra nodes, 10 pruned nodes, max_depth=5\u001b[0m\n",
      "\u001b[34m[86]#011train-error:0.110867#011validation-error:0.1513\u001b[0m\n",
      "\u001b[34m[21:30:11] src/tree/updater_prune.cc:74: tree pruning end, 1 roots, 16 extra nodes, 6 pruned nodes, max_depth=5\u001b[0m\n",
      "\u001b[34m[87]#011train-error:0.110533#011validation-error:0.1522\u001b[0m\n",
      "\u001b[34m[21:30:12] src/tree/updater_prune.cc:74: tree pruning end, 1 roots, 12 extra nodes, 6 pruned nodes, max_depth=5\u001b[0m\n",
      "\u001b[34m[88]#011train-error:0.110133#011validation-error:0.1517\u001b[0m\n",
      "\u001b[34m[21:30:14] src/tree/updater_prune.cc:74: tree pruning end, 1 roots, 10 extra nodes, 18 pruned nodes, max_depth=5\u001b[0m\n",
      "\u001b[34m[89]#011train-error:0.1098#011validation-error:0.1512\u001b[0m\n",
      "\u001b[34m[21:30:15] src/tree/updater_prune.cc:74: tree pruning end, 1 roots, 20 extra nodes, 20 pruned nodes, max_depth=5\u001b[0m\n",
      "\u001b[34m[90]#011train-error:0.109133#011validation-error:0.1518\u001b[0m\n",
      "\u001b[34m[21:30:16] src/tree/updater_prune.cc:74: tree pruning end, 1 roots, 20 extra nodes, 6 pruned nodes, max_depth=5\u001b[0m\n",
      "\u001b[34m[91]#011train-error:0.108933#011validation-error:0.1514\u001b[0m\n",
      "\u001b[34m[21:30:18] src/tree/updater_prune.cc:74: tree pruning end, 1 roots, 12 extra nodes, 8 pruned nodes, max_depth=5\u001b[0m\n",
      "\u001b[34m[92]#011train-error:0.109667#011validation-error:0.1514\u001b[0m\n",
      "\u001b[34m[21:30:19] src/tree/updater_prune.cc:74: tree pruning end, 1 roots, 16 extra nodes, 6 pruned nodes, max_depth=5\u001b[0m\n",
      "\u001b[34m[93]#011train-error:0.1082#011validation-error:0.1516\u001b[0m\n",
      "\u001b[34m[21:30:20] src/tree/updater_prune.cc:74: tree pruning end, 1 roots, 14 extra nodes, 6 pruned nodes, max_depth=5\u001b[0m\n",
      "\u001b[34m[94]#011train-error:0.108067#011validation-error:0.1513\u001b[0m\n",
      "\u001b[34m[21:30:21] src/tree/updater_prune.cc:74: tree pruning end, 1 roots, 18 extra nodes, 12 pruned nodes, max_depth=5\u001b[0m\n",
      "\u001b[34m[95]#011train-error:0.1072#011validation-error:0.1507\u001b[0m\n",
      "\u001b[34m[21:30:23] src/tree/updater_prune.cc:74: tree pruning end, 1 roots, 16 extra nodes, 2 pruned nodes, max_depth=5\u001b[0m\n",
      "\u001b[34m[96]#011train-error:0.107067#011validation-error:0.1515\u001b[0m\n",
      "\u001b[34m[21:30:24] src/tree/updater_prune.cc:74: tree pruning end, 1 roots, 12 extra nodes, 14 pruned nodes, max_depth=5\u001b[0m\n",
      "\u001b[34m[97]#011train-error:0.107067#011validation-error:0.1508\u001b[0m\n",
      "\u001b[34m[21:30:25] src/tree/updater_prune.cc:74: tree pruning end, 1 roots, 12 extra nodes, 12 pruned nodes, max_depth=5\u001b[0m\n",
      "\u001b[34m[98]#011train-error:0.107#011validation-error:0.1505\u001b[0m\n",
      "\u001b[34m[21:30:26] src/tree/updater_prune.cc:74: tree pruning end, 1 roots, 18 extra nodes, 6 pruned nodes, max_depth=5\u001b[0m\n",
      "\u001b[34m[99]#011train-error:0.106333#011validation-error:0.1501\u001b[0m\n",
      "\u001b[34m[21:30:28] src/tree/updater_prune.cc:74: tree pruning end, 1 roots, 30 extra nodes, 12 pruned nodes, max_depth=5\u001b[0m\n",
      "\u001b[34m[100]#011train-error:0.105067#011validation-error:0.1507\u001b[0m\n",
      "\u001b[34m[21:30:29] src/tree/updater_prune.cc:74: tree pruning end, 1 roots, 18 extra nodes, 12 pruned nodes, max_depth=5\u001b[0m\n",
      "\u001b[34m[101]#011train-error:0.104667#011validation-error:0.1503\u001b[0m\n",
      "\u001b[34m[21:30:30] src/tree/updater_prune.cc:74: tree pruning end, 1 roots, 14 extra nodes, 14 pruned nodes, max_depth=5\u001b[0m\n",
      "\u001b[34m[102]#011train-error:0.104133#011validation-error:0.1497\u001b[0m\n",
      "\u001b[34m[21:30:31] src/tree/updater_prune.cc:74: tree pruning end, 1 roots, 12 extra nodes, 10 pruned nodes, max_depth=5\u001b[0m\n",
      "\u001b[34m[103]#011train-error:0.104067#011validation-error:0.1493\u001b[0m\n",
      "\u001b[34m[21:30:33] src/tree/updater_prune.cc:74: tree pruning end, 1 roots, 24 extra nodes, 10 pruned nodes, max_depth=5\u001b[0m\n",
      "\u001b[34m[104]#011train-error:0.102867#011validation-error:0.1492\u001b[0m\n",
      "\u001b[34m[21:30:34] src/tree/updater_prune.cc:74: tree pruning end, 1 roots, 20 extra nodes, 12 pruned nodes, max_depth=5\u001b[0m\n",
      "\u001b[34m[105]#011train-error:0.102267#011validation-error:0.1487\u001b[0m\n",
      "\u001b[34m[21:30:35] src/tree/updater_prune.cc:74: tree pruning end, 1 roots, 20 extra nodes, 14 pruned nodes, max_depth=5\u001b[0m\n",
      "\u001b[34m[106]#011train-error:0.101867#011validation-error:0.1484\u001b[0m\n",
      "\u001b[34m[21:30:37] src/tree/updater_prune.cc:74: tree pruning end, 1 roots, 20 extra nodes, 16 pruned nodes, max_depth=5\u001b[0m\n",
      "\u001b[34m[107]#011train-error:0.101467#011validation-error:0.1479\u001b[0m\n",
      "\u001b[34m[21:30:38] src/tree/updater_prune.cc:74: tree pruning end, 1 roots, 26 extra nodes, 12 pruned nodes, max_depth=5\u001b[0m\n",
      "\u001b[34m[108]#011train-error:0.100333#011validation-error:0.1477\u001b[0m\n",
      "\u001b[34m[21:30:39] src/tree/updater_prune.cc:74: tree pruning end, 1 roots, 18 extra nodes, 12 pruned nodes, max_depth=5\u001b[0m\n",
      "\u001b[34m[109]#011train-error:0.1#011validation-error:0.147\u001b[0m\n",
      "\u001b[34m[21:30:41] src/tree/updater_prune.cc:74: tree pruning end, 1 roots, 14 extra nodes, 16 pruned nodes, max_depth=5\u001b[0m\n",
      "\u001b[34m[110]#011train-error:0.100067#011validation-error:0.1469\u001b[0m\n",
      "\u001b[34m[21:30:42] src/tree/updater_prune.cc:74: tree pruning end, 1 roots, 20 extra nodes, 8 pruned nodes, max_depth=5\u001b[0m\n",
      "\u001b[34m[111]#011train-error:0.0994#011validation-error:0.1468\u001b[0m\n",
      "\u001b[34m[21:30:43] src/tree/updater_prune.cc:74: tree pruning end, 1 roots, 20 extra nodes, 6 pruned nodes, max_depth=5\u001b[0m\n",
      "\u001b[34m[112]#011train-error:0.099133#011validation-error:0.1472\u001b[0m\n",
      "\u001b[34m[21:30:44] src/tree/updater_prune.cc:74: tree pruning end, 1 roots, 14 extra nodes, 18 pruned nodes, max_depth=5\u001b[0m\n",
      "\u001b[34m[113]#011train-error:0.099733#011validation-error:0.1471\u001b[0m\n",
      "\u001b[34m[21:30:46] src/tree/updater_prune.cc:74: tree pruning end, 1 roots, 14 extra nodes, 12 pruned nodes, max_depth=5\u001b[0m\n",
      "\u001b[34m[114]#011train-error:0.098867#011validation-error:0.1469\u001b[0m\n",
      "\u001b[34m[21:30:47] src/tree/updater_prune.cc:74: tree pruning end, 1 roots, 14 extra nodes, 12 pruned nodes, max_depth=5\u001b[0m\n",
      "\u001b[34m[115]#011train-error:0.099133#011validation-error:0.1466\u001b[0m\n",
      "\u001b[34m[21:30:48] src/tree/updater_prune.cc:74: tree pruning end, 1 roots, 22 extra nodes, 12 pruned nodes, max_depth=5\u001b[0m\n",
      "\u001b[34m[116]#011train-error:0.098#011validation-error:0.147\u001b[0m\n",
      "\u001b[34m[21:30:49] src/tree/updater_prune.cc:74: tree pruning end, 1 roots, 10 extra nodes, 8 pruned nodes, max_depth=5\u001b[0m\n",
      "\u001b[34m[117]#011train-error:0.097133#011validation-error:0.1462\u001b[0m\n",
      "\u001b[34m[21:30:51] src/tree/updater_prune.cc:74: tree pruning end, 1 roots, 18 extra nodes, 6 pruned nodes, max_depth=5\u001b[0m\n",
      "\u001b[34m[118]#011train-error:0.097333#011validation-error:0.1473\u001b[0m\n",
      "\u001b[34m[21:30:52] src/tree/updater_prune.cc:74: tree pruning end, 1 roots, 10 extra nodes, 6 pruned nodes, max_depth=5\u001b[0m\n",
      "\u001b[34m[119]#011train-error:0.097#011validation-error:0.1465\u001b[0m\n",
      "\u001b[34m[21:30:53] src/tree/updater_prune.cc:74: tree pruning end, 1 roots, 20 extra nodes, 10 pruned nodes, max_depth=5\u001b[0m\n",
      "\u001b[34m[120]#011train-error:0.0962#011validation-error:0.1465\u001b[0m\n",
      "\u001b[34m[21:30:54] src/tree/updater_prune.cc:74: tree pruning end, 1 roots, 24 extra nodes, 10 pruned nodes, max_depth=5\u001b[0m\n",
      "\u001b[34m[121]#011train-error:0.094933#011validation-error:0.1461\u001b[0m\n",
      "\u001b[34m[21:30:56] src/tree/updater_prune.cc:74: tree pruning end, 1 roots, 18 extra nodes, 12 pruned nodes, max_depth=5\u001b[0m\n",
      "\u001b[34m[122]#011train-error:0.095#011validation-error:0.1469\u001b[0m\n",
      "\u001b[34m[21:30:57] src/tree/updater_prune.cc:74: tree pruning end, 1 roots, 10 extra nodes, 4 pruned nodes, max_depth=5\u001b[0m\n",
      "\u001b[34m[123]#011train-error:0.095#011validation-error:0.1472\u001b[0m\n",
      "\u001b[34m[21:30:58] src/tree/updater_prune.cc:74: tree pruning end, 1 roots, 12 extra nodes, 8 pruned nodes, max_depth=5\u001b[0m\n",
      "\u001b[34m[124]#011train-error:0.094667#011validation-error:0.1471\u001b[0m\n",
      "\u001b[34m[21:31:00] src/tree/updater_prune.cc:74: tree pruning end, 1 roots, 10 extra nodes, 8 pruned nodes, max_depth=5\u001b[0m\n",
      "\u001b[34m[125]#011train-error:0.094333#011validation-error:0.1464\u001b[0m\n",
      "\u001b[34m[21:31:01] src/tree/updater_prune.cc:74: tree pruning end, 1 roots, 12 extra nodes, 4 pruned nodes, max_depth=5\u001b[0m\n",
      "\u001b[34m[126]#011train-error:0.094067#011validation-error:0.1469\u001b[0m\n",
      "\u001b[34m[21:31:02] src/tree/updater_prune.cc:74: tree pruning end, 1 roots, 18 extra nodes, 4 pruned nodes, max_depth=5\u001b[0m\n",
      "\u001b[34m[127]#011train-error:0.093733#011validation-error:0.1459\u001b[0m\n",
      "\u001b[34m[21:31:03] src/tree/updater_prune.cc:74: tree pruning end, 1 roots, 14 extra nodes, 10 pruned nodes, max_depth=5\u001b[0m\n",
      "\u001b[34m[128]#011train-error:0.093133#011validation-error:0.1458\u001b[0m\n",
      "\u001b[34m[21:31:05] src/tree/updater_prune.cc:74: tree pruning end, 1 roots, 14 extra nodes, 8 pruned nodes, max_depth=5\u001b[0m\n",
      "\u001b[34m[129]#011train-error:0.092667#011validation-error:0.145\u001b[0m\n",
      "\u001b[34m[21:31:06] src/tree/updater_prune.cc:74: tree pruning end, 1 roots, 14 extra nodes, 12 pruned nodes, max_depth=5\u001b[0m\n",
      "\u001b[34m[130]#011train-error:0.092733#011validation-error:0.146\u001b[0m\n",
      "\u001b[34m[21:31:07] src/tree/updater_prune.cc:74: tree pruning end, 1 roots, 16 extra nodes, 4 pruned nodes, max_depth=5\u001b[0m\n",
      "\u001b[34m[131]#011train-error:0.092133#011validation-error:0.1454\u001b[0m\n",
      "\u001b[34m[21:31:08] src/tree/updater_prune.cc:74: tree pruning end, 1 roots, 10 extra nodes, 8 pruned nodes, max_depth=5\u001b[0m\n",
      "\u001b[34m[132]#011train-error:0.092#011validation-error:0.1449\u001b[0m\n",
      "\u001b[34m[21:31:10] src/tree/updater_prune.cc:74: tree pruning end, 1 roots, 14 extra nodes, 10 pruned nodes, max_depth=5\u001b[0m\n",
      "\u001b[34m[133]#011train-error:0.091533#011validation-error:0.1442\u001b[0m\n",
      "\u001b[34m[21:31:11] src/tree/updater_prune.cc:74: tree pruning end, 1 roots, 14 extra nodes, 10 pruned nodes, max_depth=5\u001b[0m\n",
      "\u001b[34m[134]#011train-error:0.091133#011validation-error:0.1437\u001b[0m\n",
      "\u001b[34m[21:31:12] src/tree/updater_prune.cc:74: tree pruning end, 1 roots, 18 extra nodes, 0 pruned nodes, max_depth=5\u001b[0m\n",
      "\u001b[34m[135]#011train-error:0.090733#011validation-error:0.1434\u001b[0m\n",
      "\u001b[34m[21:31:13] src/tree/updater_prune.cc:74: tree pruning end, 1 roots, 14 extra nodes, 4 pruned nodes, max_depth=5\u001b[0m\n",
      "\u001b[34m[136]#011train-error:0.089933#011validation-error:0.1425\u001b[0m\n",
      "\u001b[34m[21:31:15] src/tree/updater_prune.cc:74: tree pruning end, 1 roots, 14 extra nodes, 8 pruned nodes, max_depth=5\u001b[0m\n",
      "\u001b[34m[137]#011train-error:0.090067#011validation-error:0.1428\u001b[0m\n",
      "\u001b[34m[21:31:16] src/tree/updater_prune.cc:74: tree pruning end, 1 roots, 10 extra nodes, 4 pruned nodes, max_depth=5\u001b[0m\n",
      "\u001b[34m[138]#011train-error:0.089933#011validation-error:0.1426\u001b[0m\n",
      "\u001b[34m[21:31:17] src/tree/updater_prune.cc:74: tree pruning end, 1 roots, 12 extra nodes, 22 pruned nodes, max_depth=5\u001b[0m\n",
      "\u001b[34m[139]#011train-error:0.089933#011validation-error:0.1421\u001b[0m\n",
      "\u001b[34m[21:31:19] src/tree/updater_prune.cc:74: tree pruning end, 1 roots, 18 extra nodes, 12 pruned nodes, max_depth=5\u001b[0m\n",
      "\u001b[34m[140]#011train-error:0.089467#011validation-error:0.1429\u001b[0m\n",
      "\u001b[34m[21:31:20] src/tree/updater_prune.cc:74: tree pruning end, 1 roots, 18 extra nodes, 8 pruned nodes, max_depth=5\u001b[0m\n",
      "\u001b[34m[141]#011train-error:0.0892#011validation-error:0.1422\u001b[0m\n",
      "\u001b[34m[21:31:21] src/tree/updater_prune.cc:74: tree pruning end, 1 roots, 20 extra nodes, 12 pruned nodes, max_depth=5\u001b[0m\n",
      "\u001b[34m[142]#011train-error:0.089#011validation-error:0.1428\u001b[0m\n",
      "\u001b[34m[21:31:22] src/tree/updater_prune.cc:74: tree pruning end, 1 roots, 10 extra nodes, 10 pruned nodes, max_depth=5\u001b[0m\n",
      "\u001b[34m[143]#011train-error:0.088467#011validation-error:0.1419\u001b[0m\n",
      "\u001b[34m[21:31:24] src/tree/updater_prune.cc:74: tree pruning end, 1 roots, 20 extra nodes, 16 pruned nodes, max_depth=5\u001b[0m\n",
      "\u001b[34m[144]#011train-error:0.088467#011validation-error:0.1419\u001b[0m\n",
      "\u001b[34m[21:31:25] src/tree/updater_prune.cc:74: tree pruning end, 1 roots, 20 extra nodes, 8 pruned nodes, max_depth=5\u001b[0m\n",
      "\u001b[34m[145]#011train-error:0.088533#011validation-error:0.1422\u001b[0m\n",
      "\u001b[34m[21:31:26] src/tree/updater_prune.cc:74: tree pruning end, 1 roots, 12 extra nodes, 6 pruned nodes, max_depth=5\u001b[0m\n",
      "\u001b[34m[146]#011train-error:0.088133#011validation-error:0.1421\u001b[0m\n",
      "\u001b[34m[21:31:28] src/tree/updater_prune.cc:74: tree pruning end, 1 roots, 14 extra nodes, 14 pruned nodes, max_depth=5\u001b[0m\n",
      "\u001b[34m[147]#011train-error:0.087533#011validation-error:0.1424\u001b[0m\n",
      "\u001b[34m[21:31:29] src/tree/updater_prune.cc:74: tree pruning end, 1 roots, 10 extra nodes, 8 pruned nodes, max_depth=5\u001b[0m\n",
      "\u001b[34m[148]#011train-error:0.087333#011validation-error:0.1425\u001b[0m\n",
      "\u001b[34m[21:31:30] src/tree/updater_prune.cc:74: tree pruning end, 1 roots, 10 extra nodes, 6 pruned nodes, max_depth=5\u001b[0m\n",
      "\u001b[34m[149]#011train-error:0.087067#011validation-error:0.1422\u001b[0m\n",
      "\u001b[34m[21:31:31] src/tree/updater_prune.cc:74: tree pruning end, 1 roots, 10 extra nodes, 6 pruned nodes, max_depth=5\u001b[0m\n",
      "\u001b[34m[150]#011train-error:0.0866#011validation-error:0.1421\u001b[0m\n",
      "\u001b[34m[21:31:33] src/tree/updater_prune.cc:74: tree pruning end, 1 roots, 16 extra nodes, 14 pruned nodes, max_depth=5\u001b[0m\n",
      "\u001b[34m[151]#011train-error:0.087067#011validation-error:0.1425\u001b[0m\n",
      "\u001b[34m[21:31:34] src/tree/updater_prune.cc:74: tree pruning end, 1 roots, 12 extra nodes, 8 pruned nodes, max_depth=5\u001b[0m\n",
      "\u001b[34m[152]#011train-error:0.086#011validation-error:0.1428\u001b[0m\n",
      "\u001b[34m[21:31:35] src/tree/updater_prune.cc:74: tree pruning end, 1 roots, 12 extra nodes, 14 pruned nodes, max_depth=5\u001b[0m\n",
      "\u001b[34m[153]#011train-error:0.0862#011validation-error:0.1421\u001b[0m\n",
      "\u001b[34mStopping. Best iteration:\u001b[0m\n",
      "\u001b[34m[143]#011train-error:0.088467#011validation-error:0.1419\n",
      "\u001b[0m\n",
      "\n",
      "2020-08-29 21:31:43 Uploading - Uploading generated training model\n",
      "2020-08-29 21:31:43 Completed - Training job completed\n",
      "Training seconds: 249\n",
      "Billable seconds: 249\n"
     ]
    }
   ],
   "source": [
    "xgb.fit({'train': s3_input_train, 'validation': s3_input_validation})"
   ]
  },
  {
   "cell_type": "markdown",
   "metadata": {},
   "source": [
    "### Testing the model\n",
    "\n",
    "Now that we've fit our XGBoost model, it's time to see how well it performs. To do this we will use SageMakers Batch Transform functionality. Batch Transform is a convenient way to perform inference on a large dataset in a way that is not realtime. That is, we don't necessarily need to use our model's results immediately and instead we can peform inference on a large number of samples. An example of this in industry might be peforming an end of month report. This method of inference can also be useful to us as it means to can perform inference on our entire test set. \n",
    "\n",
    "To perform a Batch Transformation we need to first create a transformer objects from our trained estimator object."
   ]
  },
  {
   "cell_type": "code",
   "execution_count": 26,
   "metadata": {},
   "outputs": [
    {
     "name": "stderr",
     "output_type": "stream",
     "text": [
      "Parameter image will be renamed to image_uri in SageMaker Python SDK v2.\n"
     ]
    }
   ],
   "source": [
    "xgb_transformer = xgb.transformer(instance_count = 1, instance_type = 'ml.m4.xlarge')"
   ]
  },
  {
   "cell_type": "markdown",
   "metadata": {},
   "source": [
    "Next we actually perform the transform job. When doing so we need to make sure to specify the type of data we are sending so that it is serialized correctly in the background. In our case we are providing our model with csv data so we specify `text/csv`. Also, if the test data that we have provided is too large to process all at once then we need to specify how the data file should be split up. Since each line is a single entry in our data set we tell SageMaker that it can split the input on each line."
   ]
  },
  {
   "cell_type": "code",
   "execution_count": 27,
   "metadata": {},
   "outputs": [],
   "source": [
    "xgb_transformer.transform(test_location, content_type='text/csv', split_type='Line')"
   ]
  },
  {
   "cell_type": "markdown",
   "metadata": {},
   "source": [
    "Currently the transform job is running but it is doing so in the background. Since we wish to wait until the transform job is done and we would like a bit of feedback we can run the `wait()` method."
   ]
  },
  {
   "cell_type": "code",
   "execution_count": 28,
   "metadata": {},
   "outputs": [
    {
     "name": "stdout",
     "output_type": "stream",
     "text": [
      ".........................\u001b[34mArguments: serve\u001b[0m\n",
      "\u001b[35mArguments: serve\u001b[0m\n",
      "\u001b[34m[2020-08-29 21:36:01 +0000] [1] [INFO] Starting gunicorn 19.7.1\u001b[0m\n",
      "\u001b[34m[2020-08-29 21:36:01 +0000] [1] [INFO] Listening at: http://0.0.0.0:8080 (1)\u001b[0m\n",
      "\u001b[34m[2020-08-29 21:36:01 +0000] [1] [INFO] Using worker: gevent\u001b[0m\n",
      "\u001b[34m[2020-08-29 21:36:01 +0000] [36] [INFO] Booting worker with pid: 36\u001b[0m\n",
      "\u001b[34m[2020-08-29 21:36:01 +0000] [37] [INFO] Booting worker with pid: 37\u001b[0m\n",
      "\u001b[34m[2020-08-29 21:36:01 +0000] [38] [INFO] Booting worker with pid: 38\u001b[0m\n",
      "\u001b[34m[2020-08-29 21:36:01 +0000] [39] [INFO] Booting worker with pid: 39\u001b[0m\n",
      "\u001b[34m[2020-08-29:21:36:01:INFO] Model loaded successfully for worker : 38\u001b[0m\n",
      "\u001b[34m[2020-08-29:21:36:01:INFO] Model loaded successfully for worker : 36\u001b[0m\n",
      "\u001b[35m[2020-08-29 21:36:01 +0000] [1] [INFO] Starting gunicorn 19.7.1\u001b[0m\n",
      "\u001b[35m[2020-08-29 21:36:01 +0000] [1] [INFO] Listening at: http://0.0.0.0:8080 (1)\u001b[0m\n",
      "\u001b[35m[2020-08-29 21:36:01 +0000] [1] [INFO] Using worker: gevent\u001b[0m\n",
      "\u001b[35m[2020-08-29 21:36:01 +0000] [36] [INFO] Booting worker with pid: 36\u001b[0m\n",
      "\u001b[35m[2020-08-29 21:36:01 +0000] [37] [INFO] Booting worker with pid: 37\u001b[0m\n",
      "\u001b[35m[2020-08-29 21:36:01 +0000] [38] [INFO] Booting worker with pid: 38\u001b[0m\n",
      "\u001b[35m[2020-08-29 21:36:01 +0000] [39] [INFO] Booting worker with pid: 39\u001b[0m\n",
      "\u001b[35m[2020-08-29:21:36:01:INFO] Model loaded successfully for worker : 38\u001b[0m\n",
      "\u001b[35m[2020-08-29:21:36:01:INFO] Model loaded successfully for worker : 36\u001b[0m\n",
      "\u001b[34m[2020-08-29:21:36:01:INFO] Model loaded successfully for worker : 37\u001b[0m\n",
      "\u001b[35m[2020-08-29:21:36:01:INFO] Model loaded successfully for worker : 37\u001b[0m\n",
      "\u001b[34m[2020-08-29:21:36:01:INFO] Model loaded successfully for worker : 39\u001b[0m\n",
      "\u001b[34m[2020-08-29:21:36:02:INFO] Sniff delimiter as ','\u001b[0m\n",
      "\u001b[34m[2020-08-29:21:36:02:INFO] Determined delimiter of CSV input is ','\u001b[0m\n",
      "\u001b[34m[2020-08-29:21:36:02:INFO] Sniff delimiter as ','\u001b[0m\n",
      "\u001b[34m[2020-08-29:21:36:02:INFO] Determined delimiter of CSV input is ','\u001b[0m\n",
      "\u001b[34m[2020-08-29:21:36:02:INFO] Sniff delimiter as ','\u001b[0m\n",
      "\u001b[34m[2020-08-29:21:36:02:INFO] Determined delimiter of CSV input is ','\u001b[0m\n",
      "\u001b[35m[2020-08-29:21:36:01:INFO] Model loaded successfully for worker : 39\u001b[0m\n",
      "\u001b[35m[2020-08-29:21:36:02:INFO] Sniff delimiter as ','\u001b[0m\n",
      "\u001b[35m[2020-08-29:21:36:02:INFO] Determined delimiter of CSV input is ','\u001b[0m\n",
      "\u001b[35m[2020-08-29:21:36:02:INFO] Sniff delimiter as ','\u001b[0m\n",
      "\u001b[35m[2020-08-29:21:36:02:INFO] Determined delimiter of CSV input is ','\u001b[0m\n",
      "\u001b[35m[2020-08-29:21:36:02:INFO] Sniff delimiter as ','\u001b[0m\n",
      "\u001b[35m[2020-08-29:21:36:02:INFO] Determined delimiter of CSV input is ','\u001b[0m\n",
      "\u001b[34m[2020-08-29:21:36:03:INFO] Sniff delimiter as ','\u001b[0m\n",
      "\u001b[34m[2020-08-29:21:36:03:INFO] Determined delimiter of CSV input is ','\u001b[0m\n",
      "\u001b[35m[2020-08-29:21:36:03:INFO] Sniff delimiter as ','\u001b[0m\n",
      "\u001b[35m[2020-08-29:21:36:03:INFO] Determined delimiter of CSV input is ','\u001b[0m\n",
      "\u001b[34m[2020-08-29:21:36:04:INFO] Sniff delimiter as ','\u001b[0m\n",
      "\u001b[34m[2020-08-29:21:36:04:INFO] Determined delimiter of CSV input is ','\u001b[0m\n",
      "\u001b[35m[2020-08-29:21:36:04:INFO] Sniff delimiter as ','\u001b[0m\n",
      "\u001b[35m[2020-08-29:21:36:04:INFO] Determined delimiter of CSV input is ','\u001b[0m\n",
      "\u001b[34m[2020-08-29:21:36:04:INFO] Sniff delimiter as ','\u001b[0m\n",
      "\u001b[34m[2020-08-29:21:36:04:INFO] Determined delimiter of CSV input is ','\u001b[0m\n",
      "\u001b[34m[2020-08-29:21:36:05:INFO] Sniff delimiter as ','\u001b[0m\n",
      "\u001b[34m[2020-08-29:21:36:05:INFO] Determined delimiter of CSV input is ','\u001b[0m\n",
      "\u001b[34m[2020-08-29:21:36:05:INFO] Sniff delimiter as ','\u001b[0m\n",
      "\u001b[34m[2020-08-29:21:36:05:INFO] Determined delimiter of CSV input is ','\u001b[0m\n",
      "\u001b[35m[2020-08-29:21:36:04:INFO] Sniff delimiter as ','\u001b[0m\n",
      "\u001b[35m[2020-08-29:21:36:04:INFO] Determined delimiter of CSV input is ','\u001b[0m\n",
      "\u001b[35m[2020-08-29:21:36:05:INFO] Sniff delimiter as ','\u001b[0m\n",
      "\u001b[35m[2020-08-29:21:36:05:INFO] Determined delimiter of CSV input is ','\u001b[0m\n",
      "\u001b[35m[2020-08-29:21:36:05:INFO] Sniff delimiter as ','\u001b[0m\n",
      "\u001b[35m[2020-08-29:21:36:05:INFO] Determined delimiter of CSV input is ','\u001b[0m\n",
      "\u001b[32m2020-08-29T21:36:01.813:[sagemaker logs]: MaxConcurrentTransforms=4, MaxPayloadInMB=6, BatchStrategy=MULTI_RECORD\u001b[0m\n",
      "\u001b[34m[2020-08-29:21:36:06:INFO] Sniff delimiter as ','\u001b[0m\n",
      "\u001b[34m[2020-08-29:21:36:06:INFO] Determined delimiter of CSV input is ','\u001b[0m\n",
      "\u001b[35m[2020-08-29:21:36:06:INFO] Sniff delimiter as ','\u001b[0m\n",
      "\u001b[35m[2020-08-29:21:36:06:INFO] Determined delimiter of CSV input is ','\u001b[0m\n",
      "\u001b[34m[2020-08-29:21:36:08:INFO] Sniff delimiter as ','\u001b[0m\n",
      "\u001b[34m[2020-08-29:21:36:08:INFO] Determined delimiter of CSV input is ','\u001b[0m\n",
      "\u001b[35m[2020-08-29:21:36:08:INFO] Sniff delimiter as ','\u001b[0m\n",
      "\u001b[35m[2020-08-29:21:36:08:INFO] Determined delimiter of CSV input is ','\u001b[0m\n",
      "\u001b[34m[2020-08-29:21:36:08:INFO] Sniff delimiter as ','\u001b[0m\n",
      "\u001b[34m[2020-08-29:21:36:08:INFO] Determined delimiter of CSV input is ','\u001b[0m\n",
      "\u001b[34m[2020-08-29:21:36:08:INFO] Sniff delimiter as ','\u001b[0m\n",
      "\u001b[34m[2020-08-29:21:36:08:INFO] Determined delimiter of CSV input is ','\u001b[0m\n",
      "\u001b[34m[2020-08-29:21:36:08:INFO] Sniff delimiter as ','\u001b[0m\n",
      "\u001b[34m[2020-08-29:21:36:08:INFO] Determined delimiter of CSV input is ','\u001b[0m\n",
      "\u001b[35m[2020-08-29:21:36:08:INFO] Sniff delimiter as ','\u001b[0m\n",
      "\u001b[35m[2020-08-29:21:36:08:INFO] Determined delimiter of CSV input is ','\u001b[0m\n",
      "\u001b[35m[2020-08-29:21:36:08:INFO] Sniff delimiter as ','\u001b[0m\n",
      "\u001b[35m[2020-08-29:21:36:08:INFO] Determined delimiter of CSV input is ','\u001b[0m\n",
      "\u001b[35m[2020-08-29:21:36:08:INFO] Sniff delimiter as ','\u001b[0m\n",
      "\u001b[35m[2020-08-29:21:36:08:INFO] Determined delimiter of CSV input is ','\u001b[0m\n",
      "\u001b[34m[2020-08-29:21:36:10:INFO] Sniff delimiter as ','\u001b[0m\n",
      "\u001b[34m[2020-08-29:21:36:10:INFO] Determined delimiter of CSV input is ','\u001b[0m\n",
      "\u001b[35m[2020-08-29:21:36:10:INFO] Sniff delimiter as ','\u001b[0m\n",
      "\u001b[35m[2020-08-29:21:36:10:INFO] Determined delimiter of CSV input is ','\u001b[0m\n",
      "\u001b[34m[2020-08-29:21:36:12:INFO] Sniff delimiter as ','\u001b[0m\n",
      "\u001b[34m[2020-08-29:21:36:12:INFO] Determined delimiter of CSV input is ','\u001b[0m\n",
      "\u001b[34m[2020-08-29:21:36:13:INFO] Sniff delimiter as ','\u001b[0m\n",
      "\u001b[34m[2020-08-29:21:36:13:INFO] Determined delimiter of CSV input is ','\u001b[0m\n",
      "\u001b[34m[2020-08-29:21:36:13:INFO] Sniff delimiter as ','\u001b[0m\n",
      "\u001b[34m[2020-08-29:21:36:13:INFO] Determined delimiter of CSV input is ','\u001b[0m\n",
      "\u001b[34m[2020-08-29:21:36:13:INFO] Sniff delimiter as ','\u001b[0m\n",
      "\u001b[34m[2020-08-29:21:36:13:INFO] Determined delimiter of CSV input is ','\u001b[0m\n",
      "\u001b[35m[2020-08-29:21:36:12:INFO] Sniff delimiter as ','\u001b[0m\n",
      "\u001b[35m[2020-08-29:21:36:12:INFO] Determined delimiter of CSV input is ','\u001b[0m\n",
      "\u001b[35m[2020-08-29:21:36:13:INFO] Sniff delimiter as ','\u001b[0m\n",
      "\u001b[35m[2020-08-29:21:36:13:INFO] Determined delimiter of CSV input is ','\u001b[0m\n",
      "\u001b[35m[2020-08-29:21:36:13:INFO] Sniff delimiter as ','\u001b[0m\n",
      "\u001b[35m[2020-08-29:21:36:13:INFO] Determined delimiter of CSV input is ','\u001b[0m\n",
      "\u001b[35m[2020-08-29:21:36:13:INFO] Sniff delimiter as ','\u001b[0m\n",
      "\u001b[35m[2020-08-29:21:36:13:INFO] Determined delimiter of CSV input is ','\u001b[0m\n",
      "\u001b[34m[2020-08-29:21:36:15:INFO] Sniff delimiter as ','\u001b[0m\n",
      "\u001b[34m[2020-08-29:21:36:15:INFO] Determined delimiter of CSV input is ','\u001b[0m\n",
      "\u001b[34m[2020-08-29:21:36:15:INFO] Sniff delimiter as ','\u001b[0m\n",
      "\u001b[34m[2020-08-29:21:36:15:INFO] Determined delimiter of CSV input is ','\u001b[0m\n",
      "\u001b[34m[2020-08-29:21:36:15:INFO] Sniff delimiter as ','\u001b[0m\n",
      "\u001b[34m[2020-08-29:21:36:15:INFO] Determined delimiter of CSV input is ','\u001b[0m\n",
      "\u001b[34m[2020-08-29:21:36:15:INFO] Sniff delimiter as ','\u001b[0m\n",
      "\u001b[34m[2020-08-29:21:36:15:INFO] Determined delimiter of CSV input is ','\u001b[0m\n",
      "\u001b[35m[2020-08-29:21:36:15:INFO] Sniff delimiter as ','\u001b[0m\n",
      "\u001b[35m[2020-08-29:21:36:15:INFO] Determined delimiter of CSV input is ','\u001b[0m\n",
      "\u001b[35m[2020-08-29:21:36:15:INFO] Sniff delimiter as ','\u001b[0m\n",
      "\u001b[35m[2020-08-29:21:36:15:INFO] Determined delimiter of CSV input is ','\u001b[0m\n",
      "\u001b[35m[2020-08-29:21:36:15:INFO] Sniff delimiter as ','\u001b[0m\n",
      "\u001b[35m[2020-08-29:21:36:15:INFO] Determined delimiter of CSV input is ','\u001b[0m\n",
      "\u001b[35m[2020-08-29:21:36:15:INFO] Sniff delimiter as ','\u001b[0m\n",
      "\u001b[35m[2020-08-29:21:36:15:INFO] Determined delimiter of CSV input is ','\u001b[0m\n",
      "\u001b[34m[2020-08-29:21:36:17:INFO] Sniff delimiter as ','\u001b[0m\n",
      "\u001b[34m[2020-08-29:21:36:17:INFO] Determined delimiter of CSV input is ','\u001b[0m\n",
      "\u001b[34m[2020-08-29:21:36:18:INFO] Sniff delimiter as ','\u001b[0m\n",
      "\u001b[34m[2020-08-29:21:36:18:INFO] Determined delimiter of CSV input is ','\u001b[0m\n",
      "\u001b[34m[2020-08-29:21:36:18:INFO] Sniff delimiter as ','\u001b[0m\n",
      "\u001b[34m[2020-08-29:21:36:18:INFO] Determined delimiter of CSV input is ','\u001b[0m\n",
      "\u001b[34m[2020-08-29:21:36:18:INFO] Sniff delimiter as ','\u001b[0m\n",
      "\u001b[35m[2020-08-29:21:36:17:INFO] Sniff delimiter as ','\u001b[0m\n",
      "\u001b[35m[2020-08-29:21:36:17:INFO] Determined delimiter of CSV input is ','\u001b[0m\n",
      "\u001b[35m[2020-08-29:21:36:18:INFO] Sniff delimiter as ','\u001b[0m\n",
      "\u001b[35m[2020-08-29:21:36:18:INFO] Determined delimiter of CSV input is ','\u001b[0m\n",
      "\u001b[35m[2020-08-29:21:36:18:INFO] Sniff delimiter as ','\u001b[0m\n",
      "\u001b[35m[2020-08-29:21:36:18:INFO] Determined delimiter of CSV input is ','\u001b[0m\n",
      "\u001b[35m[2020-08-29:21:36:18:INFO] Sniff delimiter as ','\u001b[0m\n",
      "\u001b[34m[2020-08-29:21:36:18:INFO] Determined delimiter of CSV input is ','\u001b[0m\n",
      "\u001b[35m[2020-08-29:21:36:18:INFO] Determined delimiter of CSV input is ','\u001b[0m\n",
      "\n",
      "\u001b[34m[2020-08-29:21:36:20:INFO] Determined delimiter of CSV input is ','\u001b[0m\n",
      "\u001b[34m[2020-08-29:21:36:20:INFO] Sniff delimiter as ','\u001b[0m\n",
      "\u001b[34m[2020-08-29:21:36:20:INFO] Determined delimiter of CSV input is ','\u001b[0m\n",
      "\u001b[34m[2020-08-29:21:36:20:INFO] Sniff delimiter as ','\u001b[0m\n",
      "\u001b[35m[2020-08-29:21:36:20:INFO] Determined delimiter of CSV input is ','\u001b[0m\n",
      "\u001b[35m[2020-08-29:21:36:20:INFO] Sniff delimiter as ','\u001b[0m\n",
      "\u001b[35m[2020-08-29:21:36:20:INFO] Determined delimiter of CSV input is ','\u001b[0m\n",
      "\u001b[35m[2020-08-29:21:36:20:INFO] Sniff delimiter as ','\u001b[0m\n",
      "\u001b[34m[2020-08-29:21:36:20:INFO] Determined delimiter of CSV input is ','\u001b[0m\n",
      "\u001b[34m[2020-08-29:21:36:20:INFO] Sniff delimiter as ','\u001b[0m\n",
      "\u001b[34m[2020-08-29:21:36:20:INFO] Determined delimiter of CSV input is ','\u001b[0m\n",
      "\u001b[35m[2020-08-29:21:36:20:INFO] Determined delimiter of CSV input is ','\u001b[0m\n",
      "\u001b[35m[2020-08-29:21:36:20:INFO] Sniff delimiter as ','\u001b[0m\n",
      "\u001b[35m[2020-08-29:21:36:20:INFO] Determined delimiter of CSV input is ','\u001b[0m\n",
      "\u001b[34m[2020-08-29:21:36:22:INFO] Sniff delimiter as ','\u001b[0m\n",
      "\u001b[34m[2020-08-29:21:36:22:INFO] Determined delimiter of CSV input is ','\u001b[0m\n",
      "\u001b[35m[2020-08-29:21:36:22:INFO] Sniff delimiter as ','\u001b[0m\n",
      "\u001b[35m[2020-08-29:21:36:22:INFO] Determined delimiter of CSV input is ','\u001b[0m\n",
      "\u001b[34m[2020-08-29:21:36:22:INFO] Sniff delimiter as ','\u001b[0m\n",
      "\u001b[34m[2020-08-29:21:36:22:INFO] Determined delimiter of CSV input is ','\u001b[0m\n",
      "\u001b[35m[2020-08-29:21:36:22:INFO] Sniff delimiter as ','\u001b[0m\n",
      "\u001b[35m[2020-08-29:21:36:22:INFO] Determined delimiter of CSV input is ','\u001b[0m\n",
      "\u001b[34m[2020-08-29:21:36:23:INFO] Sniff delimiter as ','\u001b[0m\n",
      "\u001b[34m[2020-08-29:21:36:23:INFO] Determined delimiter of CSV input is ','\u001b[0m\n",
      "\u001b[34m[2020-08-29:21:36:23:INFO] Sniff delimiter as ','\u001b[0m\n",
      "\u001b[34m[2020-08-29:21:36:23:INFO] Determined delimiter of CSV input is ','\u001b[0m\n",
      "\u001b[35m[2020-08-29:21:36:23:INFO] Sniff delimiter as ','\u001b[0m\n",
      "\u001b[35m[2020-08-29:21:36:23:INFO] Determined delimiter of CSV input is ','\u001b[0m\n",
      "\u001b[35m[2020-08-29:21:36:23:INFO] Sniff delimiter as ','\u001b[0m\n",
      "\u001b[35m[2020-08-29:21:36:23:INFO] Determined delimiter of CSV input is ','\u001b[0m\n",
      "\u001b[34m[2020-08-29:21:36:25:INFO] Sniff delimiter as ','\u001b[0m\n",
      "\u001b[34m[2020-08-29:21:36:25:INFO] Determined delimiter of CSV input is ','\u001b[0m\n",
      "\u001b[34m[2020-08-29:21:36:25:INFO] Sniff delimiter as ','\u001b[0m\n",
      "\u001b[34m[2020-08-29:21:36:25:INFO] Determined delimiter of CSV input is ','\u001b[0m\n",
      "\u001b[34m[2020-08-29:21:36:25:INFO] Sniff delimiter as ','\u001b[0m\n",
      "\u001b[34m[2020-08-29:21:36:25:INFO] Determined delimiter of CSV input is ','\u001b[0m\n",
      "\u001b[35m[2020-08-29:21:36:25:INFO] Sniff delimiter as ','\u001b[0m\n",
      "\u001b[35m[2020-08-29:21:36:25:INFO] Determined delimiter of CSV input is ','\u001b[0m\n",
      "\u001b[35m[2020-08-29:21:36:25:INFO] Sniff delimiter as ','\u001b[0m\n",
      "\u001b[35m[2020-08-29:21:36:25:INFO] Determined delimiter of CSV input is ','\u001b[0m\n",
      "\u001b[35m[2020-08-29:21:36:25:INFO] Sniff delimiter as ','\u001b[0m\n",
      "\u001b[35m[2020-08-29:21:36:25:INFO] Determined delimiter of CSV input is ','\u001b[0m\n"
     ]
    }
   ],
   "source": [
    "xgb_transformer.wait()"
   ]
  },
  {
   "cell_type": "markdown",
   "metadata": {},
   "source": [
    "Now the transform job has executed and the result, the estimated sentiment of each review, has been saved on S3. Since we would rather work on this file locally we can perform a bit of notebook magic to copy the file to the `data_dir`."
   ]
  },
  {
   "cell_type": "code",
   "execution_count": 29,
   "metadata": {},
   "outputs": [
    {
     "name": "stdout",
     "output_type": "stream",
     "text": [
      "download: s3://sagemaker-eu-west-1-100264508876/xgboost-2020-08-29-21-32-01-941/test.csv.out to ../data/sentiment_update/test.csv.out\r\n"
     ]
    }
   ],
   "source": [
    "!aws s3 cp --recursive $xgb_transformer.output_path $data_dir"
   ]
  },
  {
   "cell_type": "markdown",
   "metadata": {},
   "source": [
    "The last step is now to read in the output from our model, convert the output to something a little more usable, in this case we want the sentiment to be either `1` (positive) or `0` (negative), and then compare to the ground truth labels."
   ]
  },
  {
   "cell_type": "code",
   "execution_count": 30,
   "metadata": {},
   "outputs": [],
   "source": [
    "predictions = pd.read_csv(os.path.join(data_dir, 'test.csv.out'), header=None)\n",
    "predictions = [round(num) for num in predictions.squeeze().values]"
   ]
  },
  {
   "cell_type": "code",
   "execution_count": 31,
   "metadata": {},
   "outputs": [
    {
     "data": {
      "text/plain": [
       "0.86088"
      ]
     },
     "execution_count": 31,
     "metadata": {},
     "output_type": "execute_result"
    }
   ],
   "source": [
    "from sklearn.metrics import accuracy_score\n",
    "accuracy_score(test_y, predictions)"
   ]
  },
  {
   "cell_type": "markdown",
   "metadata": {},
   "source": [
    "## Step 5: Looking at New Data\n",
    "\n",
    "So now we have an XGBoost sentiment analysis model that we believe is working pretty well. As a result, we deployed it and we are using it in some sort of app.\n",
    "\n",
    "However, as we allow users to use our app we periodically record submitted movie reviews so that we can perform some quality control on our deployed model. Once we've accumulated enough reviews we go through them by hand and evaluate whether they are positive or negative (there are many ways you might do this in practice aside from by hand). The reason for doing this is so that we can check to see how well our model is doing."
   ]
  },
  {
   "cell_type": "code",
   "execution_count": 12,
   "metadata": {},
   "outputs": [],
   "source": [
    "import new_data\n",
    "\n",
    "new_X, new_Y = new_data.get_new_data()"
   ]
  },
  {
   "cell_type": "markdown",
   "metadata": {},
   "source": [
    "**NOTE:** Part of the fun in this notebook is trying to figure out what exactly is happening with the new data, so try not to cheat by looking in the `new_data` module. Also, the `new_data` module assumes that the cache created earlier in Step 3 is still stored in `../cache/sentiment_analysis`."
   ]
  },
  {
   "cell_type": "markdown",
   "metadata": {},
   "source": [
    "### (TODO) Testing the current model\n",
    "\n",
    "Now that we've loaded the new data, let's check to see how our current XGBoost model performs on it.\n",
    "\n",
    "First, note that the data that has been loaded has already been pre-processed so that each entry in `new_X` is a list of words that have been processed using `nltk`. However, we have not yet constructed the bag of words encoding, which we will do now.\n",
    "\n",
    "First, we use the vocabulary that we constructed earlier using the original training data to construct a `CountVectorizer` which we will use to transform our new data into its bag of words encoding.\n",
    "\n",
    "**TODO:** Create the CountVectorizer object using the vocabulary created earlier and use it to transform the new data."
   ]
  },
  {
   "cell_type": "code",
   "execution_count": 34,
   "metadata": {},
   "outputs": [],
   "source": [
    "# TODO: Create the CountVectorizer using the previously constructed vocabulary\n",
    "vectorizer = CountVectorizer(vocabulary=vocabulary,\n",
    "                            preprocessor=lambda x: x, tokenizer=lambda x: x)\n",
    "\n",
    "# TODO: Transform our new data set and store the transformed data in the variable new_XV\n",
    "new_XV = vectorizer.transform(new_X).toarray()"
   ]
  },
  {
   "cell_type": "markdown",
   "metadata": {},
   "source": [
    "As a quick sanity check, we make sure that the length of each of our bag of words encoded reviews is correct. In particular, it must be the same size as the vocabulary which in our case is `5000`."
   ]
  },
  {
   "cell_type": "code",
   "execution_count": 35,
   "metadata": {},
   "outputs": [
    {
     "data": {
      "text/plain": [
       "5000"
      ]
     },
     "execution_count": 35,
     "metadata": {},
     "output_type": "execute_result"
    }
   ],
   "source": [
    "len(new_XV[100])"
   ]
  },
  {
   "cell_type": "markdown",
   "metadata": {},
   "source": [
    "Now that we've performed the data processing that is required by our model we can save it locally and then upload it to S3 so that we can construct a batch transform job in order to see how well our model is working.\n",
    "\n",
    "First, we save the data locally.\n",
    "\n",
    "**TODO:** Save the new data (after it has been transformed using the original vocabulary) to the local notebook instance."
   ]
  },
  {
   "cell_type": "code",
   "execution_count": 36,
   "metadata": {},
   "outputs": [],
   "source": [
    "# TODO: Save the data contained in new_XV locally in the data_dir with the file name new_data.csv\n",
    "pd.DataFrame(new_XV).to_csv(os.path.join(data_dir, 'new_data.csv'), header=False, index=False)"
   ]
  },
  {
   "cell_type": "markdown",
   "metadata": {},
   "source": [
    "Next, we upload the data to S3.\n",
    "\n",
    "**TODO:** Upload the csv file created above to S3."
   ]
  },
  {
   "cell_type": "code",
   "execution_count": 37,
   "metadata": {},
   "outputs": [],
   "source": [
    "# TODO: Upload the new_data.csv file contained in the data_dir folder to S3 and save the resulting\n",
    "#       URI as new_data_location\n",
    "\n",
    "new_data_location = session.upload_data(os.path.join(data_dir, 'new_data.csv'), key_prefix=prefix)"
   ]
  },
  {
   "cell_type": "markdown",
   "metadata": {},
   "source": [
    "Then, once the new data has been uploaded to S3, we create and run the batch transform job to get our model's predictions about the sentiment of the new movie reviews.\n",
    "\n",
    "**TODO:** Using the `xgb_transformer` object that was created earlier (at the end of Step 4 to test the XGBoost model), transform the data located at `new_data_location`."
   ]
  },
  {
   "cell_type": "code",
   "execution_count": 38,
   "metadata": {},
   "outputs": [],
   "source": [
    "# TODO: Using xgb_transformer, transform the new_data_location data. You may wish to **wait** until\n",
    "#       the batch transform job has finished.\n",
    "xgb_transformer.transform(new_data_location, content_type='text/csv', split_type='Line')"
   ]
  },
  {
   "cell_type": "code",
   "execution_count": 39,
   "metadata": {},
   "outputs": [
    {
     "name": "stdout",
     "output_type": "stream",
     "text": [
      "...........................\u001b[34mArguments: serve\u001b[0m\n",
      "\u001b[35mArguments: serve\u001b[0m\n",
      "\u001b[34m[2020-08-29 21:44:22 +0000] [1] [INFO] Starting gunicorn 19.7.1\u001b[0m\n",
      "\u001b[34m[2020-08-29 21:44:22 +0000] [1] [INFO] Listening at: http://0.0.0.0:8080 (1)\u001b[0m\n",
      "\u001b[34m[2020-08-29 21:44:22 +0000] [1] [INFO] Using worker: gevent\u001b[0m\n",
      "\u001b[34m[2020-08-29 21:44:22 +0000] [36] [INFO] Booting worker with pid: 36\u001b[0m\n",
      "\u001b[34m[2020-08-29 21:44:22 +0000] [37] [INFO] Booting worker with pid: 37\u001b[0m\n",
      "\u001b[34m[2020-08-29:21:44:22:INFO] Model loaded successfully for worker : 36\u001b[0m\n",
      "\u001b[34m[2020-08-29 21:44:22 +0000] [38] [INFO] Booting worker with pid: 38\u001b[0m\n",
      "\u001b[34m[2020-08-29 21:44:22 +0000] [39] [INFO] Booting worker with pid: 39\u001b[0m\n",
      "\u001b[34m[2020-08-29:21:44:22:INFO] Model loaded successfully for worker : 37\u001b[0m\n",
      "\u001b[34m[2020-08-29:21:44:23:INFO] Model loaded successfully for worker : 38\u001b[0m\n",
      "\u001b[34m[2020-08-29:21:44:23:INFO] Model loaded successfully for worker : 39\u001b[0m\n",
      "\u001b[34m[2020-08-29:21:44:23:INFO] Sniff delimiter as ','\u001b[0m\n",
      "\u001b[34m[2020-08-29:21:44:23:INFO] Determined delimiter of CSV input is ','\u001b[0m\n",
      "\u001b[34m[2020-08-29:21:44:23:INFO] Sniff delimiter as ','\u001b[0m\n",
      "\u001b[34m[2020-08-29:21:44:23:INFO] Determined delimiter of CSV input is ','\u001b[0m\n",
      "\u001b[34m[2020-08-29:21:44:23:INFO] Sniff delimiter as ','\u001b[0m\n",
      "\u001b[34m[2020-08-29:21:44:23:INFO] Determined delimiter of CSV input is ','\u001b[0m\n",
      "\u001b[35m[2020-08-29 21:44:22 +0000] [1] [INFO] Starting gunicorn 19.7.1\u001b[0m\n",
      "\u001b[35m[2020-08-29 21:44:22 +0000] [1] [INFO] Listening at: http://0.0.0.0:8080 (1)\u001b[0m\n",
      "\u001b[35m[2020-08-29 21:44:22 +0000] [1] [INFO] Using worker: gevent\u001b[0m\n",
      "\u001b[35m[2020-08-29 21:44:22 +0000] [36] [INFO] Booting worker with pid: 36\u001b[0m\n",
      "\u001b[35m[2020-08-29 21:44:22 +0000] [37] [INFO] Booting worker with pid: 37\u001b[0m\n",
      "\u001b[35m[2020-08-29:21:44:22:INFO] Model loaded successfully for worker : 36\u001b[0m\n",
      "\u001b[35m[2020-08-29 21:44:22 +0000] [38] [INFO] Booting worker with pid: 38\u001b[0m\n",
      "\u001b[35m[2020-08-29 21:44:22 +0000] [39] [INFO] Booting worker with pid: 39\u001b[0m\n",
      "\u001b[35m[2020-08-29:21:44:22:INFO] Model loaded successfully for worker : 37\u001b[0m\n",
      "\u001b[35m[2020-08-29:21:44:23:INFO] Model loaded successfully for worker : 38\u001b[0m\n",
      "\u001b[35m[2020-08-29:21:44:23:INFO] Model loaded successfully for worker : 39\u001b[0m\n",
      "\u001b[35m[2020-08-29:21:44:23:INFO] Sniff delimiter as ','\u001b[0m\n",
      "\u001b[35m[2020-08-29:21:44:23:INFO] Determined delimiter of CSV input is ','\u001b[0m\n",
      "\u001b[35m[2020-08-29:21:44:23:INFO] Sniff delimiter as ','\u001b[0m\n",
      "\u001b[35m[2020-08-29:21:44:23:INFO] Determined delimiter of CSV input is ','\u001b[0m\n",
      "\u001b[35m[2020-08-29:21:44:23:INFO] Sniff delimiter as ','\u001b[0m\n",
      "\u001b[35m[2020-08-29:21:44:23:INFO] Determined delimiter of CSV input is ','\u001b[0m\n",
      "\u001b[34m[2020-08-29:21:44:25:INFO] Sniff delimiter as ','\u001b[0m\n",
      "\u001b[34m[2020-08-29:21:44:25:INFO] Determined delimiter of CSV input is ','\u001b[0m\n",
      "\u001b[34m[2020-08-29:21:44:25:INFO] Sniff delimiter as ','\u001b[0m\n",
      "\u001b[34m[2020-08-29:21:44:25:INFO] Determined delimiter of CSV input is ','\u001b[0m\n",
      "\u001b[35m[2020-08-29:21:44:25:INFO] Sniff delimiter as ','\u001b[0m\n",
      "\u001b[35m[2020-08-29:21:44:25:INFO] Determined delimiter of CSV input is ','\u001b[0m\n",
      "\u001b[35m[2020-08-29:21:44:25:INFO] Sniff delimiter as ','\u001b[0m\n",
      "\u001b[35m[2020-08-29:21:44:25:INFO] Determined delimiter of CSV input is ','\u001b[0m\n",
      "\u001b[34m[2020-08-29:21:44:26:INFO] Sniff delimiter as ','\u001b[0m\n",
      "\u001b[34m[2020-08-29:21:44:26:INFO] Determined delimiter of CSV input is ','\u001b[0m\n",
      "\u001b[34m[2020-08-29:21:44:26:INFO] Sniff delimiter as ','\u001b[0m\n",
      "\u001b[34m[2020-08-29:21:44:26:INFO] Determined delimiter of CSV input is ','\u001b[0m\n",
      "\u001b[35m[2020-08-29:21:44:26:INFO] Sniff delimiter as ','\u001b[0m\n",
      "\u001b[35m[2020-08-29:21:44:26:INFO] Determined delimiter of CSV input is ','\u001b[0m\n",
      "\u001b[35m[2020-08-29:21:44:26:INFO] Sniff delimiter as ','\u001b[0m\n",
      "\u001b[35m[2020-08-29:21:44:26:INFO] Determined delimiter of CSV input is ','\u001b[0m\n",
      "\u001b[34m[2020-08-29:21:44:26:INFO] Sniff delimiter as ','\u001b[0m\n",
      "\u001b[34m[2020-08-29:21:44:26:INFO] Determined delimiter of CSV input is ','\u001b[0m\n",
      "\u001b[35m[2020-08-29:21:44:26:INFO] Sniff delimiter as ','\u001b[0m\n",
      "\u001b[35m[2020-08-29:21:44:26:INFO] Determined delimiter of CSV input is ','\u001b[0m\n",
      "\u001b[34m[2020-08-29:21:44:26:INFO] Sniff delimiter as ','\u001b[0m\n",
      "\u001b[34m[2020-08-29:21:44:26:INFO] Determined delimiter of CSV input is ','\u001b[0m\n",
      "\u001b[35m[2020-08-29:21:44:26:INFO] Sniff delimiter as ','\u001b[0m\n",
      "\u001b[35m[2020-08-29:21:44:26:INFO] Determined delimiter of CSV input is ','\u001b[0m\n",
      "\u001b[32m2020-08-29T21:44:22.842:[sagemaker logs]: MaxConcurrentTransforms=4, MaxPayloadInMB=6, BatchStrategy=MULTI_RECORD\u001b[0m\n",
      "\u001b[34m[2020-08-29:21:44:28:INFO] Sniff delimiter as ','\u001b[0m\n",
      "\u001b[34m[2020-08-29:21:44:28:INFO] Determined delimiter of CSV input is ','\u001b[0m\n",
      "\u001b[35m[2020-08-29:21:44:28:INFO] Sniff delimiter as ','\u001b[0m\n",
      "\u001b[35m[2020-08-29:21:44:28:INFO] Determined delimiter of CSV input is ','\u001b[0m\n",
      "\u001b[34m[2020-08-29:21:44:28:INFO] Sniff delimiter as ','\u001b[0m\n",
      "\u001b[34m[2020-08-29:21:44:28:INFO] Determined delimiter of CSV input is ','\u001b[0m\n",
      "\u001b[34m[2020-08-29:21:44:29:INFO] Sniff delimiter as ','\u001b[0m\n",
      "\u001b[34m[2020-08-29:21:44:29:INFO] Determined delimiter of CSV input is ','\u001b[0m\n",
      "\u001b[34m[2020-08-29:21:44:29:INFO] Sniff delimiter as ','\u001b[0m\n",
      "\u001b[34m[2020-08-29:21:44:29:INFO] Determined delimiter of CSV input is ','\u001b[0m\n",
      "\u001b[35m[2020-08-29:21:44:28:INFO] Sniff delimiter as ','\u001b[0m\n",
      "\u001b[35m[2020-08-29:21:44:28:INFO] Determined delimiter of CSV input is ','\u001b[0m\n",
      "\u001b[35m[2020-08-29:21:44:29:INFO] Sniff delimiter as ','\u001b[0m\n",
      "\u001b[35m[2020-08-29:21:44:29:INFO] Determined delimiter of CSV input is ','\u001b[0m\n",
      "\u001b[35m[2020-08-29:21:44:29:INFO] Sniff delimiter as ','\u001b[0m\n",
      "\u001b[35m[2020-08-29:21:44:29:INFO] Determined delimiter of CSV input is ','\u001b[0m\n",
      "\u001b[34m[2020-08-29:21:44:31:INFO] Sniff delimiter as ','\u001b[0m\n",
      "\u001b[35m[2020-08-29:21:44:31:INFO] Sniff delimiter as ','\u001b[0m\n",
      "\u001b[34m[2020-08-29:21:44:31:INFO] Determined delimiter of CSV input is ','\u001b[0m\n",
      "\u001b[34m[2020-08-29:21:44:31:INFO] Sniff delimiter as ','\u001b[0m\n",
      "\u001b[34m[2020-08-29:21:44:31:INFO] Determined delimiter of CSV input is ','\u001b[0m\n",
      "\u001b[34m[2020-08-29:21:44:31:INFO] Sniff delimiter as ','\u001b[0m\n",
      "\u001b[34m[2020-08-29:21:44:31:INFO] Determined delimiter of CSV input is ','\u001b[0m\n",
      "\u001b[35m[2020-08-29:21:44:31:INFO] Determined delimiter of CSV input is ','\u001b[0m\n",
      "\u001b[35m[2020-08-29:21:44:31:INFO] Sniff delimiter as ','\u001b[0m\n",
      "\u001b[35m[2020-08-29:21:44:31:INFO] Determined delimiter of CSV input is ','\u001b[0m\n",
      "\u001b[35m[2020-08-29:21:44:31:INFO] Sniff delimiter as ','\u001b[0m\n",
      "\u001b[35m[2020-08-29:21:44:31:INFO] Determined delimiter of CSV input is ','\u001b[0m\n",
      "\u001b[34m[2020-08-29:21:44:33:INFO] Determined delimiter of CSV input is ','\u001b[0m\n",
      "\u001b[34m[2020-08-29:21:44:33:INFO] Sniff delimiter as ','\u001b[0m\n",
      "\u001b[34m[2020-08-29:21:44:33:INFO] Determined delimiter of CSV input is ','\u001b[0m\n",
      "\u001b[34m[2020-08-29:21:44:34:INFO] Sniff delimiter as ','\u001b[0m\n",
      "\u001b[34m[2020-08-29:21:44:34:INFO] Determined delimiter of CSV input is ','\u001b[0m\n",
      "\u001b[35m[2020-08-29:21:44:33:INFO] Determined delimiter of CSV input is ','\u001b[0m\n",
      "\u001b[35m[2020-08-29:21:44:33:INFO] Sniff delimiter as ','\u001b[0m\n",
      "\u001b[35m[2020-08-29:21:44:33:INFO] Determined delimiter of CSV input is ','\u001b[0m\n",
      "\u001b[35m[2020-08-29:21:44:34:INFO] Sniff delimiter as ','\u001b[0m\n",
      "\u001b[35m[2020-08-29:21:44:34:INFO] Determined delimiter of CSV input is ','\u001b[0m\n",
      "\u001b[34m[2020-08-29:21:44:36:INFO] Sniff delimiter as ','\u001b[0m\n",
      "\u001b[34m[2020-08-29:21:44:36:INFO] Determined delimiter of CSV input is ','\u001b[0m\n",
      "\u001b[34m[2020-08-29:21:44:36:INFO] Sniff delimiter as ','\u001b[0m\n",
      "\u001b[34m[2020-08-29:21:44:36:INFO] Determined delimiter of CSV input is ','\u001b[0m\n",
      "\u001b[35m[2020-08-29:21:44:36:INFO] Sniff delimiter as ','\u001b[0m\n",
      "\u001b[35m[2020-08-29:21:44:36:INFO] Determined delimiter of CSV input is ','\u001b[0m\n",
      "\u001b[35m[2020-08-29:21:44:36:INFO] Sniff delimiter as ','\u001b[0m\n",
      "\u001b[35m[2020-08-29:21:44:36:INFO] Determined delimiter of CSV input is ','\u001b[0m\n",
      "\u001b[34m[2020-08-29:21:44:36:INFO] Sniff delimiter as ','\u001b[0m\n",
      "\u001b[34m[2020-08-29:21:44:36:INFO] Determined delimiter of CSV input is ','\u001b[0m\n",
      "\u001b[35m[2020-08-29:21:44:36:INFO] Sniff delimiter as ','\u001b[0m\n",
      "\u001b[35m[2020-08-29:21:44:36:INFO] Determined delimiter of CSV input is ','\u001b[0m\n",
      "\u001b[34m[2020-08-29:21:44:36:INFO] Sniff delimiter as ','\u001b[0m\n",
      "\u001b[34m[2020-08-29:21:44:36:INFO] Determined delimiter of CSV input is ','\u001b[0m\n",
      "\u001b[35m[2020-08-29:21:44:36:INFO] Sniff delimiter as ','\u001b[0m\n",
      "\u001b[35m[2020-08-29:21:44:36:INFO] Determined delimiter of CSV input is ','\u001b[0m\n",
      "\u001b[34m[2020-08-29:21:44:38:INFO] Sniff delimiter as ','\u001b[0m\n",
      "\u001b[35m[2020-08-29:21:44:38:INFO] Sniff delimiter as ','\u001b[0m\n",
      "\u001b[34m[2020-08-29:21:44:38:INFO] Determined delimiter of CSV input is ','\u001b[0m\n",
      "\u001b[35m[2020-08-29:21:44:38:INFO] Determined delimiter of CSV input is ','\u001b[0m\n",
      "\u001b[34m[2020-08-29:21:44:38:INFO] Sniff delimiter as ','\u001b[0m\n",
      "\u001b[34m[2020-08-29:21:44:38:INFO] Determined delimiter of CSV input is ','\u001b[0m\n",
      "\u001b[34m[2020-08-29:21:44:38:INFO] Sniff delimiter as ','\u001b[0m\n",
      "\u001b[34m[2020-08-29:21:44:38:INFO] Determined delimiter of CSV input is ','\u001b[0m\n",
      "\u001b[34m[2020-08-29:21:44:39:INFO] Sniff delimiter as ','\u001b[0m\n",
      "\u001b[34m[2020-08-29:21:44:39:INFO] Determined delimiter of CSV input is ','\u001b[0m\n",
      "\u001b[35m[2020-08-29:21:44:38:INFO] Sniff delimiter as ','\u001b[0m\n",
      "\u001b[35m[2020-08-29:21:44:38:INFO] Determined delimiter of CSV input is ','\u001b[0m\n",
      "\u001b[35m[2020-08-29:21:44:38:INFO] Sniff delimiter as ','\u001b[0m\n",
      "\u001b[35m[2020-08-29:21:44:38:INFO] Determined delimiter of CSV input is ','\u001b[0m\n",
      "\u001b[35m[2020-08-29:21:44:39:INFO] Sniff delimiter as ','\u001b[0m\n",
      "\u001b[35m[2020-08-29:21:44:39:INFO] Determined delimiter of CSV input is ','\u001b[0m\n",
      "\u001b[34m[2020-08-29:21:44:40:INFO] Sniff delimiter as ','\u001b[0m\n",
      "\u001b[34m[2020-08-29:21:44:40:INFO] Determined delimiter of CSV input is ','\u001b[0m\n",
      "\u001b[34m[2020-08-29:21:44:41:INFO] Sniff delimiter as ','\u001b[0m\n",
      "\u001b[34m[2020-08-29:21:44:41:INFO] Determined delimiter of CSV input is ','\u001b[0m\n",
      "\u001b[34m[2020-08-29:21:44:41:INFO] Sniff delimiter as ','\u001b[0m\n",
      "\u001b[34m[2020-08-29:21:44:41:INFO] Determined delimiter of CSV input is ','\u001b[0m\n",
      "\u001b[34m[2020-08-29:21:44:41:INFO] Sniff delimiter as ','\u001b[0m\n",
      "\u001b[34m[2020-08-29:21:44:41:INFO] Determined delimiter of CSV input is ','\u001b[0m\n",
      "\u001b[35m[2020-08-29:21:44:40:INFO] Sniff delimiter as ','\u001b[0m\n",
      "\u001b[35m[2020-08-29:21:44:40:INFO] Determined delimiter of CSV input is ','\u001b[0m\n",
      "\u001b[35m[2020-08-29:21:44:41:INFO] Sniff delimiter as ','\u001b[0m\n",
      "\u001b[35m[2020-08-29:21:44:41:INFO] Determined delimiter of CSV input is ','\u001b[0m\n",
      "\u001b[35m[2020-08-29:21:44:41:INFO] Sniff delimiter as ','\u001b[0m\n",
      "\u001b[35m[2020-08-29:21:44:41:INFO] Determined delimiter of CSV input is ','\u001b[0m\n",
      "\u001b[35m[2020-08-29:21:44:41:INFO] Sniff delimiter as ','\u001b[0m\n",
      "\u001b[35m[2020-08-29:21:44:41:INFO] Determined delimiter of CSV input is ','\u001b[0m\n",
      "\u001b[34m[2020-08-29:21:44:45:INFO] Sniff delimiter as ','\u001b[0m\n",
      "\u001b[34m[2020-08-29:21:44:45:INFO] Determined delimiter of CSV input is ','\u001b[0m\n",
      "\u001b[34m[2020-08-29:21:44:46:INFO] Sniff delimiter as ','\u001b[0m\n",
      "\u001b[34m[2020-08-29:21:44:46:INFO] Determined delimiter of CSV input is ','\u001b[0m\n",
      "\u001b[34m[2020-08-29:21:44:46:INFO] Sniff delimiter as ','\u001b[0m\n",
      "\u001b[34m[2020-08-29:21:44:46:INFO] Determined delimiter of CSV input is ','\u001b[0m\n",
      "\u001b[35m[2020-08-29:21:44:45:INFO] Sniff delimiter as ','\u001b[0m\n",
      "\u001b[35m[2020-08-29:21:44:45:INFO] Determined delimiter of CSV input is ','\u001b[0m\n",
      "\u001b[35m[2020-08-29:21:44:46:INFO] Sniff delimiter as ','\u001b[0m\n",
      "\u001b[35m[2020-08-29:21:44:46:INFO] Determined delimiter of CSV input is ','\u001b[0m\n",
      "\u001b[35m[2020-08-29:21:44:46:INFO] Sniff delimiter as ','\u001b[0m\n",
      "\u001b[35m[2020-08-29:21:44:46:INFO] Determined delimiter of CSV input is ','\u001b[0m\n",
      "\n"
     ]
    }
   ],
   "source": [
    "xgb_transformer.wait()"
   ]
  },
  {
   "cell_type": "markdown",
   "metadata": {},
   "source": [
    "As usual, we copy the results of the batch transform job to our local instance."
   ]
  },
  {
   "cell_type": "code",
   "execution_count": 40,
   "metadata": {},
   "outputs": [
    {
     "name": "stdout",
     "output_type": "stream",
     "text": [
      "download: s3://sagemaker-eu-west-1-100264508876/xgboost-2020-08-29-21-39-41-391/new_data.csv.out to ../data/sentiment_update/new_data.csv.out\r\n"
     ]
    }
   ],
   "source": [
    "!aws s3 cp --recursive $xgb_transformer.output_path $data_dir"
   ]
  },
  {
   "cell_type": "markdown",
   "metadata": {},
   "source": [
    "Read in the results of the batch transform job."
   ]
  },
  {
   "cell_type": "code",
   "execution_count": 41,
   "metadata": {},
   "outputs": [],
   "source": [
    "predictions = pd.read_csv(os.path.join(data_dir, 'new_data.csv.out'), header=None)\n",
    "predictions = [round(num) for num in predictions.squeeze().values]"
   ]
  },
  {
   "cell_type": "markdown",
   "metadata": {},
   "source": [
    "And check the accuracy of our current model."
   ]
  },
  {
   "cell_type": "code",
   "execution_count": 42,
   "metadata": {},
   "outputs": [
    {
     "data": {
      "text/plain": [
       "0.73588"
      ]
     },
     "execution_count": 42,
     "metadata": {},
     "output_type": "execute_result"
    }
   ],
   "source": [
    "accuracy_score(new_Y, predictions)"
   ]
  },
  {
   "cell_type": "markdown",
   "metadata": {},
   "source": [
    "So it would appear that *something* has changed since our model is no longer (as) effective at determining the sentiment of a user provided review.\n",
    "\n",
    "In a real life scenario you would check a number of different things to see what exactly is going on. In our case, we are only going to check one and that is whether some aspect of the underlying distribution has changed. In other words, we want to see if the words that appear in our new collection of reviews matches the words that appear in the original training set. Of course, we want to narrow our scope a little bit so we will only look at the `5000` most frequently appearing words in each data set, or in other words, the vocabulary generated by each data set.\n",
    "\n",
    "Before doing that, however, let's take a look at some of the incorrectly classified reviews in the new data set.\n",
    "\n",
    "To start, we will deploy the original XGBoost model. We will then use the deployed model to infer the sentiment of some of the new reviews. This will also serve as a nice excuse to deploy our model so that we can mimic a real life scenario where we have a model that has been deployed and is being used in production.\n",
    "\n",
    "**TODO:** Deploy the XGBoost model."
   ]
  },
  {
   "cell_type": "code",
   "execution_count": 43,
   "metadata": {},
   "outputs": [
    {
     "name": "stderr",
     "output_type": "stream",
     "text": [
      "Parameter image will be renamed to image_uri in SageMaker Python SDK v2.\n",
      "Using already existing model: xgboost-2020-08-29-21-25-18-034\n"
     ]
    },
    {
     "name": "stdout",
     "output_type": "stream",
     "text": [
      "-------------!"
     ]
    }
   ],
   "source": [
    "# TODO: Deploy the model that was created earlier. Recall that the object name is 'xgb'.\n",
    "xgb_predictor = xgb.deploy(instance_type='ml.m4.xlarge', initial_instance_count=1)"
   ]
  },
  {
   "cell_type": "markdown",
   "metadata": {},
   "source": [
    "### Diagnose the problem\n",
    "\n",
    "Now that we have our deployed \"production\" model, we can send some of our new data to it and filter out some of the incorrectly classified reviews."
   ]
  },
  {
   "cell_type": "code",
   "execution_count": 44,
   "metadata": {},
   "outputs": [],
   "source": [
    "from sagemaker.predictor import csv_serializer\n",
    "\n",
    "# We need to tell the endpoint what format the data we are sending is in so that SageMaker can perform the serialization.\n",
    "xgb_predictor.content_type = 'text/csv'\n",
    "xgb_predictor.serializer = csv_serializer"
   ]
  },
  {
   "cell_type": "markdown",
   "metadata": {},
   "source": [
    "It will be useful to look at a few different examples of incorrectly classified reviews so we will start by creating a *generator* which we will use to iterate through some of the new reviews and find ones that are incorrect.\n",
    "\n",
    "**NOTE:** Understanding what Python generators are isn't really required for this module. The reason we use them here is so that we don't have to iterate through all of the new reviews, searching for incorrectly classified samples."
   ]
  },
  {
   "cell_type": "code",
   "execution_count": 45,
   "metadata": {},
   "outputs": [],
   "source": [
    "def get_sample(in_X, in_XV, in_Y):\n",
    "    for idx, smp in enumerate(in_X):\n",
    "        res = round(float(xgb_predictor.predict(in_XV[idx])))\n",
    "        if res != in_Y[idx]:\n",
    "            yield smp, in_Y[idx]"
   ]
  },
  {
   "cell_type": "code",
   "execution_count": 46,
   "metadata": {},
   "outputs": [],
   "source": [
    "gn = get_sample(new_X, new_XV, new_Y)"
   ]
  },
  {
   "cell_type": "markdown",
   "metadata": {},
   "source": [
    "At this point, `gn` is the *generator* which generates samples from the new data set which are not classified correctly. To get the *next* sample we simply call the `next` method on our generator."
   ]
  },
  {
   "cell_type": "code",
   "execution_count": 47,
   "metadata": {},
   "outputs": [
    {
     "name": "stdout",
     "output_type": "stream",
     "text": [
      "(['look', 'cute', 'simpl', 'comedi', 'pass', 'time', 'choos', 'film', 'prove', 'enorm', 'mistak', 'write', 'singl', 'good', 'thing', 'first', 'script', 'stupid', 'funni', 'reli', 'tire', 'recycl', 'joke', 'fart', 'turtl', 'laugh', 'book', 'funni', 'pathet', 'low', 'budget', 'effect', 'even', 'call', 'effect', 'horribl', 'cinematographi', 'mani', 'place', 'feel', 'almost', 'like', 'indi', 'film', 'shot', 'money', 'act', 'feel', 'sorri', 'actor', 'pamela', 'anderson', 'denis', 'richard', 'desper', 'money', 'agre', 'take', 'part', 'look', 'recent', 'filmographi', 'would', 'appear', 'despit', 'outfit', 'pamela', 'show', 'age', 'whole', 'even', 'come', 'across', 'sexi', 'let', 'alon', 'funni', 'movi', 'even', 'bad', 'funni', 'categori', 'bad', 'everybodi', 'involv', 'sick', 'avoid', 'banana'], 1)\n"
     ]
    }
   ],
   "source": [
    "print(next(gn))"
   ]
  },
  {
   "cell_type": "markdown",
   "metadata": {},
   "source": [
    "After looking at a few examples, maybe we decide to look at the most frequently appearing `5000` words in each data set, the original training data set and the new data set. The reason for looking at this might be that we expect the frequency of use of different words to have changed, maybe there is some new slang that has been introduced or some other artifact of popular culture that has changed the way that people write movie reviews.\n",
    "\n",
    "To do this, we start by fitting a `CountVectorizer` to the new data."
   ]
  },
  {
   "cell_type": "code",
   "execution_count": 48,
   "metadata": {},
   "outputs": [
    {
     "name": "stderr",
     "output_type": "stream",
     "text": [
      "/home/ec2-user/anaconda3/envs/pytorch_p36/lib/python3.6/site-packages/sklearn/feature_extraction/text.py:484: UserWarning: The parameter 'token_pattern' will not be used since 'tokenizer' is not None'\n",
      "  warnings.warn(\"The parameter 'token_pattern' will not be used\"\n"
     ]
    },
    {
     "data": {
      "text/plain": [
       "CountVectorizer(max_features=5000,\n",
       "                preprocessor=<function <lambda> at 0x7f9b09b0c840>,\n",
       "                tokenizer=<function <lambda> at 0x7f9b09b0cb70>)"
      ]
     },
     "execution_count": 48,
     "metadata": {},
     "output_type": "execute_result"
    }
   ],
   "source": [
    "new_vectorizer = CountVectorizer(max_features=5000,\n",
    "                preprocessor=lambda x: x, tokenizer=lambda x: x)\n",
    "new_vectorizer.fit(new_X)"
   ]
  },
  {
   "cell_type": "markdown",
   "metadata": {},
   "source": [
    "Now that we have this new `CountVectorizor` object, we can check to see if the corresponding vocabulary has changed between the two data sets."
   ]
  },
  {
   "cell_type": "code",
   "execution_count": 49,
   "metadata": {},
   "outputs": [],
   "source": [
    "original_vocabulary = set(vocabulary.keys())\n",
    "new_vocabulary = set(new_vectorizer.vocabulary_.keys())"
   ]
  },
  {
   "cell_type": "markdown",
   "metadata": {},
   "source": [
    "We can look at the words that were in the original vocabulary but not in the new vocabulary."
   ]
  },
  {
   "cell_type": "code",
   "execution_count": 50,
   "metadata": {},
   "outputs": [
    {
     "name": "stdout",
     "output_type": "stream",
     "text": [
      "{'substanti', 'motorcycl', 'omin', 'hostil', 'sophi', 'weaker', '21st', 'vastli'}\n"
     ]
    }
   ],
   "source": [
    "print(original_vocabulary - new_vocabulary)"
   ]
  },
  {
   "cell_type": "markdown",
   "metadata": {},
   "source": [
    "And similarly, we can look at the words that are in the new vocabulary but which were not in the original vocabulary."
   ]
  },
  {
   "cell_type": "code",
   "execution_count": 51,
   "metadata": {},
   "outputs": [
    {
     "name": "stdout",
     "output_type": "stream",
     "text": [
      "{'banana', 'casper', 'modest', 'rapidli', 'sparkl', 'evan', 'playboy', 'mice'}\n"
     ]
    }
   ],
   "source": [
    "print(new_vocabulary - original_vocabulary)"
   ]
  },
  {
   "cell_type": "markdown",
   "metadata": {},
   "source": [
    "These words themselves don't tell us much, however if one of these words occured with a large frequency, that might tell us something. In particular, we wouldn't really expect any of the words above to appear with too much frequency.\n",
    "\n",
    "**Question** What exactly is going on here. Not only what (if any) words appear with a larger than expected frequency but also, what does this mean? What has changed about the world that our original model no longer takes into account?\n",
    "\n",
    "**NOTE:** This is meant to be a very open ended question. To investigate you may need more cells than the one provided below. Also, there isn't really a *correct* answer, this is meant to be an opportunity to explore the data."
   ]
  },
  {
   "cell_type": "code",
   "execution_count": 52,
   "metadata": {},
   "outputs": [
    {
     "data": {
      "text/plain": [
       "{'banana', 'casper', 'evan', 'mice', 'modest', 'playboy', 'rapidli', 'sparkl'}"
      ]
     },
     "execution_count": 52,
     "metadata": {},
     "output_type": "execute_result"
    }
   ],
   "source": [
    "new_words = new_vocabulary - original_vocabulary \n",
    "new_words"
   ]
  },
  {
   "cell_type": "code",
   "execution_count": 58,
   "metadata": {},
   "outputs": [
    {
     "data": {
      "text/plain": [
       "{'banana': 424,\n",
       " 'casper': 759,\n",
       " 'modest': 2931,\n",
       " 'rapidli': 3589,\n",
       " 'sparkl': 4167,\n",
       " 'evan': 1595,\n",
       " 'playboy': 3356,\n",
       " 'mice': 2869}"
      ]
     },
     "execution_count": 58,
     "metadata": {},
     "output_type": "execute_result"
    }
   ],
   "source": [
    "new_words_count = {}\n",
    "for word in list(new_words):\n",
    "    new_words_count[word] = new_vectorizer.vocabulary_[word]\n",
    "new_words_count"
   ]
  },
  {
   "cell_type": "code",
   "execution_count": 59,
   "metadata": {},
   "outputs": [
    {
     "data": {
      "text/plain": [
       "{'21st',\n",
       " 'hostil',\n",
       " 'motorcycl',\n",
       " 'omin',\n",
       " 'sophi',\n",
       " 'substanti',\n",
       " 'vastli',\n",
       " 'weaker'}"
      ]
     },
     "execution_count": 59,
     "metadata": {},
     "output_type": "execute_result"
    }
   ],
   "source": [
    "original_words =  original_vocabulary - new_vocabulary \n",
    "original_words"
   ]
  },
  {
   "cell_type": "code",
   "execution_count": 61,
   "metadata": {},
   "outputs": [
    {
     "data": {
      "text/plain": [
       "{'substanti': 4320,\n",
       " 'motorcycl': 2964,\n",
       " 'omin': 3154,\n",
       " 'hostil': 2217,\n",
       " 'sophi': 4141,\n",
       " 'weaker': 4855,\n",
       " '21st': 67,\n",
       " 'vastli': 4753}"
      ]
     },
     "execution_count": 61,
     "metadata": {},
     "output_type": "execute_result"
    }
   ],
   "source": [
    "original_words_count = {}\n",
    "for word in list(original_words):\n",
    "    original_words_count[word] = vectorizer.vocabulary_[word]\n",
    "original_words_count"
   ]
  },
  {
   "cell_type": "markdown",
   "metadata": {},
   "source": [
    "#### So as we can see from above the words in new data has changed from the words in the old data and those words are used too much"
   ]
  },
  {
   "cell_type": "markdown",
   "metadata": {},
   "source": [
    "### (TODO) Build a new model\n",
    "\n",
    "Supposing that we believe something has changed about the underlying distribution of the words that our reviews are made up of, we need to create a new model. This way our new model will take into account whatever it is that has changed.\n",
    "\n",
    "To begin with, we will use the new vocabulary to create a bag of words encoding of the new data. We will then use this data to train a new XGBoost model.\n",
    "\n",
    "**NOTE:** Because we believe that the underlying distribution of words has changed it should follow that the original vocabulary that we used to construct a bag of words encoding of the reviews is no longer valid. This means that we need to be careful with our data. If we send an bag of words encoded review using the *original* vocabulary we should not expect any sort of meaningful results.\n",
    "\n",
    "In particular, this means that if we had deployed our XGBoost model like we did in the Web App notebook then we would need to implement this vocabulary change in the Lambda function as well."
   ]
  },
  {
   "cell_type": "code",
   "execution_count": 62,
   "metadata": {},
   "outputs": [],
   "source": [
    "new_XV = new_vectorizer.transform(new_X).toarray()"
   ]
  },
  {
   "cell_type": "markdown",
   "metadata": {},
   "source": [
    "And a quick check to make sure that the newly encoded reviews have the correct length, which should be the size of the new vocabulary which we created."
   ]
  },
  {
   "cell_type": "code",
   "execution_count": 63,
   "metadata": {},
   "outputs": [
    {
     "data": {
      "text/plain": [
       "5000"
      ]
     },
     "execution_count": 63,
     "metadata": {},
     "output_type": "execute_result"
    }
   ],
   "source": [
    "len(new_XV[0])"
   ]
  },
  {
   "cell_type": "markdown",
   "metadata": {},
   "source": [
    "Now that we have our newly encoded, newly collected data, we can split it up into a training and validation set so that we can train a new XGBoost model. As usual, we first split up the data, then save it locally and then upload it to S3."
   ]
  },
  {
   "cell_type": "code",
   "execution_count": 64,
   "metadata": {},
   "outputs": [],
   "source": [
    "import pandas as pd\n",
    "\n",
    "# Earlier we shuffled the training dataset so to make things simple we can just assign\n",
    "# the first 10 000 reviews to the validation set and use the remaining reviews for training.\n",
    "new_val_X = pd.DataFrame(new_XV[:10000])\n",
    "new_train_X = pd.DataFrame(new_XV[10000:])\n",
    "\n",
    "new_val_y = pd.DataFrame(new_Y[:10000])\n",
    "new_train_y = pd.DataFrame(new_Y[10000:])"
   ]
  },
  {
   "cell_type": "markdown",
   "metadata": {},
   "source": [
    "In order to save some memory we will effectively delete the `new_X` variable. Remember that this contained a list of reviews and each review was a list of words. Note that once this cell has been executed you will need to read the new data in again if you want to work with it."
   ]
  },
  {
   "cell_type": "code",
   "execution_count": 65,
   "metadata": {},
   "outputs": [],
   "source": [
    "new_X = None"
   ]
  },
  {
   "cell_type": "markdown",
   "metadata": {},
   "source": [
    "Next we save the new training and validation sets locally. Note that we overwrite the training and validation sets used earlier. This is mostly because the amount of space that we have available on our notebook instance is limited. Of course, you can increase this if you'd like but to do so may increase the cost of running the notebook instance."
   ]
  },
  {
   "cell_type": "code",
   "execution_count": 66,
   "metadata": {},
   "outputs": [],
   "source": [
    "pd.DataFrame(new_XV).to_csv(os.path.join(data_dir, 'new_data.csv'), header=False, index=False)\n",
    "\n",
    "pd.concat([new_val_y, new_val_X], axis=1).to_csv(os.path.join(data_dir, 'new_validation.csv'), header=False, index=False)\n",
    "pd.concat([new_train_y, new_train_X], axis=1).to_csv(os.path.join(data_dir, 'new_train.csv'), header=False, index=False)"
   ]
  },
  {
   "cell_type": "markdown",
   "metadata": {},
   "source": [
    "Now that we've saved our data to the local instance, we can safely delete the variables to save on memory."
   ]
  },
  {
   "cell_type": "code",
   "execution_count": 67,
   "metadata": {},
   "outputs": [],
   "source": [
    "new_val_y = new_val_X = new_train_y = new_train_X = new_XV = None"
   ]
  },
  {
   "cell_type": "markdown",
   "metadata": {},
   "source": [
    "Lastly, we make sure to upload the new training and validation sets to S3.\n",
    "\n",
    "**TODO:** Upload the new data as well as the new training and validation data sets to S3."
   ]
  },
  {
   "cell_type": "code",
   "execution_count": 68,
   "metadata": {},
   "outputs": [],
   "source": [
    "# TODO: Upload the new data and the new validation.csv and train.csv files in the data_dir directory to S3.\n",
    "new_data_location = session.upload_data(os.path.join(data_dir, 'new_data.csv'), key_prefix=prefix)\n",
    "new_val_location = session.upload_data(os.path.join(data_dir, 'new_validation.csv'), key_prefix=prefix)\n",
    "new_train_location = session.upload_data(os.path.join(data_dir, 'new_train.csv'), key_prefix=prefix)"
   ]
  },
  {
   "cell_type": "markdown",
   "metadata": {},
   "source": [
    "Once our new training data has been uploaded to S3, we can create a new XGBoost model that will take into account the changes that have occured in our data set.\n",
    "\n",
    "**TODO:** Create a new XGBoost estimator object."
   ]
  },
  {
   "cell_type": "code",
   "execution_count": 69,
   "metadata": {},
   "outputs": [
    {
     "name": "stderr",
     "output_type": "stream",
     "text": [
      "Parameter image_name will be renamed to image_uri in SageMaker Python SDK v2.\n"
     ]
    }
   ],
   "source": [
    "# TODO: First, create a SageMaker estimator object for our model.\n",
    "new_xgb = sagemaker.estimator.Estimator(container,\n",
    "                                       role,\n",
    "                                       train_instance_count=1,\n",
    "                                       train_instance_type='ml.m4.xlarge',\n",
    "                                       output_path='s3://{}/{}/output'.format(session.default_bucket(), prefix),\n",
    "                                       sagemaker_session=session)\n",
    "\n",
    "# TODO: Then set the algorithm specific parameters. You may wish to use the same parameters that were\n",
    "#       used when training the original model.\n",
    "new_xgb.set_hyperparameters(max_depth=5,\n",
    "                           gamma=4,\n",
    "                           eta=0.2,\n",
    "                           min_child_weight=6,\n",
    "                           early_stopping_rounds=10,\n",
    "                           num_round=500,\n",
    "                           subsample=0.8,\n",
    "                           silent=0,\n",
    "                           objective='binary:logistic')\n"
   ]
  },
  {
   "cell_type": "markdown",
   "metadata": {},
   "source": [
    "Once the model has been created, we can train it with our new data.\n",
    "\n",
    "**TODO:** Train the new XGBoost model."
   ]
  },
  {
   "cell_type": "code",
   "execution_count": 70,
   "metadata": {},
   "outputs": [
    {
     "name": "stderr",
     "output_type": "stream",
     "text": [
      "'s3_input' class will be renamed to 'TrainingInput' in SageMaker Python SDK v2.\n",
      "'s3_input' class will be renamed to 'TrainingInput' in SageMaker Python SDK v2.\n"
     ]
    }
   ],
   "source": [
    "# TODO: First, make sure that you create s3 input objects so that SageMaker knows where to\n",
    "#       find the training and validation data.\n",
    "s3_new_input_train = sagemaker.s3_input(s3_data=new_train_location, content_type='csv')\n",
    "s3_new_input_validation = sagemaker.s3_input(s3_data=new_val_location, content_type='csv')"
   ]
  },
  {
   "cell_type": "code",
   "execution_count": 71,
   "metadata": {},
   "outputs": [
    {
     "name": "stdout",
     "output_type": "stream",
     "text": [
      "2020-08-29 22:39:58 Starting - Starting the training job...\n",
      "2020-08-29 22:40:00 Starting - Launching requested ML instances......\n",
      "2020-08-29 22:41:23 Starting - Preparing the instances for training......\n",
      "2020-08-29 22:42:17 Downloading - Downloading input data...\n",
      "2020-08-29 22:42:56 Training - Training image download completed. Training in progress..\u001b[34mArguments: train\u001b[0m\n",
      "\u001b[34m[2020-08-29:22:42:56:INFO] Running standalone xgboost training.\u001b[0m\n",
      "\u001b[34m[2020-08-29:22:42:56:INFO] File size need to be processed in the node: 238.47mb. Available memory size in the node: 8483.28mb\u001b[0m\n",
      "\u001b[34m[2020-08-29:22:42:56:INFO] Determined delimiter of CSV input is ','\u001b[0m\n",
      "\u001b[34m[22:42:56] S3DistributionType set as FullyReplicated\u001b[0m\n",
      "\u001b[34m[22:42:58] 15000x5000 matrix with 75000000 entries loaded from /opt/ml/input/data/train?format=csv&label_column=0&delimiter=,\u001b[0m\n",
      "\u001b[34m[2020-08-29:22:42:58:INFO] Determined delimiter of CSV input is ','\u001b[0m\n",
      "\u001b[34m[22:42:58] S3DistributionType set as FullyReplicated\u001b[0m\n",
      "\u001b[34m[22:42:59] 10000x5000 matrix with 50000000 entries loaded from /opt/ml/input/data/validation?format=csv&label_column=0&delimiter=,\u001b[0m\n",
      "\u001b[34m[22:43:03] src/tree/updater_prune.cc:74: tree pruning end, 1 roots, 50 extra nodes, 8 pruned nodes, max_depth=5\u001b[0m\n",
      "\u001b[34m[0]#011train-error:0.302933#011validation-error:0.3027\u001b[0m\n",
      "\u001b[34mMultiple eval metrics have been passed: 'validation-error' will be used for early stopping.\n",
      "\u001b[0m\n",
      "\u001b[34mWill train until validation-error hasn't improved in 10 rounds.\u001b[0m\n",
      "\u001b[34m[22:43:04] src/tree/updater_prune.cc:74: tree pruning end, 1 roots, 48 extra nodes, 4 pruned nodes, max_depth=5\u001b[0m\n",
      "\u001b[34m[1]#011train-error:0.277267#011validation-error:0.2818\u001b[0m\n",
      "\u001b[34m[22:43:05] src/tree/updater_prune.cc:74: tree pruning end, 1 roots, 42 extra nodes, 8 pruned nodes, max_depth=5\u001b[0m\n",
      "\u001b[34m[2]#011train-error:0.2778#011validation-error:0.2803\u001b[0m\n",
      "\u001b[34m[22:43:07] src/tree/updater_prune.cc:74: tree pruning end, 1 roots, 34 extra nodes, 8 pruned nodes, max_depth=5\u001b[0m\n",
      "\u001b[34m[3]#011train-error:0.2698#011validation-error:0.273\u001b[0m\n",
      "\u001b[34m[22:43:08] src/tree/updater_prune.cc:74: tree pruning end, 1 roots, 38 extra nodes, 6 pruned nodes, max_depth=5\u001b[0m\n",
      "\u001b[34m[4]#011train-error:0.261133#011validation-error:0.2669\u001b[0m\n",
      "\u001b[34m[22:43:10] src/tree/updater_prune.cc:74: tree pruning end, 1 roots, 38 extra nodes, 8 pruned nodes, max_depth=5\u001b[0m\n",
      "\u001b[34m[5]#011train-error:0.261067#011validation-error:0.2645\u001b[0m\n",
      "\u001b[34m[22:43:11] src/tree/updater_prune.cc:74: tree pruning end, 1 roots, 42 extra nodes, 8 pruned nodes, max_depth=5\u001b[0m\n",
      "\u001b[34m[6]#011train-error:0.2474#011validation-error:0.2534\u001b[0m\n",
      "\u001b[34m[22:43:12] src/tree/updater_prune.cc:74: tree pruning end, 1 roots, 34 extra nodes, 8 pruned nodes, max_depth=5\u001b[0m\n",
      "\u001b[34m[7]#011train-error:0.2404#011validation-error:0.2482\u001b[0m\n",
      "\u001b[34m[22:43:14] src/tree/updater_prune.cc:74: tree pruning end, 1 roots, 32 extra nodes, 12 pruned nodes, max_depth=5\u001b[0m\n",
      "\u001b[34m[8]#011train-error:0.2392#011validation-error:0.2463\u001b[0m\n",
      "\u001b[34m[22:43:15] src/tree/updater_prune.cc:74: tree pruning end, 1 roots, 32 extra nodes, 8 pruned nodes, max_depth=5\u001b[0m\n",
      "\u001b[34m[9]#011train-error:0.233133#011validation-error:0.242\u001b[0m\n",
      "\u001b[34m[22:43:16] src/tree/updater_prune.cc:74: tree pruning end, 1 roots, 34 extra nodes, 4 pruned nodes, max_depth=5\u001b[0m\n",
      "\u001b[34m[10]#011train-error:0.229533#011validation-error:0.2403\u001b[0m\n",
      "\u001b[34m[22:43:17] src/tree/updater_prune.cc:74: tree pruning end, 1 roots, 38 extra nodes, 10 pruned nodes, max_depth=5\u001b[0m\n",
      "\u001b[34m[11]#011train-error:0.224933#011validation-error:0.2344\u001b[0m\n",
      "\u001b[34m[22:43:19] src/tree/updater_prune.cc:74: tree pruning end, 1 roots, 42 extra nodes, 4 pruned nodes, max_depth=5\u001b[0m\n",
      "\u001b[34m[12]#011train-error:0.217467#011validation-error:0.2282\u001b[0m\n",
      "\u001b[34m[22:43:20] src/tree/updater_prune.cc:74: tree pruning end, 1 roots, 26 extra nodes, 16 pruned nodes, max_depth=5\u001b[0m\n",
      "\u001b[34m[13]#011train-error:0.2146#011validation-error:0.227\u001b[0m\n",
      "\u001b[34m[22:43:21] src/tree/updater_prune.cc:74: tree pruning end, 1 roots, 26 extra nodes, 12 pruned nodes, max_depth=5\u001b[0m\n",
      "\u001b[34m[14]#011train-error:0.212467#011validation-error:0.2268\u001b[0m\n",
      "\u001b[34m[22:43:22] src/tree/updater_prune.cc:74: tree pruning end, 1 roots, 32 extra nodes, 10 pruned nodes, max_depth=5\u001b[0m\n",
      "\u001b[34m[15]#011train-error:0.209133#011validation-error:0.2221\u001b[0m\n",
      "\u001b[34m[22:43:24] src/tree/updater_prune.cc:74: tree pruning end, 1 roots, 30 extra nodes, 6 pruned nodes, max_depth=5\u001b[0m\n",
      "\u001b[34m[16]#011train-error:0.2062#011validation-error:0.2173\u001b[0m\n",
      "\u001b[34m[22:43:25] src/tree/updater_prune.cc:74: tree pruning end, 1 roots, 32 extra nodes, 4 pruned nodes, max_depth=5\u001b[0m\n",
      "\u001b[34m[17]#011train-error:0.203867#011validation-error:0.2181\u001b[0m\n",
      "\u001b[34m[22:43:26] src/tree/updater_prune.cc:74: tree pruning end, 1 roots, 34 extra nodes, 10 pruned nodes, max_depth=5\u001b[0m\n",
      "\u001b[34m[18]#011train-error:0.201067#011validation-error:0.2163\u001b[0m\n",
      "\u001b[34m[22:43:28] src/tree/updater_prune.cc:74: tree pruning end, 1 roots, 24 extra nodes, 12 pruned nodes, max_depth=5\u001b[0m\n",
      "\u001b[34m[19]#011train-error:0.200133#011validation-error:0.212\u001b[0m\n",
      "\u001b[34m[22:43:29] src/tree/updater_prune.cc:74: tree pruning end, 1 roots, 34 extra nodes, 10 pruned nodes, max_depth=5\u001b[0m\n",
      "\u001b[34m[20]#011train-error:0.200333#011validation-error:0.2116\u001b[0m\n",
      "\u001b[34m[22:43:30] src/tree/updater_prune.cc:74: tree pruning end, 1 roots, 44 extra nodes, 4 pruned nodes, max_depth=5\u001b[0m\n",
      "\u001b[34m[21]#011train-error:0.196933#011validation-error:0.207\u001b[0m\n",
      "\u001b[34m[22:43:31] src/tree/updater_prune.cc:74: tree pruning end, 1 roots, 32 extra nodes, 6 pruned nodes, max_depth=5\u001b[0m\n",
      "\u001b[34m[22]#011train-error:0.1934#011validation-error:0.2044\u001b[0m\n",
      "\u001b[34m[22:43:33] src/tree/updater_prune.cc:74: tree pruning end, 1 roots, 28 extra nodes, 10 pruned nodes, max_depth=5\u001b[0m\n",
      "\u001b[34m[23]#011train-error:0.192533#011validation-error:0.2044\u001b[0m\n",
      "\u001b[34m[22:43:34] src/tree/updater_prune.cc:74: tree pruning end, 1 roots, 24 extra nodes, 12 pruned nodes, max_depth=5\u001b[0m\n",
      "\u001b[34m[24]#011train-error:0.1898#011validation-error:0.2021\u001b[0m\n",
      "\u001b[34m[22:43:35] src/tree/updater_prune.cc:74: tree pruning end, 1 roots, 34 extra nodes, 8 pruned nodes, max_depth=5\u001b[0m\n",
      "\u001b[34m[25]#011train-error:0.1868#011validation-error:0.1992\u001b[0m\n",
      "\u001b[34m[22:43:37] src/tree/updater_prune.cc:74: tree pruning end, 1 roots, 24 extra nodes, 12 pruned nodes, max_depth=5\u001b[0m\n",
      "\u001b[34m[26]#011train-error:0.185133#011validation-error:0.197\u001b[0m\n",
      "\u001b[34m[22:43:38] src/tree/updater_prune.cc:74: tree pruning end, 1 roots, 34 extra nodes, 10 pruned nodes, max_depth=5\u001b[0m\n",
      "\u001b[34m[27]#011train-error:0.1822#011validation-error:0.198\u001b[0m\n",
      "\u001b[34m[22:43:39] src/tree/updater_prune.cc:74: tree pruning end, 1 roots, 36 extra nodes, 8 pruned nodes, max_depth=5\u001b[0m\n",
      "\u001b[34m[28]#011train-error:0.180333#011validation-error:0.1968\u001b[0m\n",
      "\u001b[34m[22:43:40] src/tree/updater_prune.cc:74: tree pruning end, 1 roots, 38 extra nodes, 10 pruned nodes, max_depth=5\u001b[0m\n",
      "\u001b[34m[29]#011train-error:0.178667#011validation-error:0.1947\u001b[0m\n",
      "\u001b[34m[22:43:42] src/tree/updater_prune.cc:74: tree pruning end, 1 roots, 24 extra nodes, 16 pruned nodes, max_depth=5\u001b[0m\n",
      "\u001b[34m[30]#011train-error:0.177267#011validation-error:0.1933\u001b[0m\n",
      "\u001b[34m[22:43:43] src/tree/updater_prune.cc:74: tree pruning end, 1 roots, 14 extra nodes, 6 pruned nodes, max_depth=5\u001b[0m\n",
      "\u001b[34m[31]#011train-error:0.1762#011validation-error:0.1933\u001b[0m\n",
      "\u001b[34m[22:43:44] src/tree/updater_prune.cc:74: tree pruning end, 1 roots, 24 extra nodes, 8 pruned nodes, max_depth=5\u001b[0m\n",
      "\u001b[34m[32]#011train-error:0.174733#011validation-error:0.1964\u001b[0m\n",
      "\u001b[34m[22:43:45] src/tree/updater_prune.cc:74: tree pruning end, 1 roots, 24 extra nodes, 10 pruned nodes, max_depth=5\u001b[0m\n",
      "\u001b[34m[33]#011train-error:0.172333#011validation-error:0.1949\u001b[0m\n",
      "\u001b[34m[22:43:47] src/tree/updater_prune.cc:74: tree pruning end, 1 roots, 26 extra nodes, 8 pruned nodes, max_depth=5\u001b[0m\n",
      "\u001b[34m[34]#011train-error:0.172333#011validation-error:0.1927\u001b[0m\n",
      "\u001b[34m[22:43:48] src/tree/updater_prune.cc:74: tree pruning end, 1 roots, 28 extra nodes, 14 pruned nodes, max_depth=5\u001b[0m\n",
      "\u001b[34m[35]#011train-error:0.172133#011validation-error:0.1911\u001b[0m\n",
      "\u001b[34m[22:43:49] src/tree/updater_prune.cc:74: tree pruning end, 1 roots, 20 extra nodes, 10 pruned nodes, max_depth=5\u001b[0m\n",
      "\u001b[34m[36]#011train-error:0.1722#011validation-error:0.1913\u001b[0m\n",
      "\u001b[34m[22:43:51] src/tree/updater_prune.cc:74: tree pruning end, 1 roots, 24 extra nodes, 8 pruned nodes, max_depth=5\u001b[0m\n",
      "\u001b[34m[37]#011train-error:0.171#011validation-error:0.1902\u001b[0m\n",
      "\u001b[34m[22:43:52] src/tree/updater_prune.cc:74: tree pruning end, 1 roots, 38 extra nodes, 10 pruned nodes, max_depth=5\u001b[0m\n",
      "\u001b[34m[38]#011train-error:0.168267#011validation-error:0.19\u001b[0m\n",
      "\u001b[34m[22:43:53] src/tree/updater_prune.cc:74: tree pruning end, 1 roots, 14 extra nodes, 10 pruned nodes, max_depth=5\u001b[0m\n",
      "\u001b[34m[39]#011train-error:0.168133#011validation-error:0.1899\u001b[0m\n",
      "\u001b[34m[22:43:54] src/tree/updater_prune.cc:74: tree pruning end, 1 roots, 26 extra nodes, 10 pruned nodes, max_depth=5\u001b[0m\n",
      "\u001b[34m[40]#011train-error:0.167133#011validation-error:0.189\u001b[0m\n",
      "\u001b[34m[22:43:56] src/tree/updater_prune.cc:74: tree pruning end, 1 roots, 26 extra nodes, 6 pruned nodes, max_depth=5\u001b[0m\n",
      "\u001b[34m[41]#011train-error:0.167333#011validation-error:0.1888\u001b[0m\n",
      "\u001b[34m[22:43:57] src/tree/updater_prune.cc:74: tree pruning end, 1 roots, 22 extra nodes, 4 pruned nodes, max_depth=5\u001b[0m\n",
      "\u001b[34m[42]#011train-error:0.166467#011validation-error:0.1886\u001b[0m\n",
      "\u001b[34m[22:43:58] src/tree/updater_prune.cc:74: tree pruning end, 1 roots, 16 extra nodes, 12 pruned nodes, max_depth=5\u001b[0m\n",
      "\u001b[34m[43]#011train-error:0.165333#011validation-error:0.1876\u001b[0m\n",
      "\u001b[34m[22:44:00] src/tree/updater_prune.cc:74: tree pruning end, 1 roots, 24 extra nodes, 14 pruned nodes, max_depth=5\u001b[0m\n",
      "\u001b[34m[44]#011train-error:0.164267#011validation-error:0.1869\u001b[0m\n",
      "\u001b[34m[22:44:01] src/tree/updater_prune.cc:74: tree pruning end, 1 roots, 30 extra nodes, 6 pruned nodes, max_depth=5\u001b[0m\n",
      "\u001b[34m[45]#011train-error:0.162533#011validation-error:0.1857\u001b[0m\n",
      "\u001b[34m[22:44:02] src/tree/updater_prune.cc:74: tree pruning end, 1 roots, 16 extra nodes, 10 pruned nodes, max_depth=5\u001b[0m\n",
      "\u001b[34m[46]#011train-error:0.162#011validation-error:0.1855\u001b[0m\n",
      "\u001b[34m[22:44:03] src/tree/updater_prune.cc:74: tree pruning end, 1 roots, 28 extra nodes, 4 pruned nodes, max_depth=5\u001b[0m\n",
      "\u001b[34m[47]#011train-error:0.160133#011validation-error:0.1857\u001b[0m\n",
      "\u001b[34m[22:44:05] src/tree/updater_prune.cc:74: tree pruning end, 1 roots, 20 extra nodes, 6 pruned nodes, max_depth=5\u001b[0m\n",
      "\u001b[34m[48]#011train-error:0.159733#011validation-error:0.1854\u001b[0m\n",
      "\u001b[34m[22:44:06] src/tree/updater_prune.cc:74: tree pruning end, 1 roots, 34 extra nodes, 8 pruned nodes, max_depth=5\u001b[0m\n",
      "\u001b[34m[49]#011train-error:0.158333#011validation-error:0.1861\u001b[0m\n",
      "\u001b[34m[22:44:07] src/tree/updater_prune.cc:74: tree pruning end, 1 roots, 24 extra nodes, 8 pruned nodes, max_depth=5\u001b[0m\n",
      "\u001b[34m[50]#011train-error:0.1578#011validation-error:0.1851\u001b[0m\n",
      "\u001b[34m[22:44:09] src/tree/updater_prune.cc:74: tree pruning end, 1 roots, 24 extra nodes, 6 pruned nodes, max_depth=5\u001b[0m\n",
      "\u001b[34m[51]#011train-error:0.157667#011validation-error:0.184\u001b[0m\n",
      "\u001b[34m[22:44:10] src/tree/updater_prune.cc:74: tree pruning end, 1 roots, 36 extra nodes, 8 pruned nodes, max_depth=5\u001b[0m\n",
      "\u001b[34m[52]#011train-error:0.156667#011validation-error:0.184\u001b[0m\n",
      "\u001b[34m[22:44:11] src/tree/updater_prune.cc:74: tree pruning end, 1 roots, 22 extra nodes, 12 pruned nodes, max_depth=5\u001b[0m\n",
      "\u001b[34m[53]#011train-error:0.155867#011validation-error:0.1822\u001b[0m\n",
      "\u001b[34m[22:44:12] src/tree/updater_prune.cc:74: tree pruning end, 1 roots, 26 extra nodes, 6 pruned nodes, max_depth=5\u001b[0m\n",
      "\u001b[34m[54]#011train-error:0.1544#011validation-error:0.1828\u001b[0m\n",
      "\u001b[34m[22:44:14] src/tree/updater_prune.cc:74: tree pruning end, 1 roots, 18 extra nodes, 8 pruned nodes, max_depth=5\u001b[0m\n",
      "\u001b[34m[55]#011train-error:0.153333#011validation-error:0.1816\u001b[0m\n",
      "\u001b[34m[22:44:15] src/tree/updater_prune.cc:74: tree pruning end, 1 roots, 22 extra nodes, 12 pruned nodes, max_depth=5\u001b[0m\n",
      "\u001b[34m[56]#011train-error:0.1526#011validation-error:0.1809\u001b[0m\n",
      "\u001b[34m[22:44:16] src/tree/updater_prune.cc:74: tree pruning end, 1 roots, 18 extra nodes, 8 pruned nodes, max_depth=5\u001b[0m\n",
      "\u001b[34m[57]#011train-error:0.151333#011validation-error:0.1814\u001b[0m\n",
      "\u001b[34m[22:44:17] src/tree/updater_prune.cc:74: tree pruning end, 1 roots, 24 extra nodes, 6 pruned nodes, max_depth=5\u001b[0m\n",
      "\u001b[34m[58]#011train-error:0.1504#011validation-error:0.1814\u001b[0m\n",
      "\u001b[34m[22:44:19] src/tree/updater_prune.cc:74: tree pruning end, 1 roots, 22 extra nodes, 4 pruned nodes, max_depth=5\u001b[0m\n",
      "\u001b[34m[59]#011train-error:0.1492#011validation-error:0.1811\u001b[0m\n",
      "\u001b[34m[22:44:20] src/tree/updater_prune.cc:74: tree pruning end, 1 roots, 12 extra nodes, 4 pruned nodes, max_depth=5\u001b[0m\n",
      "\u001b[34m[60]#011train-error:0.148467#011validation-error:0.1816\u001b[0m\n",
      "\u001b[34m[22:44:21] src/tree/updater_prune.cc:74: tree pruning end, 1 roots, 16 extra nodes, 6 pruned nodes, max_depth=5\u001b[0m\n",
      "\u001b[34m[61]#011train-error:0.148#011validation-error:0.1819\u001b[0m\n",
      "\u001b[34m[22:44:23] src/tree/updater_prune.cc:74: tree pruning end, 1 roots, 14 extra nodes, 6 pruned nodes, max_depth=5\u001b[0m\n",
      "\u001b[34m[62]#011train-error:0.147733#011validation-error:0.1822\u001b[0m\n",
      "\u001b[34m[22:44:24] src/tree/updater_prune.cc:74: tree pruning end, 1 roots, 12 extra nodes, 4 pruned nodes, max_depth=5\u001b[0m\n",
      "\u001b[34m[63]#011train-error:0.1474#011validation-error:0.1823\u001b[0m\n",
      "\u001b[34m[22:44:25] src/tree/updater_prune.cc:74: tree pruning end, 1 roots, 20 extra nodes, 16 pruned nodes, max_depth=5\u001b[0m\n",
      "\u001b[34m[64]#011train-error:0.146933#011validation-error:0.1812\u001b[0m\n",
      "\u001b[34m[22:44:26] src/tree/updater_prune.cc:74: tree pruning end, 1 roots, 28 extra nodes, 10 pruned nodes, max_depth=5\u001b[0m\n",
      "\u001b[34m[65]#011train-error:0.146733#011validation-error:0.1809\u001b[0m\n",
      "\u001b[34m[22:44:28] src/tree/updater_prune.cc:74: tree pruning end, 1 roots, 14 extra nodes, 10 pruned nodes, max_depth=5\u001b[0m\n",
      "\u001b[34m[66]#011train-error:0.146533#011validation-error:0.1805\u001b[0m\n",
      "\u001b[34m[22:44:29] src/tree/updater_prune.cc:74: tree pruning end, 1 roots, 20 extra nodes, 4 pruned nodes, max_depth=5\u001b[0m\n",
      "\u001b[34m[67]#011train-error:0.145067#011validation-error:0.1812\u001b[0m\n",
      "\u001b[34m[22:44:30] src/tree/updater_prune.cc:74: tree pruning end, 1 roots, 18 extra nodes, 12 pruned nodes, max_depth=5\u001b[0m\n",
      "\u001b[34m[68]#011train-error:0.1446#011validation-error:0.1801\u001b[0m\n",
      "\u001b[34m[22:44:32] src/tree/updater_prune.cc:74: tree pruning end, 1 roots, 16 extra nodes, 6 pruned nodes, max_depth=5\u001b[0m\n",
      "\u001b[34m[69]#011train-error:0.1442#011validation-error:0.1804\u001b[0m\n",
      "\u001b[34m[22:44:33] src/tree/updater_prune.cc:74: tree pruning end, 1 roots, 12 extra nodes, 8 pruned nodes, max_depth=5\u001b[0m\n",
      "\u001b[34m[70]#011train-error:0.1434#011validation-error:0.1804\u001b[0m\n",
      "\u001b[34m[22:44:34] src/tree/updater_prune.cc:74: tree pruning end, 1 roots, 22 extra nodes, 14 pruned nodes, max_depth=5\u001b[0m\n",
      "\u001b[34m[71]#011train-error:0.1432#011validation-error:0.1803\u001b[0m\n",
      "\u001b[34m[22:44:35] src/tree/updater_prune.cc:74: tree pruning end, 1 roots, 26 extra nodes, 6 pruned nodes, max_depth=5\u001b[0m\n",
      "\u001b[34m[72]#011train-error:0.142#011validation-error:0.1791\u001b[0m\n",
      "\u001b[34m[22:44:37] src/tree/updater_prune.cc:74: tree pruning end, 1 roots, 16 extra nodes, 8 pruned nodes, max_depth=5\u001b[0m\n",
      "\u001b[34m[73]#011train-error:0.142#011validation-error:0.1801\u001b[0m\n",
      "\u001b[34m[22:44:38] src/tree/updater_prune.cc:74: tree pruning end, 1 roots, 22 extra nodes, 2 pruned nodes, max_depth=5\u001b[0m\n",
      "\u001b[34m[74]#011train-error:0.1418#011validation-error:0.1797\u001b[0m\n",
      "\u001b[34m[22:44:39] src/tree/updater_prune.cc:74: tree pruning end, 1 roots, 12 extra nodes, 8 pruned nodes, max_depth=5\u001b[0m\n",
      "\u001b[34m[75]#011train-error:0.141333#011validation-error:0.1786\u001b[0m\n",
      "\u001b[34m[22:44:41] src/tree/updater_prune.cc:74: tree pruning end, 1 roots, 30 extra nodes, 14 pruned nodes, max_depth=5\u001b[0m\n",
      "\u001b[34m[76]#011train-error:0.1394#011validation-error:0.1772\u001b[0m\n",
      "\u001b[34m[22:44:42] src/tree/updater_prune.cc:74: tree pruning end, 1 roots, 22 extra nodes, 8 pruned nodes, max_depth=5\u001b[0m\n",
      "\u001b[34m[77]#011train-error:0.1398#011validation-error:0.1768\u001b[0m\n",
      "\u001b[34m[22:44:43] src/tree/updater_prune.cc:74: tree pruning end, 1 roots, 14 extra nodes, 4 pruned nodes, max_depth=5\u001b[0m\n",
      "\u001b[34m[78]#011train-error:0.139133#011validation-error:0.1775\u001b[0m\n",
      "\u001b[34m[22:44:44] src/tree/updater_prune.cc:74: tree pruning end, 1 roots, 14 extra nodes, 4 pruned nodes, max_depth=5\u001b[0m\n",
      "\u001b[34m[79]#011train-error:0.138467#011validation-error:0.1772\u001b[0m\n",
      "\u001b[34m[22:44:46] src/tree/updater_prune.cc:74: tree pruning end, 1 roots, 34 extra nodes, 8 pruned nodes, max_depth=5\u001b[0m\n",
      "\u001b[34m[80]#011train-error:0.137333#011validation-error:0.1766\u001b[0m\n",
      "\u001b[34m[22:44:47] src/tree/updater_prune.cc:74: tree pruning end, 1 roots, 36 extra nodes, 8 pruned nodes, max_depth=5\u001b[0m\n",
      "\u001b[34m[81]#011train-error:0.1366#011validation-error:0.1764\u001b[0m\n",
      "\u001b[34m[22:44:48] src/tree/updater_prune.cc:74: tree pruning end, 1 roots, 12 extra nodes, 4 pruned nodes, max_depth=5\u001b[0m\n",
      "\u001b[34m[82]#011train-error:0.136467#011validation-error:0.1764\u001b[0m\n",
      "\u001b[34m[22:44:50] src/tree/updater_prune.cc:74: tree pruning end, 1 roots, 22 extra nodes, 6 pruned nodes, max_depth=5\u001b[0m\n",
      "\u001b[34m[83]#011train-error:0.1356#011validation-error:0.1755\u001b[0m\n",
      "\u001b[34m[22:44:51] src/tree/updater_prune.cc:74: tree pruning end, 1 roots, 12 extra nodes, 4 pruned nodes, max_depth=5\u001b[0m\n",
      "\u001b[34m[84]#011train-error:0.135333#011validation-error:0.1757\u001b[0m\n",
      "\u001b[34m[22:44:52] src/tree/updater_prune.cc:74: tree pruning end, 1 roots, 18 extra nodes, 8 pruned nodes, max_depth=5\u001b[0m\n",
      "\u001b[34m[85]#011train-error:0.1346#011validation-error:0.1773\u001b[0m\n",
      "\u001b[34m[22:44:53] src/tree/updater_prune.cc:74: tree pruning end, 1 roots, 24 extra nodes, 6 pruned nodes, max_depth=5\u001b[0m\n",
      "\u001b[34m[86]#011train-error:0.1342#011validation-error:0.1766\u001b[0m\n",
      "\u001b[34m[22:44:55] src/tree/updater_prune.cc:74: tree pruning end, 1 roots, 30 extra nodes, 14 pruned nodes, max_depth=5\u001b[0m\n",
      "\u001b[34m[87]#011train-error:0.133#011validation-error:0.1767\u001b[0m\n",
      "\u001b[34m[22:44:56] src/tree/updater_prune.cc:74: tree pruning end, 1 roots, 18 extra nodes, 8 pruned nodes, max_depth=5\u001b[0m\n",
      "\u001b[34m[88]#011train-error:0.132267#011validation-error:0.1752\u001b[0m\n",
      "\u001b[34m[22:44:57] src/tree/updater_prune.cc:74: tree pruning end, 1 roots, 16 extra nodes, 2 pruned nodes, max_depth=5\u001b[0m\n",
      "\u001b[34m[89]#011train-error:0.131933#011validation-error:0.1748\u001b[0m\n",
      "\u001b[34m[22:44:58] src/tree/updater_prune.cc:74: tree pruning end, 1 roots, 18 extra nodes, 4 pruned nodes, max_depth=5\u001b[0m\n",
      "\u001b[34m[90]#011train-error:0.132#011validation-error:0.1745\u001b[0m\n",
      "\u001b[34m[22:45:00] src/tree/updater_prune.cc:74: tree pruning end, 1 roots, 30 extra nodes, 8 pruned nodes, max_depth=5\u001b[0m\n",
      "\u001b[34m[91]#011train-error:0.130667#011validation-error:0.1756\u001b[0m\n",
      "\u001b[34m[22:45:01] src/tree/updater_prune.cc:74: tree pruning end, 1 roots, 14 extra nodes, 2 pruned nodes, max_depth=5\u001b[0m\n",
      "\u001b[34m[92]#011train-error:0.1308#011validation-error:0.1764\u001b[0m\n",
      "\u001b[34m[22:45:02] src/tree/updater_prune.cc:74: tree pruning end, 1 roots, 12 extra nodes, 0 pruned nodes, max_depth=5\u001b[0m\n",
      "\u001b[34m[93]#011train-error:0.131#011validation-error:0.1765\u001b[0m\n",
      "\u001b[34m[22:45:04] src/tree/updater_prune.cc:74: tree pruning end, 1 roots, 36 extra nodes, 0 pruned nodes, max_depth=5\u001b[0m\n",
      "\u001b[34m[94]#011train-error:0.129#011validation-error:0.1769\u001b[0m\n",
      "\u001b[34m[22:45:05] src/tree/updater_prune.cc:74: tree pruning end, 1 roots, 14 extra nodes, 4 pruned nodes, max_depth=5\u001b[0m\n",
      "\u001b[34m[95]#011train-error:0.129133#011validation-error:0.1768\u001b[0m\n",
      "\u001b[34m[22:45:06] src/tree/updater_prune.cc:74: tree pruning end, 1 roots, 14 extra nodes, 10 pruned nodes, max_depth=5\u001b[0m\n",
      "\u001b[34m[96]#011train-error:0.1298#011validation-error:0.1768\u001b[0m\n",
      "\u001b[34m[22:45:07] src/tree/updater_prune.cc:74: tree pruning end, 1 roots, 18 extra nodes, 14 pruned nodes, max_depth=5\u001b[0m\n",
      "\u001b[34m[97]#011train-error:0.129533#011validation-error:0.1764\u001b[0m\n",
      "\u001b[34m[22:45:09] src/tree/updater_prune.cc:74: tree pruning end, 1 roots, 16 extra nodes, 4 pruned nodes, max_depth=5\u001b[0m\n",
      "\u001b[34m[98]#011train-error:0.128133#011validation-error:0.1767\u001b[0m\n",
      "\u001b[34m[22:45:10] src/tree/updater_prune.cc:74: tree pruning end, 1 roots, 14 extra nodes, 10 pruned nodes, max_depth=5\u001b[0m\n",
      "\u001b[34m[99]#011train-error:0.128333#011validation-error:0.1769\u001b[0m\n",
      "\u001b[34m[22:45:11] src/tree/updater_prune.cc:74: tree pruning end, 1 roots, 10 extra nodes, 4 pruned nodes, max_depth=5\u001b[0m\n",
      "\u001b[34m[100]#011train-error:0.128067#011validation-error:0.1768\u001b[0m\n",
      "\u001b[34mStopping. Best iteration:\u001b[0m\n",
      "\u001b[34m[90]#011train-error:0.132#011validation-error:0.1745\n",
      "\u001b[0m\n",
      "\n",
      "2020-08-29 22:45:20 Uploading - Uploading generated training model\n",
      "2020-08-29 22:45:20 Completed - Training job completed\n",
      "Training seconds: 183\n",
      "Billable seconds: 183\n"
     ]
    }
   ],
   "source": [
    "# TODO: Using the new validation and training data, 'fit' your new model.\n",
    "new_xgb.fit({'train': s3_new_input_train, 'validation': s3_new_input_validation})"
   ]
  },
  {
   "cell_type": "markdown",
   "metadata": {},
   "source": [
    "### (TODO) Check the new model\n",
    "\n",
    "So now we have a new XGBoost model that we believe more accurately represents the state of the world at this time, at least in how it relates to the sentiment analysis problem that we are working on. The next step is to double check that our model is performing reasonably.\n",
    "\n",
    "To do this, we will first test our model on the new data.\n",
    "\n",
    "**Note:** In practice this is a pretty bad idea. We already trained our model on the new data, so testing it shouldn't really tell us much. In fact, this is sort of a textbook example of leakage. We are only doing it here so that we have a numerical baseline.\n",
    "\n",
    "**Question:** How might you address the leakage problem?"
   ]
  },
  {
   "cell_type": "markdown",
   "metadata": {},
   "source": [
    "well as we already trained our model to all the data it suppose to fit it well and the accuracy of our model will not represents the true accuracy, it should be tested with unsean data"
   ]
  },
  {
   "cell_type": "markdown",
   "metadata": {},
   "source": [
    "First, we create a new transformer based on our new XGBoost model.\n",
    "\n",
    "**TODO:** Create a transformer object from the newly created XGBoost model."
   ]
  },
  {
   "cell_type": "code",
   "execution_count": 72,
   "metadata": {},
   "outputs": [
    {
     "name": "stderr",
     "output_type": "stream",
     "text": [
      "Parameter image will be renamed to image_uri in SageMaker Python SDK v2.\n"
     ]
    }
   ],
   "source": [
    "# TODO: Create a transformer object from the new_xgb model\n",
    "new_xgb_transformer = new_xgb.transformer(instance_count=1, instance_type='ml.m4.xlarge')"
   ]
  },
  {
   "cell_type": "markdown",
   "metadata": {},
   "source": [
    "Next we test our model on the new data.\n",
    "\n",
    "**TODO:** Use the transformer object to transform the new data (stored in the `new_data_location` variable)"
   ]
  },
  {
   "cell_type": "code",
   "execution_count": 74,
   "metadata": {},
   "outputs": [
    {
     "name": "stdout",
     "output_type": "stream",
     "text": [
      "..........................\u001b[34mArguments: serve\u001b[0m\n",
      "\u001b[35mArguments: serve\u001b[0m\n",
      "\u001b[34m[2020-08-29 22:51:59 +0000] [1] [INFO] Starting gunicorn 19.7.1\u001b[0m\n",
      "\u001b[34m[2020-08-29 22:51:59 +0000] [1] [INFO] Listening at: http://0.0.0.0:8080 (1)\u001b[0m\n",
      "\u001b[34m[2020-08-29 22:51:59 +0000] [1] [INFO] Using worker: gevent\u001b[0m\n",
      "\u001b[34m[2020-08-29 22:51:59 +0000] [36] [INFO] Booting worker with pid: 36\u001b[0m\n",
      "\u001b[34m[2020-08-29 22:51:59 +0000] [37] [INFO] Booting worker with pid: 37\u001b[0m\n",
      "\u001b[35m[2020-08-29 22:51:59 +0000] [1] [INFO] Starting gunicorn 19.7.1\u001b[0m\n",
      "\u001b[35m[2020-08-29 22:51:59 +0000] [1] [INFO] Listening at: http://0.0.0.0:8080 (1)\u001b[0m\n",
      "\u001b[35m[2020-08-29 22:51:59 +0000] [1] [INFO] Using worker: gevent\u001b[0m\n",
      "\u001b[35m[2020-08-29 22:51:59 +0000] [36] [INFO] Booting worker with pid: 36\u001b[0m\n",
      "\u001b[35m[2020-08-29 22:51:59 +0000] [37] [INFO] Booting worker with pid: 37\u001b[0m\n",
      "\u001b[34m[2020-08-29:22:51:59:INFO] Model loaded successfully for worker : 36\u001b[0m\n",
      "\u001b[34m[2020-08-29:22:51:59:INFO] Model loaded successfully for worker : 37\u001b[0m\n",
      "\u001b[34m[2020-08-29 22:51:59 +0000] [38] [INFO] Booting worker with pid: 38\u001b[0m\n",
      "\u001b[34m[2020-08-29 22:52:00 +0000] [39] [INFO] Booting worker with pid: 39\u001b[0m\n",
      "\u001b[34m[2020-08-29:22:52:00:INFO] Model loaded successfully for worker : 38\u001b[0m\n",
      "\u001b[35m[2020-08-29:22:51:59:INFO] Model loaded successfully for worker : 36\u001b[0m\n",
      "\u001b[35m[2020-08-29:22:51:59:INFO] Model loaded successfully for worker : 37\u001b[0m\n",
      "\u001b[35m[2020-08-29 22:51:59 +0000] [38] [INFO] Booting worker with pid: 38\u001b[0m\n",
      "\u001b[35m[2020-08-29 22:52:00 +0000] [39] [INFO] Booting worker with pid: 39\u001b[0m\n",
      "\u001b[35m[2020-08-29:22:52:00:INFO] Model loaded successfully for worker : 38\u001b[0m\n",
      "\u001b[34m[2020-08-29:22:52:00:INFO] Model loaded successfully for worker : 39\u001b[0m\n",
      "\u001b[34m[2020-08-29:22:52:00:INFO] Sniff delimiter as ','\u001b[0m\n",
      "\u001b[34m[2020-08-29:22:52:00:INFO] Determined delimiter of CSV input is ','\u001b[0m\n",
      "\u001b[34m[2020-08-29:22:52:00:INFO] Sniff delimiter as ','\u001b[0m\n",
      "\u001b[34m[2020-08-29:22:52:00:INFO] Determined delimiter of CSV input is ','\u001b[0m\n",
      "\u001b[34m[2020-08-29:22:52:00:INFO] Sniff delimiter as ','\u001b[0m\n",
      "\u001b[34m[2020-08-29:22:52:00:INFO] Determined delimiter of CSV input is ','\u001b[0m\n",
      "\u001b[34m[2020-08-29:22:52:00:INFO] Sniff delimiter as ','\u001b[0m\n",
      "\u001b[34m[2020-08-29:22:52:00:INFO] Determined delimiter of CSV input is ','\u001b[0m\n",
      "\u001b[35m[2020-08-29:22:52:00:INFO] Model loaded successfully for worker : 39\u001b[0m\n",
      "\u001b[35m[2020-08-29:22:52:00:INFO] Sniff delimiter as ','\u001b[0m\n",
      "\u001b[35m[2020-08-29:22:52:00:INFO] Determined delimiter of CSV input is ','\u001b[0m\n",
      "\u001b[35m[2020-08-29:22:52:00:INFO] Sniff delimiter as ','\u001b[0m\n",
      "\u001b[35m[2020-08-29:22:52:00:INFO] Determined delimiter of CSV input is ','\u001b[0m\n",
      "\u001b[35m[2020-08-29:22:52:00:INFO] Sniff delimiter as ','\u001b[0m\n",
      "\u001b[35m[2020-08-29:22:52:00:INFO] Determined delimiter of CSV input is ','\u001b[0m\n",
      "\u001b[35m[2020-08-29:22:52:00:INFO] Sniff delimiter as ','\u001b[0m\n",
      "\u001b[35m[2020-08-29:22:52:00:INFO] Determined delimiter of CSV input is ','\u001b[0m\n",
      "\u001b[34m[2020-08-29:22:52:02:INFO] Sniff delimiter as ','\u001b[0m\n",
      "\u001b[34m[2020-08-29:22:52:02:INFO] Determined delimiter of CSV input is ','\u001b[0m\n",
      "\u001b[34m[2020-08-29:22:52:02:INFO] Sniff delimiter as ','\u001b[0m\n",
      "\u001b[34m[2020-08-29:22:52:02:INFO] Determined delimiter of CSV input is ','\u001b[0m\n",
      "\u001b[34m[2020-08-29:22:52:03:INFO] Sniff delimiter as ','\u001b[0m\n",
      "\u001b[35m[2020-08-29:22:52:02:INFO] Sniff delimiter as ','\u001b[0m\n",
      "\u001b[35m[2020-08-29:22:52:02:INFO] Determined delimiter of CSV input is ','\u001b[0m\n",
      "\u001b[35m[2020-08-29:22:52:02:INFO] Sniff delimiter as ','\u001b[0m\n",
      "\u001b[35m[2020-08-29:22:52:02:INFO] Determined delimiter of CSV input is ','\u001b[0m\n",
      "\u001b[35m[2020-08-29:22:52:03:INFO] Sniff delimiter as ','\u001b[0m\n",
      "\u001b[34m[2020-08-29:22:52:03:INFO] Determined delimiter of CSV input is ','\u001b[0m\n",
      "\u001b[35m[2020-08-29:22:52:03:INFO] Determined delimiter of CSV input is ','\u001b[0m\n",
      "\u001b[34m[2020-08-29:22:52:03:INFO] Sniff delimiter as ','\u001b[0m\n",
      "\u001b[34m[2020-08-29:22:52:03:INFO] Determined delimiter of CSV input is ','\u001b[0m\n",
      "\u001b[35m[2020-08-29:22:52:03:INFO] Sniff delimiter as ','\u001b[0m\n",
      "\u001b[35m[2020-08-29:22:52:03:INFO] Determined delimiter of CSV input is ','\u001b[0m\n",
      "\u001b[32m2020-08-29T22:51:59.934:[sagemaker logs]: MaxConcurrentTransforms=4, MaxPayloadInMB=6, BatchStrategy=MULTI_RECORD\u001b[0m\n",
      "\u001b[34m[2020-08-29:22:52:05:INFO] Sniff delimiter as ','\u001b[0m\n",
      "\u001b[34m[2020-08-29:22:52:05:INFO] Determined delimiter of CSV input is ','\u001b[0m\n",
      "\u001b[34m[2020-08-29:22:52:05:INFO] Sniff delimiter as ','\u001b[0m\n",
      "\u001b[34m[2020-08-29:22:52:05:INFO] Determined delimiter of CSV input is ','\u001b[0m\n",
      "\u001b[34m[2020-08-29:22:52:05:INFO] Sniff delimiter as ','\u001b[0m\n",
      "\u001b[34m[2020-08-29:22:52:05:INFO] Determined delimiter of CSV input is ','\u001b[0m\n",
      "\u001b[34m[2020-08-29:22:52:05:INFO] Sniff delimiter as ','\u001b[0m\n",
      "\u001b[34m[2020-08-29:22:52:05:INFO] Determined delimiter of CSV input is ','\u001b[0m\n",
      "\u001b[35m[2020-08-29:22:52:05:INFO] Sniff delimiter as ','\u001b[0m\n",
      "\u001b[35m[2020-08-29:22:52:05:INFO] Determined delimiter of CSV input is ','\u001b[0m\n",
      "\u001b[35m[2020-08-29:22:52:05:INFO] Sniff delimiter as ','\u001b[0m\n",
      "\u001b[35m[2020-08-29:22:52:05:INFO] Determined delimiter of CSV input is ','\u001b[0m\n",
      "\u001b[35m[2020-08-29:22:52:05:INFO] Sniff delimiter as ','\u001b[0m\n",
      "\u001b[35m[2020-08-29:22:52:05:INFO] Determined delimiter of CSV input is ','\u001b[0m\n",
      "\u001b[35m[2020-08-29:22:52:05:INFO] Sniff delimiter as ','\u001b[0m\n",
      "\u001b[35m[2020-08-29:22:52:05:INFO] Determined delimiter of CSV input is ','\u001b[0m\n",
      "\u001b[34m[2020-08-29:22:52:07:INFO] Sniff delimiter as ','\u001b[0m\n",
      "\u001b[34m[2020-08-29:22:52:07:INFO] Determined delimiter of CSV input is ','\u001b[0m\n",
      "\u001b[34m[2020-08-29:22:52:07:INFO] Sniff delimiter as ','\u001b[0m\n",
      "\u001b[34m[2020-08-29:22:52:07:INFO] Determined delimiter of CSV input is ','\u001b[0m\n",
      "\u001b[34m[2020-08-29:22:52:07:INFO] Sniff delimiter as ','\u001b[0m\n",
      "\u001b[34m[2020-08-29:22:52:07:INFO] Determined delimiter of CSV input is ','\u001b[0m\n",
      "\u001b[35m[2020-08-29:22:52:07:INFO] Sniff delimiter as ','\u001b[0m\n",
      "\u001b[35m[2020-08-29:22:52:07:INFO] Determined delimiter of CSV input is ','\u001b[0m\n",
      "\u001b[35m[2020-08-29:22:52:07:INFO] Sniff delimiter as ','\u001b[0m\n",
      "\u001b[35m[2020-08-29:22:52:07:INFO] Determined delimiter of CSV input is ','\u001b[0m\n",
      "\u001b[35m[2020-08-29:22:52:07:INFO] Sniff delimiter as ','\u001b[0m\n",
      "\u001b[35m[2020-08-29:22:52:07:INFO] Determined delimiter of CSV input is ','\u001b[0m\n",
      "\u001b[34m[2020-08-29:22:52:10:INFO] Sniff delimiter as ','\u001b[0m\n",
      "\u001b[34m[2020-08-29:22:52:10:INFO] Determined delimiter of CSV input is ','\u001b[0m\n",
      "\u001b[34m[2020-08-29:22:52:10:INFO] Sniff delimiter as ','\u001b[0m\n",
      "\u001b[34m[2020-08-29:22:52:10:INFO] Determined delimiter of CSV input is ','\u001b[0m\n",
      "\u001b[35m[2020-08-29:22:52:10:INFO] Sniff delimiter as ','\u001b[0m\n",
      "\u001b[35m[2020-08-29:22:52:10:INFO] Determined delimiter of CSV input is ','\u001b[0m\n",
      "\u001b[35m[2020-08-29:22:52:10:INFO] Sniff delimiter as ','\u001b[0m\n",
      "\u001b[35m[2020-08-29:22:52:10:INFO] Determined delimiter of CSV input is ','\u001b[0m\n",
      "\u001b[34m[2020-08-29:22:52:12:INFO] Sniff delimiter as ','\u001b[0m\n",
      "\u001b[34m[2020-08-29:22:52:12:INFO] Determined delimiter of CSV input is ','\u001b[0m\n",
      "\u001b[34m[2020-08-29:22:52:12:INFO] Sniff delimiter as ','\u001b[0m\n",
      "\u001b[34m[2020-08-29:22:52:12:INFO] Determined delimiter of CSV input is ','\u001b[0m\n",
      "\u001b[34m[2020-08-29:22:52:12:INFO] Sniff delimiter as ','\u001b[0m\n",
      "\u001b[34m[2020-08-29:22:52:12:INFO] Determined delimiter of CSV input is ','\u001b[0m\n",
      "\u001b[34m[2020-08-29:22:52:12:INFO] Sniff delimiter as ','\u001b[0m\n",
      "\u001b[34m[2020-08-29:22:52:12:INFO] Determined delimiter of CSV input is ','\u001b[0m\n",
      "\u001b[35m[2020-08-29:22:52:12:INFO] Sniff delimiter as ','\u001b[0m\n",
      "\u001b[35m[2020-08-29:22:52:12:INFO] Determined delimiter of CSV input is ','\u001b[0m\n",
      "\u001b[35m[2020-08-29:22:52:12:INFO] Sniff delimiter as ','\u001b[0m\n",
      "\u001b[35m[2020-08-29:22:52:12:INFO] Determined delimiter of CSV input is ','\u001b[0m\n",
      "\u001b[35m[2020-08-29:22:52:12:INFO] Sniff delimiter as ','\u001b[0m\n",
      "\u001b[35m[2020-08-29:22:52:12:INFO] Determined delimiter of CSV input is ','\u001b[0m\n",
      "\u001b[35m[2020-08-29:22:52:12:INFO] Sniff delimiter as ','\u001b[0m\n",
      "\u001b[35m[2020-08-29:22:52:12:INFO] Determined delimiter of CSV input is ','\u001b[0m\n",
      "\u001b[34m[2020-08-29:22:52:14:INFO] Sniff delimiter as ','\u001b[0m\n",
      "\u001b[34m[2020-08-29:22:52:14:INFO] Determined delimiter of CSV input is ','\u001b[0m\n",
      "\u001b[35m[2020-08-29:22:52:14:INFO] Sniff delimiter as ','\u001b[0m\n",
      "\u001b[35m[2020-08-29:22:52:14:INFO] Determined delimiter of CSV input is ','\u001b[0m\n",
      "\u001b[34m[2020-08-29:22:52:15:INFO] Sniff delimiter as ','\u001b[0m\n",
      "\u001b[34m[2020-08-29:22:52:15:INFO] Determined delimiter of CSV input is ','\u001b[0m\n",
      "\u001b[34m[2020-08-29:22:52:15:INFO] Sniff delimiter as ','\u001b[0m\n",
      "\u001b[34m[2020-08-29:22:52:15:INFO] Determined delimiter of CSV input is ','\u001b[0m\n",
      "\u001b[34m[2020-08-29:22:52:15:INFO] Sniff delimiter as ','\u001b[0m\n",
      "\u001b[34m[2020-08-29:22:52:15:INFO] Determined delimiter of CSV input is ','\u001b[0m\n",
      "\u001b[35m[2020-08-29:22:52:15:INFO] Sniff delimiter as ','\u001b[0m\n",
      "\u001b[35m[2020-08-29:22:52:15:INFO] Determined delimiter of CSV input is ','\u001b[0m\n",
      "\u001b[35m[2020-08-29:22:52:15:INFO] Sniff delimiter as ','\u001b[0m\n",
      "\u001b[35m[2020-08-29:22:52:15:INFO] Determined delimiter of CSV input is ','\u001b[0m\n",
      "\u001b[35m[2020-08-29:22:52:15:INFO] Sniff delimiter as ','\u001b[0m\n",
      "\u001b[35m[2020-08-29:22:52:15:INFO] Determined delimiter of CSV input is ','\u001b[0m\n",
      "\u001b[34m[2020-08-29:22:52:17:INFO] Sniff delimiter as ','\u001b[0m\n",
      "\u001b[34m[2020-08-29:22:52:17:INFO] Determined delimiter of CSV input is ','\u001b[0m\n",
      "\u001b[34m[2020-08-29:22:52:17:INFO] Sniff delimiter as ','\u001b[0m\n",
      "\u001b[34m[2020-08-29:22:52:17:INFO] Determined delimiter of CSV input is ','\u001b[0m\n",
      "\u001b[34m[2020-08-29:22:52:17:INFO] Sniff delimiter as ','\u001b[0m\n",
      "\u001b[34m[2020-08-29:22:52:17:INFO] Determined delimiter of CSV input is ','\u001b[0m\n",
      "\u001b[34m[2020-08-29:22:52:17:INFO] Sniff delimiter as ','\u001b[0m\n",
      "\u001b[34m[2020-08-29:22:52:17:INFO] Determined delimiter of CSV input is ','\u001b[0m\n",
      "\u001b[35m[2020-08-29:22:52:17:INFO] Sniff delimiter as ','\u001b[0m\n",
      "\u001b[35m[2020-08-29:22:52:17:INFO] Determined delimiter of CSV input is ','\u001b[0m\n",
      "\u001b[35m[2020-08-29:22:52:17:INFO] Sniff delimiter as ','\u001b[0m\n",
      "\u001b[35m[2020-08-29:22:52:17:INFO] Determined delimiter of CSV input is ','\u001b[0m\n",
      "\u001b[35m[2020-08-29:22:52:17:INFO] Sniff delimiter as ','\u001b[0m\n",
      "\u001b[35m[2020-08-29:22:52:17:INFO] Determined delimiter of CSV input is ','\u001b[0m\n",
      "\u001b[35m[2020-08-29:22:52:17:INFO] Sniff delimiter as ','\u001b[0m\n",
      "\u001b[35m[2020-08-29:22:52:17:INFO] Determined delimiter of CSV input is ','\u001b[0m\n",
      "\u001b[34m[2020-08-29:22:52:22:INFO] Sniff delimiter as ','\u001b[0m\n",
      "\u001b[34m[2020-08-29:22:52:22:INFO] Determined delimiter of CSV input is ','\u001b[0m\n",
      "\u001b[34m[2020-08-29:22:52:22:INFO] Sniff delimiter as ','\u001b[0m\n",
      "\u001b[34m[2020-08-29:22:52:22:INFO] Determined delimiter of CSV input is ','\u001b[0m\n",
      "\u001b[34m[2020-08-29:22:52:22:INFO] Sniff delimiter as ','\u001b[0m\n",
      "\u001b[34m[2020-08-29:22:52:22:INFO] Determined delimiter of CSV input is ','\u001b[0m\n",
      "\u001b[34m[2020-08-29:22:52:22:INFO] Sniff delimiter as ','\u001b[0m\n",
      "\u001b[35m[2020-08-29:22:52:22:INFO] Sniff delimiter as ','\u001b[0m\n",
      "\u001b[35m[2020-08-29:22:52:22:INFO] Determined delimiter of CSV input is ','\u001b[0m\n",
      "\u001b[35m[2020-08-29:22:52:22:INFO] Sniff delimiter as ','\u001b[0m\n",
      "\u001b[35m[2020-08-29:22:52:22:INFO] Determined delimiter of CSV input is ','\u001b[0m\n",
      "\u001b[35m[2020-08-29:22:52:22:INFO] Sniff delimiter as ','\u001b[0m\n",
      "\u001b[35m[2020-08-29:22:52:22:INFO] Determined delimiter of CSV input is ','\u001b[0m\n",
      "\u001b[35m[2020-08-29:22:52:22:INFO] Sniff delimiter as ','\u001b[0m\n",
      "\u001b[34m[2020-08-29:22:52:22:INFO] Determined delimiter of CSV input is ','\u001b[0m\n",
      "\u001b[35m[2020-08-29:22:52:22:INFO] Determined delimiter of CSV input is ','\u001b[0m\n",
      "\n"
     ]
    }
   ],
   "source": [
    "# TODO: Using new_xgb_transformer, transform the new_data_location data. You may wish to\n",
    "#       'wait' for the transform job to finish.\n",
    "new_xgb_transformer.transform(new_data_location, content_type='text/csv', split_type='Line')\n",
    "new_xgb_transformer.wait()"
   ]
  },
  {
   "cell_type": "markdown",
   "metadata": {},
   "source": [
    "Copy the results to our local instance."
   ]
  },
  {
   "cell_type": "code",
   "execution_count": 75,
   "metadata": {},
   "outputs": [
    {
     "name": "stdout",
     "output_type": "stream",
     "text": [
      "download: s3://sagemaker-eu-west-1-100264508876/xgboost-2020-08-29-22-47-49-899/new_data.csv.out to ../data/sentiment_update/new_data.csv.out\r\n"
     ]
    }
   ],
   "source": [
    "!aws s3 cp --recursive $new_xgb_transformer.output_path $data_dir"
   ]
  },
  {
   "cell_type": "markdown",
   "metadata": {},
   "source": [
    "And see how well the model did."
   ]
  },
  {
   "cell_type": "code",
   "execution_count": 76,
   "metadata": {},
   "outputs": [],
   "source": [
    "predictions = pd.read_csv(os.path.join(data_dir, 'new_data.csv.out'), header=None)\n",
    "predictions = [round(num) for num in predictions.squeeze().values]"
   ]
  },
  {
   "cell_type": "code",
   "execution_count": 13,
   "metadata": {},
   "outputs": [
    {
     "data": {
      "text/plain": [
       "0.497"
      ]
     },
     "execution_count": 13,
     "metadata": {},
     "output_type": "execute_result"
    }
   ],
   "source": [
    "from sklearn.metrics import accuracy_score\n",
    "accuracy_score(new_Y, predictions)"
   ]
  },
  {
   "cell_type": "markdown",
   "metadata": {},
   "source": [
    "As expected, since we trained the model on this data, our model performs pretty well. So, we have reason to believe that our new XGBoost model is a \"better\" model.\n",
    "\n",
    "However, before we start changing our deployed model, we should first make sure that our new model isn't too different. In other words, if our new model performed really poorly on the original test data then this might be an indication that something else has gone wrong.\n",
    "\n",
    "To start with, since we got rid of the variable that stored the original test reviews, we will read them in again from the cache that we created in Step 3. Note that we need to make sure that we read in the original test data after it has been pre-processed with `nltk` but before it has been bag of words encoded. This is because we need to use the new vocabulary instead of the original one."
   ]
  },
  {
   "cell_type": "code",
   "execution_count": 15,
   "metadata": {},
   "outputs": [
    {
     "name": "stdout",
     "output_type": "stream",
     "text": [
      "Read preprocessed data from cache file: preprocessed_data.pkl\n"
     ]
    }
   ],
   "source": [
    "cache_data = None\n",
    "with open(os.path.join(cache_dir, \"preprocessed_data.pkl\"), \"rb\") as f:\n",
    "            cache_data = pickle.load(f)\n",
    "            print(\"Read preprocessed data from cache file:\", \"preprocessed_data.pkl\")\n",
    "            \n",
    "test_X = cache_data['words_test']\n",
    "test_Y = cache_data['labels_test']\n",
    "\n",
    "# Here we set cache_data to None so that it doesn't occupy memory\n",
    "cache_data = None"
   ]
  },
  {
   "cell_type": "markdown",
   "metadata": {},
   "source": [
    "Once we've loaded the original test reviews, we need to create a bag of words encoding of them using the new vocabulary that we created, based on the new data.\n",
    "\n",
    "**TODO:** Transform the original test data using the new vocabulary."
   ]
  },
  {
   "cell_type": "code",
   "execution_count": 80,
   "metadata": {},
   "outputs": [],
   "source": [
    "# TODO: Use the new_vectorizer object that you created earlier to transform the test_X data.\n",
    "test_X = new_vectorizer.transform(test_X).toarray()"
   ]
  },
  {
   "cell_type": "markdown",
   "metadata": {},
   "source": [
    "Now that we have correctly encoded the original test data, we can write it to the local instance, upload it to S3 and test it."
   ]
  },
  {
   "cell_type": "code",
   "execution_count": 81,
   "metadata": {},
   "outputs": [],
   "source": [
    "pd.DataFrame(test_X).to_csv(os.path.join(data_dir, 'test.csv'), header=False, index=False)"
   ]
  },
  {
   "cell_type": "code",
   "execution_count": 82,
   "metadata": {},
   "outputs": [],
   "source": [
    "test_location = session.upload_data(os.path.join(data_dir, 'test.csv'), key_prefix=prefix)"
   ]
  },
  {
   "cell_type": "code",
   "execution_count": 83,
   "metadata": {},
   "outputs": [
    {
     "name": "stdout",
     "output_type": "stream",
     "text": [
      "..............................\u001b[32m2020-08-29T22:59:28.558:[sagemaker logs]: MaxConcurrentTransforms=4, MaxPayloadInMB=6, BatchStrategy=MULTI_RECORD\u001b[0m\n",
      "\u001b[34mArguments: serve\u001b[0m\n",
      "\u001b[34m[2020-08-29 22:59:28 +0000] [1] [INFO] Starting gunicorn 19.7.1\u001b[0m\n",
      "\u001b[34m[2020-08-29 22:59:28 +0000] [1] [INFO] Listening at: http://0.0.0.0:8080 (1)\u001b[0m\n",
      "\u001b[34m[2020-08-29 22:59:28 +0000] [1] [INFO] Using worker: gevent\u001b[0m\n",
      "\u001b[34m[2020-08-29 22:59:28 +0000] [36] [INFO] Booting worker with pid: 36\u001b[0m\n",
      "\u001b[34m[2020-08-29 22:59:28 +0000] [37] [INFO] Booting worker with pid: 37\u001b[0m\n",
      "\u001b[34m[2020-08-29 22:59:28 +0000] [38] [INFO] Booting worker with pid: 38\u001b[0m\n",
      "\u001b[34m[2020-08-29 22:59:28 +0000] [39] [INFO] Booting worker with pid: 39\u001b[0m\n",
      "\u001b[34m[2020-08-29:22:59:28:INFO] Model loaded successfully for worker : 36\u001b[0m\n",
      "\u001b[34m[2020-08-29:22:59:28:INFO] Model loaded successfully for worker : 37\u001b[0m\n",
      "\u001b[34m[2020-08-29:22:59:28:INFO] Model loaded successfully for worker : 38\u001b[0m\n",
      "\u001b[34m[2020-08-29:22:59:28:INFO] Model loaded successfully for worker : 39\u001b[0m\n",
      "\u001b[34m[2020-08-29:22:59:28:INFO] Sniff delimiter as ','\u001b[0m\n",
      "\u001b[35mArguments: serve\u001b[0m\n",
      "\u001b[35m[2020-08-29 22:59:28 +0000] [1] [INFO] Starting gunicorn 19.7.1\u001b[0m\n",
      "\u001b[35m[2020-08-29 22:59:28 +0000] [1] [INFO] Listening at: http://0.0.0.0:8080 (1)\u001b[0m\n",
      "\u001b[35m[2020-08-29 22:59:28 +0000] [1] [INFO] Using worker: gevent\u001b[0m\n",
      "\u001b[35m[2020-08-29 22:59:28 +0000] [36] [INFO] Booting worker with pid: 36\u001b[0m\n",
      "\u001b[35m[2020-08-29 22:59:28 +0000] [37] [INFO] Booting worker with pid: 37\u001b[0m\n",
      "\u001b[35m[2020-08-29 22:59:28 +0000] [38] [INFO] Booting worker with pid: 38\u001b[0m\n",
      "\u001b[35m[2020-08-29 22:59:28 +0000] [39] [INFO] Booting worker with pid: 39\u001b[0m\n",
      "\u001b[35m[2020-08-29:22:59:28:INFO] Model loaded successfully for worker : 36\u001b[0m\n",
      "\u001b[35m[2020-08-29:22:59:28:INFO] Model loaded successfully for worker : 37\u001b[0m\n",
      "\u001b[35m[2020-08-29:22:59:28:INFO] Model loaded successfully for worker : 38\u001b[0m\n",
      "\u001b[35m[2020-08-29:22:59:28:INFO] Model loaded successfully for worker : 39\u001b[0m\n",
      "\u001b[35m[2020-08-29:22:59:28:INFO] Sniff delimiter as ','\u001b[0m\n",
      "\u001b[34m[2020-08-29:22:59:28:INFO] Determined delimiter of CSV input is ','\u001b[0m\n",
      "\u001b[34m[2020-08-29:22:59:29:INFO] Sniff delimiter as ','\u001b[0m\n",
      "\u001b[34m[2020-08-29:22:59:29:INFO] Determined delimiter of CSV input is ','\u001b[0m\n",
      "\u001b[34m[2020-08-29:22:59:29:INFO] Sniff delimiter as ','\u001b[0m\n",
      "\u001b[34m[2020-08-29:22:59:29:INFO] Determined delimiter of CSV input is ','\u001b[0m\n",
      "\u001b[34m[2020-08-29:22:59:29:INFO] Sniff delimiter as ','\u001b[0m\n",
      "\u001b[34m[2020-08-29:22:59:29:INFO] Determined delimiter of CSV input is ','\u001b[0m\n",
      "\u001b[35m[2020-08-29:22:59:28:INFO] Determined delimiter of CSV input is ','\u001b[0m\n",
      "\u001b[35m[2020-08-29:22:59:29:INFO] Sniff delimiter as ','\u001b[0m\n",
      "\u001b[35m[2020-08-29:22:59:29:INFO] Determined delimiter of CSV input is ','\u001b[0m\n",
      "\u001b[35m[2020-08-29:22:59:29:INFO] Sniff delimiter as ','\u001b[0m\n",
      "\u001b[35m[2020-08-29:22:59:29:INFO] Determined delimiter of CSV input is ','\u001b[0m\n",
      "\u001b[35m[2020-08-29:22:59:29:INFO] Sniff delimiter as ','\u001b[0m\n",
      "\u001b[35m[2020-08-29:22:59:29:INFO] Determined delimiter of CSV input is ','\u001b[0m\n",
      "\u001b[34m[2020-08-29:22:59:31:INFO] Sniff delimiter as ','\u001b[0m\n",
      "\u001b[34m[2020-08-29:22:59:31:INFO] Determined delimiter of CSV input is ','\u001b[0m\n",
      "\u001b[35m[2020-08-29:22:59:31:INFO] Sniff delimiter as ','\u001b[0m\n",
      "\u001b[35m[2020-08-29:22:59:31:INFO] Determined delimiter of CSV input is ','\u001b[0m\n",
      "\u001b[34m[2020-08-29:22:59:31:INFO] Sniff delimiter as ','\u001b[0m\n",
      "\u001b[34m[2020-08-29:22:59:31:INFO] Determined delimiter of CSV input is ','\u001b[0m\n",
      "\u001b[34m[2020-08-29:22:59:31:INFO] Sniff delimiter as ','\u001b[0m\n",
      "\u001b[34m[2020-08-29:22:59:31:INFO] Determined delimiter of CSV input is ','\u001b[0m\n",
      "\u001b[34m[2020-08-29:22:59:31:INFO] Sniff delimiter as ','\u001b[0m\n",
      "\u001b[34m[2020-08-29:22:59:31:INFO] Determined delimiter of CSV input is ','\u001b[0m\n",
      "\u001b[35m[2020-08-29:22:59:31:INFO] Sniff delimiter as ','\u001b[0m\n",
      "\u001b[35m[2020-08-29:22:59:31:INFO] Determined delimiter of CSV input is ','\u001b[0m\n",
      "\u001b[35m[2020-08-29:22:59:31:INFO] Sniff delimiter as ','\u001b[0m\n",
      "\u001b[35m[2020-08-29:22:59:31:INFO] Determined delimiter of CSV input is ','\u001b[0m\n",
      "\u001b[35m[2020-08-29:22:59:31:INFO] Sniff delimiter as ','\u001b[0m\n",
      "\u001b[35m[2020-08-29:22:59:31:INFO] Determined delimiter of CSV input is ','\u001b[0m\n",
      "\u001b[34m[2020-08-29:22:59:33:INFO] Sniff delimiter as ','\u001b[0m\n",
      "\u001b[34m[2020-08-29:22:59:33:INFO] Determined delimiter of CSV input is ','\u001b[0m\n",
      "\u001b[35m[2020-08-29:22:59:33:INFO] Sniff delimiter as ','\u001b[0m\n",
      "\u001b[35m[2020-08-29:22:59:33:INFO] Determined delimiter of CSV input is ','\u001b[0m\n",
      "\u001b[34m[2020-08-29:22:59:34:INFO] Sniff delimiter as ','\u001b[0m\n",
      "\u001b[34m[2020-08-29:22:59:34:INFO] Determined delimiter of CSV input is ','\u001b[0m\n",
      "\u001b[34m[2020-08-29:22:59:34:INFO] Sniff delimiter as ','\u001b[0m\n",
      "\u001b[34m[2020-08-29:22:59:34:INFO] Determined delimiter of CSV input is ','\u001b[0m\n",
      "\u001b[35m[2020-08-29:22:59:34:INFO] Sniff delimiter as ','\u001b[0m\n",
      "\u001b[35m[2020-08-29:22:59:34:INFO] Determined delimiter of CSV input is ','\u001b[0m\n",
      "\u001b[35m[2020-08-29:22:59:34:INFO] Sniff delimiter as ','\u001b[0m\n",
      "\u001b[35m[2020-08-29:22:59:34:INFO] Determined delimiter of CSV input is ','\u001b[0m\n",
      "\u001b[34m[2020-08-29:22:59:36:INFO] Sniff delimiter as ','\u001b[0m\n",
      "\u001b[34m[2020-08-29:22:59:36:INFO] Determined delimiter of CSV input is ','\u001b[0m\n",
      "\u001b[34m[2020-08-29:22:59:36:INFO] Sniff delimiter as ','\u001b[0m\n",
      "\u001b[34m[2020-08-29:22:59:36:INFO] Determined delimiter of CSV input is ','\u001b[0m\n",
      "\u001b[35m[2020-08-29:22:59:36:INFO] Sniff delimiter as ','\u001b[0m\n",
      "\u001b[35m[2020-08-29:22:59:36:INFO] Determined delimiter of CSV input is ','\u001b[0m\n",
      "\u001b[35m[2020-08-29:22:59:36:INFO] Sniff delimiter as ','\u001b[0m\n",
      "\u001b[35m[2020-08-29:22:59:36:INFO] Determined delimiter of CSV input is ','\u001b[0m\n",
      "\u001b[34m[2020-08-29:22:59:37:INFO] Sniff delimiter as ','\u001b[0m\n",
      "\u001b[34m[2020-08-29:22:59:37:INFO] Determined delimiter of CSV input is ','\u001b[0m\n",
      "\u001b[35m[2020-08-29:22:59:37:INFO] Sniff delimiter as ','\u001b[0m\n",
      "\u001b[35m[2020-08-29:22:59:37:INFO] Determined delimiter of CSV input is ','\u001b[0m\n",
      "\u001b[34m[2020-08-29:22:59:38:INFO] Sniff delimiter as ','\u001b[0m\n",
      "\u001b[34m[2020-08-29:22:59:38:INFO] Determined delimiter of CSV input is ','\u001b[0m\n",
      "\u001b[34m[2020-08-29:22:59:38:INFO] Sniff delimiter as ','\u001b[0m\n",
      "\u001b[34m[2020-08-29:22:59:38:INFO] Determined delimiter of CSV input is ','\u001b[0m\n",
      "\u001b[34m[2020-08-29:22:59:39:INFO] Sniff delimiter as ','\u001b[0m\n",
      "\u001b[35m[2020-08-29:22:59:38:INFO] Sniff delimiter as ','\u001b[0m\n",
      "\u001b[35m[2020-08-29:22:59:38:INFO] Determined delimiter of CSV input is ','\u001b[0m\n",
      "\u001b[35m[2020-08-29:22:59:38:INFO] Sniff delimiter as ','\u001b[0m\n",
      "\u001b[35m[2020-08-29:22:59:38:INFO] Determined delimiter of CSV input is ','\u001b[0m\n",
      "\u001b[35m[2020-08-29:22:59:39:INFO] Sniff delimiter as ','\u001b[0m\n",
      "\u001b[34m[2020-08-29:22:59:39:INFO] Determined delimiter of CSV input is ','\u001b[0m\n",
      "\u001b[35m[2020-08-29:22:59:39:INFO] Determined delimiter of CSV input is ','\u001b[0m\n",
      "\u001b[34m[2020-08-29:22:59:40:INFO] Sniff delimiter as ','\u001b[0m\n",
      "\u001b[34m[2020-08-29:22:59:40:INFO] Determined delimiter of CSV input is ','\u001b[0m\n",
      "\u001b[35m[2020-08-29:22:59:40:INFO] Sniff delimiter as ','\u001b[0m\n",
      "\u001b[35m[2020-08-29:22:59:40:INFO] Determined delimiter of CSV input is ','\u001b[0m\n",
      "\u001b[34m[2020-08-29:22:59:41:INFO] Sniff delimiter as ','\u001b[0m\n",
      "\u001b[34m[2020-08-29:22:59:41:INFO] Determined delimiter of CSV input is ','\u001b[0m\n",
      "\u001b[35m[2020-08-29:22:59:41:INFO] Sniff delimiter as ','\u001b[0m\n",
      "\u001b[35m[2020-08-29:22:59:41:INFO] Determined delimiter of CSV input is ','\u001b[0m\n",
      "\u001b[34m[2020-08-29:22:59:42:INFO] Sniff delimiter as ','\u001b[0m\n",
      "\u001b[34m[2020-08-29:22:59:42:INFO] Determined delimiter of CSV input is ','\u001b[0m\n",
      "\u001b[34m[2020-08-29:22:59:42:INFO] Sniff delimiter as ','\u001b[0m\n",
      "\u001b[34m[2020-08-29:22:59:42:INFO] Determined delimiter of CSV input is ','\u001b[0m\n",
      "\u001b[35m[2020-08-29:22:59:42:INFO] Sniff delimiter as ','\u001b[0m\n",
      "\u001b[35m[2020-08-29:22:59:42:INFO] Determined delimiter of CSV input is ','\u001b[0m\n",
      "\u001b[35m[2020-08-29:22:59:42:INFO] Sniff delimiter as ','\u001b[0m\n",
      "\u001b[35m[2020-08-29:22:59:42:INFO] Determined delimiter of CSV input is ','\u001b[0m\n",
      "\u001b[34m[2020-08-29:22:59:42:INFO] Sniff delimiter as ','\u001b[0m\n",
      "\u001b[34m[2020-08-29:22:59:42:INFO] Determined delimiter of CSV input is ','\u001b[0m\n",
      "\u001b[34m[2020-08-29:22:59:42:INFO] Sniff delimiter as ','\u001b[0m\n",
      "\u001b[34m[2020-08-29:22:59:42:INFO] Determined delimiter of CSV input is ','\u001b[0m\n",
      "\u001b[35m[2020-08-29:22:59:42:INFO] Sniff delimiter as ','\u001b[0m\n",
      "\u001b[35m[2020-08-29:22:59:42:INFO] Determined delimiter of CSV input is ','\u001b[0m\n",
      "\u001b[35m[2020-08-29:22:59:42:INFO] Sniff delimiter as ','\u001b[0m\n",
      "\u001b[35m[2020-08-29:22:59:42:INFO] Determined delimiter of CSV input is ','\u001b[0m\n",
      "\u001b[34m[2020-08-29:22:59:44:INFO] Sniff delimiter as ','\u001b[0m\n",
      "\u001b[35m[2020-08-29:22:59:44:INFO] Sniff delimiter as ','\u001b[0m\n",
      "\u001b[34m[2020-08-29:22:59:44:INFO] Determined delimiter of CSV input is ','\u001b[0m\n",
      "\u001b[34m[2020-08-29:22:59:44:INFO] Sniff delimiter as ','\u001b[0m\n",
      "\u001b[34m[2020-08-29:22:59:44:INFO] Determined delimiter of CSV input is ','\u001b[0m\n",
      "\u001b[34m[2020-08-29:22:59:45:INFO] Sniff delimiter as ','\u001b[0m\n",
      "\u001b[34m[2020-08-29:22:59:45:INFO] Determined delimiter of CSV input is ','\u001b[0m\n",
      "\u001b[34m[2020-08-29:22:59:45:INFO] Sniff delimiter as ','\u001b[0m\n",
      "\u001b[34m[2020-08-29:22:59:45:INFO] Determined delimiter of CSV input is ','\u001b[0m\n",
      "\u001b[35m[2020-08-29:22:59:44:INFO] Determined delimiter of CSV input is ','\u001b[0m\n",
      "\u001b[35m[2020-08-29:22:59:44:INFO] Sniff delimiter as ','\u001b[0m\n",
      "\u001b[35m[2020-08-29:22:59:44:INFO] Determined delimiter of CSV input is ','\u001b[0m\n",
      "\u001b[35m[2020-08-29:22:59:45:INFO] Sniff delimiter as ','\u001b[0m\n",
      "\u001b[35m[2020-08-29:22:59:45:INFO] Determined delimiter of CSV input is ','\u001b[0m\n",
      "\u001b[35m[2020-08-29:22:59:45:INFO] Sniff delimiter as ','\u001b[0m\n",
      "\u001b[35m[2020-08-29:22:59:45:INFO] Determined delimiter of CSV input is ','\u001b[0m\n",
      "\u001b[34m[2020-08-29:22:59:47:INFO] Sniff delimiter as ','\u001b[0m\n",
      "\u001b[35m[2020-08-29:22:59:47:INFO] Sniff delimiter as ','\u001b[0m\n",
      "\u001b[34m[2020-08-29:22:59:47:INFO] Determined delimiter of CSV input is ','\u001b[0m\n",
      "\u001b[34m[2020-08-29:22:59:47:INFO] Sniff delimiter as ','\u001b[0m\n",
      "\u001b[34m[2020-08-29:22:59:47:INFO] Determined delimiter of CSV input is ','\u001b[0m\n",
      "\u001b[34m[2020-08-29:22:59:47:INFO] Sniff delimiter as ','\u001b[0m\n",
      "\u001b[34m[2020-08-29:22:59:47:INFO] Determined delimiter of CSV input is ','\u001b[0m\n",
      "\u001b[35m[2020-08-29:22:59:47:INFO] Determined delimiter of CSV input is ','\u001b[0m\n",
      "\u001b[35m[2020-08-29:22:59:47:INFO] Sniff delimiter as ','\u001b[0m\n",
      "\u001b[35m[2020-08-29:22:59:47:INFO] Determined delimiter of CSV input is ','\u001b[0m\n",
      "\u001b[35m[2020-08-29:22:59:47:INFO] Sniff delimiter as ','\u001b[0m\n",
      "\u001b[35m[2020-08-29:22:59:47:INFO] Determined delimiter of CSV input is ','\u001b[0m\n",
      "\u001b[34m[2020-08-29:22:59:47:INFO] Sniff delimiter as ','\u001b[0m\n",
      "\u001b[34m[2020-08-29:22:59:47:INFO] Determined delimiter of CSV input is ','\u001b[0m\n",
      "\u001b[35m[2020-08-29:22:59:47:INFO] Sniff delimiter as ','\u001b[0m\n",
      "\u001b[35m[2020-08-29:22:59:47:INFO] Determined delimiter of CSV input is ','\u001b[0m\n",
      "\u001b[34m[2020-08-29:22:59:49:INFO] Sniff delimiter as ','\u001b[0m\n",
      "\u001b[34m[2020-08-29:22:59:49:INFO] Determined delimiter of CSV input is ','\u001b[0m\n",
      "\u001b[34m[2020-08-29:22:59:49:INFO] Sniff delimiter as ','\u001b[0m\n",
      "\u001b[34m[2020-08-29:22:59:49:INFO] Determined delimiter of CSV input is ','\u001b[0m\n",
      "\u001b[34m[2020-08-29:22:59:50:INFO] Sniff delimiter as ','\u001b[0m\n",
      "\u001b[34m[2020-08-29:22:59:50:INFO] Determined delimiter of CSV input is ','\u001b[0m\n",
      "\u001b[35m[2020-08-29:22:59:49:INFO] Sniff delimiter as ','\u001b[0m\n",
      "\u001b[35m[2020-08-29:22:59:49:INFO] Determined delimiter of CSV input is ','\u001b[0m\n",
      "\u001b[35m[2020-08-29:22:59:49:INFO] Sniff delimiter as ','\u001b[0m\n",
      "\u001b[35m[2020-08-29:22:59:49:INFO] Determined delimiter of CSV input is ','\u001b[0m\n",
      "\u001b[35m[2020-08-29:22:59:50:INFO] Sniff delimiter as ','\u001b[0m\n",
      "\u001b[35m[2020-08-29:22:59:50:INFO] Determined delimiter of CSV input is ','\u001b[0m\n",
      "\u001b[34m[2020-08-29:22:59:52:INFO] Sniff delimiter as ','\u001b[0m\n",
      "\u001b[34m[2020-08-29:22:59:52:INFO] Determined delimiter of CSV input is ','\u001b[0m\n",
      "\u001b[35m[2020-08-29:22:59:52:INFO] Sniff delimiter as ','\u001b[0m\n",
      "\u001b[35m[2020-08-29:22:59:52:INFO] Determined delimiter of CSV input is ','\u001b[0m\n",
      "\u001b[34m[2020-08-29:22:59:52:INFO] Sniff delimiter as ','\u001b[0m\n",
      "\u001b[34m[2020-08-29:22:59:52:INFO] Determined delimiter of CSV input is ','\u001b[0m\n",
      "\u001b[34m[2020-08-29:22:59:52:INFO] Sniff delimiter as ','\u001b[0m\n",
      "\u001b[34m[2020-08-29:22:59:52:INFO] Determined delimiter of CSV input is ','\u001b[0m\n",
      "\u001b[35m[2020-08-29:22:59:52:INFO] Sniff delimiter as ','\u001b[0m\n",
      "\u001b[35m[2020-08-29:22:59:52:INFO] Determined delimiter of CSV input is ','\u001b[0m\n",
      "\u001b[35m[2020-08-29:22:59:52:INFO] Sniff delimiter as ','\u001b[0m\n",
      "\u001b[35m[2020-08-29:22:59:52:INFO] Determined delimiter of CSV input is ','\u001b[0m\n",
      "\n"
     ]
    }
   ],
   "source": [
    "new_xgb_transformer.transform(test_location, content_type='text/csv', split_type='Line')\n",
    "new_xgb_transformer.wait()"
   ]
  },
  {
   "cell_type": "code",
   "execution_count": 1,
   "metadata": {},
   "outputs": [
    {
     "name": "stdout",
     "output_type": "stream",
     "text": [
      "Note: AWS CLI version 2, the latest major version of the AWS CLI, is now stable and recommended for general use. For more information, see the AWS CLI version 2 installation instructions at: https://docs.aws.amazon.com/cli/latest/userguide/install-cliv2.html\r\n",
      "\r\n",
      "usage: aws [options] <command> <subcommand> [<subcommand> ...] [parameters]\r\n",
      "To see help text, you can run:\r\n",
      "\r\n",
      "  aws help\r\n",
      "  aws <command> help\r\n",
      "  aws <command> <subcommand> help\r\n",
      "aws: error: the following arguments are required: paths\r\n"
     ]
    }
   ],
   "source": [
    "!aws s3 cp --recursive $new_xgb_transformer.output_path $data_dir"
   ]
  },
  {
   "cell_type": "code",
   "execution_count": 9,
   "metadata": {},
   "outputs": [],
   "source": [
    "import pandas as pd\n",
    "data_dir = '../data/sentiment_update'\n",
    "predictions = pd.read_csv(os.path.join(data_dir, 'test.csv.out'), header=None)\n",
    "predictions = [round(num) for num in predictions.squeeze().values]"
   ]
  },
  {
   "cell_type": "code",
   "execution_count": 16,
   "metadata": {},
   "outputs": [
    {
     "data": {
      "text/plain": [
       "0.86088"
      ]
     },
     "execution_count": 16,
     "metadata": {},
     "output_type": "execute_result"
    }
   ],
   "source": [
    "accuracy_score(test_Y, predictions)"
   ]
  },
  {
   "cell_type": "markdown",
   "metadata": {},
   "source": [
    "It would appear that our new XGBoost model is performing quite well on the old test data. This gives us some indication that our new model should be put into production and replace our original model."
   ]
  },
  {
   "cell_type": "markdown",
   "metadata": {},
   "source": [
    "## Step 6: (TODO) Updating the Model\n",
    "\n",
    "So we have a new model that we'd like to use instead of one that is already deployed. Furthermore, we are assuming that the model that is already deployed is being used in some sort of application. As a result, what we want to do is update the existing endpoint so that it uses our new model.\n",
    "\n",
    "Of course, to do this we need to create an endpoint configuration for our newly created model.\n",
    "\n",
    "First, note that we can access the name of the model that we created above using the `model_name` property of the transformer. The reason for this is that in order for the transformer to create a batch transform job it needs to first create the model object inside of SageMaker. Since we've sort of already done this we should take advantage of it."
   ]
  },
  {
   "cell_type": "code",
   "execution_count": 17,
   "metadata": {},
   "outputs": [
    {
     "ename": "NameError",
     "evalue": "name 'new_xgb_transformer' is not defined",
     "output_type": "error",
     "traceback": [
      "\u001b[0;31m---------------------------------------------------------------------------\u001b[0m",
      "\u001b[0;31mNameError\u001b[0m                                 Traceback (most recent call last)",
      "\u001b[0;32m<ipython-input-17-07fb1cc1c7df>\u001b[0m in \u001b[0;36m<module>\u001b[0;34m\u001b[0m\n\u001b[0;32m----> 1\u001b[0;31m \u001b[0mnew_xgb_transformer\u001b[0m\u001b[0;34m.\u001b[0m\u001b[0mmodel_name\u001b[0m\u001b[0;34m\u001b[0m\u001b[0;34m\u001b[0m\u001b[0m\n\u001b[0m",
      "\u001b[0;31mNameError\u001b[0m: name 'new_xgb_transformer' is not defined"
     ]
    }
   ],
   "source": [
    "new_xgb_transformer.model_name"
   ]
  },
  {
   "cell_type": "markdown",
   "metadata": {},
   "source": [
    "Next, we create an endpoint configuration using the low level approach of creating the dictionary object which describes the endpoint configuration we want.\n",
    "\n",
    "**TODO:** Using the low level approach, create a new endpoint configuration. Don't forget that it needs a name and that the name needs to be unique. If you get stuck, try looking at the Boston Housing Low Level Deployment tutorial notebook."
   ]
  },
  {
   "cell_type": "code",
   "execution_count": null,
   "metadata": {},
   "outputs": [],
   "source": [
    "from time import gmtime, strftime\n",
    "\n",
    "\n",
    "# TODO: Give our endpoint configuration a name. Remember, it needs to be unique.\n",
    "new_xgb_endpoint_config_name = \"sentiment-update-xgboost-endpoint-config-\" + strftime('%Y-%m-%d-%H-%M-%S', gmtime())\n",
    "\n",
    "# TODO: Using the SageMaker Client, construct the endpoint configuration.\n",
    "new_xgb_endpoint_config_info = session.sagemaker_client.create_endpoint_config(\n",
    "                            EndpointConfigName = new_xgb_endpoint_config_name,\n",
    "                            ProductionVariants = [{\n",
    "                                \"InstanceType\": \"ml.m4.xlarge\",\n",
    "                                \"InitialVariantWeight\": 1,\n",
    "                                \"InitialInstanceCount\": 1,\n",
    "                                \"ModelName\": new_xgb_transformer.model_name,\n",
    "                                \"VariantName\": \"XGB-Model\"\n",
    "                            }])"
   ]
  },
  {
   "cell_type": "markdown",
   "metadata": {},
   "source": [
    "Once the endpoint configuration has been constructed, it is a straightforward matter to ask SageMaker to update the existing endpoint so that it uses the new endpoint configuration.\n",
    "\n",
    "Of note here is that SageMaker does this in such a way that there is no downtime. Essentially, SageMaker deploys the new model and then updates the original endpoint so that it points to the newly deployed model. After that, the original model is shut down. This way, whatever app is using our endpoint won't notice that we've changed the model that is being used.\n",
    "\n",
    "**TODO:** Use the SageMaker Client to update the endpoint that you deployed earlier."
   ]
  },
  {
   "cell_type": "code",
   "execution_count": null,
   "metadata": {},
   "outputs": [],
   "source": [
    "# TODO: Update the xgb_predictor.endpoint so that it uses new_xgb_endpoint_config_name.\n",
    "session.sagemaker_client.update_endpoint(EndpointName=xgb_predictor.endpoint, EndpointConfigName=new_xgb_endpoint_config_name)"
   ]
  },
  {
   "cell_type": "markdown",
   "metadata": {},
   "source": [
    "And, as is generally the case with SageMaker requests, this is being done in the background so if we want to wait for it to complete we need to call the appropriate method."
   ]
  },
  {
   "cell_type": "code",
   "execution_count": null,
   "metadata": {},
   "outputs": [],
   "source": [
    "session.wait_for_endpoint(xgb_predictor.endpoint)"
   ]
  },
  {
   "cell_type": "markdown",
   "metadata": {},
   "source": [
    "## Step 7: Delete the Endpoint\n",
    "\n",
    "Of course, since we are done with the deployed endpoint we need to make sure to shut it down, otherwise we will continue to be charged for it."
   ]
  },
  {
   "cell_type": "code",
   "execution_count": null,
   "metadata": {},
   "outputs": [],
   "source": [
    "xgb_predictor.delete_endpoint()"
   ]
  },
  {
   "cell_type": "markdown",
   "metadata": {},
   "source": [
    "## Some Additional Questions\n",
    "\n",
    "This notebook is a little different from the other notebooks in this module. In part, this is because it is meant to be a little bit closer to the type of problem you may face in a real world scenario. Of course, this problem is a very easy one with a prescribed solution, but there are many other interesting questions that we did not consider here and that you may wish to consider yourself.\n",
    "\n",
    "For example,\n",
    "- What other ways could the underlying distribution change?\n",
    "- Is it a good idea to re-train the model using only the new data?\n",
    "- What would change if the quantity of new data wasn't large. Say you only received 500 samples?\n"
   ]
  },
  {
   "cell_type": "markdown",
   "metadata": {},
   "source": [
    "## Optional: Clean up\n",
    "\n",
    "The default notebook instance on SageMaker doesn't have a lot of excess disk space available. As you continue to complete and execute notebooks you will eventually fill up this disk space, leading to errors which can be difficult to diagnose. Once you are completely finished using a notebook it is a good idea to remove the files that you created along the way. Of course, you can do this from the terminal or from the notebook hub if you would like. The cell below contains some commands to clean up the created files from within the notebook."
   ]
  },
  {
   "cell_type": "code",
   "execution_count": null,
   "metadata": {},
   "outputs": [],
   "source": [
    "# First we will remove all of the files contained in the data_dir directory\n",
    "!rm $data_dir/*\n",
    "\n",
    "# And then we delete the directory itself\n",
    "!rmdir $data_dir\n",
    "\n",
    "# Similarly we will remove the files in the cache_dir directory and the directory itself\n",
    "!rm $cache_dir/*\n",
    "!rmdir $cache_dir"
   ]
  },
  {
   "cell_type": "code",
   "execution_count": null,
   "metadata": {},
   "outputs": [],
   "source": []
  }
 ],
 "metadata": {
  "kernelspec": {
   "display_name": "conda_pytorch_p36",
   "language": "python",
   "name": "conda_pytorch_p36"
  },
  "language_info": {
   "codemirror_mode": {
    "name": "ipython",
    "version": 3
   },
   "file_extension": ".py",
   "mimetype": "text/x-python",
   "name": "python",
   "nbconvert_exporter": "python",
   "pygments_lexer": "ipython3",
   "version": "3.6.10"
  }
 },
 "nbformat": 4,
 "nbformat_minor": 2
}
