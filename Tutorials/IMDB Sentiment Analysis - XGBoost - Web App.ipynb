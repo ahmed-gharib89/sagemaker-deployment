{
 "cells": [
  {
   "cell_type": "markdown",
   "metadata": {},
   "source": [
    "# Sentiment Analysis Web App\n",
    "\n",
    "_Deep Learning Nanodegree Program | Deployment_\n",
    "\n",
    "---\n",
    "\n",
    "In this notebook we will use Amazon's SageMaker service to construct a random tree model to predict the sentiment of a movie review. In addition, we will deploy this model to an endpoint and construct a very simple web app which will interact with our model's deployed endpoint.\n",
    "\n",
    "## General Outline\n",
    "\n",
    "Typically, when using a notebook instance with SageMaker, you will proceed through the following steps. Of course, not every step will need to be done with each project. Also, there is quite a lot of room for variation in many of the steps, as you will see throughout these lessons.\n",
    "\n",
    "1. Download or otherwise retrieve the data.\n",
    "2. Process / Prepare the data.\n",
    "3. Upload the processed data to S3.\n",
    "4. Train a chosen model.\n",
    "5. Test the trained model (typically using a batch transform job).\n",
    "6. Deploy the trained model.\n",
    "7. Use the deployed model.\n",
    "\n",
    "In this notebook we will progress through each of the steps above. We will also see that the final step, using the deployed model, can be quite challenging."
   ]
  },
  {
   "cell_type": "markdown",
   "metadata": {},
   "source": [
    "## Step 1: Downloading the data\n",
    "\n",
    "The dataset we are going to use is very popular among researchers in Natural Language Processing, usually referred to as the [IMDb dataset](http://ai.stanford.edu/~amaas/data/sentiment/). It consists of movie reviews from the website [imdb.com](http://www.imdb.com/), each labeled as either '**pos**itive', if the reviewer enjoyed the film, or '**neg**ative' otherwise.\n",
    "\n",
    "> Maas, Andrew L., et al. [Learning Word Vectors for Sentiment Analysis](http://ai.stanford.edu/~amaas/data/sentiment/). In _Proceedings of the 49th Annual Meeting of the Association for Computational Linguistics: Human Language Technologies_. Association for Computational Linguistics, 2011.\n",
    "\n",
    "We begin by using some Jupyter Notebook magic to download and extract the dataset."
   ]
  },
  {
   "cell_type": "code",
   "execution_count": 1,
   "metadata": {},
   "outputs": [
    {
     "name": "stdout",
     "output_type": "stream",
     "text": [
      "mkdir: cannot create directory ‘../data’: File exists\n",
      "--2020-08-29 12:12:18--  http://ai.stanford.edu/~amaas/data/sentiment/aclImdb_v1.tar.gz\n",
      "Resolving ai.stanford.edu (ai.stanford.edu)... 171.64.68.10\n",
      "Connecting to ai.stanford.edu (ai.stanford.edu)|171.64.68.10|:80... connected.\n",
      "HTTP request sent, awaiting response... 200 OK\n",
      "Length: 84125825 (80M) [application/x-gzip]\n",
      "Saving to: ‘../data/aclImdb_v1.tar.gz’\n",
      "\n",
      "../data/aclImdb_v1. 100%[===================>]  80.23M  9.46MB/s    in 12s     \n",
      "\n",
      "2020-08-29 12:12:30 (6.88 MB/s) - ‘../data/aclImdb_v1.tar.gz’ saved [84125825/84125825]\n",
      "\n"
     ]
    }
   ],
   "source": [
    "%mkdir ../data\n",
    "!wget -O ../data/aclImdb_v1.tar.gz http://ai.stanford.edu/~amaas/data/sentiment/aclImdb_v1.tar.gz\n",
    "!tar -zxf ../data/aclImdb_v1.tar.gz -C ../data"
   ]
  },
  {
   "cell_type": "markdown",
   "metadata": {},
   "source": [
    "## Step 2: Preparing and Processing the data\n",
    "\n",
    "The data we have downloaded is split into various files, each of which contains a single review. It will be much easier going forward if we combine these individual files into two large files, one for training and one for testing."
   ]
  },
  {
   "cell_type": "code",
   "execution_count": 2,
   "metadata": {},
   "outputs": [],
   "source": [
    "import os\n",
    "import glob\n",
    "\n",
    "def read_imdb_data(data_dir='../data/aclImdb'):\n",
    "    data = {}\n",
    "    labels = {}\n",
    "    \n",
    "    for data_type in ['train', 'test']:\n",
    "        data[data_type] = {}\n",
    "        labels[data_type] = {}\n",
    "        \n",
    "        for sentiment in ['pos', 'neg']:\n",
    "            data[data_type][sentiment] = []\n",
    "            labels[data_type][sentiment] = []\n",
    "            \n",
    "            path = os.path.join(data_dir, data_type, sentiment, '*.txt')\n",
    "            files = glob.glob(path)\n",
    "            \n",
    "            for f in files:\n",
    "                with open(f) as review:\n",
    "                    data[data_type][sentiment].append(review.read())\n",
    "                    # Here we represent a positive review by '1' and a negative review by '0'\n",
    "                    labels[data_type][sentiment].append(1 if sentiment == 'pos' else 0)\n",
    "                    \n",
    "            assert len(data[data_type][sentiment]) == len(labels[data_type][sentiment]), \\\n",
    "                    \"{}/{} data size does not match labels size\".format(data_type, sentiment)\n",
    "                \n",
    "    return data, labels"
   ]
  },
  {
   "cell_type": "code",
   "execution_count": 3,
   "metadata": {},
   "outputs": [
    {
     "name": "stdout",
     "output_type": "stream",
     "text": [
      "IMDB reviews: train = 12500 pos / 12500 neg, test = 12500 pos / 12500 neg\n"
     ]
    }
   ],
   "source": [
    "data, labels = read_imdb_data()\n",
    "print(\"IMDB reviews: train = {} pos / {} neg, test = {} pos / {} neg\".format(\n",
    "            len(data['train']['pos']), len(data['train']['neg']),\n",
    "            len(data['test']['pos']), len(data['test']['neg'])))"
   ]
  },
  {
   "cell_type": "code",
   "execution_count": 4,
   "metadata": {},
   "outputs": [],
   "source": [
    "from sklearn.utils import shuffle\n",
    "\n",
    "def prepare_imdb_data(data, labels):\n",
    "    \"\"\"Prepare training and test sets from IMDb movie reviews.\"\"\"\n",
    "    \n",
    "    #Combine positive and negative reviews and labels\n",
    "    data_train = data['train']['pos'] + data['train']['neg']\n",
    "    data_test = data['test']['pos'] + data['test']['neg']\n",
    "    labels_train = labels['train']['pos'] + labels['train']['neg']\n",
    "    labels_test = labels['test']['pos'] + labels['test']['neg']\n",
    "    \n",
    "    #Shuffle reviews and corresponding labels within training and test sets\n",
    "    data_train, labels_train = shuffle(data_train, labels_train)\n",
    "    data_test, labels_test = shuffle(data_test, labels_test)\n",
    "    \n",
    "    # Return a unified training data, test data, training labels, test labets\n",
    "    return data_train, data_test, labels_train, labels_test"
   ]
  },
  {
   "cell_type": "code",
   "execution_count": 5,
   "metadata": {},
   "outputs": [
    {
     "name": "stdout",
     "output_type": "stream",
     "text": [
      "IMDb reviews (combined): train = 25000, test = 25000\n"
     ]
    }
   ],
   "source": [
    "train_X, test_X, train_y, test_y = prepare_imdb_data(data, labels)\n",
    "print(\"IMDb reviews (combined): train = {}, test = {}\".format(len(train_X), len(test_X)))"
   ]
  },
  {
   "cell_type": "code",
   "execution_count": 6,
   "metadata": {},
   "outputs": [
    {
     "data": {
      "text/plain": [
       "'To sum this documentary up in a few words is next to impossible. Every fiber of your body tells you that this is not happening right from the opening montage of rapid-fire images, through to the last shot of the clean up at Ground Zero, but every frame is real. The story was thought up by two French brothers living in New York. Jules (28) and Gideon (31) Naudet (pronounced \"Nau-day\") want to make a documentary on New York City Firefighters, beginning with a \"newbie\" from the academy and follow him through the nine month probationary period to full-fledged firefighter. Seeking the help of their close friend, actor James Hanlon (36), an actor and firefighter at Station 1, Engine 7, the Naudets sift through the \"Probies\" at the academy and find one, Tony Benetakos to focus the bulk of their documentary on.<br /><br />Tony becomes the butt of jokes and slowly learns the ins and outs of station life through the members of this close-knit family. Firefighters have a superstition about \"Probies.\" It is that they are either \"White Clouds\" or \"Black Clouds,\" meaning that with the latter, all kinds of fires follow the \"Probie.\" The former means that very little fire activity follows, but one day, there will be the mother of all fires. Tony is a \"White Cloud.\" After some initial growing pains, Tony settles into the firehouse as if he were a seasoned vet. Then the unthinkable occurs....<br /><br />September 11, 2001 begins with a clear blue sky and an early morning call to go and see about a supposed gas leak not far from Wall Street. Because Jules has had little camera experience, Gideon hands a camera to his younger brother and tells him to ride with the chief, T. K. Pfeiffer. Arriving at about 8:42, the firefighters begin to use their gas detectors over a grate. Then the sudden roar of what seems to be a low flying airplane rips past the scene, and as Jules pans upwards, we see the first strike of the day. American Airlines Flight 11 smashes into the face of the North Tower of 1 World Trade. Pfeiffer orders his men into the fire engine and they head for the World Trade Center. Once there, Jules asks to accompany the Chief into the tower. Pfeiffer tells Naudet to stick close to him. Once inside, the full impact of the growing disaster begins to show on the faces of the men whose sole purpose is to save lives. <br /><br />Gideon Naudet decides to leave the firehouse and walk down to the impact area. Once there, he captures the impact of the second plane, United Airlines Flight 175, with 2 World Trade. He knows Jules is with Chief Pfeiffer inside the towers. Watching and capturing the crowds\\' reaction to the unimaginable, Gideon begins to capture on tape the growing fear in Lower Manhattan. Inside tower one, Jules records the last view the world, or loved ones will have of their sons, fathers, uncles, grandfathers, husbands, boyfriends, friends as one by one, each firefighter, carrying 60 lbs of equipment begin the long arduous climb up 80 stories to rescue the injured and trapped. Jules also catches the last glimpse Chief Pfeiffer will have of his brother, Kevin, as he leaves to do his selfless duty. Also caught on video is the gutwrenching sound of falling bodies hitting pavement from victims choosing to jump from the higher floors above the impact zones, sooner than face death at the hands of the flames and smoke. But Jules is respectful, never once does he capture a sensationalistic moment...the money shot. His work is professional through his baptism of fire. He also catches the sight of debris falling from tower two after it is hit by the second plane and the ordered way the firefighters evacuated civilians from the building. Then Jules is caught in the collapse of the south tower and the first official victim is taken: Father Michael Judd, the Chaplain for the fire department. Then as Jules and Chief Pfeiffer make their way from the fallout of the collapse of tower two, tower one begins its structural collapse. <br /><br />What results is a breathtakingly, poignant view from inside Ground Zero as Jules and Gideon work separately to document that day. Not knowing if either is alive, each fearing the worst. As each firefighter arrives at the firehouse, they greet each other with joyous hugs at having made it back. And in one moment of overwhelming emotion, Jules and Gideon are reunited. As Jules cries on his brother\\'s shoulder, Gideon embraces his younger brother as Hanlon makes the filmmakers the subject. There is one fearful moment when Tony Benetakos, who left the station with a former chief, is believed to have been lost...but returns to the fold, this \"Probie\" has proven himself.<br /><br />Shown with only three interruptions, 9/11 is a stunning achievement in documentary filmmaking. It ranks up there with the Hindenburg footage in showing history as it unfolds. The Naudets are to be commended for their deft handling of the subject. In lesser hands, the tendency would be toward the sensational, but the Naudets temper their eye toward dignity and compassion. Narrated by Hanlon, we get the feel of his words as he takes the audience through the events of September 11. Robert De Niro hosts the program in a sombre, restrained way. He never seeks the camera for his own glory, rather he lays out the scenes you are about to see. I also commend CBS for their bravery at airing this special. Chastised for their attempt at grabbing ratings, they temper their editing toward the emotions of the relatives of those who perished. This is a must see for anyone who needs to be reminded of what true heroism is. It isn\\'t about dribbling a basketball, or selling an album of hate lyrics...9/11 is about humanity at its best. Heroism at its finest and the cost of freedom. <br /><br />'"
      ]
     },
     "execution_count": 6,
     "metadata": {},
     "output_type": "execute_result"
    }
   ],
   "source": [
    "train_X[100]"
   ]
  },
  {
   "cell_type": "markdown",
   "metadata": {},
   "source": [
    "## Processing the data\n",
    "\n",
    "Now that we have our training and testing datasets merged and ready to use, we need to start processing the raw data into something that will be useable by our machine learning algorithm. To begin with, we remove any html formatting and any non-alpha numeric characters that may appear in the reviews. We will do this in a very simplistic way using Python's regular expression module. We will discuss the reason for this rather simplistic pre-processing later on."
   ]
  },
  {
   "cell_type": "code",
   "execution_count": 7,
   "metadata": {},
   "outputs": [],
   "source": [
    "import re\n",
    "\n",
    "REPLACE_NO_SPACE = re.compile(\"(\\.)|(\\;)|(\\:)|(\\!)|(\\')|(\\?)|(\\,)|(\\\")|(\\()|(\\))|(\\[)|(\\])\")\n",
    "REPLACE_WITH_SPACE = re.compile(\"(<br\\s*/><br\\s*/>)|(\\-)|(\\/)\")\n",
    "\n",
    "def review_to_words(review):\n",
    "    words = REPLACE_NO_SPACE.sub(\"\", review.lower())\n",
    "    words = REPLACE_WITH_SPACE.sub(\" \", words)\n",
    "    return words"
   ]
  },
  {
   "cell_type": "code",
   "execution_count": 8,
   "metadata": {},
   "outputs": [
    {
     "data": {
      "text/plain": [
       "'to sum this documentary up in a few words is next to impossible every fiber of your body tells you that this is not happening right from the opening montage of rapid fire images through to the last shot of the clean up at ground zero but every frame is real the story was thought up by two french brothers living in new york jules 28 and gideon 31 naudet pronounced nau day want to make a documentary on new york city firefighters beginning with a newbie from the academy and follow him through the nine month probationary period to full fledged firefighter seeking the help of their close friend actor james hanlon 36 an actor and firefighter at station 1 engine 7 the naudets sift through the probies at the academy and find one tony benetakos to focus the bulk of their documentary on tony becomes the butt of jokes and slowly learns the ins and outs of station life through the members of this close knit family firefighters have a superstition about probies it is that they are either white clouds or black clouds meaning that with the latter all kinds of fires follow the probie the former means that very little fire activity follows but one day there will be the mother of all fires tony is a white cloud after some initial growing pains tony settles into the firehouse as if he were a seasoned vet then the unthinkable occurs september 11 2001 begins with a clear blue sky and an early morning call to go and see about a supposed gas leak not far from wall street because jules has had little camera experience gideon hands a camera to his younger brother and tells him to ride with the chief t k pfeiffer arriving at about 842 the firefighters begin to use their gas detectors over a grate then the sudden roar of what seems to be a low flying airplane rips past the scene and as jules pans upwards we see the first strike of the day american airlines flight 11 smashes into the face of the north tower of 1 world trade pfeiffer orders his men into the fire engine and they head for the world trade center once there jules asks to accompany the chief into the tower pfeiffer tells naudet to stick close to him once inside the full impact of the growing disaster begins to show on the faces of the men whose sole purpose is to save lives  gideon naudet decides to leave the firehouse and walk down to the impact area once there he captures the impact of the second plane united airlines flight 175 with 2 world trade he knows jules is with chief pfeiffer inside the towers watching and capturing the crowds reaction to the unimaginable gideon begins to capture on tape the growing fear in lower manhattan inside tower one jules records the last view the world or loved ones will have of their sons fathers uncles grandfathers husbands boyfriends friends as one by one each firefighter carrying 60 lbs of equipment begin the long arduous climb up 80 stories to rescue the injured and trapped jules also catches the last glimpse chief pfeiffer will have of his brother kevin as he leaves to do his selfless duty also caught on video is the gutwrenching sound of falling bodies hitting pavement from victims choosing to jump from the higher floors above the impact zones sooner than face death at the hands of the flames and smoke but jules is respectful never once does he capture a sensationalistic momentthe money shot his work is professional through his baptism of fire he also catches the sight of debris falling from tower two after it is hit by the second plane and the ordered way the firefighters evacuated civilians from the building then jules is caught in the collapse of the south tower and the first official victim is taken father michael judd the chaplain for the fire department then as jules and chief pfeiffer make their way from the fallout of the collapse of tower two tower one begins its structural collapse  what results is a breathtakingly poignant view from inside ground zero as jules and gideon work separately to document that day not knowing if either is alive each fearing the worst as each firefighter arrives at the firehouse they greet each other with joyous hugs at having made it back and in one moment of overwhelming emotion jules and gideon are reunited as jules cries on his brothers shoulder gideon embraces his younger brother as hanlon makes the filmmakers the subject there is one fearful moment when tony benetakos who left the station with a former chief is believed to have been lostbut returns to the fold this probie has proven himself shown with only three interruptions 9 11 is a stunning achievement in documentary filmmaking it ranks up there with the hindenburg footage in showing history as it unfolds the naudets are to be commended for their deft handling of the subject in lesser hands the tendency would be toward the sensational but the naudets temper their eye toward dignity and compassion narrated by hanlon we get the feel of his words as he takes the audience through the events of september 11 robert de niro hosts the program in a sombre restrained way he never seeks the camera for his own glory rather he lays out the scenes you are about to see i also commend cbs for their bravery at airing this special chastised for their attempt at grabbing ratings they temper their editing toward the emotions of the relatives of those who perished this is a must see for anyone who needs to be reminded of what true heroism is it isnt about dribbling a basketball or selling an album of hate lyrics9 11 is about humanity at its best heroism at its finest and the cost of freedom  '"
      ]
     },
     "execution_count": 8,
     "metadata": {},
     "output_type": "execute_result"
    }
   ],
   "source": [
    "review_to_words(train_X[100])"
   ]
  },
  {
   "cell_type": "code",
   "execution_count": 9,
   "metadata": {},
   "outputs": [],
   "source": [
    "import pickle\n",
    "\n",
    "cache_dir = os.path.join(\"../cache\", \"sentiment_web_app\")  # where to store cache files\n",
    "os.makedirs(cache_dir, exist_ok=True)  # ensure cache directory exists\n",
    "\n",
    "def preprocess_data(data_train, data_test, labels_train, labels_test,\n",
    "                    cache_dir=cache_dir, cache_file=\"preprocessed_data.pkl\"):\n",
    "    \"\"\"Convert each review to words; read from cache if available.\"\"\"\n",
    "\n",
    "    # If cache_file is not None, try to read from it first\n",
    "    cache_data = None\n",
    "    if cache_file is not None:\n",
    "        try:\n",
    "            with open(os.path.join(cache_dir, cache_file), \"rb\") as f:\n",
    "                cache_data = pickle.load(f)\n",
    "            print(\"Read preprocessed data from cache file:\", cache_file)\n",
    "        except:\n",
    "            pass  # unable to read from cache, but that's okay\n",
    "    \n",
    "    # If cache is missing, then do the heavy lifting\n",
    "    if cache_data is None:\n",
    "        # Preprocess training and test data to obtain words for each review\n",
    "        #words_train = list(map(review_to_words, data_train))\n",
    "        #words_test = list(map(review_to_words, data_test))\n",
    "        words_train = [review_to_words(review) for review in data_train]\n",
    "        words_test = [review_to_words(review) for review in data_test]\n",
    "        \n",
    "        # Write to cache file for future runs\n",
    "        if cache_file is not None:\n",
    "            cache_data = dict(words_train=words_train, words_test=words_test,\n",
    "                              labels_train=labels_train, labels_test=labels_test)\n",
    "            with open(os.path.join(cache_dir, cache_file), \"wb\") as f:\n",
    "                pickle.dump(cache_data, f)\n",
    "            print(\"Wrote preprocessed data to cache file:\", cache_file)\n",
    "    else:\n",
    "        # Unpack data loaded from cache file\n",
    "        words_train, words_test, labels_train, labels_test = (cache_data['words_train'],\n",
    "                cache_data['words_test'], cache_data['labels_train'], cache_data['labels_test'])\n",
    "    \n",
    "    return words_train, words_test, labels_train, labels_test"
   ]
  },
  {
   "cell_type": "code",
   "execution_count": 10,
   "metadata": {},
   "outputs": [
    {
     "name": "stdout",
     "output_type": "stream",
     "text": [
      "Wrote preprocessed data to cache file: preprocessed_data.pkl\n"
     ]
    }
   ],
   "source": [
    "# Preprocess data\n",
    "train_X, test_X, train_y, test_y = preprocess_data(train_X, test_X, train_y, test_y)"
   ]
  },
  {
   "cell_type": "markdown",
   "metadata": {},
   "source": [
    "### Extract Bag-of-Words features\n",
    "\n",
    "For the model we will be implementing, rather than using the reviews directly, we are going to transform each review into a Bag-of-Words feature representation. Keep in mind that 'in the wild' we will only have access to the training set so our transformer can only use the training set to construct a representation."
   ]
  },
  {
   "cell_type": "code",
   "execution_count": 12,
   "metadata": {},
   "outputs": [],
   "source": [
    "import numpy as np\n",
    "from sklearn.feature_extraction.text import CountVectorizer\n",
    "import joblib\n",
    "# joblib is an enhanced version of pickle that is more efficient for storing NumPy arrays\n",
    "\n",
    "def extract_BoW_features(words_train, words_test, vocabulary_size=5000,\n",
    "                         cache_dir=cache_dir, cache_file=\"bow_features.pkl\"):\n",
    "    \"\"\"Extract Bag-of-Words for a given set of documents, already preprocessed into words.\"\"\"\n",
    "    \n",
    "    # If cache_file is not None, try to read from it first\n",
    "    cache_data = None\n",
    "    if cache_file is not None:\n",
    "        try:\n",
    "            with open(os.path.join(cache_dir, cache_file), \"rb\") as f:\n",
    "                cache_data = joblib.load(f)\n",
    "            print(\"Read features from cache file:\", cache_file)\n",
    "        except:\n",
    "            pass  # unable to read from cache, but that's okay\n",
    "    \n",
    "    # If cache is missing, then do the heavy lifting\n",
    "    if cache_data is None:\n",
    "        # Fit a vectorizer to training documents and use it to transform them\n",
    "        # NOTE: Training documents have already been preprocessed and tokenized into words;\n",
    "        #       pass in dummy functions to skip those steps, e.g. preprocessor=lambda x: x\n",
    "        vectorizer = CountVectorizer(max_features=vocabulary_size)\n",
    "        features_train = vectorizer.fit_transform(words_train).toarray()\n",
    "\n",
    "        # Apply the same vectorizer to transform the test documents (ignore unknown words)\n",
    "        features_test = vectorizer.transform(words_test).toarray()\n",
    "        \n",
    "        # NOTE: Remember to convert the features using .toarray() for a compact representation\n",
    "        \n",
    "        # Write to cache file for future runs (store vocabulary as well)\n",
    "        if cache_file is not None:\n",
    "            vocabulary = vectorizer.vocabulary_\n",
    "            cache_data = dict(features_train=features_train, features_test=features_test,\n",
    "                             vocabulary=vocabulary)\n",
    "            with open(os.path.join(cache_dir, cache_file), \"wb\") as f:\n",
    "                joblib.dump(cache_data, f)\n",
    "            print(\"Wrote features to cache file:\", cache_file)\n",
    "    else:\n",
    "        # Unpack data loaded from cache file\n",
    "        features_train, features_test, vocabulary = (cache_data['features_train'],\n",
    "                cache_data['features_test'], cache_data['vocabulary'])\n",
    "    \n",
    "    # Return both the extracted features as well as the vocabulary\n",
    "    return features_train, features_test, vocabulary"
   ]
  },
  {
   "cell_type": "code",
   "execution_count": 13,
   "metadata": {},
   "outputs": [
    {
     "name": "stdout",
     "output_type": "stream",
     "text": [
      "Wrote features to cache file: bow_features.pkl\n"
     ]
    }
   ],
   "source": [
    "# Extract Bag of Words features for both training and test datasets\n",
    "train_X, test_X, vocabulary = extract_BoW_features(train_X, test_X)"
   ]
  },
  {
   "cell_type": "code",
   "execution_count": 14,
   "metadata": {},
   "outputs": [
    {
     "data": {
      "text/plain": [
       "5000"
      ]
     },
     "execution_count": 14,
     "metadata": {},
     "output_type": "execute_result"
    }
   ],
   "source": [
    "len(train_X[100])"
   ]
  },
  {
   "cell_type": "markdown",
   "metadata": {},
   "source": [
    "## Step 3: Upload data to S3\n",
    "\n",
    "Now that we have created the feature representation of our training (and testing) data, it is time to start setting up and using the XGBoost classifier provided by SageMaker.\n",
    "\n",
    "### Writing the datasets\n",
    "\n",
    "The XGBoost classifier that we will be using requires the dataset to be written to a file and stored using Amazon S3. To do this, we will start by splitting the training dataset into two parts, the data we will train the model with and a validation set. Then, we will write those datasets to a file locally and then upload the files to S3. In addition, we will write the test set to a file and upload that file to S3. This is so that we can use SageMakers Batch Transform functionality to test our model once we've fit it."
   ]
  },
  {
   "cell_type": "code",
   "execution_count": 15,
   "metadata": {},
   "outputs": [],
   "source": [
    "import pandas as pd\n",
    "\n",
    "# Earlier we shuffled the training dataset so to make things simple we can just assign\n",
    "# the first 10 000 reviews to the validation set and use the remaining reviews for training.\n",
    "val_X = pd.DataFrame(train_X[:10000])\n",
    "train_X = pd.DataFrame(train_X[10000:])\n",
    "\n",
    "val_y = pd.DataFrame(train_y[:10000])\n",
    "train_y = pd.DataFrame(train_y[10000:])"
   ]
  },
  {
   "cell_type": "markdown",
   "metadata": {},
   "source": [
    "The documentation for the XGBoost algorithm in SageMaker requires that the training and validation datasets should contain no headers or index and that the label should occur first for each sample.\n",
    "\n",
    "For more information about this and other algorithms, the SageMaker developer documentation can be found on __[Amazon's website.](https://docs.aws.amazon.com/sagemaker/latest/dg/)__"
   ]
  },
  {
   "cell_type": "code",
   "execution_count": 16,
   "metadata": {},
   "outputs": [],
   "source": [
    "# First we make sure that the local directory in which we'd like to store the training and validation csv files exists.\n",
    "data_dir = '../data/sentiment_web_app'\n",
    "if not os.path.exists(data_dir):\n",
    "    os.makedirs(data_dir)"
   ]
  },
  {
   "cell_type": "code",
   "execution_count": 17,
   "metadata": {},
   "outputs": [],
   "source": [
    "pd.DataFrame(test_X).to_csv(os.path.join(data_dir, 'test.csv'), header=False, index=False)\n",
    "\n",
    "pd.concat([val_y, val_X], axis=1).to_csv(os.path.join(data_dir, 'validation.csv'), header=False, index=False)\n",
    "pd.concat([train_y, train_X], axis=1).to_csv(os.path.join(data_dir, 'train.csv'), header=False, index=False)"
   ]
  },
  {
   "cell_type": "code",
   "execution_count": 18,
   "metadata": {},
   "outputs": [],
   "source": [
    "# To save a bit of memory we can set text_X, train_X, val_X, train_y and val_y to None.\n",
    "\n",
    "test_X = train_X = val_X = train_y = val_y = None"
   ]
  },
  {
   "cell_type": "markdown",
   "metadata": {},
   "source": [
    "### Uploading Training / Validation files to S3\n",
    "\n",
    "Amazon's S3 service allows us to store files that can be accessed by both the built-in training models such as the XGBoost model we will be using as well as custom models such as the one we will see a little later.\n",
    "\n",
    "For this and most other tasks we will be doing using SageMaker, there are two methods we could use. The first is to use the low level functionality of SageMaker which requires knowing each of the objects involved in the SageMaker environment. The second is to use the high level functionality in which certain choices have been made on the user's behalf. The low level approach benefits from allowing the user a great deal of flexibility while the high level approach makes development much quicker. For our purposes we will opt to use the high level approach although using the low-level approach is certainly an option.\n",
    "\n",
    "Recall the method `upload_data()` which is a member of the object representing our current SageMaker session. What this method does is upload the data to the default bucket (which is created if it does not exist) into the path described by the key_prefix variable. To see this for yourself, once you have uploaded the data files, go to the S3 console and look to see where the files have been uploaded.\n",
    "\n",
    "For additional resources, see the __[SageMaker API documentation](http://sagemaker.readthedocs.io/en/latest/)__ and in addition the __[SageMaker Developer Guide.](https://docs.aws.amazon.com/sagemaker/latest/dg/)__"
   ]
  },
  {
   "cell_type": "code",
   "execution_count": 19,
   "metadata": {},
   "outputs": [],
   "source": [
    "import sagemaker\n",
    "\n",
    "session = sagemaker.Session() # Store the current SageMaker session\n",
    "\n",
    "# S3 prefix (which folder will we use)\n",
    "prefix = 'sentiment-web-app'\n",
    "\n",
    "test_location = session.upload_data(os.path.join(data_dir, 'test.csv'), key_prefix=prefix)\n",
    "val_location = session.upload_data(os.path.join(data_dir, 'validation.csv'), key_prefix=prefix)\n",
    "train_location = session.upload_data(os.path.join(data_dir, 'train.csv'), key_prefix=prefix)"
   ]
  },
  {
   "cell_type": "markdown",
   "metadata": {},
   "source": [
    "## Step 4: Creating the XGBoost model\n",
    "\n",
    "Now that the data has been uploaded it is time to create the XGBoost model. To begin with, we need to do some setup. At this point it is worth discussing what a model is in SageMaker. It is easiest to think of a model of comprising three different objects in the SageMaker ecosystem, which interact with one another.\n",
    "\n",
    "- Model Artifacts\n",
    "- Training Code (Container)\n",
    "- Inference Code (Container)\n",
    "\n",
    "The Model Artifacts are what you might think of as the actual model itself. For example, if you were building a neural network, the model artifacts would be the weights of the various layers. In our case, for an XGBoost model, the artifacts are the actual trees that are created during training.\n",
    "\n",
    "The other two objects, the training code and the inference code are then used to manipulate the training artifacts. More precisely, the training code uses the training data that is provided and creates the model artifacts, while the inference code uses the model artifacts to make predictions on new data.\n",
    "\n",
    "The way that SageMaker runs the training and inference code is by making use of Docker containers. For now, think of a container as being a way of packaging code up so that dependencies aren't an issue."
   ]
  },
  {
   "cell_type": "code",
   "execution_count": 20,
   "metadata": {},
   "outputs": [],
   "source": [
    "from sagemaker import get_execution_role\n",
    "\n",
    "# Our current execution role is required when creating the model as the training\n",
    "# and inference code will need to access the model artifacts.\n",
    "role = get_execution_role()"
   ]
  },
  {
   "cell_type": "code",
   "execution_count": 21,
   "metadata": {},
   "outputs": [
    {
     "name": "stderr",
     "output_type": "stream",
     "text": [
      "'get_image_uri' method will be deprecated in favor of 'ImageURIProvider' class in SageMaker Python SDK v2.\n",
      "There is a more up to date SageMaker XGBoost image. To use the newer image, please set 'repo_version'='1.0-1'. For example:\n",
      "\tget_image_uri(region, 'xgboost', '1.0-1').\n"
     ]
    }
   ],
   "source": [
    "# We need to retrieve the location of the container which is provided by Amazon for using XGBoost.\n",
    "# As a matter of convenience, the training and inference code both use the same container.\n",
    "from sagemaker.amazon.amazon_estimator import get_image_uri\n",
    "\n",
    "container = get_image_uri(session.boto_region_name, 'xgboost')"
   ]
  },
  {
   "cell_type": "code",
   "execution_count": 22,
   "metadata": {},
   "outputs": [
    {
     "name": "stderr",
     "output_type": "stream",
     "text": [
      "Parameter image_name will be renamed to image_uri in SageMaker Python SDK v2.\n"
     ]
    }
   ],
   "source": [
    "# First we create a SageMaker estimator object for our model.\n",
    "xgb = sagemaker.estimator.Estimator(container, # The location of the container we wish to use\n",
    "                                    role,                                    # What is our current IAM Role\n",
    "                                    train_instance_count=1,                  # How many compute instances\n",
    "                                    train_instance_type='ml.m4.xlarge',      # What kind of compute instances\n",
    "                                    output_path='s3://{}/{}/output'.format(session.default_bucket(), prefix),\n",
    "                                    sagemaker_session=session)\n",
    "\n",
    "# And then set the algorithm specific parameters.\n",
    "xgb.set_hyperparameters(max_depth=5,\n",
    "                        eta=0.2,\n",
    "                        gamma=4,\n",
    "                        min_child_weight=6,\n",
    "                        subsample=0.8,\n",
    "                        silent=0,\n",
    "                        objective='binary:logistic',\n",
    "                        early_stopping_rounds=10,\n",
    "                        num_round=500)"
   ]
  },
  {
   "cell_type": "markdown",
   "metadata": {},
   "source": [
    "### Fit the XGBoost model\n",
    "\n",
    "Now that our model has been set up we simply need to attach the training and validation datasets and then ask SageMaker to set up the computation."
   ]
  },
  {
   "cell_type": "code",
   "execution_count": 23,
   "metadata": {},
   "outputs": [
    {
     "name": "stderr",
     "output_type": "stream",
     "text": [
      "'s3_input' class will be renamed to 'TrainingInput' in SageMaker Python SDK v2.\n",
      "'s3_input' class will be renamed to 'TrainingInput' in SageMaker Python SDK v2.\n"
     ]
    }
   ],
   "source": [
    "s3_input_train = sagemaker.s3_input(s3_data=train_location, content_type='csv')\n",
    "s3_input_validation = sagemaker.s3_input(s3_data=val_location, content_type='csv')"
   ]
  },
  {
   "cell_type": "code",
   "execution_count": 24,
   "metadata": {},
   "outputs": [
    {
     "name": "stdout",
     "output_type": "stream",
     "text": [
      "2020-08-29 12:37:35 Starting - Starting the training job...\n",
      "2020-08-29 12:37:37 Starting - Launching requested ML instances......\n",
      "2020-08-29 12:38:46 Starting - Preparing the instances for training......\n",
      "2020-08-29 12:40:03 Downloading - Downloading input data\n",
      "2020-08-29 12:40:03 Training - Downloading the training image...\n",
      "2020-08-29 12:40:22 Training - Training image download completed. Training in progress.\u001b[34mArguments: train\u001b[0m\n",
      "\u001b[34m[2020-08-29:12:40:23:INFO] Running standalone xgboost training.\u001b[0m\n",
      "\u001b[34m[2020-08-29:12:40:23:INFO] File size need to be processed in the node: 238.5mb. Available memory size in the node: 8484.99mb\u001b[0m\n",
      "\u001b[34m[2020-08-29:12:40:23:INFO] Determined delimiter of CSV input is ','\u001b[0m\n",
      "\u001b[34m[12:40:23] S3DistributionType set as FullyReplicated\u001b[0m\n",
      "\u001b[34m[12:40:25] 15000x5000 matrix with 75000000 entries loaded from /opt/ml/input/data/train?format=csv&label_column=0&delimiter=,\u001b[0m\n",
      "\u001b[34m[2020-08-29:12:40:25:INFO] Determined delimiter of CSV input is ','\u001b[0m\n",
      "\u001b[34m[12:40:25] S3DistributionType set as FullyReplicated\u001b[0m\n",
      "\u001b[34m[12:40:26] 10000x5000 matrix with 50000000 entries loaded from /opt/ml/input/data/validation?format=csv&label_column=0&delimiter=,\u001b[0m\n",
      "\u001b[34m[12:40:30] src/tree/updater_prune.cc:74: tree pruning end, 1 roots, 40 extra nodes, 4 pruned nodes, max_depth=5\u001b[0m\n",
      "\u001b[34m[0]#011train-error:0.300333#011validation-error:0.3167\u001b[0m\n",
      "\u001b[34mMultiple eval metrics have been passed: 'validation-error' will be used for early stopping.\n",
      "\u001b[0m\n",
      "\u001b[34mWill train until validation-error hasn't improved in 10 rounds.\u001b[0m\n",
      "\u001b[34m[12:40:31] src/tree/updater_prune.cc:74: tree pruning end, 1 roots, 42 extra nodes, 8 pruned nodes, max_depth=5\u001b[0m\n",
      "\u001b[34m[1]#011train-error:0.285867#011validation-error:0.3028\u001b[0m\n",
      "\u001b[34m[12:40:33] src/tree/updater_prune.cc:74: tree pruning end, 1 roots, 40 extra nodes, 8 pruned nodes, max_depth=5\u001b[0m\n",
      "\u001b[34m[2]#011train-error:0.275533#011validation-error:0.2933\u001b[0m\n",
      "\u001b[34m[12:40:34] src/tree/updater_prune.cc:74: tree pruning end, 1 roots, 34 extra nodes, 4 pruned nodes, max_depth=5\u001b[0m\n",
      "\u001b[34m[3]#011train-error:0.2682#011validation-error:0.2857\u001b[0m\n",
      "\u001b[34m[12:40:35] src/tree/updater_prune.cc:74: tree pruning end, 1 roots, 26 extra nodes, 8 pruned nodes, max_depth=5\u001b[0m\n",
      "\u001b[34m[4]#011train-error:0.262667#011validation-error:0.2832\u001b[0m\n",
      "\u001b[34m[12:40:37] src/tree/updater_prune.cc:74: tree pruning end, 1 roots, 44 extra nodes, 2 pruned nodes, max_depth=5\u001b[0m\n",
      "\u001b[34m[5]#011train-error:0.256867#011validation-error:0.2733\u001b[0m\n",
      "\u001b[34m[12:40:38] src/tree/updater_prune.cc:74: tree pruning end, 1 roots, 20 extra nodes, 14 pruned nodes, max_depth=5\u001b[0m\n",
      "\u001b[34m[6]#011train-error:0.252267#011validation-error:0.2689\u001b[0m\n",
      "\u001b[34m[12:40:39] src/tree/updater_prune.cc:74: tree pruning end, 1 roots, 38 extra nodes, 2 pruned nodes, max_depth=5\u001b[0m\n",
      "\u001b[34m[7]#011train-error:0.243733#011validation-error:0.2637\u001b[0m\n",
      "\u001b[34m[12:40:41] src/tree/updater_prune.cc:74: tree pruning end, 1 roots, 46 extra nodes, 2 pruned nodes, max_depth=5\u001b[0m\n",
      "\u001b[34m[8]#011train-error:0.236#011validation-error:0.2554\u001b[0m\n",
      "\u001b[34m[12:40:42] src/tree/updater_prune.cc:74: tree pruning end, 1 roots, 32 extra nodes, 8 pruned nodes, max_depth=5\u001b[0m\n",
      "\u001b[34m[9]#011train-error:0.229867#011validation-error:0.2503\u001b[0m\n",
      "\u001b[34m[12:40:43] src/tree/updater_prune.cc:74: tree pruning end, 1 roots, 38 extra nodes, 0 pruned nodes, max_depth=5\u001b[0m\n",
      "\u001b[34m[10]#011train-error:0.222867#011validation-error:0.2436\u001b[0m\n",
      "\u001b[34m[12:40:45] src/tree/updater_prune.cc:74: tree pruning end, 1 roots, 28 extra nodes, 12 pruned nodes, max_depth=5\u001b[0m\n",
      "\u001b[34m[11]#011train-error:0.218467#011validation-error:0.2407\u001b[0m\n",
      "\u001b[34m[12:40:46] src/tree/updater_prune.cc:74: tree pruning end, 1 roots, 24 extra nodes, 8 pruned nodes, max_depth=5\u001b[0m\n",
      "\u001b[34m[12]#011train-error:0.2156#011validation-error:0.2383\u001b[0m\n",
      "\u001b[34m[12:40:47] src/tree/updater_prune.cc:74: tree pruning end, 1 roots, 32 extra nodes, 2 pruned nodes, max_depth=5\u001b[0m\n",
      "\u001b[34m[13]#011train-error:0.210467#011validation-error:0.2345\u001b[0m\n",
      "\u001b[34m[12:40:48] src/tree/updater_prune.cc:74: tree pruning end, 1 roots, 32 extra nodes, 10 pruned nodes, max_depth=5\u001b[0m\n",
      "\u001b[34m[14]#011train-error:0.208#011validation-error:0.2312\u001b[0m\n",
      "\u001b[34m[12:40:50] src/tree/updater_prune.cc:74: tree pruning end, 1 roots, 30 extra nodes, 6 pruned nodes, max_depth=5\u001b[0m\n",
      "\u001b[34m[15]#011train-error:0.203467#011validation-error:0.2268\u001b[0m\n",
      "\u001b[34m[12:40:51] src/tree/updater_prune.cc:74: tree pruning end, 1 roots, 38 extra nodes, 10 pruned nodes, max_depth=5\u001b[0m\n",
      "\u001b[34m[16]#011train-error:0.199133#011validation-error:0.2244\u001b[0m\n",
      "\u001b[34m[12:40:52] src/tree/updater_prune.cc:74: tree pruning end, 1 roots, 20 extra nodes, 14 pruned nodes, max_depth=5\u001b[0m\n",
      "\u001b[34m[17]#011train-error:0.198133#011validation-error:0.2206\u001b[0m\n",
      "\u001b[34m[12:40:54] src/tree/updater_prune.cc:74: tree pruning end, 1 roots, 20 extra nodes, 10 pruned nodes, max_depth=5\u001b[0m\n",
      "\u001b[34m[18]#011train-error:0.1942#011validation-error:0.2183\u001b[0m\n",
      "\u001b[34m[12:40:55] src/tree/updater_prune.cc:74: tree pruning end, 1 roots, 34 extra nodes, 2 pruned nodes, max_depth=5\u001b[0m\n",
      "\u001b[34m[19]#011train-error:0.1924#011validation-error:0.2167\u001b[0m\n",
      "\u001b[34m[12:40:56] src/tree/updater_prune.cc:74: tree pruning end, 1 roots, 24 extra nodes, 10 pruned nodes, max_depth=5\u001b[0m\n",
      "\u001b[34m[20]#011train-error:0.188133#011validation-error:0.2149\u001b[0m\n",
      "\u001b[34m[12:40:57] src/tree/updater_prune.cc:74: tree pruning end, 1 roots, 28 extra nodes, 4 pruned nodes, max_depth=5\u001b[0m\n",
      "\u001b[34m[21]#011train-error:0.1854#011validation-error:0.2129\u001b[0m\n",
      "\u001b[34m[12:40:59] src/tree/updater_prune.cc:74: tree pruning end, 1 roots, 26 extra nodes, 6 pruned nodes, max_depth=5\u001b[0m\n",
      "\u001b[34m[22]#011train-error:0.181933#011validation-error:0.21\u001b[0m\n",
      "\u001b[34m[12:41:00] src/tree/updater_prune.cc:74: tree pruning end, 1 roots, 18 extra nodes, 14 pruned nodes, max_depth=5\u001b[0m\n",
      "\u001b[34m[23]#011train-error:0.181333#011validation-error:0.208\u001b[0m\n",
      "\u001b[34m[12:41:01] src/tree/updater_prune.cc:74: tree pruning end, 1 roots, 26 extra nodes, 14 pruned nodes, max_depth=5\u001b[0m\n",
      "\u001b[34m[24]#011train-error:0.1784#011validation-error:0.2079\u001b[0m\n",
      "\u001b[34m[12:41:03] src/tree/updater_prune.cc:74: tree pruning end, 1 roots, 32 extra nodes, 14 pruned nodes, max_depth=5\u001b[0m\n",
      "\u001b[34m[25]#011train-error:0.176333#011validation-error:0.2049\u001b[0m\n",
      "\u001b[34m[12:41:04] src/tree/updater_prune.cc:74: tree pruning end, 1 roots, 38 extra nodes, 2 pruned nodes, max_depth=5\u001b[0m\n",
      "\u001b[34m[26]#011train-error:0.1744#011validation-error:0.2045\u001b[0m\n",
      "\u001b[34m[12:41:05] src/tree/updater_prune.cc:74: tree pruning end, 1 roots, 30 extra nodes, 4 pruned nodes, max_depth=5\u001b[0m\n",
      "\u001b[34m[27]#011train-error:0.173267#011validation-error:0.2032\u001b[0m\n",
      "\u001b[34m[12:41:07] src/tree/updater_prune.cc:74: tree pruning end, 1 roots, 22 extra nodes, 10 pruned nodes, max_depth=5\u001b[0m\n",
      "\u001b[34m[28]#011train-error:0.1714#011validation-error:0.2022\u001b[0m\n",
      "\u001b[34m[12:41:08] src/tree/updater_prune.cc:74: tree pruning end, 1 roots, 40 extra nodes, 6 pruned nodes, max_depth=5\u001b[0m\n",
      "\u001b[34m[29]#011train-error:0.169067#011validation-error:0.2009\u001b[0m\n",
      "\u001b[34m[12:41:09] src/tree/updater_prune.cc:74: tree pruning end, 1 roots, 34 extra nodes, 4 pruned nodes, max_depth=5\u001b[0m\n",
      "\u001b[34m[30]#011train-error:0.166267#011validation-error:0.201\u001b[0m\n",
      "\u001b[34m[12:41:10] src/tree/updater_prune.cc:74: tree pruning end, 1 roots, 28 extra nodes, 4 pruned nodes, max_depth=5\u001b[0m\n",
      "\u001b[34m[31]#011train-error:0.164733#011validation-error:0.1977\u001b[0m\n",
      "\u001b[34m[12:41:12] src/tree/updater_prune.cc:74: tree pruning end, 1 roots, 24 extra nodes, 6 pruned nodes, max_depth=5\u001b[0m\n",
      "\u001b[34m[32]#011train-error:0.162333#011validation-error:0.1957\u001b[0m\n",
      "\u001b[34m[12:41:13] src/tree/updater_prune.cc:74: tree pruning end, 1 roots, 22 extra nodes, 12 pruned nodes, max_depth=5\u001b[0m\n",
      "\u001b[34m[33]#011train-error:0.160867#011validation-error:0.1952\u001b[0m\n",
      "\u001b[34m[12:41:14] src/tree/updater_prune.cc:74: tree pruning end, 1 roots, 28 extra nodes, 4 pruned nodes, max_depth=5\u001b[0m\n",
      "\u001b[34m[34]#011train-error:0.159867#011validation-error:0.1942\u001b[0m\n",
      "\u001b[34m[12:41:16] src/tree/updater_prune.cc:74: tree pruning end, 1 roots, 22 extra nodes, 12 pruned nodes, max_depth=5\u001b[0m\n",
      "\u001b[34m[35]#011train-error:0.158267#011validation-error:0.1935\u001b[0m\n",
      "\u001b[34m[12:41:17] src/tree/updater_prune.cc:74: tree pruning end, 1 roots, 26 extra nodes, 12 pruned nodes, max_depth=5\u001b[0m\n",
      "\u001b[34m[36]#011train-error:0.156067#011validation-error:0.1936\u001b[0m\n",
      "\u001b[34m[12:41:18] src/tree/updater_prune.cc:74: tree pruning end, 1 roots, 30 extra nodes, 8 pruned nodes, max_depth=5\u001b[0m\n",
      "\u001b[34m[37]#011train-error:0.155#011validation-error:0.1923\u001b[0m\n",
      "\u001b[34m[12:41:20] src/tree/updater_prune.cc:74: tree pruning end, 1 roots, 16 extra nodes, 10 pruned nodes, max_depth=5\u001b[0m\n",
      "\u001b[34m[38]#011train-error:0.1548#011validation-error:0.1906\u001b[0m\n",
      "\u001b[34m[12:41:21] src/tree/updater_prune.cc:74: tree pruning end, 1 roots, 22 extra nodes, 8 pruned nodes, max_depth=5\u001b[0m\n",
      "\u001b[34m[39]#011train-error:0.153467#011validation-error:0.1905\u001b[0m\n",
      "\u001b[34m[12:41:22] src/tree/updater_prune.cc:74: tree pruning end, 1 roots, 26 extra nodes, 8 pruned nodes, max_depth=5\u001b[0m\n",
      "\u001b[34m[40]#011train-error:0.150467#011validation-error:0.1899\u001b[0m\n",
      "\u001b[34m[12:41:23] src/tree/updater_prune.cc:74: tree pruning end, 1 roots, 18 extra nodes, 6 pruned nodes, max_depth=5\u001b[0m\n",
      "\u001b[34m[41]#011train-error:0.148933#011validation-error:0.1881\u001b[0m\n",
      "\u001b[34m[12:41:25] src/tree/updater_prune.cc:74: tree pruning end, 1 roots, 30 extra nodes, 14 pruned nodes, max_depth=5\u001b[0m\n",
      "\u001b[34m[42]#011train-error:0.147333#011validation-error:0.1878\u001b[0m\n",
      "\u001b[34m[12:41:26] src/tree/updater_prune.cc:74: tree pruning end, 1 roots, 22 extra nodes, 10 pruned nodes, max_depth=5\u001b[0m\n",
      "\u001b[34m[43]#011train-error:0.1468#011validation-error:0.1857\u001b[0m\n",
      "\u001b[34m[12:41:27] src/tree/updater_prune.cc:74: tree pruning end, 1 roots, 24 extra nodes, 6 pruned nodes, max_depth=5\u001b[0m\n",
      "\u001b[34m[44]#011train-error:0.146067#011validation-error:0.1838\u001b[0m\n",
      "\u001b[34m[12:41:29] src/tree/updater_prune.cc:74: tree pruning end, 1 roots, 28 extra nodes, 4 pruned nodes, max_depth=5\u001b[0m\n",
      "\u001b[34m[45]#011train-error:0.144067#011validation-error:0.1848\u001b[0m\n",
      "\u001b[34m[12:41:30] src/tree/updater_prune.cc:74: tree pruning end, 1 roots, 18 extra nodes, 8 pruned nodes, max_depth=5\u001b[0m\n",
      "\u001b[34m[46]#011train-error:0.1416#011validation-error:0.1841\u001b[0m\n",
      "\u001b[34m[12:41:31] src/tree/updater_prune.cc:74: tree pruning end, 1 roots, 32 extra nodes, 10 pruned nodes, max_depth=5\u001b[0m\n",
      "\u001b[34m[47]#011train-error:0.141733#011validation-error:0.1832\u001b[0m\n",
      "\u001b[34m[12:41:32] src/tree/updater_prune.cc:74: tree pruning end, 1 roots, 14 extra nodes, 12 pruned nodes, max_depth=5\u001b[0m\n",
      "\u001b[34m[48]#011train-error:0.140067#011validation-error:0.1825\u001b[0m\n",
      "\u001b[34m[12:41:34] src/tree/updater_prune.cc:74: tree pruning end, 1 roots, 18 extra nodes, 14 pruned nodes, max_depth=5\u001b[0m\n",
      "\u001b[34m[49]#011train-error:0.139667#011validation-error:0.1819\u001b[0m\n",
      "\u001b[34m[12:41:35] src/tree/updater_prune.cc:74: tree pruning end, 1 roots, 24 extra nodes, 14 pruned nodes, max_depth=5\u001b[0m\n",
      "\u001b[34m[50]#011train-error:0.138733#011validation-error:0.1812\u001b[0m\n",
      "\u001b[34m[12:41:36] src/tree/updater_prune.cc:74: tree pruning end, 1 roots, 26 extra nodes, 8 pruned nodes, max_depth=5\u001b[0m\n",
      "\u001b[34m[51]#011train-error:0.137467#011validation-error:0.1814\u001b[0m\n",
      "\u001b[34m[12:41:38] src/tree/updater_prune.cc:74: tree pruning end, 1 roots, 22 extra nodes, 12 pruned nodes, max_depth=5\u001b[0m\n",
      "\u001b[34m[52]#011train-error:0.136133#011validation-error:0.1796\u001b[0m\n",
      "\u001b[34m[12:41:39] src/tree/updater_prune.cc:74: tree pruning end, 1 roots, 16 extra nodes, 8 pruned nodes, max_depth=5\u001b[0m\n",
      "\u001b[34m[53]#011train-error:0.1358#011validation-error:0.1781\u001b[0m\n",
      "\u001b[34m[12:41:40] src/tree/updater_prune.cc:74: tree pruning end, 1 roots, 34 extra nodes, 6 pruned nodes, max_depth=5\u001b[0m\n",
      "\u001b[34m[54]#011train-error:0.1354#011validation-error:0.1779\u001b[0m\n",
      "\u001b[34m[12:41:41] src/tree/updater_prune.cc:74: tree pruning end, 1 roots, 36 extra nodes, 2 pruned nodes, max_depth=5\u001b[0m\n",
      "\u001b[34m[55]#011train-error:0.1316#011validation-error:0.1756\u001b[0m\n",
      "\u001b[34m[12:41:43] src/tree/updater_prune.cc:74: tree pruning end, 1 roots, 22 extra nodes, 8 pruned nodes, max_depth=5\u001b[0m\n",
      "\u001b[34m[56]#011train-error:0.131#011validation-error:0.1746\u001b[0m\n",
      "\u001b[34m[12:41:44] src/tree/updater_prune.cc:74: tree pruning end, 1 roots, 18 extra nodes, 12 pruned nodes, max_depth=5\u001b[0m\n",
      "\u001b[34m[57]#011train-error:0.1304#011validation-error:0.1737\u001b[0m\n",
      "\u001b[34m[12:41:45] src/tree/updater_prune.cc:74: tree pruning end, 1 roots, 28 extra nodes, 4 pruned nodes, max_depth=5\u001b[0m\n",
      "\u001b[34m[58]#011train-error:0.1288#011validation-error:0.1736\u001b[0m\n",
      "\u001b[34m[12:41:47] src/tree/updater_prune.cc:74: tree pruning end, 1 roots, 18 extra nodes, 4 pruned nodes, max_depth=5\u001b[0m\n",
      "\u001b[34m[59]#011train-error:0.1284#011validation-error:0.173\u001b[0m\n",
      "\u001b[34m[12:41:48] src/tree/updater_prune.cc:74: tree pruning end, 1 roots, 20 extra nodes, 12 pruned nodes, max_depth=5\u001b[0m\n",
      "\u001b[34m[60]#011train-error:0.128933#011validation-error:0.1716\u001b[0m\n",
      "\u001b[34m[12:41:49] src/tree/updater_prune.cc:74: tree pruning end, 1 roots, 30 extra nodes, 14 pruned nodes, max_depth=5\u001b[0m\n",
      "\u001b[34m[61]#011train-error:0.127733#011validation-error:0.1717\u001b[0m\n",
      "\u001b[34m[12:41:50] src/tree/updater_prune.cc:74: tree pruning end, 1 roots, 12 extra nodes, 10 pruned nodes, max_depth=5\u001b[0m\n",
      "\u001b[34m[62]#011train-error:0.127733#011validation-error:0.1705\u001b[0m\n",
      "\u001b[34m[12:41:52] src/tree/updater_prune.cc:74: tree pruning end, 1 roots, 30 extra nodes, 4 pruned nodes, max_depth=5\u001b[0m\n",
      "\u001b[34m[63]#011train-error:0.126733#011validation-error:0.1687\u001b[0m\n",
      "\u001b[34m[12:41:53] src/tree/updater_prune.cc:74: tree pruning end, 1 roots, 12 extra nodes, 14 pruned nodes, max_depth=5\u001b[0m\n",
      "\u001b[34m[64]#011train-error:0.125933#011validation-error:0.1687\u001b[0m\n",
      "\u001b[34m[12:41:54] src/tree/updater_prune.cc:74: tree pruning end, 1 roots, 32 extra nodes, 4 pruned nodes, max_depth=5\u001b[0m\n",
      "\u001b[34m[65]#011train-error:0.1234#011validation-error:0.1668\u001b[0m\n",
      "\u001b[34m[12:41:56] src/tree/updater_prune.cc:74: tree pruning end, 1 roots, 22 extra nodes, 10 pruned nodes, max_depth=5\u001b[0m\n",
      "\u001b[34m[66]#011train-error:0.122667#011validation-error:0.1664\u001b[0m\n",
      "\u001b[34m[12:41:57] src/tree/updater_prune.cc:74: tree pruning end, 1 roots, 16 extra nodes, 2 pruned nodes, max_depth=5\u001b[0m\n",
      "\u001b[34m[67]#011train-error:0.122133#011validation-error:0.1655\u001b[0m\n",
      "\u001b[34m[12:41:58] src/tree/updater_prune.cc:74: tree pruning end, 1 roots, 20 extra nodes, 6 pruned nodes, max_depth=5\u001b[0m\n",
      "\u001b[34m[68]#011train-error:0.122067#011validation-error:0.1651\u001b[0m\n",
      "\u001b[34m[12:41:59] src/tree/updater_prune.cc:74: tree pruning end, 1 roots, 26 extra nodes, 6 pruned nodes, max_depth=5\u001b[0m\n",
      "\u001b[34m[69]#011train-error:0.121333#011validation-error:0.1645\u001b[0m\n",
      "\u001b[34m[12:42:01] src/tree/updater_prune.cc:74: tree pruning end, 1 roots, 24 extra nodes, 18 pruned nodes, max_depth=5\u001b[0m\n",
      "\u001b[34m[70]#011train-error:0.120133#011validation-error:0.1658\u001b[0m\n",
      "\u001b[34m[12:42:02] src/tree/updater_prune.cc:74: tree pruning end, 1 roots, 14 extra nodes, 10 pruned nodes, max_depth=5\u001b[0m\n",
      "\u001b[34m[71]#011train-error:0.1204#011validation-error:0.165\u001b[0m\n",
      "\u001b[34m[12:42:03] src/tree/updater_prune.cc:74: tree pruning end, 1 roots, 20 extra nodes, 10 pruned nodes, max_depth=5\u001b[0m\n",
      "\u001b[34m[72]#011train-error:0.118867#011validation-error:0.1638\u001b[0m\n",
      "\u001b[34m[12:42:05] src/tree/updater_prune.cc:74: tree pruning end, 1 roots, 24 extra nodes, 4 pruned nodes, max_depth=5\u001b[0m\n",
      "\u001b[34m[73]#011train-error:0.1178#011validation-error:0.1635\u001b[0m\n",
      "\u001b[34m[12:42:06] src/tree/updater_prune.cc:74: tree pruning end, 1 roots, 14 extra nodes, 8 pruned nodes, max_depth=5\u001b[0m\n",
      "\u001b[34m[74]#011train-error:0.116267#011validation-error:0.1643\u001b[0m\n",
      "\u001b[34m[12:42:07] src/tree/updater_prune.cc:74: tree pruning end, 1 roots, 12 extra nodes, 12 pruned nodes, max_depth=5\u001b[0m\n",
      "\u001b[34m[75]#011train-error:0.1164#011validation-error:0.1638\u001b[0m\n",
      "\u001b[34m[12:42:09] src/tree/updater_prune.cc:74: tree pruning end, 1 roots, 20 extra nodes, 14 pruned nodes, max_depth=5\u001b[0m\n",
      "\u001b[34m[76]#011train-error:0.1156#011validation-error:0.1625\u001b[0m\n",
      "\u001b[34m[12:42:10] src/tree/updater_prune.cc:74: tree pruning end, 1 roots, 32 extra nodes, 6 pruned nodes, max_depth=5\u001b[0m\n",
      "\u001b[34m[77]#011train-error:0.114333#011validation-error:0.1625\u001b[0m\n",
      "\u001b[34m[12:42:11] src/tree/updater_prune.cc:74: tree pruning end, 1 roots, 16 extra nodes, 14 pruned nodes, max_depth=5\u001b[0m\n",
      "\u001b[34m[78]#011train-error:0.113933#011validation-error:0.1632\u001b[0m\n",
      "\u001b[34m[12:42:12] src/tree/updater_prune.cc:74: tree pruning end, 1 roots, 14 extra nodes, 8 pruned nodes, max_depth=5\u001b[0m\n",
      "\u001b[34m[79]#011train-error:0.113267#011validation-error:0.1623\u001b[0m\n",
      "\u001b[34m[12:42:14] src/tree/updater_prune.cc:74: tree pruning end, 1 roots, 18 extra nodes, 2 pruned nodes, max_depth=5\u001b[0m\n",
      "\u001b[34m[80]#011train-error:0.113067#011validation-error:0.161\u001b[0m\n",
      "\u001b[34m[12:42:15] src/tree/updater_prune.cc:74: tree pruning end, 1 roots, 20 extra nodes, 4 pruned nodes, max_depth=5\u001b[0m\n",
      "\u001b[34m[81]#011train-error:0.113#011validation-error:0.16\u001b[0m\n",
      "\u001b[34m[12:42:16] src/tree/updater_prune.cc:74: tree pruning end, 1 roots, 18 extra nodes, 10 pruned nodes, max_depth=5\u001b[0m\n",
      "\u001b[34m[82]#011train-error:0.112533#011validation-error:0.1607\u001b[0m\n",
      "\u001b[34m[12:42:18] src/tree/updater_prune.cc:74: tree pruning end, 1 roots, 22 extra nodes, 12 pruned nodes, max_depth=5\u001b[0m\n",
      "\u001b[34m[83]#011train-error:0.112133#011validation-error:0.1605\u001b[0m\n",
      "\u001b[34m[12:42:19] src/tree/updater_prune.cc:74: tree pruning end, 1 roots, 18 extra nodes, 10 pruned nodes, max_depth=5\u001b[0m\n",
      "\u001b[34m[84]#011train-error:0.1118#011validation-error:0.1601\u001b[0m\n",
      "\u001b[34m[12:42:20] src/tree/updater_prune.cc:74: tree pruning end, 1 roots, 32 extra nodes, 14 pruned nodes, max_depth=5\u001b[0m\n",
      "\u001b[34m[85]#011train-error:0.110133#011validation-error:0.1608\u001b[0m\n",
      "\u001b[34m[12:42:21] src/tree/updater_prune.cc:74: tree pruning end, 1 roots, 16 extra nodes, 6 pruned nodes, max_depth=5\u001b[0m\n",
      "\u001b[34m[86]#011train-error:0.109667#011validation-error:0.1604\u001b[0m\n",
      "\u001b[34m[12:42:23] src/tree/updater_prune.cc:74: tree pruning end, 1 roots, 24 extra nodes, 6 pruned nodes, max_depth=5\u001b[0m\n",
      "\u001b[34m[87]#011train-error:0.1096#011validation-error:0.161\u001b[0m\n",
      "\u001b[34m[12:42:24] src/tree/updater_prune.cc:74: tree pruning end, 1 roots, 12 extra nodes, 8 pruned nodes, max_depth=5\u001b[0m\n",
      "\u001b[34m[88]#011train-error:0.109133#011validation-error:0.1601\u001b[0m\n",
      "\u001b[34m[12:42:25] src/tree/updater_prune.cc:74: tree pruning end, 1 roots, 22 extra nodes, 10 pruned nodes, max_depth=5\u001b[0m\n",
      "\u001b[34m[89]#011train-error:0.108733#011validation-error:0.16\u001b[0m\n",
      "\u001b[34m[12:42:27] src/tree/updater_prune.cc:74: tree pruning end, 1 roots, 10 extra nodes, 2 pruned nodes, max_depth=5\u001b[0m\n",
      "\u001b[34m[90]#011train-error:0.1084#011validation-error:0.1589\u001b[0m\n",
      "\u001b[34m[12:42:28] src/tree/updater_prune.cc:74: tree pruning end, 1 roots, 16 extra nodes, 14 pruned nodes, max_depth=5\u001b[0m\n",
      "\u001b[34m[91]#011train-error:0.108067#011validation-error:0.159\u001b[0m\n",
      "\u001b[34m[12:42:29] src/tree/updater_prune.cc:74: tree pruning end, 1 roots, 14 extra nodes, 0 pruned nodes, max_depth=5\u001b[0m\n",
      "\u001b[34m[92]#011train-error:0.106733#011validation-error:0.1589\u001b[0m\n",
      "\u001b[34m[12:42:30] src/tree/updater_prune.cc:74: tree pruning end, 1 roots, 22 extra nodes, 2 pruned nodes, max_depth=5\u001b[0m\n",
      "\u001b[34m[93]#011train-error:0.106733#011validation-error:0.1581\u001b[0m\n",
      "\u001b[34m[12:42:32] src/tree/updater_prune.cc:74: tree pruning end, 1 roots, 10 extra nodes, 10 pruned nodes, max_depth=5\u001b[0m\n",
      "\u001b[34m[94]#011train-error:0.106533#011validation-error:0.1581\u001b[0m\n",
      "\u001b[34m[12:42:33] src/tree/updater_prune.cc:74: tree pruning end, 1 roots, 20 extra nodes, 16 pruned nodes, max_depth=5\u001b[0m\n",
      "\u001b[34m[95]#011train-error:0.1064#011validation-error:0.1582\u001b[0m\n",
      "\u001b[34m[12:42:34] src/tree/updater_prune.cc:74: tree pruning end, 1 roots, 22 extra nodes, 16 pruned nodes, max_depth=5\u001b[0m\n",
      "\u001b[34m[96]#011train-error:0.105533#011validation-error:0.1581\u001b[0m\n",
      "\u001b[34m[12:42:35] src/tree/updater_prune.cc:74: tree pruning end, 1 roots, 10 extra nodes, 4 pruned nodes, max_depth=5\u001b[0m\n",
      "\u001b[34m[97]#011train-error:0.105667#011validation-error:0.1575\u001b[0m\n",
      "\u001b[34m[12:42:37] src/tree/updater_prune.cc:74: tree pruning end, 1 roots, 16 extra nodes, 8 pruned nodes, max_depth=5\u001b[0m\n",
      "\u001b[34m[98]#011train-error:0.104733#011validation-error:0.1566\u001b[0m\n",
      "\u001b[34m[12:42:38] src/tree/updater_prune.cc:74: tree pruning end, 1 roots, 16 extra nodes, 8 pruned nodes, max_depth=5\u001b[0m\n",
      "\u001b[34m[99]#011train-error:0.104467#011validation-error:0.156\u001b[0m\n",
      "\u001b[34m[12:42:39] src/tree/updater_prune.cc:74: tree pruning end, 1 roots, 16 extra nodes, 14 pruned nodes, max_depth=5\u001b[0m\n",
      "\u001b[34m[100]#011train-error:0.1038#011validation-error:0.1569\u001b[0m\n",
      "\u001b[34m[12:42:41] src/tree/updater_prune.cc:74: tree pruning end, 1 roots, 18 extra nodes, 12 pruned nodes, max_depth=5\u001b[0m\n",
      "\u001b[34m[101]#011train-error:0.103133#011validation-error:0.1575\u001b[0m\n",
      "\u001b[34m[12:42:42] src/tree/updater_prune.cc:74: tree pruning end, 1 roots, 12 extra nodes, 4 pruned nodes, max_depth=5\u001b[0m\n",
      "\u001b[34m[102]#011train-error:0.102533#011validation-error:0.1566\u001b[0m\n",
      "\u001b[34m[12:42:43] src/tree/updater_prune.cc:74: tree pruning end, 1 roots, 22 extra nodes, 4 pruned nodes, max_depth=5\u001b[0m\n",
      "\u001b[34m[103]#011train-error:0.101867#011validation-error:0.1562\u001b[0m\n",
      "\u001b[34m[12:42:45] src/tree/updater_prune.cc:74: tree pruning end, 1 roots, 20 extra nodes, 10 pruned nodes, max_depth=5\u001b[0m\n",
      "\u001b[34m[104]#011train-error:0.101333#011validation-error:0.157\u001b[0m\n",
      "\u001b[34m[12:42:46] src/tree/updater_prune.cc:74: tree pruning end, 1 roots, 16 extra nodes, 6 pruned nodes, max_depth=5\u001b[0m\n",
      "\u001b[34m[105]#011train-error:0.101333#011validation-error:0.1561\u001b[0m\n",
      "\u001b[34m[12:42:47] src/tree/updater_prune.cc:74: tree pruning end, 1 roots, 14 extra nodes, 12 pruned nodes, max_depth=5\u001b[0m\n",
      "\u001b[34m[106]#011train-error:0.100867#011validation-error:0.1566\u001b[0m\n",
      "\u001b[34m[12:42:48] src/tree/updater_prune.cc:74: tree pruning end, 1 roots, 24 extra nodes, 6 pruned nodes, max_depth=5\u001b[0m\n",
      "\u001b[34m[107]#011train-error:0.100467#011validation-error:0.1563\u001b[0m\n",
      "\u001b[34m[12:42:50] src/tree/updater_prune.cc:74: tree pruning end, 1 roots, 28 extra nodes, 8 pruned nodes, max_depth=5\u001b[0m\n",
      "\u001b[34m[108]#011train-error:0.0992#011validation-error:0.1556\u001b[0m\n",
      "\u001b[34m[12:42:51] src/tree/updater_prune.cc:74: tree pruning end, 1 roots, 20 extra nodes, 12 pruned nodes, max_depth=5\u001b[0m\n",
      "\u001b[34m[109]#011train-error:0.0988#011validation-error:0.1551\u001b[0m\n",
      "\u001b[34m[12:42:52] src/tree/updater_prune.cc:74: tree pruning end, 1 roots, 16 extra nodes, 0 pruned nodes, max_depth=5\u001b[0m\n",
      "\u001b[34m[110]#011train-error:0.098467#011validation-error:0.1553\u001b[0m\n",
      "\u001b[34m[12:42:54] src/tree/updater_prune.cc:74: tree pruning end, 1 roots, 16 extra nodes, 6 pruned nodes, max_depth=5\u001b[0m\n",
      "\u001b[34m[111]#011train-error:0.0982#011validation-error:0.1543\u001b[0m\n",
      "\u001b[34m[12:42:55] src/tree/updater_prune.cc:74: tree pruning end, 1 roots, 26 extra nodes, 8 pruned nodes, max_depth=5\u001b[0m\n",
      "\u001b[34m[112]#011train-error:0.096667#011validation-error:0.1539\u001b[0m\n",
      "\u001b[34m[12:42:56] src/tree/updater_prune.cc:74: tree pruning end, 1 roots, 18 extra nodes, 10 pruned nodes, max_depth=5\u001b[0m\n",
      "\u001b[34m[113]#011train-error:0.0966#011validation-error:0.1544\u001b[0m\n",
      "\u001b[34m[12:42:57] src/tree/updater_prune.cc:74: tree pruning end, 1 roots, 30 extra nodes, 10 pruned nodes, max_depth=5\u001b[0m\n",
      "\u001b[34m[114]#011train-error:0.096533#011validation-error:0.1533\u001b[0m\n",
      "\u001b[34m[12:42:59] src/tree/updater_prune.cc:74: tree pruning end, 1 roots, 12 extra nodes, 6 pruned nodes, max_depth=5\u001b[0m\n",
      "\u001b[34m[115]#011train-error:0.096533#011validation-error:0.1529\u001b[0m\n",
      "\u001b[34m[12:43:00] src/tree/updater_prune.cc:74: tree pruning end, 1 roots, 10 extra nodes, 8 pruned nodes, max_depth=5\u001b[0m\n",
      "\u001b[34m[116]#011train-error:0.0962#011validation-error:0.1529\u001b[0m\n",
      "\u001b[34m[12:43:01] src/tree/updater_prune.cc:74: tree pruning end, 1 roots, 18 extra nodes, 6 pruned nodes, max_depth=5\u001b[0m\n",
      "\u001b[34m[117]#011train-error:0.095533#011validation-error:0.1534\u001b[0m\n",
      "\u001b[34m[12:43:03] src/tree/updater_prune.cc:74: tree pruning end, 1 roots, 30 extra nodes, 12 pruned nodes, max_depth=5\u001b[0m\n",
      "\u001b[34m[118]#011train-error:0.095133#011validation-error:0.1527\u001b[0m\n",
      "\u001b[34m[12:43:04] src/tree/updater_prune.cc:74: tree pruning end, 1 roots, 10 extra nodes, 12 pruned nodes, max_depth=5\u001b[0m\n",
      "\u001b[34m[119]#011train-error:0.094933#011validation-error:0.152\u001b[0m\n",
      "\u001b[34m[12:43:05] src/tree/updater_prune.cc:74: tree pruning end, 1 roots, 14 extra nodes, 18 pruned nodes, max_depth=5\u001b[0m\n",
      "\u001b[34m[120]#011train-error:0.0944#011validation-error:0.1523\u001b[0m\n",
      "\u001b[34m[12:43:07] src/tree/updater_prune.cc:74: tree pruning end, 1 roots, 12 extra nodes, 2 pruned nodes, max_depth=5\u001b[0m\n",
      "\u001b[34m[121]#011train-error:0.093467#011validation-error:0.1517\u001b[0m\n",
      "\u001b[34m[12:43:08] src/tree/updater_prune.cc:74: tree pruning end, 1 roots, 12 extra nodes, 6 pruned nodes, max_depth=5\u001b[0m\n",
      "\u001b[34m[122]#011train-error:0.093667#011validation-error:0.1509\u001b[0m\n",
      "\u001b[34m[12:43:09] src/tree/updater_prune.cc:74: tree pruning end, 1 roots, 20 extra nodes, 4 pruned nodes, max_depth=5\u001b[0m\n",
      "\u001b[34m[123]#011train-error:0.092667#011validation-error:0.1505\u001b[0m\n",
      "\u001b[34m[12:43:11] src/tree/updater_prune.cc:74: tree pruning end, 1 roots, 20 extra nodes, 20 pruned nodes, max_depth=5\u001b[0m\n",
      "\u001b[34m[124]#011train-error:0.092533#011validation-error:0.1504\u001b[0m\n",
      "\u001b[34m[12:43:12] src/tree/updater_prune.cc:74: tree pruning end, 1 roots, 14 extra nodes, 8 pruned nodes, max_depth=5\u001b[0m\n",
      "\u001b[34m[125]#011train-error:0.092533#011validation-error:0.15\u001b[0m\n",
      "\u001b[34m[12:43:13] src/tree/updater_prune.cc:74: tree pruning end, 1 roots, 12 extra nodes, 4 pruned nodes, max_depth=5\u001b[0m\n",
      "\u001b[34m[126]#011train-error:0.091733#011validation-error:0.1505\u001b[0m\n",
      "\u001b[34m[12:43:14] src/tree/updater_prune.cc:74: tree pruning end, 1 roots, 12 extra nodes, 8 pruned nodes, max_depth=5\u001b[0m\n",
      "\u001b[34m[127]#011train-error:0.0916#011validation-error:0.1499\u001b[0m\n",
      "\u001b[34m[12:43:16] src/tree/updater_prune.cc:74: tree pruning end, 1 roots, 14 extra nodes, 8 pruned nodes, max_depth=5\u001b[0m\n",
      "\u001b[34m[128]#011train-error:0.0912#011validation-error:0.1489\u001b[0m\n",
      "\u001b[34m[12:43:17] src/tree/updater_prune.cc:74: tree pruning end, 1 roots, 22 extra nodes, 2 pruned nodes, max_depth=5\u001b[0m\n",
      "\u001b[34m[129]#011train-error:0.0912#011validation-error:0.1493\u001b[0m\n",
      "\u001b[34m[12:43:18] src/tree/updater_prune.cc:74: tree pruning end, 1 roots, 12 extra nodes, 8 pruned nodes, max_depth=5\u001b[0m\n",
      "\u001b[34m[130]#011train-error:0.091333#011validation-error:0.1486\u001b[0m\n",
      "\u001b[34m[12:43:20] src/tree/updater_prune.cc:74: tree pruning end, 1 roots, 12 extra nodes, 4 pruned nodes, max_depth=5\u001b[0m\n",
      "\u001b[34m[131]#011train-error:0.091#011validation-error:0.1485\u001b[0m\n",
      "\u001b[34m[12:43:21] src/tree/updater_prune.cc:74: tree pruning end, 1 roots, 16 extra nodes, 10 pruned nodes, max_depth=5\u001b[0m\n",
      "\u001b[34m[132]#011train-error:0.090467#011validation-error:0.1484\u001b[0m\n",
      "\u001b[34m[12:43:22] src/tree/updater_prune.cc:74: tree pruning end, 1 roots, 12 extra nodes, 8 pruned nodes, max_depth=5\u001b[0m\n",
      "\u001b[34m[133]#011train-error:0.090533#011validation-error:0.1477\u001b[0m\n",
      "\u001b[34m[12:43:24] src/tree/updater_prune.cc:74: tree pruning end, 1 roots, 10 extra nodes, 6 pruned nodes, max_depth=5\u001b[0m\n",
      "\u001b[34m[134]#011train-error:0.089733#011validation-error:0.1475\u001b[0m\n",
      "\u001b[34m[12:43:25] src/tree/updater_prune.cc:74: tree pruning end, 1 roots, 12 extra nodes, 6 pruned nodes, max_depth=5\u001b[0m\n",
      "\u001b[34m[135]#011train-error:0.0892#011validation-error:0.1474\u001b[0m\n",
      "\u001b[34m[12:43:26] src/tree/updater_prune.cc:74: tree pruning end, 1 roots, 22 extra nodes, 8 pruned nodes, max_depth=5\u001b[0m\n",
      "\u001b[34m[136]#011train-error:0.088933#011validation-error:0.148\u001b[0m\n",
      "\u001b[34m[12:43:27] src/tree/updater_prune.cc:74: tree pruning end, 1 roots, 24 extra nodes, 20 pruned nodes, max_depth=5\u001b[0m\n",
      "\u001b[34m[137]#011train-error:0.089133#011validation-error:0.1475\u001b[0m\n",
      "\u001b[34m[12:43:29] src/tree/updater_prune.cc:74: tree pruning end, 1 roots, 12 extra nodes, 10 pruned nodes, max_depth=5\u001b[0m\n",
      "\u001b[34m[138]#011train-error:0.088867#011validation-error:0.1476\u001b[0m\n",
      "\u001b[34m[12:43:30] src/tree/updater_prune.cc:74: tree pruning end, 1 roots, 10 extra nodes, 12 pruned nodes, max_depth=5\u001b[0m\n",
      "\u001b[34m[139]#011train-error:0.0888#011validation-error:0.1467\u001b[0m\n",
      "\u001b[34m[12:43:31] src/tree/updater_prune.cc:74: tree pruning end, 1 roots, 12 extra nodes, 12 pruned nodes, max_depth=5\u001b[0m\n",
      "\u001b[34m[140]#011train-error:0.088667#011validation-error:0.1454\u001b[0m\n",
      "\u001b[34m[12:43:33] src/tree/updater_prune.cc:74: tree pruning end, 1 roots, 18 extra nodes, 14 pruned nodes, max_depth=5\u001b[0m\n",
      "\u001b[34m[141]#011train-error:0.0884#011validation-error:0.1451\u001b[0m\n",
      "\u001b[34m[12:43:34] src/tree/updater_prune.cc:74: tree pruning end, 1 roots, 34 extra nodes, 10 pruned nodes, max_depth=5\u001b[0m\n",
      "\u001b[34m[142]#011train-error:0.087333#011validation-error:0.1464\u001b[0m\n",
      "\u001b[34m[12:43:35] src/tree/updater_prune.cc:74: tree pruning end, 1 roots, 10 extra nodes, 2 pruned nodes, max_depth=5\u001b[0m\n",
      "\u001b[34m[143]#011train-error:0.086933#011validation-error:0.147\u001b[0m\n",
      "\u001b[34m[12:43:36] src/tree/updater_prune.cc:74: tree pruning end, 1 roots, 26 extra nodes, 8 pruned nodes, max_depth=5\u001b[0m\n",
      "\u001b[34m[144]#011train-error:0.086267#011validation-error:0.1474\u001b[0m\n",
      "\u001b[34m[12:43:38] src/tree/updater_prune.cc:74: tree pruning end, 1 roots, 16 extra nodes, 10 pruned nodes, max_depth=5\u001b[0m\n",
      "\u001b[34m[145]#011train-error:0.086333#011validation-error:0.1463\u001b[0m\n",
      "\u001b[34m[12:43:39] src/tree/updater_prune.cc:74: tree pruning end, 1 roots, 18 extra nodes, 12 pruned nodes, max_depth=5\u001b[0m\n",
      "\u001b[34m[146]#011train-error:0.086333#011validation-error:0.146\u001b[0m\n",
      "\u001b[34m[12:43:40] src/tree/updater_prune.cc:74: tree pruning end, 1 roots, 16 extra nodes, 10 pruned nodes, max_depth=5\u001b[0m\n",
      "\u001b[34m[147]#011train-error:0.085867#011validation-error:0.1465\u001b[0m\n",
      "\u001b[34m[12:43:42] src/tree/updater_prune.cc:74: tree pruning end, 1 roots, 14 extra nodes, 4 pruned nodes, max_depth=5\u001b[0m\n",
      "\u001b[34m[148]#011train-error:0.085533#011validation-error:0.1459\u001b[0m\n",
      "\u001b[34m[12:43:43] src/tree/updater_prune.cc:74: tree pruning end, 1 roots, 14 extra nodes, 4 pruned nodes, max_depth=5\u001b[0m\n",
      "\u001b[34m[149]#011train-error:0.084733#011validation-error:0.1449\u001b[0m\n",
      "\u001b[34m[12:43:44] src/tree/updater_prune.cc:74: tree pruning end, 1 roots, 10 extra nodes, 4 pruned nodes, max_depth=5\u001b[0m\n",
      "\u001b[34m[150]#011train-error:0.084467#011validation-error:0.1442\u001b[0m\n",
      "\u001b[34m[12:43:45] src/tree/updater_prune.cc:74: tree pruning end, 1 roots, 16 extra nodes, 20 pruned nodes, max_depth=5\u001b[0m\n",
      "\u001b[34m[151]#011train-error:0.084467#011validation-error:0.1443\u001b[0m\n",
      "\u001b[34m[12:43:47] src/tree/updater_prune.cc:74: tree pruning end, 1 roots, 16 extra nodes, 6 pruned nodes, max_depth=5\u001b[0m\n",
      "\u001b[34m[152]#011train-error:0.0842#011validation-error:0.1439\u001b[0m\n",
      "\u001b[34m[12:43:48] src/tree/updater_prune.cc:74: tree pruning end, 1 roots, 10 extra nodes, 6 pruned nodes, max_depth=5\u001b[0m\n",
      "\u001b[34m[153]#011train-error:0.084#011validation-error:0.1445\u001b[0m\n",
      "\u001b[34m[12:43:49] src/tree/updater_prune.cc:74: tree pruning end, 1 roots, 18 extra nodes, 6 pruned nodes, max_depth=5\u001b[0m\n",
      "\u001b[34m[154]#011train-error:0.0836#011validation-error:0.1432\u001b[0m\n",
      "\u001b[34m[12:43:51] src/tree/updater_prune.cc:74: tree pruning end, 1 roots, 10 extra nodes, 2 pruned nodes, max_depth=5\u001b[0m\n",
      "\u001b[34m[155]#011train-error:0.083467#011validation-error:0.1429\u001b[0m\n",
      "\u001b[34m[12:43:52] src/tree/updater_prune.cc:74: tree pruning end, 1 roots, 14 extra nodes, 6 pruned nodes, max_depth=5\u001b[0m\n",
      "\u001b[34m[156]#011train-error:0.0834#011validation-error:0.1433\u001b[0m\n",
      "\u001b[34m[12:43:53] src/tree/updater_prune.cc:74: tree pruning end, 1 roots, 12 extra nodes, 6 pruned nodes, max_depth=5\u001b[0m\n",
      "\u001b[34m[157]#011train-error:0.0826#011validation-error:0.1423\u001b[0m\n",
      "\u001b[34m[12:43:54] src/tree/updater_prune.cc:74: tree pruning end, 1 roots, 20 extra nodes, 4 pruned nodes, max_depth=5\u001b[0m\n",
      "\u001b[34m[158]#011train-error:0.0824#011validation-error:0.1423\u001b[0m\n",
      "\u001b[34m[12:43:56] src/tree/updater_prune.cc:74: tree pruning end, 1 roots, 16 extra nodes, 16 pruned nodes, max_depth=5\u001b[0m\n",
      "\u001b[34m[159]#011train-error:0.082067#011validation-error:0.1424\u001b[0m\n",
      "\u001b[34m[12:43:57] src/tree/updater_prune.cc:74: tree pruning end, 1 roots, 12 extra nodes, 8 pruned nodes, max_depth=5\u001b[0m\n",
      "\u001b[34m[160]#011train-error:0.081667#011validation-error:0.1431\u001b[0m\n",
      "\u001b[34m[12:43:58] src/tree/updater_prune.cc:74: tree pruning end, 1 roots, 18 extra nodes, 12 pruned nodes, max_depth=5\u001b[0m\n",
      "\u001b[34m[161]#011train-error:0.081333#011validation-error:0.1431\u001b[0m\n",
      "\u001b[34m[12:44:00] src/tree/updater_prune.cc:74: tree pruning end, 1 roots, 12 extra nodes, 10 pruned nodes, max_depth=5\u001b[0m\n",
      "\u001b[34m[162]#011train-error:0.081133#011validation-error:0.1423\u001b[0m\n",
      "\u001b[34m[12:44:01] src/tree/updater_prune.cc:74: tree pruning end, 1 roots, 10 extra nodes, 8 pruned nodes, max_depth=5\u001b[0m\n",
      "\u001b[34m[163]#011train-error:0.081267#011validation-error:0.1425\u001b[0m\n",
      "\u001b[34m[12:44:02] src/tree/updater_prune.cc:74: tree pruning end, 1 roots, 18 extra nodes, 6 pruned nodes, max_depth=5\u001b[0m\n",
      "\u001b[34m[164]#011train-error:0.080933#011validation-error:0.142\u001b[0m\n",
      "\u001b[34m[12:44:03] src/tree/updater_prune.cc:74: tree pruning end, 1 roots, 16 extra nodes, 14 pruned nodes, max_depth=5\u001b[0m\n",
      "\u001b[34m[165]#011train-error:0.081333#011validation-error:0.1418\u001b[0m\n",
      "\u001b[34m[12:44:05] src/tree/updater_prune.cc:74: tree pruning end, 1 roots, 14 extra nodes, 6 pruned nodes, max_depth=5\u001b[0m\n",
      "\u001b[34m[166]#011train-error:0.080867#011validation-error:0.1426\u001b[0m\n",
      "\u001b[34m[12:44:06] src/tree/updater_prune.cc:74: tree pruning end, 1 roots, 10 extra nodes, 4 pruned nodes, max_depth=5\u001b[0m\n",
      "\u001b[34m[167]#011train-error:0.080267#011validation-error:0.1428\u001b[0m\n",
      "\u001b[34m[12:44:07] src/tree/updater_prune.cc:74: tree pruning end, 1 roots, 14 extra nodes, 6 pruned nodes, max_depth=5\u001b[0m\n",
      "\u001b[34m[168]#011train-error:0.0802#011validation-error:0.1423\u001b[0m\n",
      "\u001b[34m[12:44:09] src/tree/updater_prune.cc:74: tree pruning end, 1 roots, 14 extra nodes, 2 pruned nodes, max_depth=5\u001b[0m\n",
      "\u001b[34m[169]#011train-error:0.080133#011validation-error:0.1425\u001b[0m\n",
      "\u001b[34m[12:44:10] src/tree/updater_prune.cc:74: tree pruning end, 1 roots, 12 extra nodes, 12 pruned nodes, max_depth=5\u001b[0m\n",
      "\u001b[34m[170]#011train-error:0.0798#011validation-error:0.1429\u001b[0m\n",
      "\u001b[34m[12:44:11] src/tree/updater_prune.cc:74: tree pruning end, 1 roots, 10 extra nodes, 8 pruned nodes, max_depth=5\u001b[0m\n",
      "\u001b[34m[171]#011train-error:0.079733#011validation-error:0.1432\u001b[0m\n",
      "\u001b[34m[12:44:12] src/tree/updater_prune.cc:74: tree pruning end, 1 roots, 14 extra nodes, 6 pruned nodes, max_depth=5\u001b[0m\n",
      "\u001b[34m[172]#011train-error:0.079267#011validation-error:0.1424\u001b[0m\n",
      "\u001b[34m[12:44:14] src/tree/updater_prune.cc:74: tree pruning end, 1 roots, 14 extra nodes, 4 pruned nodes, max_depth=5\u001b[0m\n",
      "\u001b[34m[173]#011train-error:0.079267#011validation-error:0.1427\u001b[0m\n",
      "\u001b[34m[12:44:15] src/tree/updater_prune.cc:74: tree pruning end, 1 roots, 12 extra nodes, 2 pruned nodes, max_depth=5\u001b[0m\n",
      "\u001b[34m[174]#011train-error:0.0798#011validation-error:0.1428\u001b[0m\n",
      "\u001b[34m[12:44:16] src/tree/updater_prune.cc:74: tree pruning end, 1 roots, 28 extra nodes, 10 pruned nodes, max_depth=5\u001b[0m\n",
      "\u001b[34m[175]#011train-error:0.0796#011validation-error:0.1422\u001b[0m\n",
      "\u001b[34mStopping. Best iteration:\u001b[0m\n",
      "\u001b[34m[165]#011train-error:0.081333#011validation-error:0.1418\n",
      "\u001b[0m\n",
      "\n",
      "2020-08-29 12:44:28 Uploading - Uploading generated training model\n",
      "2020-08-29 12:44:28 Completed - Training job completed\n",
      "Training seconds: 287\n",
      "Billable seconds: 287\n"
     ]
    }
   ],
   "source": [
    "xgb.fit({'train': s3_input_train, 'validation': s3_input_validation})"
   ]
  },
  {
   "cell_type": "markdown",
   "metadata": {},
   "source": [
    "## Step 5: Testing the model\n",
    "\n",
    "Now that we've fit our XGBoost model, it's time to see how well it performs. To do this we will use SageMakers Batch Transform functionality. Batch Transform is a convenient way to perform inference on a large dataset in a way that is not realtime. That is, we don't necessarily need to use our model's results immediately and instead we can perform inference on a large number of samples. An example of this in industry might be performing an end of month report. This method of inference can also be useful to us as it means that we can perform inference on our entire test set. \n",
    "\n",
    "To perform a Batch Transformation we need to first create a transformer objects from our trained estimator object."
   ]
  },
  {
   "cell_type": "code",
   "execution_count": 25,
   "metadata": {},
   "outputs": [
    {
     "name": "stderr",
     "output_type": "stream",
     "text": [
      "Parameter image will be renamed to image_uri in SageMaker Python SDK v2.\n"
     ]
    }
   ],
   "source": [
    "xgb_transformer = xgb.transformer(instance_count = 1, instance_type = 'ml.m4.xlarge')"
   ]
  },
  {
   "cell_type": "markdown",
   "metadata": {},
   "source": [
    "Next we actually perform the transform job. When doing so we need to make sure to specify the type of data we are sending so that it is serialized correctly in the background. In our case we are providing our model with csv data so we specify `text/csv`. Also, if the test data that we have provided is too large to process all at once then we need to specify how the data file should be split up. Since each line is a single entry in our data set we tell SageMaker that it can split the input on each line."
   ]
  },
  {
   "cell_type": "code",
   "execution_count": 26,
   "metadata": {},
   "outputs": [],
   "source": [
    "xgb_transformer.transform(test_location, content_type='text/csv', split_type='Line')"
   ]
  },
  {
   "cell_type": "markdown",
   "metadata": {},
   "source": [
    "Currently the transform job is running but it is doing so in the background. Since we wish to wait until the transform job is done and we would like a bit of feedback we can run the `wait()` method."
   ]
  },
  {
   "cell_type": "code",
   "execution_count": 27,
   "metadata": {},
   "outputs": [
    {
     "name": "stdout",
     "output_type": "stream",
     "text": [
      "............................\u001b[32m2020-08-29T12:49:18.834:[sagemaker logs]: MaxConcurrentTransforms=4, MaxPayloadInMB=6, BatchStrategy=MULTI_RECORD\u001b[0m\n",
      "\u001b[34mArguments: serve\u001b[0m\n",
      "\u001b[34m[2020-08-29 12:49:18 +0000] [1] [INFO] Starting gunicorn 19.7.1\u001b[0m\n",
      "\u001b[34m[2020-08-29 12:49:18 +0000] [1] [INFO] Listening at: http://0.0.0.0:8080 (1)\u001b[0m\n",
      "\u001b[34m[2020-08-29 12:49:18 +0000] [1] [INFO] Using worker: gevent\u001b[0m\n",
      "\u001b[35mArguments: serve\u001b[0m\n",
      "\u001b[35m[2020-08-29 12:49:18 +0000] [1] [INFO] Starting gunicorn 19.7.1\u001b[0m\n",
      "\u001b[35m[2020-08-29 12:49:18 +0000] [1] [INFO] Listening at: http://0.0.0.0:8080 (1)\u001b[0m\n",
      "\u001b[35m[2020-08-29 12:49:18 +0000] [1] [INFO] Using worker: gevent\u001b[0m\n",
      "\u001b[34m[2020-08-29 12:49:18 +0000] [37] [INFO] Booting worker with pid: 37\u001b[0m\n",
      "\u001b[34m[2020-08-29:12:49:18:INFO] Model loaded successfully for worker : 37\u001b[0m\n",
      "\u001b[34m[2020-08-29 12:49:18 +0000] [38] [INFO] Booting worker with pid: 38\u001b[0m\n",
      "\u001b[34m[2020-08-29 12:49:18 +0000] [39] [INFO] Booting worker with pid: 39\u001b[0m\n",
      "\u001b[34m[2020-08-29 12:49:18 +0000] [40] [INFO] Booting worker with pid: 40\u001b[0m\n",
      "\u001b[34m[2020-08-29:12:49:18:INFO] Model loaded successfully for worker : 39\u001b[0m\n",
      "\u001b[34m[2020-08-29:12:49:18:INFO] Model loaded successfully for worker : 38\u001b[0m\n",
      "\u001b[34m[2020-08-29:12:49:18:INFO] Model loaded successfully for worker : 40\u001b[0m\n",
      "\u001b[34m[2020-08-29:12:49:19:INFO] Sniff delimiter as ','\u001b[0m\n",
      "\u001b[34m[2020-08-29:12:49:19:INFO] Determined delimiter of CSV input is ','\u001b[0m\n",
      "\u001b[34m[2020-08-29:12:49:19:INFO] Sniff delimiter as ','\u001b[0m\n",
      "\u001b[34m[2020-08-29:12:49:19:INFO] Determined delimiter of CSV input is ','\u001b[0m\n",
      "\u001b[35m[2020-08-29 12:49:18 +0000] [37] [INFO] Booting worker with pid: 37\u001b[0m\n",
      "\u001b[35m[2020-08-29:12:49:18:INFO] Model loaded successfully for worker : 37\u001b[0m\n",
      "\u001b[35m[2020-08-29 12:49:18 +0000] [38] [INFO] Booting worker with pid: 38\u001b[0m\n",
      "\u001b[35m[2020-08-29 12:49:18 +0000] [39] [INFO] Booting worker with pid: 39\u001b[0m\n",
      "\u001b[35m[2020-08-29 12:49:18 +0000] [40] [INFO] Booting worker with pid: 40\u001b[0m\n",
      "\u001b[35m[2020-08-29:12:49:18:INFO] Model loaded successfully for worker : 39\u001b[0m\n",
      "\u001b[35m[2020-08-29:12:49:18:INFO] Model loaded successfully for worker : 38\u001b[0m\n",
      "\u001b[35m[2020-08-29:12:49:18:INFO] Model loaded successfully for worker : 40\u001b[0m\n",
      "\u001b[35m[2020-08-29:12:49:19:INFO] Sniff delimiter as ','\u001b[0m\n",
      "\u001b[35m[2020-08-29:12:49:19:INFO] Determined delimiter of CSV input is ','\u001b[0m\n",
      "\u001b[35m[2020-08-29:12:49:19:INFO] Sniff delimiter as ','\u001b[0m\n",
      "\u001b[35m[2020-08-29:12:49:19:INFO] Determined delimiter of CSV input is ','\u001b[0m\n",
      "\u001b[34m[2020-08-29:12:49:19:INFO] Sniff delimiter as ','\u001b[0m\n",
      "\u001b[34m[2020-08-29:12:49:19:INFO] Determined delimiter of CSV input is ','\u001b[0m\n",
      "\u001b[35m[2020-08-29:12:49:19:INFO] Sniff delimiter as ','\u001b[0m\n",
      "\u001b[35m[2020-08-29:12:49:19:INFO] Determined delimiter of CSV input is ','\u001b[0m\n",
      "\u001b[34m[2020-08-29:12:49:21:INFO] Sniff delimiter as ','\u001b[0m\n",
      "\u001b[34m[2020-08-29:12:49:21:INFO] Determined delimiter of CSV input is ','\u001b[0m\n",
      "\u001b[34m[2020-08-29:12:49:21:INFO] Sniff delimiter as ','\u001b[0m\n",
      "\u001b[34m[2020-08-29:12:49:21:INFO] Determined delimiter of CSV input is ','\u001b[0m\n",
      "\u001b[34m[2020-08-29:12:49:21:INFO] Sniff delimiter as ','\u001b[0m\n",
      "\u001b[34m[2020-08-29:12:49:21:INFO] Determined delimiter of CSV input is ','\u001b[0m\n",
      "\u001b[35m[2020-08-29:12:49:21:INFO] Sniff delimiter as ','\u001b[0m\n",
      "\u001b[35m[2020-08-29:12:49:21:INFO] Determined delimiter of CSV input is ','\u001b[0m\n",
      "\u001b[35m[2020-08-29:12:49:21:INFO] Sniff delimiter as ','\u001b[0m\n",
      "\u001b[35m[2020-08-29:12:49:21:INFO] Determined delimiter of CSV input is ','\u001b[0m\n",
      "\u001b[35m[2020-08-29:12:49:21:INFO] Sniff delimiter as ','\u001b[0m\n",
      "\u001b[35m[2020-08-29:12:49:21:INFO] Determined delimiter of CSV input is ','\u001b[0m\n",
      "\u001b[34m[2020-08-29:12:49:22:INFO] Sniff delimiter as ','\u001b[0m\n",
      "\u001b[34m[2020-08-29:12:49:22:INFO] Determined delimiter of CSV input is ','\u001b[0m\n",
      "\u001b[34m[2020-08-29:12:49:23:INFO] Sniff delimiter as ','\u001b[0m\n",
      "\u001b[34m[2020-08-29:12:49:23:INFO] Determined delimiter of CSV input is ','\u001b[0m\n",
      "\u001b[34m[2020-08-29:12:49:23:INFO] Sniff delimiter as ','\u001b[0m\n",
      "\u001b[34m[2020-08-29:12:49:23:INFO] Determined delimiter of CSV input is ','\u001b[0m\n",
      "\u001b[35m[2020-08-29:12:49:22:INFO] Sniff delimiter as ','\u001b[0m\n",
      "\u001b[35m[2020-08-29:12:49:22:INFO] Determined delimiter of CSV input is ','\u001b[0m\n",
      "\u001b[35m[2020-08-29:12:49:23:INFO] Sniff delimiter as ','\u001b[0m\n",
      "\u001b[35m[2020-08-29:12:49:23:INFO] Determined delimiter of CSV input is ','\u001b[0m\n",
      "\u001b[35m[2020-08-29:12:49:23:INFO] Sniff delimiter as ','\u001b[0m\n",
      "\u001b[35m[2020-08-29:12:49:23:INFO] Determined delimiter of CSV input is ','\u001b[0m\n",
      "\u001b[34m[2020-08-29:12:49:24:INFO] Sniff delimiter as ','\u001b[0m\n",
      "\u001b[34m[2020-08-29:12:49:24:INFO] Determined delimiter of CSV input is ','\u001b[0m\n",
      "\u001b[34m[2020-08-29:12:49:24:INFO] Sniff delimiter as ','\u001b[0m\n",
      "\u001b[34m[2020-08-29:12:49:24:INFO] Determined delimiter of CSV input is ','\u001b[0m\n",
      "\u001b[34m[2020-08-29:12:49:24:INFO] Sniff delimiter as ','\u001b[0m\n",
      "\u001b[34m[2020-08-29:12:49:24:INFO] Determined delimiter of CSV input is ','\u001b[0m\n",
      "\u001b[35m[2020-08-29:12:49:24:INFO] Sniff delimiter as ','\u001b[0m\n",
      "\u001b[35m[2020-08-29:12:49:24:INFO] Determined delimiter of CSV input is ','\u001b[0m\n",
      "\u001b[35m[2020-08-29:12:49:24:INFO] Sniff delimiter as ','\u001b[0m\n",
      "\u001b[35m[2020-08-29:12:49:24:INFO] Determined delimiter of CSV input is ','\u001b[0m\n",
      "\u001b[35m[2020-08-29:12:49:24:INFO] Sniff delimiter as ','\u001b[0m\n",
      "\u001b[35m[2020-08-29:12:49:24:INFO] Determined delimiter of CSV input is ','\u001b[0m\n",
      "\u001b[34m[2020-08-29:12:49:26:INFO] Sniff delimiter as ','\u001b[0m\n",
      "\u001b[34m[2020-08-29:12:49:26:INFO] Determined delimiter of CSV input is ','\u001b[0m\n",
      "\u001b[35m[2020-08-29:12:49:26:INFO] Sniff delimiter as ','\u001b[0m\n",
      "\u001b[35m[2020-08-29:12:49:26:INFO] Determined delimiter of CSV input is ','\u001b[0m\n",
      "\u001b[34m[2020-08-29:12:49:27:INFO] Sniff delimiter as ','\u001b[0m\n",
      "\u001b[34m[2020-08-29:12:49:27:INFO] Determined delimiter of CSV input is ','\u001b[0m\n",
      "\u001b[35m[2020-08-29:12:49:27:INFO] Sniff delimiter as ','\u001b[0m\n",
      "\u001b[35m[2020-08-29:12:49:27:INFO] Determined delimiter of CSV input is ','\u001b[0m\n",
      "\u001b[34m[2020-08-29:12:49:27:INFO] Sniff delimiter as ','\u001b[0m\n",
      "\u001b[34m[2020-08-29:12:49:27:INFO] Determined delimiter of CSV input is ','\u001b[0m\n",
      "\u001b[35m[2020-08-29:12:49:27:INFO] Sniff delimiter as ','\u001b[0m\n",
      "\u001b[35m[2020-08-29:12:49:27:INFO] Determined delimiter of CSV input is ','\u001b[0m\n",
      "\u001b[34m[2020-08-29:12:49:27:INFO] Sniff delimiter as ','\u001b[0m\n",
      "\u001b[34m[2020-08-29:12:49:27:INFO] Determined delimiter of CSV input is ','\u001b[0m\n",
      "\u001b[35m[2020-08-29:12:49:27:INFO] Sniff delimiter as ','\u001b[0m\n",
      "\u001b[35m[2020-08-29:12:49:27:INFO] Determined delimiter of CSV input is ','\u001b[0m\n",
      "\u001b[34m[2020-08-29:12:49:28:INFO] Sniff delimiter as ','\u001b[0m\n",
      "\u001b[34m[2020-08-29:12:49:28:INFO] Determined delimiter of CSV input is ','\u001b[0m\n",
      "\u001b[34m[2020-08-29:12:49:29:INFO] Sniff delimiter as ','\u001b[0m\n",
      "\u001b[34m[2020-08-29:12:49:29:INFO] Determined delimiter of CSV input is ','\u001b[0m\n",
      "\u001b[35m[2020-08-29:12:49:28:INFO] Sniff delimiter as ','\u001b[0m\n",
      "\u001b[35m[2020-08-29:12:49:28:INFO] Determined delimiter of CSV input is ','\u001b[0m\n",
      "\u001b[35m[2020-08-29:12:49:29:INFO] Sniff delimiter as ','\u001b[0m\n",
      "\u001b[35m[2020-08-29:12:49:29:INFO] Determined delimiter of CSV input is ','\u001b[0m\n",
      "\u001b[34m[2020-08-29:12:49:31:INFO] Sniff delimiter as ','\u001b[0m\n",
      "\u001b[34m[2020-08-29:12:49:31:INFO] Determined delimiter of CSV input is ','\u001b[0m\n",
      "\u001b[34m[2020-08-29:12:49:31:INFO] Sniff delimiter as ','\u001b[0m\n",
      "\u001b[34m[2020-08-29:12:49:31:INFO] Determined delimiter of CSV input is ','\u001b[0m\n",
      "\u001b[35m[2020-08-29:12:49:31:INFO] Sniff delimiter as ','\u001b[0m\n",
      "\u001b[35m[2020-08-29:12:49:31:INFO] Determined delimiter of CSV input is ','\u001b[0m\n",
      "\u001b[35m[2020-08-29:12:49:31:INFO] Sniff delimiter as ','\u001b[0m\n",
      "\u001b[35m[2020-08-29:12:49:31:INFO] Determined delimiter of CSV input is ','\u001b[0m\n",
      "\u001b[34m[2020-08-29:12:49:32:INFO] Sniff delimiter as ','\u001b[0m\n",
      "\u001b[34m[2020-08-29:12:49:32:INFO] Determined delimiter of CSV input is ','\u001b[0m\n",
      "\u001b[34m[2020-08-29:12:49:32:INFO] Sniff delimiter as ','\u001b[0m\n",
      "\u001b[34m[2020-08-29:12:49:32:INFO] Determined delimiter of CSV input is ','\u001b[0m\n",
      "\u001b[35m[2020-08-29:12:49:32:INFO] Sniff delimiter as ','\u001b[0m\n",
      "\u001b[35m[2020-08-29:12:49:32:INFO] Determined delimiter of CSV input is ','\u001b[0m\n",
      "\u001b[35m[2020-08-29:12:49:32:INFO] Sniff delimiter as ','\u001b[0m\n",
      "\u001b[35m[2020-08-29:12:49:32:INFO] Determined delimiter of CSV input is ','\u001b[0m\n",
      "\u001b[34m[2020-08-29:12:49:33:INFO] Sniff delimiter as ','\u001b[0m\n",
      "\u001b[34m[2020-08-29:12:49:33:INFO] Determined delimiter of CSV input is ','\u001b[0m\n",
      "\u001b[34m[2020-08-29:12:49:33:INFO] Sniff delimiter as ','\u001b[0m\n",
      "\u001b[34m[2020-08-29:12:49:33:INFO] Determined delimiter of CSV input is ','\u001b[0m\n",
      "\u001b[35m[2020-08-29:12:49:33:INFO] Sniff delimiter as ','\u001b[0m\n",
      "\u001b[35m[2020-08-29:12:49:33:INFO] Determined delimiter of CSV input is ','\u001b[0m\n",
      "\u001b[35m[2020-08-29:12:49:33:INFO] Sniff delimiter as ','\u001b[0m\n",
      "\u001b[35m[2020-08-29:12:49:33:INFO] Determined delimiter of CSV input is ','\u001b[0m\n",
      "\u001b[34m[2020-08-29:12:49:34:INFO] Sniff delimiter as ','\u001b[0m\n",
      "\u001b[34m[2020-08-29:12:49:34:INFO] Determined delimiter of CSV input is ','\u001b[0m\n",
      "\u001b[34m[2020-08-29:12:49:34:INFO] Sniff delimiter as ','\u001b[0m\n",
      "\u001b[34m[2020-08-29:12:49:34:INFO] Determined delimiter of CSV input is ','\u001b[0m\n",
      "\u001b[35m[2020-08-29:12:49:34:INFO] Sniff delimiter as ','\u001b[0m\n",
      "\u001b[35m[2020-08-29:12:49:34:INFO] Determined delimiter of CSV input is ','\u001b[0m\n",
      "\u001b[35m[2020-08-29:12:49:34:INFO] Sniff delimiter as ','\u001b[0m\n",
      "\u001b[35m[2020-08-29:12:49:34:INFO] Determined delimiter of CSV input is ','\u001b[0m\n",
      "\u001b[34m[2020-08-29:12:49:35:INFO] Sniff delimiter as ','\u001b[0m\n",
      "\u001b[34m[2020-08-29:12:49:35:INFO] Determined delimiter of CSV input is ','\u001b[0m\n",
      "\u001b[34m[2020-08-29:12:49:35:INFO] Sniff delimiter as ','\u001b[0m\n",
      "\u001b[34m[2020-08-29:12:49:35:INFO] Determined delimiter of CSV input is ','\u001b[0m\n",
      "\u001b[35m[2020-08-29:12:49:35:INFO] Sniff delimiter as ','\u001b[0m\n",
      "\u001b[35m[2020-08-29:12:49:35:INFO] Determined delimiter of CSV input is ','\u001b[0m\n",
      "\u001b[35m[2020-08-29:12:49:35:INFO] Sniff delimiter as ','\u001b[0m\n",
      "\u001b[35m[2020-08-29:12:49:35:INFO] Determined delimiter of CSV input is ','\u001b[0m\n",
      "\u001b[34m[2020-08-29:12:49:37:INFO] Sniff delimiter as ','\u001b[0m\n",
      "\u001b[34m[2020-08-29:12:49:37:INFO] Determined delimiter of CSV input is ','\u001b[0m\n",
      "\u001b[34m[2020-08-29:12:49:37:INFO] Sniff delimiter as ','\u001b[0m\n",
      "\u001b[34m[2020-08-29:12:49:37:INFO] Determined delimiter of CSV input is ','\u001b[0m\n",
      "\u001b[35m[2020-08-29:12:49:37:INFO] Sniff delimiter as ','\u001b[0m\n",
      "\u001b[35m[2020-08-29:12:49:37:INFO] Determined delimiter of CSV input is ','\u001b[0m\n",
      "\u001b[35m[2020-08-29:12:49:37:INFO] Sniff delimiter as ','\u001b[0m\n",
      "\u001b[35m[2020-08-29:12:49:37:INFO] Determined delimiter of CSV input is ','\u001b[0m\n",
      "\u001b[34m[2020-08-29:12:49:38:INFO] Sniff delimiter as ','\u001b[0m\n",
      "\u001b[34m[2020-08-29:12:49:38:INFO] Determined delimiter of CSV input is ','\u001b[0m\n",
      "\u001b[34m[2020-08-29:12:49:38:INFO] Sniff delimiter as ','\u001b[0m\n",
      "\u001b[34m[2020-08-29:12:49:38:INFO] Determined delimiter of CSV input is ','\u001b[0m\n",
      "\u001b[35m[2020-08-29:12:49:38:INFO] Sniff delimiter as ','\u001b[0m\n",
      "\u001b[35m[2020-08-29:12:49:38:INFO] Determined delimiter of CSV input is ','\u001b[0m\n",
      "\u001b[35m[2020-08-29:12:49:38:INFO] Sniff delimiter as ','\u001b[0m\n",
      "\u001b[35m[2020-08-29:12:49:38:INFO] Determined delimiter of CSV input is ','\u001b[0m\n",
      "\n",
      "\u001b[34m[2020-08-29:12:49:40:INFO] Sniff delimiter as ','\u001b[0m\n",
      "\u001b[34m[2020-08-29:12:49:40:INFO] Determined delimiter of CSV input is ','\u001b[0m\n",
      "\u001b[34m[2020-08-29:12:49:40:INFO] Sniff delimiter as ','\u001b[0m\n",
      "\u001b[34m[2020-08-29:12:49:40:INFO] Determined delimiter of CSV input is ','\u001b[0m\n",
      "\u001b[35m[2020-08-29:12:49:40:INFO] Sniff delimiter as ','\u001b[0m\n",
      "\u001b[35m[2020-08-29:12:49:40:INFO] Determined delimiter of CSV input is ','\u001b[0m\n",
      "\u001b[35m[2020-08-29:12:49:40:INFO] Sniff delimiter as ','\u001b[0m\n",
      "\u001b[35m[2020-08-29:12:49:40:INFO] Determined delimiter of CSV input is ','\u001b[0m\n",
      "\u001b[34m[2020-08-29:12:49:41:INFO] Sniff delimiter as ','\u001b[0m\n",
      "\u001b[34m[2020-08-29:12:49:41:INFO] Determined delimiter of CSV input is ','\u001b[0m\n",
      "\u001b[35m[2020-08-29:12:49:41:INFO] Sniff delimiter as ','\u001b[0m\n",
      "\u001b[35m[2020-08-29:12:49:41:INFO] Determined delimiter of CSV input is ','\u001b[0m\n",
      "\u001b[34m[2020-08-29:12:49:42:INFO] Sniff delimiter as ','\u001b[0m\n",
      "\u001b[34m[2020-08-29:12:49:42:INFO] Determined delimiter of CSV input is ','\u001b[0m\n",
      "\u001b[35m[2020-08-29:12:49:42:INFO] Sniff delimiter as ','\u001b[0m\n",
      "\u001b[35m[2020-08-29:12:49:42:INFO] Determined delimiter of CSV input is ','\u001b[0m\n"
     ]
    }
   ],
   "source": [
    "xgb_transformer.wait()"
   ]
  },
  {
   "cell_type": "markdown",
   "metadata": {},
   "source": [
    "Now the transform job has executed and the result, the estimated sentiment of each review, has been saved on S3. Since we would rather work on this file locally we can perform a bit of notebook magic to copy the file to the `data_dir`."
   ]
  },
  {
   "cell_type": "code",
   "execution_count": 28,
   "metadata": {},
   "outputs": [
    {
     "name": "stdout",
     "output_type": "stream",
     "text": [
      "download: s3://sagemaker-eu-west-1-100264508876/xgboost-2020-08-29-12-44-50-370/test.csv.out to ../data/sentiment_web_app/test.csv.out\r\n"
     ]
    }
   ],
   "source": [
    "!aws s3 cp --recursive $xgb_transformer.output_path $data_dir"
   ]
  },
  {
   "cell_type": "markdown",
   "metadata": {},
   "source": [
    "The last step is now to read in the output from our model, convert the output to something a little more usable, in this case we want the sentiment to be either `1` (positive) or `0` (negative), and then compare to the ground truth labels."
   ]
  },
  {
   "cell_type": "code",
   "execution_count": 29,
   "metadata": {},
   "outputs": [],
   "source": [
    "predictions = pd.read_csv(os.path.join(data_dir, 'test.csv.out'), header=None)\n",
    "predictions = [round(num) for num in predictions.squeeze().values]"
   ]
  },
  {
   "cell_type": "code",
   "execution_count": 30,
   "metadata": {},
   "outputs": [
    {
     "data": {
      "text/plain": [
       "0.85872"
      ]
     },
     "execution_count": 30,
     "metadata": {},
     "output_type": "execute_result"
    }
   ],
   "source": [
    "from sklearn.metrics import accuracy_score\n",
    "accuracy_score(test_y, predictions)"
   ]
  },
  {
   "cell_type": "markdown",
   "metadata": {},
   "source": [
    "## Step 6: Deploying the model\n",
    "\n",
    "Once we construct and fit our model, SageMaker stores the resulting model artifacts and we can use those to deploy an endpoint (inference code). To see this, look in the SageMaker console and you should see that a model has been created along with a link to the S3 location where the model artifacts have been stored.\n",
    "\n",
    "Deploying an endpoint is a lot like training the model with a few important differences. The first is that a deployed model doesn't change the model artifacts, so as you send it various testing instances the model won't change. Another difference is that since we aren't performing a fixed computation, as we were in the training step or while performing a batch transform, the compute instance that gets started stays running until we tell it to stop. This is important to note as if we forget and leave it running we will be charged the entire time.\n",
    "\n",
    "In other words **If you are no longer using a deployed endpoint, shut it down!**"
   ]
  },
  {
   "cell_type": "code",
   "execution_count": 31,
   "metadata": {},
   "outputs": [
    {
     "name": "stderr",
     "output_type": "stream",
     "text": [
      "Parameter image will be renamed to image_uri in SageMaker Python SDK v2.\n",
      "Using already existing model: xgboost-2020-08-29-12-37-35-612\n"
     ]
    },
    {
     "name": "stdout",
     "output_type": "stream",
     "text": [
      "---------------!"
     ]
    }
   ],
   "source": [
    "xgb_predictor = xgb.deploy(initial_instance_count = 1, instance_type = 'ml.m4.xlarge')"
   ]
  },
  {
   "cell_type": "markdown",
   "metadata": {},
   "source": [
    "### Testing the model (again)\n",
    "\n",
    "Now that we have deployed our endpoint, we can send the testing data to it and get back the inference results. We already did this earlier using the batch transform functionality of SageMaker, however, we will test our model again using the newly deployed endpoint so that we can make sure that it works properly and to get a bit of a feel for how the endpoint works.\n",
    "\n",
    "When using the created endpoint it is important to know that we are limited in the amount of information we can send in each call so we need to break the testing data up into chunks and then send each chunk. Also, we need to serialize our data before we send it to the endpoint to ensure that our data is transmitted properly. Fortunately, SageMaker can do the serialization part for us provided we tell it the format of our data."
   ]
  },
  {
   "cell_type": "code",
   "execution_count": 32,
   "metadata": {},
   "outputs": [],
   "source": [
    "from sagemaker.predictor import csv_serializer\n",
    "\n",
    "# We need to tell the endpoint what format the data we are sending is in so that SageMaker can perform the serialization.\n",
    "xgb_predictor.content_type = 'text/csv'\n",
    "xgb_predictor.serializer = csv_serializer"
   ]
  },
  {
   "cell_type": "code",
   "execution_count": 33,
   "metadata": {},
   "outputs": [],
   "source": [
    "# We split the data into chunks and send each chunk seperately, accumulating the results.\n",
    "\n",
    "def predict(data, rows=512):\n",
    "    split_array = np.array_split(data, int(data.shape[0] / float(rows) + 1))\n",
    "    predictions = ''\n",
    "    for array in split_array:\n",
    "        predictions = ','.join([predictions, xgb_predictor.predict(array).decode('utf-8')])\n",
    "    \n",
    "    return np.fromstring(predictions[1:], sep=',')"
   ]
  },
  {
   "cell_type": "code",
   "execution_count": 34,
   "metadata": {},
   "outputs": [],
   "source": [
    "test_X = pd.read_csv(os.path.join(data_dir, 'test.csv'), header=None).values\n",
    "\n",
    "predictions = predict(test_X)\n",
    "predictions = [round(num) for num in predictions]"
   ]
  },
  {
   "cell_type": "markdown",
   "metadata": {},
   "source": [
    "Lastly, we check to see what the accuracy of our model is."
   ]
  },
  {
   "cell_type": "code",
   "execution_count": 35,
   "metadata": {},
   "outputs": [
    {
     "data": {
      "text/plain": [
       "0.85872"
      ]
     },
     "execution_count": 35,
     "metadata": {},
     "output_type": "execute_result"
    }
   ],
   "source": [
    "from sklearn.metrics import accuracy_score\n",
    "accuracy_score(test_y, predictions)"
   ]
  },
  {
   "cell_type": "markdown",
   "metadata": {},
   "source": [
    "And the results here should agree with the model testing that we did earlier using the batch transform job.\n",
    "\n",
    "### Cleaning up\n",
    "\n",
    "Now that we've determined that deploying our model works as expected, we are going to shut it down. Remember that the longer the endpoint is left running, the greater the cost and since we have a bit more work to do before we are able to use our endpoint with our simple web app, we should shut everything down."
   ]
  },
  {
   "cell_type": "code",
   "execution_count": 36,
   "metadata": {},
   "outputs": [],
   "source": [
    "xgb_predictor.delete_endpoint()"
   ]
  },
  {
   "cell_type": "markdown",
   "metadata": {},
   "source": [
    "## Step 7: Putting our model to work\n",
    "\n",
    "As we've mentioned a few times now, our goal is to have our model deployed and then access it using a very simple web app. The intent is for this web app to take some user submitted data (a review), send it off to our endpoint (the model) and then display the result.\n",
    "\n",
    "However, there is a small catch. Currently the only way we can access the endpoint to send it data is using the SageMaker API. We can, if we wish, expose the actual URL that our model's endpoint is receiving data from, however, if we just send it data ourselves we will not get anything in return. This is because the endpoint created by SageMaker requires the entity accessing it have the correct permissions. So, we would need to somehow authenticate our web app with AWS.\n",
    "\n",
    "Having a website that authenticates to AWS seems a bit beyond the scope of this lesson so we will opt for an alternative approach. Namely, we will create a new endpoint which does not require authentication and which acts as a proxy for the SageMaker endpoint.\n",
    "\n",
    "As an additional constraint, we will try to avoid doing any data processing in the web app itself. Remember that when we constructed and tested our model we started with a movie review, then we simplified it by removing any html formatting and punctuation, then we constructed a bag of words embedding and the resulting vector is what we sent to our model. All of this needs to be done to our user input as well.\n",
    "\n",
    "Fortunately we can do all of this data processing in the backend, using Amazon's Lambda service.\n",
    "\n",
    "<img src=\"Web App Diagram.svg\">\n",
    "\n",
    "The diagram above gives an overview of how the various services will work together. On the far right is the model which we trained above and which will be deployed using SageMaker. On the far left is our web app that collects a user's movie review, sends it off and expects a positive or negative sentiment in return.\n",
    "\n",
    "In the middle is where some of the magic happens. We will construct a Lambda function, which you can think of as a straightforward Python function that can be executed whenever a specified event occurs. This Python function will do the data processing we need to perform on a user submitted review. In addition, we will give this function permission to send and recieve data from a SageMaker endpoint.\n",
    "\n",
    "Lastly, the method we will use to execute the Lambda function is a new endpoint that we will create using API Gateway. This endpoint will be a url that listens for data to be sent to it. Once it gets some data it will pass that data on to the Lambda function and then return whatever the Lambda function returns. Essentially it will act as an interface that lets our web app communicate with the Lambda function.\n",
    "\n",
    "### Processing a single review\n",
    "\n",
    "For now, suppose we are given a movie review by our user in the form of a string, like so:"
   ]
  },
  {
   "cell_type": "code",
   "execution_count": 37,
   "metadata": {},
   "outputs": [],
   "source": [
    "test_review = \"Nothing but a disgusting materialistic pageant of glistening abed remote control greed zombies, totally devoid of any heart or heat. A romantic comedy that has zero romantic chemestry and zero laughs!\""
   ]
  },
  {
   "cell_type": "markdown",
   "metadata": {},
   "source": [
    "How do we go from this string to the bag of words feature vector that is expected by our model?\n",
    "\n",
    "If we recall at the beginning of this notebook, the first step is to remove any unnecessary characters using the `review_to_words` method. Remember that we intentionally did this in a very simplistic way. This is because we are going to have to copy this method to our (eventual) Lambda function (we will go into more detail later) and this means it needs to be rather simplistic."
   ]
  },
  {
   "cell_type": "code",
   "execution_count": 38,
   "metadata": {},
   "outputs": [
    {
     "name": "stdout",
     "output_type": "stream",
     "text": [
      "nothing but a disgusting materialistic pageant of glistening abed remote control greed zombies totally devoid of any heart or heat a romantic comedy that has zero romantic chemestry and zero laughs\n"
     ]
    }
   ],
   "source": [
    "test_words = review_to_words(test_review)\n",
    "print(test_words)"
   ]
  },
  {
   "cell_type": "markdown",
   "metadata": {},
   "source": [
    "Next, we need to construct a bag of words embedding of the `test_words` string. To do this, remember that a bag of words embedding uses a `vocabulary` consisting of the most frequently appearing words in a set of documents. Then, for each word in the vocabulary we record the number of times that word appears in `test_words`. We constructed the `vocabulary` earlier using the training set for our problem so encoding `test_words` is relatively straightforward."
   ]
  },
  {
   "cell_type": "code",
   "execution_count": 39,
   "metadata": {},
   "outputs": [],
   "source": [
    "def bow_encoding(words, vocabulary):\n",
    "    bow = [0] * len(vocabulary) # Start by setting the count for each word in the vocabulary to zero.\n",
    "    for word in words.split():  # For each word in the string\n",
    "        if word in vocabulary:  # If the word is one that occurs in the vocabulary, increase its count.\n",
    "            bow[vocabulary[word]] += 1\n",
    "    return bow"
   ]
  },
  {
   "cell_type": "code",
   "execution_count": 40,
   "metadata": {},
   "outputs": [
    {
     "name": "stdout",
     "output_type": "stream",
     "text": [
      "[0, 0, 0, 0, 0, 0, 0, 0, 0, 0, 0, 0, 0, 0, 0, 0, 0, 0, 0, 0, 0, 0, 0, 0, 0, 0, 0, 0, 0, 0, 0, 0, 0, 0, 0, 0, 0, 0, 0, 0, 0, 0, 0, 0, 0, 0, 0, 0, 0, 0, 0, 0, 0, 0, 0, 0, 0, 0, 0, 0, 0, 0, 0, 0, 0, 0, 0, 0, 0, 0, 0, 0, 0, 0, 0, 0, 0, 0, 0, 0, 0, 0, 0, 0, 0, 0, 0, 0, 0, 0, 0, 0, 0, 0, 0, 0, 0, 0, 0, 0, 0, 0, 0, 0, 0, 0, 0, 0, 0, 0, 0, 0, 0, 0, 0, 0, 0, 0, 0, 0, 0, 0, 0, 0, 0, 0, 0, 0, 0, 0, 0, 0, 0, 0, 0, 0, 0, 0, 0, 0, 0, 0, 0, 0, 0, 0, 0, 0, 0, 0, 0, 0, 0, 0, 0, 0, 0, 0, 0, 0, 0, 0, 0, 0, 0, 0, 0, 0, 0, 0, 0, 0, 0, 0, 0, 0, 0, 0, 0, 0, 0, 0, 0, 0, 0, 0, 0, 0, 0, 0, 0, 0, 0, 0, 0, 0, 0, 0, 0, 0, 0, 0, 0, 0, 0, 0, 0, 0, 0, 0, 0, 0, 0, 0, 0, 0, 0, 0, 0, 0, 0, 0, 0, 0, 0, 0, 1, 0, 0, 0, 0, 0, 0, 0, 0, 0, 0, 0, 0, 0, 0, 0, 0, 0, 0, 0, 0, 0, 0, 0, 0, 0, 0, 0, 0, 1, 0, 0, 0, 0, 0, 0, 0, 0, 0, 0, 0, 0, 0, 0, 0, 0, 0, 0, 0, 0, 0, 0, 0, 0, 0, 0, 0, 0, 0, 0, 0, 0, 0, 0, 0, 0, 0, 0, 0, 0, 0, 0, 0, 0, 0, 0, 0, 0, 0, 0, 0, 0, 0, 0, 0, 0, 0, 0, 0, 0, 0, 0, 0, 0, 0, 0, 0, 0, 0, 0, 0, 0, 0, 0, 0, 0, 0, 0, 0, 0, 0, 0, 0, 0, 0, 0, 0, 0, 0, 0, 0, 0, 0, 0, 0, 0, 0, 0, 0, 0, 0, 0, 0, 0, 0, 0, 0, 0, 0, 0, 0, 0, 0, 0, 0, 0, 0, 0, 0, 0, 0, 0, 0, 0, 0, 0, 0, 0, 0, 0, 0, 0, 0, 0, 0, 0, 0, 0, 0, 0, 0, 0, 0, 0, 0, 0, 0, 0, 0, 0, 0, 0, 0, 0, 0, 0, 0, 0, 0, 0, 0, 0, 0, 0, 0, 0, 0, 0, 0, 0, 0, 0, 0, 0, 0, 0, 0, 0, 0, 0, 0, 0, 0, 0, 0, 0, 0, 0, 0, 0, 0, 0, 0, 0, 0, 0, 0, 0, 0, 0, 0, 0, 0, 0, 0, 0, 0, 0, 0, 0, 0, 0, 0, 0, 0, 0, 0, 0, 0, 0, 0, 0, 0, 0, 0, 0, 0, 0, 0, 0, 0, 0, 0, 0, 0, 0, 0, 0, 0, 0, 0, 0, 0, 0, 0, 0, 0, 0, 0, 0, 0, 0, 0, 0, 0, 0, 0, 0, 0, 0, 0, 0, 0, 0, 0, 0, 0, 0, 0, 0, 0, 0, 0, 0, 0, 0, 0, 0, 0, 0, 0, 0, 0, 0, 0, 0, 0, 0, 0, 0, 0, 0, 0, 0, 0, 0, 0, 0, 0, 0, 0, 0, 0, 0, 0, 0, 0, 0, 0, 0, 0, 0, 0, 0, 0, 0, 0, 0, 0, 0, 0, 0, 0, 0, 0, 0, 0, 0, 0, 0, 0, 0, 0, 0, 0, 0, 0, 0, 0, 0, 0, 0, 0, 0, 0, 0, 0, 0, 0, 0, 0, 0, 0, 0, 0, 0, 0, 0, 0, 0, 0, 0, 0, 0, 0, 0, 0, 0, 0, 0, 0, 0, 0, 0, 0, 0, 0, 0, 0, 0, 0, 1, 0, 0, 0, 0, 0, 0, 0, 0, 0, 0, 0, 0, 0, 0, 0, 0, 0, 0, 0, 0, 0, 0, 0, 0, 0, 0, 0, 0, 0, 0, 0, 0, 0, 0, 0, 0, 0, 0, 0, 0, 0, 0, 0, 0, 0, 0, 0, 0, 0, 0, 0, 0, 0, 0, 0, 0, 0, 0, 0, 0, 0, 0, 0, 0, 0, 0, 0, 0, 0, 0, 0, 0, 0, 0, 0, 0, 0, 0, 0, 0, 0, 0, 0, 0, 0, 0, 0, 0, 0, 0, 0, 0, 0, 0, 0, 0, 0, 0, 0, 0, 0, 0, 0, 0, 0, 0, 0, 0, 0, 0, 0, 0, 0, 0, 0, 0, 0, 0, 0, 0, 0, 0, 0, 0, 0, 0, 0, 0, 0, 0, 0, 0, 0, 0, 0, 0, 0, 0, 0, 0, 0, 0, 0, 0, 0, 0, 0, 0, 0, 0, 0, 0, 0, 0, 0, 0, 0, 0, 0, 0, 0, 0, 0, 0, 0, 0, 0, 0, 0, 0, 0, 0, 0, 0, 0, 0, 0, 0, 0, 0, 0, 0, 0, 0, 0, 0, 0, 0, 0, 0, 0, 0, 0, 0, 0, 0, 0, 0, 0, 0, 0, 0, 0, 0, 0, 0, 0, 0, 0, 0, 0, 0, 0, 0, 0, 0, 0, 0, 0, 0, 0, 0, 0, 0, 0, 0, 0, 0, 0, 0, 0, 0, 0, 0, 0, 0, 0, 0, 0, 0, 0, 0, 0, 0, 0, 0, 0, 0, 0, 0, 0, 0, 0, 1, 0, 0, 0, 0, 0, 0, 0, 0, 0, 0, 0, 0, 0, 0, 0, 0, 0, 0, 0, 0, 0, 0, 0, 0, 0, 0, 0, 0, 0, 0, 0, 0, 0, 0, 0, 0, 0, 0, 0, 0, 0, 0, 0, 0, 0, 0, 0, 0, 0, 0, 0, 0, 0, 0, 0, 0, 0, 0, 0, 0, 0, 0, 0, 0, 0, 0, 0, 0, 0, 0, 0, 0, 0, 0, 0, 0, 0, 0, 0, 0, 0, 0, 0, 0, 0, 0, 1, 0, 0, 0, 0, 0, 0, 0, 0, 0, 0, 0, 0, 0, 0, 0, 0, 0, 0, 0, 0, 0, 0, 0, 0, 0, 0, 0, 0, 0, 0, 0, 0, 0, 0, 0, 0, 0, 0, 0, 0, 0, 0, 0, 0, 0, 0, 0, 0, 0, 0, 0, 0, 0, 0, 0, 0, 0, 0, 0, 0, 0, 0, 0, 0, 0, 0, 0, 0, 0, 0, 0, 0, 0, 0, 0, 0, 0, 0, 0, 0, 0, 0, 0, 0, 0, 0, 0, 0, 0, 0, 0, 0, 0, 0, 0, 0, 0, 0, 0, 0, 0, 0, 0, 0, 0, 0, 0, 0, 0, 0, 0, 0, 0, 0, 0, 0, 0, 0, 0, 0, 0, 0, 0, 0, 0, 0, 0, 0, 0, 0, 0, 0, 0, 0, 0, 0, 0, 0, 0, 0, 0, 0, 0, 0, 0, 0, 0, 0, 0, 0, 0, 0, 0, 0, 0, 0, 0, 0, 0, 0, 0, 0, 0, 0, 0, 0, 0, 0, 0, 0, 0, 0, 0, 0, 0, 0, 0, 0, 0, 0, 0, 0, 0, 0, 0, 0, 0, 0, 0, 0, 0, 0, 0, 0, 0, 0, 0, 0, 0, 0, 0, 0, 0, 0, 0, 0, 0, 0, 0, 0, 0, 0, 0, 0, 0, 0, 0, 0, 0, 0, 0, 0, 0, 0, 0, 0, 0, 0, 0, 0, 0, 0, 0, 0, 0, 0, 0, 0, 0, 0, 0, 0, 0, 0, 0, 0, 0, 0, 0, 0, 1, 0, 0, 0, 0, 0, 0, 0, 0, 0, 0, 0, 0, 0, 0, 0, 0, 0, 0, 0, 0, 0, 0, 0, 0, 0, 0, 0, 0, 0, 0, 0, 0, 0, 0, 0, 0, 0, 0, 0, 0, 0, 0, 0, 0, 0, 0, 0, 0, 0, 0, 0, 0, 0, 0, 0, 1, 0, 0, 0, 0, 0, 0, 0, 0, 0, 0, 0, 0, 0, 0, 0, 0, 0, 0, 0, 0, 0, 0, 0, 0, 0, 0, 0, 0, 0, 0, 0, 0, 0, 0, 0, 0, 0, 0, 0, 0, 0, 0, 0, 0, 0, 0, 0, 0, 0, 0, 0, 0, 0, 0, 0, 0, 0, 0, 0, 0, 0, 0, 0, 0, 0, 0, 0, 0, 0, 0, 0, 0, 0, 0, 0, 0, 0, 0, 0, 0, 0, 0, 0, 0, 0, 0, 0, 0, 0, 0, 0, 0, 0, 0, 0, 0, 0, 0, 0, 0, 0, 0, 0, 0, 0, 0, 0, 0, 0, 0, 0, 0, 0, 0, 0, 0, 0, 0, 0, 0, 0, 0, 0, 0, 0, 0, 0, 0, 0, 0, 0, 0, 0, 0, 0, 0, 0, 0, 0, 0, 0, 0, 0, 0, 0, 0, 0, 0, 0, 0, 0, 0, 0, 0, 0, 0, 0, 0, 0, 0, 0, 0, 0, 0, 0, 0, 0, 0, 0, 0, 0, 0, 0, 0, 0, 0, 0, 0, 0, 0, 0, 0, 0, 0, 0, 0, 0, 0, 0, 0, 0, 0, 0, 0, 0, 0, 0, 0, 0, 0, 0, 0, 0, 0, 0, 0, 0, 0, 0, 0, 0, 0, 0, 0, 0, 0, 0, 0, 0, 0, 0, 0, 0, 0, 0, 0, 0, 0, 0, 0, 0, 0, 0, 0, 0, 0, 0, 0, 0, 0, 0, 0, 0, 0, 0, 0, 0, 0, 0, 0, 0, 0, 0, 0, 0, 0, 0, 0, 0, 0, 0, 0, 0, 0, 0, 0, 0, 0, 0, 0, 0, 0, 0, 0, 0, 0, 0, 0, 0, 0, 0, 0, 0, 0, 0, 0, 0, 0, 0, 0, 0, 0, 0, 0, 0, 0, 0, 0, 0, 0, 0, 0, 0, 0, 0, 0, 0, 0, 0, 0, 0, 0, 0, 0, 0, 0, 0, 0, 0, 0, 0, 0, 0, 0, 0, 0, 0, 0, 0, 0, 0, 0, 0, 0, 0, 0, 0, 0, 0, 0, 0, 0, 0, 0, 0, 0, 0, 0, 0, 0, 0, 0, 0, 0, 0, 0, 0, 0, 0, 0, 0, 0, 0, 0, 0, 0, 0, 0, 0, 0, 0, 0, 0, 0, 0, 0, 0, 0, 0, 0, 0, 0, 0, 0, 0, 0, 0, 0, 0, 0, 0, 0, 0, 0, 0, 0, 0, 0, 0, 0, 0, 0, 0, 0, 0, 0, 0, 0, 0, 0, 0, 0, 0, 0, 0, 0, 0, 0, 0, 0, 0, 0, 0, 0, 0, 0, 0, 0, 0, 0, 0, 0, 0, 0, 0, 0, 0, 0, 0, 0, 0, 0, 0, 0, 0, 0, 0, 0, 0, 0, 0, 0, 0, 0, 0, 0, 0, 0, 0, 0, 0, 0, 0, 0, 0, 0, 0, 0, 0, 0, 0, 0, 0, 0, 0, 0, 0, 0, 0, 0, 0, 0, 0, 0, 0, 0, 0, 0, 0, 0, 0, 0, 0, 0, 0, 0, 0, 0, 0, 0, 0, 0, 0, 0, 0, 0, 0, 0, 0, 0, 0, 0, 0, 0, 0, 0, 0, 0, 0, 0, 0, 0, 0, 0, 0, 0, 0, 0, 0, 0, 0, 0, 0, 0, 0, 0, 0, 0, 0, 0, 0, 0, 0, 0, 0, 0, 0, 0, 0, 0, 0, 0, 0, 0, 0, 0, 0, 0, 0, 0, 0, 0, 0, 0, 0, 0, 0, 0, 0, 0, 0, 0, 0, 0, 0, 0, 0, 0, 0, 0, 0, 0, 0, 0, 0, 0, 0, 0, 0, 0, 0, 0, 0, 0, 0, 0, 0, 0, 0, 0, 0, 0, 0, 0, 0, 0, 0, 0, 0, 0, 0, 0, 0, 0, 0, 0, 0, 0, 0, 0, 0, 0, 0, 0, 0, 0, 0, 0, 0, 0, 0, 0, 0, 0, 0, 0, 0, 0, 0, 0, 0, 0, 0, 0, 0, 0, 0, 0, 0, 0, 0, 0, 0, 0, 0, 0, 0, 0, 0, 0, 0, 0, 0, 0, 0, 0, 0, 0, 0, 0, 0, 0, 0, 0, 0, 0, 0, 0, 0, 0, 0, 1, 0, 0, 0, 0, 0, 0, 0, 0, 0, 0, 0, 0, 0, 0, 0, 0, 0, 0, 0, 0, 0, 0, 0, 0, 0, 0, 0, 0, 0, 0, 0, 0, 0, 0, 0, 0, 0, 0, 0, 0, 0, 0, 0, 0, 0, 0, 0, 0, 0, 0, 0, 0, 0, 0, 0, 0, 0, 0, 0, 0, 0, 0, 0, 0, 0, 0, 0, 0, 0, 0, 0, 0, 0, 0, 1, 0, 0, 0, 0, 0, 0, 0, 0, 0, 0, 0, 0, 0, 0, 0, 0, 0, 0, 0, 0, 1, 0, 0, 1, 0, 0, 0, 0, 0, 0, 0, 0, 0, 0, 0, 0, 0, 0, 0, 0, 0, 0, 0, 0, 0, 0, 0, 0, 0, 0, 0, 0, 0, 0, 0, 0, 0, 0, 0, 0, 0, 0, 0, 0, 0, 0, 0, 0, 0, 0, 0, 0, 0, 0, 0, 0, 0, 0, 0, 0, 0, 0, 0, 0, 0, 0, 0, 0, 0, 0, 0, 0, 0, 0, 0, 0, 0, 0, 0, 0, 0, 0, 0, 0, 0, 0, 0, 0, 0, 0, 0, 0, 0, 0, 0, 0, 0, 0, 0, 0, 0, 0, 0, 0, 0, 0, 0, 0, 0, 0, 0, 0, 0, 0, 0, 0, 0, 0, 0, 0, 0, 0, 0, 0, 0, 0, 0, 0, 0, 0, 0, 0, 0, 0, 0, 0, 0, 0, 0, 0, 0, 0, 0, 0, 0, 0, 0, 0, 0, 0, 0, 0, 0, 0, 0, 0, 0, 0, 0, 0, 0, 0, 0, 0, 0, 0, 0, 0, 0, 0, 0, 0, 0, 0, 0, 0, 0, 0, 0, 0, 0, 0, 0, 0, 0, 0, 0, 0, 0, 0, 0, 0, 0, 0, 0, 0, 0, 0, 0, 0, 0, 0, 0, 0, 0, 0, 0, 0, 0, 0, 0, 0, 0, 0, 0, 0, 0, 0, 0, 0, 0, 0, 0, 0, 0, 0, 0, 0, 0, 0, 0, 0, 0, 0, 0, 0, 0, 0, 0, 0, 0, 0, 0, 0, 0, 0, 0, 0, 0, 0, 0, 0, 0, 0, 0, 0, 0, 0, 0, 0, 0, 0, 0, 0, 0, 0, 0, 0, 0, 0, 0, 0, 0, 0, 0, 0, 0, 0, 0, 0, 0, 0, 0, 0, 0, 0, 0, 0, 0, 0, 0, 0, 0, 0, 0, 0, 0, 0, 0, 0, 0, 0, 0, 0, 0, 0, 0, 0, 0, 0, 0, 0, 0, 0, 0, 0, 0, 0, 0, 0, 0, 0, 0, 0, 0, 0, 0, 0, 0, 0, 0, 0, 0, 0, 0, 0, 0, 0, 0, 0, 0, 0, 0, 0, 0, 0, 0, 0, 0, 0, 0, 0, 0, 0, 0, 0, 0, 0, 0, 0, 0, 0, 0, 0, 0, 0, 0, 0, 0, 0, 0, 0, 0, 0, 0, 0, 0, 0, 0, 0, 0, 0, 0, 0, 0, 0, 0, 0, 0, 0, 0, 0, 0, 0, 0, 0, 0, 0, 0, 0, 0, 0, 0, 0, 0, 0, 0, 0, 0, 0, 0, 0, 0, 0, 0, 0, 0, 0, 0, 0, 0, 0, 0, 0, 0, 0, 0, 0, 0, 0, 0, 0, 0, 0, 0, 0, 0, 0, 0, 0, 0, 0, 0, 0, 0, 0, 0, 0, 0, 0, 0, 0, 0, 0, 0, 0, 0, 0, 0, 0, 0, 0, 0, 0, 0, 0, 0, 0, 0, 1, 0, 0, 0, 0, 0, 0, 0, 0, 0, 0, 0, 0, 0, 0, 0, 0, 0, 0, 0, 0, 0, 0, 0, 0, 0, 0, 0, 0, 0, 0, 0, 0, 0, 0, 0, 0, 0, 0, 0, 0, 0, 0, 0, 0, 0, 0, 0, 0, 0, 0, 0, 0, 0, 0, 0, 0, 0, 0, 0, 0, 0, 0, 0, 0, 0, 0, 0, 0, 0, 0, 0, 0, 0, 0, 0, 0, 0, 0, 0, 0, 0, 0, 0, 0, 0, 0, 0, 0, 0, 0, 0, 0, 0, 0, 0, 0, 0, 0, 0, 0, 0, 0, 0, 0, 0, 0, 0, 0, 0, 0, 0, 0, 0, 0, 0, 0, 0, 0, 0, 0, 0, 0, 0, 0, 0, 0, 0, 0, 0, 0, 0, 0, 0, 0, 0, 0, 0, 0, 0, 0, 0, 0, 0, 0, 0, 0, 0, 0, 0, 0, 0, 0, 0, 0, 0, 0, 0, 0, 0, 0, 0, 0, 0, 0, 0, 0, 0, 0, 0, 0, 0, 0, 0, 0, 0, 0, 0, 0, 0, 0, 0, 0, 0, 0, 0, 0, 0, 0, 0, 0, 0, 0, 0, 0, 0, 0, 0, 0, 0, 0, 0, 0, 0, 0, 0, 0, 0, 0, 0, 0, 0, 0, 0, 0, 0, 0, 0, 0, 0, 0, 0, 0, 0, 0, 0, 0, 0, 0, 0, 0, 0, 0, 0, 0, 0, 0, 0, 0, 0, 0, 0, 0, 0, 0, 0, 0, 0, 0, 0, 0, 0, 0, 0, 0, 0, 0, 0, 0, 0, 0, 0, 0, 0, 0, 0, 0, 0, 0, 0, 0, 0, 0, 0, 0, 0, 0, 0, 0, 0, 0, 0, 0, 0, 0, 0, 0, 0, 0, 0, 0, 0, 0, 0, 0, 0, 0, 0, 0, 0, 0, 0, 0, 0, 0, 0, 0, 0, 0, 0, 0, 0, 0, 0, 0, 0, 0, 0, 0, 0, 0, 0, 0, 0, 0, 0, 0, 0, 0, 0, 0, 0, 0, 0, 0, 0, 0, 0, 0, 0, 0, 0, 0, 0, 0, 0, 0, 0, 0, 0, 0, 0, 0, 0, 0, 0, 0, 0, 0, 0, 0, 0, 0, 0, 0, 0, 0, 0, 0, 0, 0, 0, 0, 0, 0, 0, 0, 0, 0, 0, 0, 0, 0, 0, 0, 0, 0, 0, 0, 0, 0, 0, 0, 0, 0, 0, 0, 0, 0, 0, 0, 0, 0, 0, 0, 0, 0, 0, 0, 0, 0, 0, 0, 0, 0, 0, 0, 0, 0, 0, 0, 0, 0, 0, 0, 0, 0, 0, 0, 0, 0, 0, 0, 0, 0, 0, 0, 0, 0, 0, 0, 0, 0, 0, 0, 0, 0, 0, 0, 0, 0, 0, 0, 0, 0, 0, 0, 0, 0, 0, 0, 0, 0, 0, 0, 0, 0, 0, 0, 0, 0, 0, 0, 0, 0, 0, 0, 0, 0, 0, 0, 0, 0, 0, 0, 0, 0, 0, 0, 0, 0, 0, 0, 0, 0, 0, 0, 0, 0, 0, 0, 0, 0, 0, 0, 0, 0, 0, 0, 0, 0, 0, 0, 0, 1, 0, 0, 0, 0, 0, 0, 0, 0, 0, 0, 0, 0, 0, 0, 0, 0, 0, 0, 0, 0, 0, 0, 0, 0, 0, 0, 0, 0, 0, 0, 0, 0, 0, 0, 0, 2, 0, 0, 0, 0, 0, 0, 0, 0, 0, 0, 0, 0, 0, 0, 0, 0, 0, 0, 0, 0, 0, 0, 0, 0, 0, 0, 0, 0, 0, 0, 0, 0, 0, 0, 0, 0, 0, 0, 0, 0, 1, 0, 0, 0, 0, 0, 0, 0, 0, 0, 0, 0, 0, 0, 0, 0, 0, 0, 0, 0, 0, 0, 0, 0, 0, 0, 0, 0, 0, 0, 0, 0, 0, 0, 0, 0, 0, 0, 0, 0, 0, 0, 0, 0, 0, 0, 0, 0, 0, 0, 0, 0, 0, 0, 0, 0, 0, 0, 0, 0, 0, 0, 0, 0, 0, 0, 0, 0, 0, 0, 0, 0, 0, 0, 0, 0, 0, 0, 0, 0, 0, 0, 0, 0, 0, 0, 0, 0, 0, 0, 0, 0, 0, 0, 0, 0, 0, 0, 0, 0, 0, 0, 0, 0, 0, 0, 0, 0, 0, 0, 0, 0, 0, 0, 0, 0, 0, 0, 0, 0, 0, 0, 0, 0, 0, 0, 0, 0, 0, 0, 0, 0, 0, 0, 0, 0, 0, 0, 0, 0, 0, 0, 0, 0, 0, 0, 0, 0, 0, 0, 0, 0, 0, 0, 0, 0, 0, 0, 0, 0, 0, 0, 0, 0, 0, 0, 0, 0, 0, 0, 0, 0, 0, 0, 0, 0, 0, 0, 0, 0, 0, 0, 0, 0, 0, 0, 0, 0, 0, 0, 0, 0, 0, 0, 0, 0, 0, 0, 0, 0, 0, 0, 0, 0, 0, 0, 0, 0, 0, 0, 0, 0, 0, 0, 0, 0, 0, 0, 0, 0, 0, 0, 0, 0, 0, 0, 0, 0, 0, 0, 0, 0, 0, 0, 0, 0, 0, 0, 0, 0, 0, 0, 0, 0, 0, 0, 0, 0, 0, 0, 0, 0, 0, 0, 0, 0, 0, 0, 0, 0, 0, 0, 0, 0, 0, 0, 0, 0, 0, 0, 0, 0, 0, 0, 0, 0, 0, 0, 0, 0, 0, 0, 0, 0, 0, 0, 0, 0, 0, 0, 0, 0, 0, 0, 0, 0, 0, 0, 0, 0, 0, 0, 0, 0, 0, 0, 0, 0, 0, 0, 0, 0, 0, 0, 0, 0, 0, 0, 0, 0, 0, 0, 0, 0, 0, 0, 0, 0, 0, 0, 0, 0, 0, 0, 0, 0, 0, 0, 0, 0, 0, 0, 0, 0, 0, 0, 0, 0, 0, 0, 0, 0, 0, 0, 0, 0, 0, 0, 0, 0, 0, 0, 0, 0, 0, 0, 0, 0, 0, 0, 0, 0, 0, 0, 0, 0, 0, 0, 0, 0, 0, 0, 0, 0, 0, 0, 0, 0, 0, 0, 0, 0, 0, 0, 0, 0, 0, 0, 0, 0, 0, 0, 0, 0, 0, 0, 0, 0, 0, 0, 0, 0, 0, 0, 0, 0, 0, 0, 0, 0, 0, 0, 0, 0, 0, 0, 0, 0, 0, 0, 0, 0, 0, 0, 0, 0, 0, 0, 0, 0, 0, 0, 0, 0, 0, 0, 0, 0, 0, 0, 0, 0, 0, 0, 0, 0, 0, 0, 0, 0, 0, 0, 0, 0, 0, 0, 0, 0, 0, 0, 0, 0, 0, 0, 0, 0, 0, 0, 0, 0, 0, 0, 0, 0, 0, 0, 0, 0, 0, 0, 0, 0, 0, 0, 0, 0, 0, 0, 1, 0, 0, 0, 0, 0, 0, 0, 0, 0, 0, 0, 0, 0, 0, 0, 0, 0, 0, 0, 0, 0, 0, 0, 0, 0, 0, 0, 0, 0, 0, 0, 0, 0, 0, 0, 0, 0, 0, 0, 0, 0, 0, 0, 0, 0, 0, 0, 0, 0, 0, 0, 0, 0, 0, 0, 0, 0, 0, 0, 0, 0, 0, 0, 0, 0, 0, 0, 0, 0, 0, 0, 0, 0, 0, 0, 0, 0, 0, 0, 0, 0, 0, 0, 0, 0, 0, 0, 0, 0, 0, 0, 0, 0, 0, 0, 0, 0, 0, 0, 0, 0, 0, 0, 0, 0, 0, 0, 0, 0, 2, 0, 0, 0, 0, 0, 0, 0, 0, 0, 0, 0, 0, 0, 0, 0, 0, 0, 0, 0, 0, 0, 0, 0, 0, 0, 0, 0, 0, 0, 0, 0, 0, 0, 0, 0, 0, 0, 0, 0, 0, 0, 0, 0, 0, 0, 0, 0, 0, 0, 0, 0, 0, 0, 0, 0, 0, 0, 0, 0, 0, 0, 0, 0, 0, 0, 0, 0, 0, 0, 0, 0, 0, 0, 0, 0, 0, 0, 0, 0, 0, 0, 0, 0, 0, 0, 0, 0, 0, 0, 0, 0, 0, 0, 0, 0, 0, 0, 0, 0, 0, 0, 0, 0, 0, 0, 0, 0, 0, 0, 0, 0, 0, 0, 0, 0, 0, 0, 0, 0, 0, 0, 0, 0, 0, 0, 0, 0, 0, 0, 0, 0, 0, 0, 0, 0, 0, 0, 0, 0, 0, 0, 0, 0, 0, 0, 0, 0, 0, 0, 0, 0, 0, 0, 0, 0, 0, 0, 0, 0, 0, 0, 0, 0, 0, 0, 0, 0, 0, 0, 0, 0, 0, 0, 0, 0, 0, 0, 0, 0, 0, 0, 0, 0, 0, 0, 0, 0, 0, 0, 0, 0, 0, 0, 0, 0, 0, 0, 0, 0, 0, 0, 0, 0, 0, 0, 0, 0, 0, 0, 0, 0, 0, 0, 0, 0, 0, 0, 0, 0, 0, 0, 0, 0, 0, 0, 0, 0, 0, 0, 0, 0, 0, 0, 0, 0, 0, 0, 0, 0, 0, 0, 0, 0, 0, 0, 0, 0, 0, 0, 0, 0, 0, 0, 0, 0, 0, 0, 0, 0, 0, 0, 0, 0, 0, 0, 0, 0, 0, 0, 0, 0, 0, 0, 0, 0, 0, 0, 0, 0, 0, 0, 0, 0, 0, 0, 0, 0, 0, 0, 0, 0, 0, 0, 0, 0, 0, 0, 0, 0, 0, 0, 0, 0, 0, 0, 0, 0, 0, 0, 0, 0, 0, 0, 0, 0, 0, 0, 0, 0, 0, 0, 0, 0, 0, 0, 0, 0, 0, 0, 0, 0, 0, 0, 0, 0, 0, 0, 0, 0, 0, 0, 0, 0, 0, 0, 0, 0, 0, 0, 0, 0, 0, 0, 0, 0, 0, 0, 0, 0, 0, 0, 0, 0, 0, 0, 0, 0, 0, 0, 0, 0, 0, 0, 0, 0, 0, 0, 0, 0, 0, 0, 0, 0, 0, 0, 0, 0, 0, 0, 0, 0, 0, 0, 0, 0, 0, 0, 0, 0, 0, 0, 0, 0, 0, 0, 0, 0, 0, 0, 0, 0, 0, 0, 0, 0, 0, 0, 0, 0, 0, 0, 0, 0, 0, 0, 0, 0, 0, 0, 0, 0, 0, 0, 0, 0, 0, 0, 0, 0, 0, 0, 0, 0, 0, 0, 0, 0, 0, 0, 0, 0, 0, 0, 0, 0, 0, 0, 0, 0, 0, 0, 0, 0, 0, 0, 0, 0, 0, 0, 0, 0, 0, 0, 0, 0, 0, 0, 0, 0, 0, 0, 0, 0, 0, 0, 0, 0, 0, 0, 0, 0, 0, 0, 0, 0, 0, 0, 0, 0, 0, 0, 0, 0, 0, 0, 0, 0, 0, 0, 0, 0, 0, 0, 0, 0, 0, 0, 0, 0, 0, 0, 0, 0, 0, 0, 0, 0, 0, 0, 0, 0, 0, 0, 0, 0, 0, 0, 0, 0, 0, 0, 0, 0, 0, 0, 0, 0, 0, 0, 0, 0, 0, 0, 0, 0, 0, 0, 0, 0, 0, 0, 0, 0, 0, 0, 0, 0, 0, 0, 0, 0, 0, 0, 0, 0, 0, 0, 0, 0, 0, 0, 0, 0, 0, 0, 0, 0, 0, 0, 0, 0, 0, 0, 0, 0, 0, 0, 0, 0, 0, 0, 0, 0, 0, 0, 0, 0, 0, 0, 0, 0, 0, 0, 0, 0, 0, 0, 0, 0, 0, 0, 0, 0, 0, 0, 0, 0, 0, 0, 0, 0, 0, 0, 0, 0, 0, 0, 0, 0, 0, 0, 0, 0, 0, 0, 0, 0, 0, 0, 0, 0, 0, 0, 0, 0, 0, 0, 0, 0, 0, 0, 0, 0, 0, 0, 0, 0, 0, 0, 0, 0, 0, 0, 0, 0, 0, 0, 0, 0, 0, 0, 0, 0, 0, 0, 0, 0, 0, 0, 0, 0, 1, 0, 0, 0, 0, 0, 0, 0, 0, 0, 0, 0, 0, 0, 0, 0, 0, 0, 0, 0, 0, 0, 0, 0, 0, 0, 0, 0, 0, 0, 0, 0, 0, 0, 0, 0, 0, 0, 0, 0, 0, 0, 0, 0, 0, 0, 0, 0, 0, 0, 0, 0, 0, 0, 0, 0, 0, 0, 0, 0, 0, 0, 0, 0, 0, 0, 0, 0, 0, 0, 0, 0, 0, 0, 0, 0, 0, 0, 0, 0, 0, 0, 0, 0, 0, 0, 0, 0, 0, 0, 0, 0, 0, 0, 0, 0, 0, 0, 0, 0, 0, 0, 0, 0, 0, 0, 0, 0, 1, 0, 0, 0, 0, 0, 0, 0, 0, 0, 0, 0, 0, 0, 0, 0, 0, 0, 0, 0, 0, 0, 0, 0, 0, 0, 0, 0, 0, 0, 0, 0, 0, 0, 0, 0, 0, 0, 0, 0, 0, 0, 0, 0, 0, 0, 0, 0, 0, 0, 0, 0, 0, 0, 0, 0, 0, 0, 0, 0, 0, 0, 0, 0, 0, 0, 0, 0, 0, 0, 0, 0, 0, 0, 0, 0, 0, 0, 0, 0, 0, 0, 0, 0, 0, 0, 0, 0, 0, 0, 0, 0, 0, 0, 0, 0, 0, 0, 0, 0, 0, 0, 0, 0, 0, 0, 0, 0, 0, 0, 0, 0, 0, 0, 0, 0, 0, 0, 0, 0, 0, 0, 0, 0, 0, 0, 0, 0, 0, 0, 0, 0, 0, 0, 0, 0, 0, 0, 0, 0, 0, 0, 0, 0, 0, 0, 0, 0, 0, 0, 0, 0, 0, 0, 0, 0, 0, 0, 0, 0, 0, 0, 0, 0, 0, 0, 0, 0, 0, 0, 0, 0, 0, 0, 0, 0, 0, 0, 0, 0, 0, 0, 0, 0, 0, 0, 0, 0, 0, 0, 0, 0, 0, 0, 0, 0, 0, 0, 0, 0, 0, 0, 0, 0, 0, 0, 0, 0, 0, 0, 0, 0, 0, 0, 0, 0, 0, 0, 0, 0, 0, 0, 0, 0, 0, 0, 0, 0, 0, 0, 0, 0, 0, 0, 0, 0, 0, 0, 0, 0, 0, 0, 0, 0, 0, 0, 0, 0, 0, 0, 0, 0, 0, 0, 0, 0, 0, 0, 0, 0, 0, 0, 0, 0, 0, 0, 0, 0, 0, 0, 0, 0, 0, 0, 0, 0, 0, 0, 0, 0, 0, 0, 0, 0, 0, 0, 0, 0, 0, 0, 0, 0, 0, 0, 0, 0, 0, 0, 0, 0, 0, 0, 0, 0, 0, 0, 0, 0, 0, 0, 0, 0, 0, 0, 0, 0, 0, 0, 0, 0, 0, 0, 0, 0, 0, 0, 0, 0, 0, 0, 0, 0, 0, 0, 0, 0, 0, 0, 0, 0, 0, 0, 0, 0, 0, 0, 0, 0, 0, 0, 0, 0, 0, 0, 0, 0, 0, 0, 0, 0, 0, 0, 0, 0, 0, 0, 0, 0, 0, 0, 0, 0, 0, 0, 0, 0, 0, 0, 0, 0, 0, 0, 0, 0, 0, 0, 0, 0, 0, 0, 0, 0, 0, 0, 0, 0, 0, 0, 0, 0, 0, 0, 0, 0, 0, 0, 0, 0, 0, 0, 0, 0, 0, 0, 0, 0, 0, 0, 0, 0, 0, 0, 0, 0, 0, 0, 0, 0, 0, 0, 0, 0, 0, 0, 0, 0, 0, 0, 0, 0, 0, 0, 0, 0, 0, 0, 0, 0, 0, 0, 0, 0, 0, 0, 0, 0, 0, 0, 0, 0, 0, 0, 0, 0, 0, 2, 0, 1, 0]\n"
     ]
    }
   ],
   "source": [
    "test_bow = bow_encoding(test_words, vocabulary)\n",
    "print(test_bow)"
   ]
  },
  {
   "cell_type": "code",
   "execution_count": 41,
   "metadata": {},
   "outputs": [
    {
     "data": {
      "text/plain": [
       "5000"
      ]
     },
     "execution_count": 41,
     "metadata": {},
     "output_type": "execute_result"
    }
   ],
   "source": [
    "len(test_bow)"
   ]
  },
  {
   "cell_type": "markdown",
   "metadata": {},
   "source": [
    "So now we know how to construct a bag of words encoding of a user provided review, how to we send it to our endpoint? First, we need to start the endpoint back up."
   ]
  },
  {
   "cell_type": "code",
   "execution_count": 43,
   "metadata": {},
   "outputs": [
    {
     "name": "stderr",
     "output_type": "stream",
     "text": [
      "Parameter image will be renamed to image_uri in SageMaker Python SDK v2.\n",
      "Using already existing model: xgboost-2020-08-29-12-37-35-612\n"
     ]
    },
    {
     "name": "stdout",
     "output_type": "stream",
     "text": [
      "-------------!"
     ]
    }
   ],
   "source": [
    "xgb_predictor = xgb.deploy(initial_instance_count = 1, instance_type = 'ml.m4.xlarge')"
   ]
  },
  {
   "cell_type": "markdown",
   "metadata": {},
   "source": [
    "At this point we could just do the same thing that we did earlier when we tested our deployed model and send `test_bow` to our endpoint using the `xgb_predictor` object. However, when we eventually construct our Lambda function we won't have access to this object, so how do we call a SageMaker endpoint?\n",
    "\n",
    "It turns out that Python functions that are used in Lambda have access to another Amazon library called `boto3`. This library provides an API for working with Amazon services, including SageMaker. To start with, we need to get a handle to the SageMaker runtime."
   ]
  },
  {
   "cell_type": "code",
   "execution_count": 44,
   "metadata": {},
   "outputs": [],
   "source": [
    "import boto3\n",
    "\n",
    "runtime = boto3.Session().client('sagemaker-runtime')"
   ]
  },
  {
   "cell_type": "markdown",
   "metadata": {},
   "source": [
    "And now that we have access to the SageMaker runtime, we can ask it to make use of (invoke) an endpoint that has already been created. However, we need to provide SageMaker with the name of the deployed endpoint. To find this out we can print it out using the `xgb_predictor` object."
   ]
  },
  {
   "cell_type": "code",
   "execution_count": 45,
   "metadata": {},
   "outputs": [
    {
     "data": {
      "text/plain": [
       "'xgboost-2020-08-29-12-37-35-612'"
      ]
     },
     "execution_count": 45,
     "metadata": {},
     "output_type": "execute_result"
    }
   ],
   "source": [
    "xgb_predictor.endpoint"
   ]
  },
  {
   "cell_type": "code",
   "execution_count": 50,
   "metadata": {},
   "outputs": [
    {
     "name": "stdout",
     "output_type": "stream",
     "text": [
      "{'for': 1783, 'this': 4456, 'movie': 2925, 'years': 4979, 'apparently': 269, 'it': 2365, 'aint': 163, 'available': 360, 'here': 2085, 'in': 2256, 'the': 4425, 'states': 4161, 'so': 4043, 'bought': 552, 'me': 2777, 'copy': 995, 'off': 3083, 'four': 1811, 'young': 4989, 'hunters': 2199, 'and': 226, 'three': 4468, 'of': 3082, 'their': 4430, 'into': 2331, 'woods': 4935, 'searching': 3840, 'bear': 419, 'that': 4423, 'has': 2042, 'killed': 2468, 'several': 3903, 'what': 4857, 'they': 4441, 'find': 1725, 'is': 2359, 'an': 223, 'ex': 1549, 'vietnam': 4734, 'gone': 1934, 'crazy': 1036, 'he': 2055, 'kills': 2473, 'some': 4058, 'his': 2117, 'victims': 4729, 'using': 4697, 'with': 4911, 'long': 2642, 'metal': 2822, 'finger': 1730, 'la': 2499, 'freddy': 1825, 'as': 310, 'soon': 4071, 'night': 3012, 'falls': 1640, 'one': 3106, 'girls': 1910, 'goes': 1929, 'walk': 4774, 'after': 143, 'brief': 579, 'argument': 290, 'her': 2084, 'boyfriend': 558, 'she': 3921, 'gets': 1899, 'group': 1979, 'finds': 1727, 'body': 527, 'all': 187, 'hide': 2096, 'waiting': 4771, 'once': 3105, 'sun': 4290, 'comes': 892, 'up': 4682, 'them': 4431, 'try': 4599, 'make': 2711, 'out': 3140, 'but': 637, 'fall': 1637, 'victim': 4728, 'by': 643, 'seven': 3901, 'bodies': 526, 'not': 3039, 'lot': 2659, 'gore': 1940, 'couple': 1017, 'good': 1936, 'murders': 2942, 'especially': 1520, 'guys': 2000, 'get': 1898, 'somewhat': 4065, 'ways': 4821, 'blown': 516, 'car': 681, 'shot': 3947, 'to': 4506, 'death': 1142, 'knife': 2486, 'through': 4476, 'head': 2056, 'overall': 3149, 'trap': 4562, 'nice': 3007, 'slasher': 4017, 'film': 1715, 'from': 1839, 'late': 2521, '80s': 59, 'nothing': 3046, 'new': 3002, 'just': 2436, 'well': 4842, 'acted': 98, 'fast': 1661, 'paced': 3161, 'pretty': 3384, 'ladies': 2505, '10': 0, 'course': 1020, 'was': 4804, 'watching': 4814, 'loved': 2668, 'liked': 2598, 'season': 3841, 'ok': 3097, 'final': 1721, 'there': 4437, 'spin': 4109, 'show': 3951, 'didnt': 1241, 'know': 2488, 'about': 67, 'at': 330, 'my': 2950, 'friends': 1836, 'told': 4512, 'really': 3556, 'excited': 1561, 'watched': 4812, 'first': 1735, 'episodes': 1508, 'piece': 3272, 'rubbish': 3746, 'teenage': 4388, 'girl': 1908, 'drama': 1345, 'fest': 1695, 'no': 3019, 'science': 3814, 'fiction': 1701, 'hardly': 2035, 'any': 255, 'end': 1468, 'every': 1539, 'episode': 1507, 'we': 4822, 'can': 666, 'catch': 715, 'glimpse': 1918, 'thats': 4424, 'who': 4870, 'cares': 691, 'did': 1240, 'decide': 1148, 'next': 3006, 'shows': 3958, 'target': 4364, 'audience': 351, 'will': 4885, 'be': 417, 'females': 1693, 'under': 4638, '18': 10, 'boring': 543, 'religious': 3607, 'nonsense': 3029, 'talking': 4358, 'more': 2903, 'sad': 3765, 'moment': 2886, 'watch': 4810, 'stargate': 4149, 'ruined': 3749, 'over': 3147, 'real': 3547, 'independent': 2271, 'day': 1130, 'age': 148, 'where': 4863, 'latest': 2524, 'mainstream': 2707, 'hollywood': 2136, 'appear': 272, 'cutting': 1093, 'edge': 1417, 'im': 2231, 'sorry': 4073, 'say': 3797, 'general': 1879, 'public': 3460, 'tends': 4401, 'usually': 4699, 'than': 4419, 'clever': 842, 'marketing': 2740, 'which': 4866, 'why': 4877, 'should': 3949, 'glad': 1915, 'films': 1720, 'like': 2597, 'hatred': 2048, 'minute': 2858, 'exist': 1569, 'across': 96, 'board': 522, 'makes': 2714, 'point': 3316, 'its': 2369, 'own': 3157, 'indie': 2275, 'horror': 2167, 'love': 2667, 'or': 3123, 'hate': 2045, 'isnt': 2361, 'afraid': 140, 'being': 447, 'you': 4986, 'sense': 3875, 'director': 1263, 'fake': 1635, 'blood': 512, 'place': 3282, 'hes': 2092, 'tell': 4394, 'stories': 4203, 'ones': 3107, 'may': 2774, 'section': 3851, 'your': 4991, 'video': 4732, 'store': 4202, 'dont': 1323, 'fooled': 1779, 'story': 4205, 'also': 199, 'people': 3221, 'pushed': 3478, 'oh': 3095, 'distant': 1294, 'light': 2593, 'if': 2221, 'expect': 1575, 'evil': 1548, 'dead': 1133, 'stay': 4164, 'away': 368, 'dig': 1249, 'points': 3319, 'suspense': 4328, 'genres': 1888, 'check': 778, 'yes': 4982, 'bruce': 602, 'campbell': 664, 'produce': 3413, 'sure': 4306, 'proud': 3444, 'anyone': 258, 'never': 3000, 'tried': 4583, 'bank': 393, 'on': 3104, 'image': 2232, 'obvious': 3070, 'involved': 2345, 'could': 1008, 'do': 1301, 'either': 1438, 'advice': 133, 'though': 4460, 'anything': 259, 'mr': 2928, 'anyway': 260, 'see': 3853, 'else': 1448, 'are': 284, 'trying': 4600, 'acting': 99, 'done': 1321, 'although': 201, 'oscar': 3132, 'caliber': 650, 'perhaps': 3235, 'intentionally': 2319, 'performances': 3229, 'often': 3094, 'actors': 104, 'such': 4266, 'these': 4440, 'even': 1533, 'seem': 3859, 'seemed': 3860, 'took': 4522, 'very': 4722, 'seriously': 3890, 'typical': 4622, 'technically': 4381, 'competent': 918, 'editing': 1421, 'cinematography': 821, 'given': 1912, 'budget': 610, 'keeps': 2450, 'quick': 3490, 'pace': 3160, 'without': 4913, 'down': 1334, 'bad': 381, 'anti': 253, 'have': 2051, 'look': 2644, 'those': 4459, 'multi': 2934, 'million': 2847, 'dollar': 1313, 'personally': 3243, 'problem': 3408, 'folks': 1770, 'actually': 109, 'care': 685, 'medium': 2791, 'reached': 3537, 'broke': 593, 'ass': 322, 'pulled': 3462, 'threw': 4469, 'wind': 4893, 'made': 2695, 'damn': 1101, 'worst': 4952, 'ever': 1538, 'script': 3832, 'location': 2633, 'everything': 1544, 'would': 4957, 'little': 2622, 'chance': 748, 'were': 4847, 'attractive': 350, 'women': 4923, 'think': 4451, 'word': 4937, 'beach': 418, 'title': 4503, 'looking': 2646, 'wouldnt': 4958, 'wow': 4962, 'been': 437, 'tied': 4488, 'thinking': 4452, 'cool': 990, 'going': 1930, 'flash': 1744, 'back': 377, 'starts': 4157, 'kid': 2463, 'filming': 1717, 'probably': 3407, 'better': 471, 'wasnt': 4806, 'mean': 2778, 'mostly': 2909, 'horrible': 2162, 'lines': 2610, 'poor': 3328, 'had': 2002, 'deal': 1136, 'guess': 1988, 'best': 468, 'ruin': 3748, 'twins': 4615, 'only': 3109, 'skills': 4011, 'drags': 1344, 'supposed': 4304, 'shocking': 3938, 'conclusion': 937, 'seen': 3863, 'worse': 4951, 'low': 2674, 'movies': 2926, 'considering': 953, 'hype': 2206, 'die': 1242, 'disappointed': 1272, 'way': 4819, 'reviewers': 3676, 'stuff': 4241, 'same': 3776, 'eight': 1436, 'far': 1653, 'trio': 4586, 'tales': 4355, 'thing': 4449, 'called': 653, 'taylor': 4370, 'inside': 2296, 'themselves': 4434, 'unknown': 4667, 'left': 2559, 'bit': 488, 'damage': 1100, 'id': 2211, 'many': 2731, 'later': 2523, 'still': 4186, 'right': 3694, 'itself': 2370, 'tells': 4396, 'tale': 4351, 'woman': 4921, 'whose': 4876, 'husband': 2203, 'died': 1243, 'fact': 1621, 'torn': 4527, 'apart': 263, 'suspect': 4325, 'man': 2719, 'existed': 1570, 'seems': 3862, 'able': 66, 'project': 3427, 'inner': 2291, 'demon': 1177, 'sister': 3998, 'when': 4861, 'attempts': 342, 'talk': 4356, 'while': 4867, 'reporter': 3635, 'wants': 4790, 'jump': 2428, 'skin': 4012, 'speed': 4100, 'freak': 1823, 'sent': 3878, 'psychiatrist': 3455, 'happens': 2028, 'former': 1799, 'member': 2799, 'results': 3660, 'doctor': 1303, 'helping': 2080, 'realize': 3552, 'desire': 1204, 'segments': 3866, 'part': 3193, 'lets': 2578, 'loose': 2648, 'kind': 2475, 'lived': 2624, 'wonders': 4931, 'because': 431, 'survive': 4319, 'longer': 2643, 'creepy': 1053, 'suspenseful': 4329, 'youre': 4992, 'premise': 3370, 'settings': 3899, 'unlike': 4669, 'conventional': 980, 'adds': 119, 'sort': 4074, 'feel': 1683, 'manages': 2723, 'atmosphere': 332, 'throughout': 4477, 'much': 2933, 'credit': 1050, 'mouth': 2919, 'hanging': 2022, 'open': 3111, 'portion': 3338, 'time': 4494, 'scares': 3804, 'came': 657, 'hit': 2121, 'hard': 2032, 'found': 1810, 'interesting': 2324, 'disturbing': 1299, 'give': 1911, 'theaters': 4427, 'does': 1307, 'deserve': 1198, 'prequel': 3372, 'tag': 4346, 'instead': 2306, 'common': 907, 'theme': 4432, 'rip': 3698, 'previously': 3388, 'sequels': 3884, 'etc': 1527, 'plot': 3309, 'ball': 387, 'character': 759, 'development': 1224, 'non': 3026, 'existent': 1572, 'felt': 1691, 'comedy': 891, 'needs': 2989, 'stop': 4199, 'laugh': 2527, 'looks': 2647, 'excellent': 1555, 'brought': 600, 'enjoyment': 1488, 'big': 477, 'fan': 1648, 'recommend': 3571, 'then': 4435, 'treat': 4571, 'ripped': 3699, 'original': 3128, 'exactly': 1551, 'level': 2582, 'ring': 3696, 'japanese': 2381, 'flick': 1753, 'nonetheless': 3028, 'wish': 4904, 'north': 3035, 'american': 213, 'producers': 3416, 'take': 4347, 'page': 3166, 'put': 3480, 'less': 2573, 'cheap': 775, 'flicks': 1754, 'lots': 2660, 'examples': 1554, 'scenes': 3809, 'face': 1616, 'scene': 3807, 'staring': 4150, 'behind': 446, 'actress': 105, 'wall': 4780, 'suddenly': 4271, 'smiling': 4034, 'second': 3844, 'worth': 4953, 'checking': 779, 'genre': 1887, 'earth': 1402, 'screen': 3827, 'adaptation': 113, 'bbc': 416, 'discovery': 1281, 'channel': 754, 'series': 3888, 'planet': 3289, 'offers': 3089, 'quite': 3495, 'nature': 2974, 'beauty': 429, 'truly': 4596, 'jaw': 2383, 'dropping': 1370, 'moments': 2887, 'how': 2180, 'hell': 2076, 'footage': 1781, 'taking': 4350, 'awesome': 370, 'animals': 239, 'natural': 2972, 'message': 2818, 'circle': 822, 'life': 2590, 'cruel': 1071, 'witness': 4914, 'great': 1963, 'white': 4869, 'shark': 3919, 'adorable': 124, 'various': 4714, 'narrator': 2966, 'james': 2377, 'earl': 1397, 'jones': 2417, 'gods': 1927, 'eye': 1611, 'views': 4741, 'literally': 2620, 'hundreds': 2195, 'hours': 2176, 'format': 1798, 'couldve': 1010, 'theres': 4439, 'always': 203, 'since': 3987, 'disney': 1288, 'studios': 4239, 'produced': 3414, 'count': 1011, 'come': 887, 'mark': 2738, 'funniest': 1850, 'don': 1319, 'understand': 4642, 'critics': 1065, 'funny': 1851, 'sweet': 4334, '11': 2, 'fell': 1689, 'days': 1131, 'got': 1943, 'vhs': 4724, 'till': 4492, 'today': 4507, 'shown': 3957, 'nobody': 3021, 'knew': 2485, 'before': 439, 'nearly': 2980, 'knows': 2492, 'potential': 3355, 'monsters': 2892, 'enough': 1491, 'wanted': 4788, 'want': 4787, 'mad': 2694, 'painfully': 3171, 'predictable': 3367, 'twenty': 4611, 'sidney': 3965, 'lumet': 2686, 'garbo': 1870, 'talks': 4359, 'quality': 3484, 'quest': 3486, 'working': 4944, 'named': 2960, 'ron': 3732, 'silver': 3974, 'son': 4067, 'anne': 245, 'eccentric': 1413, 'above': 68, 'becomes': 433, 'brain': 562, 'decides': 1150, 'go': 1923, 'track': 4543, 'bring': 585, 'mother': 2910, 'full': 1845, 'scenery': 3808, 'loves': 2672, 'stands': 4145, 'ends': 1474, 'jail': 2375, 'outside': 3145, 'artificial': 305, 'lame': 2509, 'note': 3043, 'striking': 4224, 'false': 1641, 'rest': 3656, 'characters': 761, 'equally': 1510, 'dimensional': 1252, 'flat': 1747, 'attempted': 340, 'dating': 1121, 'lisa': 2614, 'carrie': 698, 'fisher': 1738, 'co': 868, 'worker': 4942, 'jane': 2379, 'catherine': 720, 'happen': 2025, 'other': 3134, 'intriguing': 2334, 'captivating': 676, 'simply': 3983, 'material': 2765, 'absolutely': 72, 'begin': 441, 'follow': 1771, 'both': 547, 'uninteresting': 4659, 'plenty': 3307, 'guest': 1991, 'stars': 4153, 'speak': 4091, 'including': 2263, 'harvey': 2041, 'gay': 1875, 'imagine': 2237, 'yet': 4984, 'another': 249, 'highly': 2104, 'halfway': 2007, 'decent': 1147, 'statement': 4160, 'role': 3724, 'our': 3138, 'lives': 2626, 'none': 3027, 'bored': 541, 'case': 708, 'too': 4521, 'directed': 1258, 'making': 2716, 'him': 2109, 'easily': 1405, 'most': 2908, 'viewed': 4736, 'misses': 2868, 'stranger': 4211, 'among': 217, 'us': 4689, 'hasnt': 2043, 'grade': 1950, '45': 50, '24': 39, '1984': 23, '25': 40, 'friend': 1834, 'clearly': 841, 'taste': 4367, 'class': 834, 'suggested': 4279, 'work': 4940, 'amateurish': 207, 'self': 3867, 'angry': 237, 'filmmaker': 1718, 'bunch': 624, 'nudity': 3058, 'single': 3993, 'element': 1442, 'possibly': 3351, 'save': 3792, 'lighting': 2594, 'appalling': 267, 'dialog': 1231, 'direction': 1260, 'saw': 3796, 'exploitation': 1592, 'filmmakers': 1719, 'during': 1386, 'recent': 3566, 'featured': 1679, 'spoke': 4123, 'something': 4063, 'important': 2246, 'viewing': 4739, 'whatsoever': 4860, 'style': 4247, 'effects': 1431, 'fun': 1847, 'avoid': 362, 'smith': 4035, 'ben': 462, 'thomas': 4457, 'collection': 875, 'agent': 150, 'meeting': 2793, 'gotten': 1946, 'caused': 725, 'deaths': 1143, 'whilst': 4868, 'driving': 1367, 'phone': 3255, 'follows': 1774, 'attempt': 339, 'frankly': 1822, 'crime': 1056, 'line': 2608, 'subtle': 4258, 'green': 1970, 'house': 2177, 'window': 4894, 'happening': 2027, 'ending': 1471, 'titanic': 4502, 'surprising': 4313, 'compared': 913, 'twist': 4616, 'confusion': 944, 'doubt': 1331, 'normally': 3033, 'boys': 559, 'guy': 1999, 'gun': 1995, 'ford': 1788, 'saying': 3798, 'whenever': 4862, 'tries': 4584, 'act': 97, 'serious': 3889, 'pathetic': 3210, 'gain': 1862, 'obviously': 3071, 'desperate': 1207, 'main': 2705, 'reason': 3557, 'forward': 1807, 'understated': 4645, 'performance': 3228, 'alone': 194, 'fantastic': 1651, 'ironically': 2355, 'nominated': 3024, 'major': 2709, 'award': 365, 'supporting': 4302, 'cast': 711, 'grand': 1952, 'dawson': 1129, 'looked': 2645, 'door': 1327, 'whole': 4872, 'woody': 4936, 'barry': 400, 'fine': 1728, 'players': 3299, 'throwing': 4479, 'usual': 4698, 'clichés': 847, 'sentimental': 3880, 'choice': 798, 'cry': 1074, 'few': 1699, 'times': 4496, 'heart': 2063, 'situations': 4006, 'relate': 3592, 'moves': 2924, 'onto': 3110, 'desperation': 1209, 'pursuit': 3476, 'happiness': 2030, 'remember': 3615, 'seeing': 3855, 're': 3535, 'runs': 3755, 'americas': 215, 'home': 2141, 'videos': 4733, 'bob': 524, 'mom': 2885, 'lucky': 2681, 'family': 1645, 'yourself': 4993, 'hang': 2021, 'places': 3284, 'maybe': 2775, 'join': 2411, 'sing': 3989, 'kids': 2466, 'adults': 126, 'ages': 152, 'parts': 3199, 'meant': 2783, 'enjoy': 1484, 'matter': 2768, 'cheesy': 782, 'definitely': 1162, 'conspiracy': 957, 'bargain': 399, 'bin': 482, 'thought': 4461, 'lost': 2658, 'treasure': 4570, 'hear': 2060, 'pacing': 3162, 'slow': 4028, 'plain': 3286, 'cold': 873, 'leaves': 2554, 'sean': 3838, 'source': 4083, 'community': 909, 'stand': 4141, 'scream': 3824, 'worlds': 4947, 'media': 2788, 'notice': 3047, 'stuck': 4235, 'producing': 3417, 'basic': 405, 'version': 4719, 'eventually': 1537, 'player': 3298, 'classic': 836, 'failed': 1626, 'box': 555, 'managed': 2721, 'run': 3753, 'spread': 4131, 'normal': 3032, 'cant': 672, 'beautiful': 427, 'soundtrack': 4082, 'superb': 4294, 'masterful': 2757, 'camera': 660, 'flawless': 1750, 'two': 4619, 'moved': 2921, 'actual': 108, 'animation': 241, 'except': 1556, 'dancing': 1108, 'totally': 4531, 'alive': 186, 'animated': 240, 'poorly': 3329, 'wondering': 4930, 'games': 1864, 'market': 2739, 'cut': 1090, 'realism': 3549, 'frame': 1814, 'neither': 2995, 'moving': 2927, 'havent': 2052, 'recommended': 3572, 'reputation': 3639, 'fantasy': 1652, 'tragedy': 4550, 'sits': 4003, 'last': 2519, 'month': 2895, 'free': 1826, 'sneak': 4040, 'preview': 3386, 'walked': 4775, 'process': 3412, 'choices': 799, 'past': 3207, 'couldnt': 1009, 'wrong': 4973, 'hoping': 2159, 'release': 3601, 'aspect': 320, 'turned': 4605, 'waste': 4807, 'innovative': 2294, 'creative': 1042, 'shots': 3948, 'ideas': 2214, 'together': 4510, 'need': 2986, 'display': 1290, 'opinions': 3118, 'warn': 4796, 'everyone': 1542, 'imdb': 2239, 'spoilers': 4122, 'claim': 829, 'born': 544, 'killers': 2470, 'brilliant': 583, 'criticism': 1064, 'obsession': 3069, 'violence': 4746, 'content': 967, 'oliver': 3101, 'stone': 4195, 'serial': 3887, 'vicious': 4727, 'innocent': 2293, 'portrays': 3344, 'someone': 4061, 'deserved': 1199, 'hurt': 2201, 'engaging': 1481, 'presents': 3377, 'unpleasant': 4673, 'dumb': 1384, 'broken': 594, 'english': 1483, 'speaking': 4092, 'lazy': 2541, 'fat': 1663, 'person': 3238, 'stereotype': 4176, 'old': 3099, 'indian': 2273, 'theyre': 4444, 'dude': 1380, 'chinese': 797, 'mickey': 2831, 'sexy': 3909, 'surreal': 4315, 'visuals': 4758, 'bound': 553, 'justice': 2437, 'police': 3322, 'prison': 3401, 'portrayed': 3342, 'brutal': 603, 'ugly': 4624, 'again': 146, 'within': 4912, 'reality': 3551, 'subtlety': 4259, 'says': 3799, 'specific': 4096, 'proof': 3434, 'fails': 1628, 'lies': 2589, 'world': 4946, 'reactions': 3542, 'inspiration': 2299, 'committed': 906, 'failure': 1629, 'opposite': 3122, 'horrendous': 2161, 'nowhere': 3055, 'five': 1742, 'parents': 3188, 'regular': 3591, 'cartoon': 705, 'bullets': 622, 'started': 4155, 'flying': 1763, 'agree': 155, 'upset': 4686, 'set': 3896, 'truth': 4598, 'deep': 1154, 'likes': 2600, 'cult': 1078, 'classics': 838, 'cat': 714, 'nine': 3016, 'correct': 1001, 'ralph': 3510, 'involves': 2347, 'rented': 3627, 'offensive': 3085, 'era': 1513, 'street': 4214, 'fighter': 1707, 'starring': 4152, 'brad': 560, 'pitt': 3280, 'heavy': 2069, 'dealt': 1139, 'pop': 3330, 'tape': 4363, 'youll': 4988, 'screening': 3828, '2006': 36, 'theatre': 4428, 'international': 2325, 'festival': 1696, 'china': 796, 'sell': 3869, 'interviews': 2329, 'human': 2187, 'frequently': 1831, 'doing': 1311, 'due': 1381, 'bits': 490, 'high': 2099, 'estate': 1525, 'around': 296, 'showing': 3956, 'mansion': 2730, 'others': 3135, 'living': 2627, 'opening': 3113, 'factory': 1623, 'floor': 1758, 'feature': 1678, 'documentary': 1306, 'built': 619, 'subject': 4251, 'jennifer': 2391, 'producer': 3415, 'nick': 3011, 'de': 1132, 'cinematographer': 820, 'peter': 3247, 'edward': 1426, 'stage': 4137, 'introduced': 2336, 'key': 2457, 'ground': 1978, 'access': 83, 'huge': 2184, 'author': 358, 'am': 204, 'jim': 2401, 'works': 4945, 'scott': 3822, 'rendition': 3624, 'dark': 1116, 'sexually': 3908, 'noir': 3022, 'closely': 856, 'text': 4418, 'jason': 2382, 'patrick': 3213, 'rachel': 3500, 'ward': 4792, 'careers': 688, 'might': 2835, 'book': 535, 'creates': 1039, 'passion': 3205, 'logic': 2636, 'double': 1330, 'cross': 1067, 'hand': 2014, 'must': 2949, 'fans': 1650, 'thru': 4482, 'weeks': 4838, 'town': 4540, 'valley': 4706, 'forget': 1792, 'tedious': 4386, 'road': 3707, 'live': 2623, 'include': 2260, 'chase': 770, 'included': 2261, 'moon': 2899, 'drive': 1362, 'empire': 1464, 'production': 3419, 'jeffrey': 2390, 'matt': 2767, 'joke': 2413, 'bigger': 478, 'regarding': 3588, 'notes': 3045, 'bar': 395, 'name': 2959, 'welcome': 4841, 'square': 4134, 'turn': 4604, 'early': 1399, 'violent': 4747, 'rebel': 3561, 'derek': 1191, 'luke': 2685, 'navy': 2975, 'dr': 1339, 'denzel': 1181, 'washington': 4805, 'against': 147, 'superior': 4298, 'beginning': 442, 'treatment': 4573, 'confidence': 939, 'childhood': 791, 'revealing': 3670, 'painful': 3170, 'generated': 1881, 'foster': 1808, 'meanwhile': 2784, 'meets': 2794, 'joy': 2421, 'each': 1394, 'personal': 3240, 'problems': 3409, 'true': 4595, 'touching': 4535, 'positive': 3346, 'sensitive': 3877, 'child': 790, 'abuse': 74, 'hands': 2019, 'vote': 4765, 'brazil': 568, 'returning': 3665, 'ran': 3513, 'school': 3811, 'teachers': 4374, '35': 45, 'teaching': 4375, 'lead': 2543, 'believe': 453, 'satire': 3786, 'closer': 857, 'students': 4237, 'situation': 4005, 'remind': 3617, 'schools': 3812, 'student': 4236, 'repeatedly': 3631, 'burn': 626, 'immediately': 2241, 'inspector': 2298, 'fetched': 1697, 'pity': 3281, 'spoiler': 4121, 'memorable': 2801, 'smoking': 4037, 'kitchen': 2484, 'lights': 2595, 'perfect': 3224, 'beat': 422, 'loads': 2631, 'properly': 3437, 'alas': 172, 'began': 440, 'lose': 2652, 'faith': 1633, 'half': 2006, 'proceedings': 3410, 'occurred': 3076, 'duo': 1385, 'obnoxious': 3066, 'appreciate': 278, 'relative': 3598, 'contemporary': 966, 'prefer': 3368, 'company': 911, 'fit': 1739, 'viewers': 4738, 'minded': 2850, 'notable': 3040, 'appearance': 273, 'paul': 3214, 'pre': 3365, 'form': 1797, 'having': 2053, 'read': 3543, 'reviews': 3677, 'mind': 2849, 'however': 2182, 'majority': 2710, 'said': 3772, 'complicated': 926, 'leave': 2553, 'confused': 942, 'ties': 4489, 'kicking': 2461, 'youve': 4995, 'missed': 2867, 'stock': 4191, 'intelligent': 2313, 'different': 1247, 'spends': 4104, 'minutes': 2859, 'himself': 2110, 'similar': 3975, 'mentioned': 2810, 'specifically': 4097, 'gives': 1913, 'ray': 3533, 'afterwards': 145, 'start': 4154, 'symbolism': 4339, 'hints': 2112, 'laid': 2507, 'top': 4524, 'game': 1863, 'cage': 646, 'buddy': 609, 'action': 100, 'thanks': 4422, 'large': 2515, 'weapon': 4827, 'brown': 601, 'lou': 2661, 'local': 2632, 'takes': 4349, 'saved': 3793, 'now': 3053, 'soft': 4048, 'throw': 4478, 'wait': 4769, 'crash': 1034, 'leaving': 2555, 'until': 4679, 'thugs': 4483, 'picture': 3269, 'plan': 3287, 'went': 4846, 'core': 996, 'tone': 4516, 'worked': 4941, 'doesnt': 1308, 'holding': 2129, 'bag': 383, 'elements': 1443, 'luck': 2679, 'actresses': 106, 'used': 4692, 'concept': 931, 'created': 1038, 'appeal': 270, 'baby': 375, '20': 29, '30': 42, '90s': 61, 'black': 493, 'listen': 2617, 'rock': 3718, 'music': 2945, 'bands': 391, 'enemy': 1477, '60s': 54, 'biggest': 479, 'period': 3236, 'pieces': 3273, 'buy': 641, 'certain': 738, 'arent': 287, 'whatever': 4858, 'decade': 1145, 'weight': 4839, 'strong': 4227, 'fred': 1824, 'astaire': 329, 'ginger': 1907, 'rogers': 3723, 'screenplay': 3829, 'exceptionally': 1559, 'mediocre': 2790, 'play': 3296, 'baker': 384, 'martin': 2747, 'dancers': 1106, 'professional': 3421, 'ended': 1470, 'joined': 2412, 'meet': 2792, 'relationship': 3596, 'entertaining': 1499, 'comic': 894, 'subplot': 4253, 'father': 1666, 'rather': 3528, 'charming': 769, 'exceptional': 1558, 'berlin': 466, 'score': 3820, 'chances': 749, 'talents': 4354, 'sea': 3836, 'band': 390, 'sings': 3994, 'dances': 1107, 'suit': 4282, 'catchy': 718, 'let': 2577, 'solo': 4055, 'tap': 4362, 'dance': 1104, 'tune': 4601, 'silly': 3973, 'win': 4892, 'contest': 968, 'routine': 3741, 'putting': 3482, 'number': 3059, 'choreography': 803, 'effect': 1428, 'finally': 1723, 'figures': 1712, 'evening': 1534, 'clothes': 861, 'romantic': 3731, 'contrived': 977, 'song': 4068, 'things': 4450, 'wrote': 4974, 'reminiscent': 3620, 'cole': 874, 'matches': 2763, 'sit': 4000, 'dialogue': 1233, 'necessary': 2983, 'rarely': 3524, 'musical': 2946, 'numbers': 3060, 'songs': 4069, 'western': 4852, 'concerned': 933, 'jimmy': 2402, 'stewart': 4182, 'gold': 1931, 'sheriff': 3927, 'john': 2408, 'giving': 1914, 'wonderfully': 4929, 'whom': 4874, 'unfortunately': 4653, 'ruth': 3761, 'roman': 3729, 'instance': 2303, 'jay': 2385, 'walter': 4783, 'plays': 3301, 'builds': 618, 'front': 1840, 'restaurant': 3657, 'business': 634, 'anthony': 252, 'mann': 2727, 'naked': 2958, 'country': 1015, 'contains': 965, 'special': 4094, 'feeling': 1684, 'landscape': 2511, 'gorgeous': 1941, 'equal': 1509, 'success': 4263, 'suppose': 4303, 'considered': 952, 'cliche': 844, 'selfish': 3868, 'learns': 2551, 'existence': 1571, 'addition': 118, 'ive': 2371, 'french': 1829, 'ought': 3137, 'playing': 3300, 'humanity': 2188, 'cynical': 1094, 'written': 4972, 'masterpiece': 2758, 'dire': 1256, 'canadian': 668, 'german': 1895, 'wonderful': 4928, 'daughter': 1122, 'term': 4404, 'prior': 3400, 'murdered': 2939, 'shes': 3928, 'devoted': 1230, 'threat': 4466, 'bond': 532, 'delivers': 1172, 'terrible': 4406, 'incoherent': 2264, 'useless': 4694, 'displays': 1292, 'help': 2078, 'scary': 3805, 'almost': 193, 'completely': 923, 'amusing': 221, 'mention': 2809, 'convince': 984, 'miss': 2866, 'worthy': 4956, 'particularly': 3195, 'reasons': 3560, 'hour': 2175, 'murder': 2938, 'short': 3944, 'productions': 3420, 'known': 2491, 'definite': 1161, 'filmed': 1716, 'relatively': 3599, 'small': 4030, '60': 53, 'fox': 1813, 'blue': 518, 'sky': 4014, 'incredible': 2268, 'job': 2404, 'combined': 886, 'state': 4158, 'art': 303, 'digital': 1250, 'perfectly': 3226, 'voice': 4760, 'dennis': 1179, 'create': 1037, 'friendship': 1837, 'caring': 692, 'fellow': 1690, 'members': 2800, 'sometimes': 4064, 'creatures': 1047, 'political': 3324, 'getting': 1900, 'along': 195, 'share': 3918, 'space': 4087, 'required': 3640, 'david': 1125, 'provides': 3450, 'serves': 3893, 'move': 2920, 'strangely': 4210, 'believable': 452, 'snow': 4042, 'rocks': 3720, 'ice': 2209, 'individual': 2276, 'facial': 1619, 'expressions': 1603, 'particular': 3194, 'entire': 1502, 'sequence': 3885, 'expression': 1602, 'children': 793, 'theater': 4426, 'tired': 4500, 'model': 2880, 'vs': 4766, '1970s': 16, 'miserably': 2864, 'near': 2978, 'eating': 1412, 'decades': 1146, 'adapted': 114, 'fatal': 1664, 'tiny': 4499, 'ludicrous': 2683, 'boy': 557, 'attacked': 337, 'crying': 1075, 'bed': 435, 'robert': 3711, 'george': 1892, 'leg': 2560, 'list': 2615, 'walls': 4782, 'paper': 3183, 'hope': 2154, 'use': 4691, 'money': 2888, 'watchable': 4811, 'seventies': 3902, 'qualities': 3483, 'embarrassing': 1454, 'tv': 4609, 'vengeance': 4718, 'push': 3477, 'pile': 3275, 'affected': 137, 'dreadful': 1352, 'review': 3674, 'synopsis': 4342, 'hamlet': 2012, 'goodness': 1937, 'sake': 3773, 'embarrassed': 1453, 'admit': 122, 'mystery': 2955, '3000': 43, 'judge': 2423, 'cannot': 671, 'attempting': 341, 'comedic': 889, 'dreary': 1355, 'depressing': 1187, 'spend': 4102, 'entertainment': 1500, 'reasonably': 3559, 'sounds': 4081, 'mst3k': 2931, 'comments': 902, 'shakespeare': 3913, 'allow': 189, 'flow': 1761, 'rating': 3529, 'scale': 3800, 'legendary': 2563, 'hero': 2087, 'rob': 3708, 'roy': 3743, 'battles': 414, 'historical': 2118, 'despite': 1210, 'primarily': 3393, 'fictional': 1702, 'rate': 3526, 'choose': 800, 'between': 474, '13': 4, 'century': 737, 'william': 4886, 'wallace': 4781, 'noted': 3044, 'larger': 2517, 'national': 2969, 'figure': 1710, 'ordinary': 3127, 'revolves': 3680, 'scottish': 3823, 'wife': 4883, 'mary': 2750, 'sons': 4070, 'begins': 443, 'hunting': 2200, 'stolen': 4193, 'wishes': 4906, 'improve': 2253, 'thousand': 4464, 'noble': 3020, 'order': 3125, 'alan': 171, 'missing': 2869, 'conflict': 940, 'sleazy': 4020, 'factor': 1622, 'seeks': 3858, 'involve': 2344, 'rival': 3704, 'duke': 1382, 'charismatic': 764, 'albeit': 173, 'irish': 2352, 'adding': 117, 'average': 361, 'viewer': 4737, 'honest': 2145, 'loving': 2673, 'loyal': 2677, 'accused': 91, 'tim': 4493, 'surely': 4307, 'sadistic': 3766, 'cinematic': 819, 'villains': 4744, 'ruthless': 3762, 'whether': 4865, 'willing': 4889, 'otherwise': 3136, 'constantly': 959, 'unaware': 4631, 'fathers': 1667, 'identity': 2216, 'rape': 3521, 'aside': 314, 'betty': 473, 'pregnant': 3369, 'suicide': 4281, 'arrogant': 302, 'essentially': 1523, 'beautifully': 428, 'passionate': 3206, 'question': 3487, 'presence': 3373, 'marriage': 2742, 'pair': 3175, 'cinema': 817, 'compelling': 917, 'jessica': 2397, 'lacking': 2503, 'brings': 587, 'courage': 1019, 'dignity': 1251, 'brutally': 604, 'raped': 3522, 'disgusting': 1285, 'spoken': 4124, 'filled': 1714, 'pride': 3391, 'grace': 1949, 'showed': 3954, 'reveal': 3668, 'pain': 3169, 'intended': 2314, 'emotional': 1459, 'further': 1852, 'features': 1680, 'costumes': 1007, 'appropriate': 282, 'battle': 413, 'gripping': 1975, 'sword': 4338, 'fight': 1706, 'featuring': 1681, 'tense': 4402, 'tommy': 4515, 'christmas': 811, 'screams': 3826, 'wizard': 4919, 'crowd': 1068, 'mirror': 2861, 'gonna': 1935, 'listening': 2618, 'deliver': 1169, 'least': 2552, 'cameras': 661, 'rare': 3523, 'happy': 2031, 'sound': 4078, 'dvd': 1390, 'possible': 3350, 'impressive': 2252, 'pictures': 3270, 'soul': 4076, 'whos': 4875, 'singing': 3992, '1980': 20, 'won': 4925, 'disappeared': 1270, 'shame': 3916, 'ridiculous': 3691, 'extremely': 1610, 'handful': 2016, 'comedies': 890, 'match': 2761, 'originality': 3129, 'distance': 1293, 'describe': 1193, 'princess': 3397, 'bride': 577, 'favorite': 1671, 'test': 4415, 'side': 3962, 'price': 3389, 'adventure': 130, 'romance': 3730, 'placed': 3283, 'date': 1119, 'deserves': 1200, 'office': 3090, 'joan': 2403, 'burns': 629, 'allen': 188, 'british': 589, 'mistaken': 2872, 'star': 4148, 'stevens': 4181, 'stiff': 4185, 'upper': 4684, 'secretary': 3848, 'hilarious': 2105, 'pointed': 3317, 'trees': 4576, 'lousy': 2665, 'flaws': 1751, 'baseball': 402, 'contrary': 975, 'sports': 4128, 'authentic': 357, 'angels': 233, 'category': 719, 'succeeds': 4262, 'latter': 2526, 'roger': 3722, 'franchise': 1816, 'struggling': 4234, 'draw': 1348, 'promise': 3430, 'asks': 318, 'diamond': 1235, 'spirits': 4112, 'manager': 2722, 'danny': 1113, 'glover': 1922, 'believing': 456, 'sees': 3864, 'team': 4376, 'turning': 4607, 'tony': 4520, 'zero': 4996, 'idea': 2212, 'pitch': 3279, 'invisible': 2343, 'everybody': 1540, 'gotta': 1945, 'reminds': 3619, 'effective': 1429, 'shooting': 3941, 'roles': 3725, 'victor': 4730, 'vincent': 4745, 'shines': 3930, 'unbelievable': 4633, 'actor': 103, 'grave': 1961, 'signed': 3968, 'complain': 920, 'stopped': 4200, 'wes': 4850, 'craven': 1035, 'hey': 2094, 'blockbuster': 509, 'forever': 1791, 'junk': 2435, 'sam': 3775, 'spare': 4090, 'effort': 1432, 'grim': 1973, '30s': 44, 'gangster': 1867, 'melodrama': 2796, 'godfather': 1926, 'taken': 4348, 'extraordinary': 1607, 'technical': 4380, 'cousin': 1022, 'terms': 4405, 'experience': 1580, 'reading': 3544, 'involving': 2348, 'tom': 4513, 'hanks': 2024, 'boss': 546, 'elderly': 1440, 'mob': 2879, 'leader': 2544, 'handed': 2015, 'room': 3733, 'enterprise': 1495, 'carefully': 690, 'delivered': 1170, 'air': 164, 'hence': 2082, 'amount': 219, 'devoid': 1229, 'humor': 2191, 'edited': 1420, 'montage': 2893, 'doom': 1325, 'highest': 2101, 'praise': 3364, 'stunning': 4242, 'indeed': 2270, 'photographed': 3258, 'designed': 1202, 'veteran': 4723, 'hall': 2008, 'likely': 2599, 'sets': 3897, 'continues': 972, 'vivid': 4759, 'color': 878, 'dramatic': 1347, 'red': 3576, 'blacks': 494, 'blues': 519, 'scheme': 3810, 'notch': 3042, 'daniel': 1112, 'craig': 1031, 'spoiled': 4120, 'law': 2536, 'importantly': 2247, 'riveting': 3706, 'seat': 3843, 'heard': 2061, 'academy': 77, 'easy': 1409, 'photography': 3260, 'incredibly': 2269, 'accident': 84, 'clear': 840, 'grandfather': 1953, 'fairy': 1632, 'contain': 963, 'interest': 2322, 'concerns': 935, 'magical': 2702, 'dying': 1392, 'girlfriend': 1909, 'seconds': 3846, 'moral': 2901, 'metaphor': 2823, 'released': 3602, 'year': 4978, 'ritter': 3703, 'kelly': 2451, 'married': 2743, 'writing': 4971, 'sadly': 3767, 'change': 750, 'uncomfortable': 4636, 'handled': 2018, 'lasted': 2520, 'ed': 1414, 'spot': 4129, 'horrific': 2165, 'stereotypes': 4177, 'fx': 1857, 'remarkable': 3612, 'officer': 3091, 'please': 3304, 'drunk': 1374, 'trash': 4564, 'bette': 470, 'concert': 936, 'laughing': 2531, 'jokes': 2414, 'antics': 254, 'eyes': 1613, 'tremendous': 4578, 'changed': 751, 'power': 3359, 'loses': 2655, 'spirit': 4110, 'rose': 3737, 'madness': 2696, 'pure': 3471, 'chose': 805, 'opened': 3112, 'france': 1815, 'myself': 2952, 'reflect': 3584, 'happened': 2026, 'previous': 3387, 'thoughts': 4463, 'emotions': 1461, 'intellectual': 2311, 'nor': 3031, 'jerk': 2394, 'regard': 3587, 'noise': 3023, 'segment': 3865, 'voices': 4762, 'fair': 1630, 'seeking': 3857, 'attack': 336, 'held': 2073, 'warm': 4793, 'ghost': 1901, 'directors': 1265, 'intense': 2315, 'sadness': 3768, 'upon': 4683, 'hearing': 2062, 'thoughtful': 4462, 'inspiring': 2301, 'effectively': 1430, 'muslim': 2948, 'wake': 4773, 'loud': 2662, 'simple': 3980, 'critic': 1062, 'expected': 1577, 'brave': 567, 'warning': 4799, 'reviewer': 3675, 'below': 461, 'falling': 1639, 'loss': 2657, 'recognize': 3569, 'mans': 2729, 'smoke': 4036, 'richard': 3684, 'brooks': 596, 'realistic': 3550, 'killing': 2471, 'focused': 1766, 'subjects': 4252, 'approach': 281, 'favor': 1670, 'locations': 2634, 'souls': 4077, 'blunt': 520, 'wilson': 4891, 'blake': 498, 'sellers': 3870, 'laurel': 2535, 'prisoner': 3402, 'makeup': 2715, 'fu': 1843, 'exception': 1557, 'constant': 958, 'references': 3583, 'bright': 581, 'motion': 2912, 'portray': 3340, 'asian': 313, 'surprisingly': 4314, 'bang': 392, 'elvis': 1451, 'helen': 2074, 'tall': 4360, 'thin': 4448, 'nervous': 2998, 'pants': 3182, 'wet': 4854, 'add': 115, 'affair': 135, 'eerie': 1427, 'comics': 896, 'forbidden': 1784, 'influence': 2285, 'wide': 4879, 'aimed': 162, 'mid': 2832, 'dated': 1120, 'central': 736, 'civilization': 828, 'continue': 970, 'relevant': 3603, 'interested': 2323, 'current': 1085, 'edition': 1422, 'dolls': 1315, 'remake': 3611, 'forty': 1806, 'ago': 154, 'capture': 677, 'magic': 2701, 'energy': 1478, 'brando': 566, 'york': 4985, 'frank': 1820, 'sinatra': 3986, 'crap': 1032, 'city': 826, 'famous': 1647, 'hold': 2128, 'sarah': 3783, 'jean': 2388, 'simmons': 3978, 'basically': 406, 'types': 4621, 'broadway': 592, 'werent': 4848, 'uneven': 4648, 'thirty': 4455, 'rated': 3527, 'ill': 2227, 'history': 2120, 'erotic': 1515, 'neck': 2984, 'kept': 2455, 'recently': 3567, 'enjoyed': 1486, 'bo': 521, 'sexual': 3906, 'inept': 2280, 'harris': 2037, 'obsessed': 3068, 'philip': 3252, 'barely': 398, 'initial': 2289, 'herself': 2091, 'miles': 2843, 'silent': 3972, 'johnny': 2409, 'furthermore': 1853, 'record': 3573, 'starred': 4151, 'joe': 2406, 'king': 2478, 'arthur': 304, 'makers': 2713, 'nicholas': 3009, 'learned': 2549, 'pretentious': 3383, 'horrid': 2164, 'senseless': 3876, 'technique': 4382, 'utter': 4700, 'tarzan': 4365, 'legend': 2562, 'lord': 2650, 'apes': 266, 'mere': 2813, 'six': 4007, 'awards': 366, 'winning': 4898, 'ape': 265, 'gary': 1872, 'future': 1855, 'ultimately': 4627, 'disappointing': 1273, 'heroic': 2089, 'master': 2756, 'universe': 4665, 'closing': 860, 'occasion': 3072, 'intentions': 2320, 'climax': 850, 'painting': 3174, 'titled': 4504, 'artistic': 307, 'nude': 3057, 'border': 539, 'hamilton': 2011, 'books': 536, 'intimate': 2330, 'older': 3100, 'territory': 4410, 'proved': 3446, 'photos': 3261, 'focus': 1765, 'angles': 236, 'become': 432, 'confusing': 943, 'farce': 1654, 'develops': 1225, 'slowly': 4029, 'wonder': 4926, 'whats': 4859, '14': 6, 'contact': 962, 'virgin': 4748, 'caught': 723, 'gag': 1860, 'complete': 922, 'forms': 1800, 'americans': 214, 'subtitles': 4257, 'certainly': 739, 'todays': 4508, 'practically': 3362, 'context': 969, 'sex': 3905, 'wishing': 4907, 'matters': 2769, 'avoided': 363, 'grow': 1981, 'beings': 448, 'risk': 3702, 'topic': 4525, 'successful': 4264, 'unlikely': 4670, 'fear': 1676, 'cute': 1091, 'pleased': 3305, 'played': 3297, 'eve': 1532, 'angel': 231, 'sheer': 3923, 'leads': 2546, 'holes': 2132, 'truck': 4594, 'humour': 2193, 'candy': 669, 'female': 1692, 'hoped': 2155, 'keep': 2448, 'male': 2717, 'camp': 663, 'close': 854, 'genuinely': 1891, 'narrative': 2965, 'presentation': 3375, 'bollywood': 530, 'evidence': 1546, 'impact': 2243, 'india': 2272, 'background': 379, 'troubles': 4593, 'product': 3418, 'coming': 897, 'countries': 1014, 'guts': 1998, 'based': 403, 'killer': 2469, 'relation': 3594, '15': 7, 'generation': 1882, 'sick': 3961, 'individuals': 2277, 'awful': 371, 'heads': 2058, 'starting': 4156, 'cars': 703, 'drinking': 1361, 'water': 4815, 'brand': 565, 'proves': 3447, 'entry': 1504, 'ranks': 3519, 'exists': 1573, 'teenager': 4389, 'detective': 1219, 'crimes': 1057, 'parent': 3187, 'overwhelming': 3156, 'disappointment': 1274, 'lacks': 2504, 'months': 2896, 'party': 3200, 'london': 2639, 'prime': 3395, 'rescue': 3642, 'jet': 2399, 'pack': 3164, 'rocket': 3719, 'faces': 1618, 'enemies': 1476, 'levels': 2583, 'mini': 2854, 'kill': 2467, 'bonus': 534, 'challenging': 745, 'load': 2629, 'view': 4735, 'repetitive': 3632, 'improved': 2254, 'graphics': 1958, 'odd': 3079, 'graphic': 1957, 'comment': 899, 'value': 4708, 'improvement': 2255, 'minds': 2852, 'canada': 667, 'eastern': 1407, 'europe': 1529, 'refreshing': 3585, 'ten': 4398, 'excitement': 1562, 'gags': 1861, 'liners': 2609, 'directly': 1262, 'enthusiasm': 1501, 'timing': 4497, 'bothered': 549, 'cheated': 776, 'earned': 1400, 'cash': 710, 'gradually': 1951, 'michael': 2829, 'caine': 648, 'al': 170, 'pacino': 3163, 'jack': 2372, 'nicholson': 3010, 'rolling': 3728, 'stones': 4196, 'forced': 1786, 'writers': 4969, 'manage': 2720, 'performed': 3230, 'added': 116, 'mistake': 2871, 'italian': 2366, 'zombie': 4997, 'honestly': 2146, 'bother': 548, 'nasty': 2967, 'gratuitous': 1960, 'fulci': 1844, 'elaborate': 1439, 'continuity': 973, 'repeated': 3630, 'miserable': 2863, 'secret': 3847, 'army': 294, 'base': 401, 'scientists': 3817, 'virus': 4751, 'failing': 1627, 'steal': 4168, 'corpse': 1000, 'terrorist': 4412, 'population': 3335, 'nearby': 2979, 'village': 4742, 'survivors': 4323, 'zombies': 4998, 'soldiers': 4051, 'received': 3564, 'area': 285, 'nightmare': 3013, 'sequences': 3886, 'birds': 485, 'example': 1553, 'birth': 486, 'hospital': 2171, 'infamous': 2283, 'belongs': 459, 'thoroughly': 4458, 'pleasant': 3302, 'negative': 2990, 'cheating': 777, 'wives': 4918, 'dogs': 1310, 'swear': 4332, '1st': 28, 'occur': 3075, 'east': 1406, 'hudson': 2183, 'river': 3705, 'joey': 2407, 'sympathetic': 4340, 'kicked': 2460, 'spike': 4108, 'lessons': 2576, 'hill': 2107, 'redemption': 3578, 'study': 4240, 'relationships': 3597, 'inspired': 2300, 'hopes': 2158, 'present': 3374, 'teenagers': 4390, 'middle': 2833, 'fights': 1709, 'causes': 726, 'fashion': 1659, 'popular': 3333, 'return': 3663, 'removed': 3623, 'passed': 3202, 'laughs': 2532, 'poignant': 3315, 'consists': 956, 'mix': 2876, 'related': 3593, 'crude': 1070, 'adult': 125, 'manner': 2728, 'language': 2514, 'mild': 2839, 'ii': 2225, 'men': 2804, 'row': 3742, 'maker': 2712, 'cost': 1004, 'horribly': 2163, 'protagonist': 3441, 'somehow': 4060, 'laughed': 2530, 'type': 4620, 'riding': 3693, 'horse': 2169, 'mysterious': 2954, 'absolute': 71, 'genius': 1886, 'war': 4791, 'efforts': 1433, 'creating': 1040, 'prevent': 3385, 'actions': 101, 'jungle': 2433, 'spite': 4114, 'includes': 2262, 'groups': 1980, 'according': 88, 'department': 1182, 'roll': 3726, 'bela': 449, 'lugosi': 2684, 'thrill': 4470, 'wont': 4932, 'younger': 4990, 'dean': 1140, 'blonde': 511, 'dorothy': 1329, 'claire': 832, 'pull': 3461, 'joseph': 2418, 'building': 616, 'lake': 2508, 'morning': 2905, 'assume': 327, 'largely': 2516, 'church': 814, 'batman': 412, 'touched': 4533, 'tears': 4378, 'centers': 735, '70': 55, 'fascinating': 1658, 'survived': 4320, 'provided': 3449, 'busy': 636, 'discussion': 1283, 'tear': 4377, 'sub': 4250, 'plots': 3310, 'alien': 183, 'stick': 4183, '1950s': 13, 'vision': 4753, 'bare': 397, 'minimum': 2856, 'hired': 2116, 'carry': 701, 'mood': 2897, 'wasted': 4808, 'greatest': 1965, 'america': 212, 'ghosts': 1902, 'mummy': 2936, 'exciting': 1563, 'discovers': 1280, 'mothers': 2911, 'frightening': 1838, 'okay': 3098, 'wanna': 4785, 'reed': 3580, 'daring': 1115, 'stunt': 4243, 'stunts': 4244, 'hair': 2004, 'raising': 3509, 'cliff': 848, 'chapter': 758, 'endings': 1472, 'lower': 2675, 'turns': 4608, 'eat': 1410, 'martial': 2746, 'arts': 309, 'samurai': 3777, 'captures': 679, 'versus': 4721, 'creativity': 1043, 'capable': 673, 'answer': 250, 'plus': 3311, 'execution': 1566, 'repeat': 3629, 'bizarre': 492, 'experiments': 1584, 'chooses': 801, 'strange': 4209, 'supernatural': 4300, 'powers': 3361, 'motivations': 2914, 'relations': 3595, 'comparison': 915, 'thus': 4485, 'length': 2567, 'dry': 1376, 'emotion': 1458, 'depth': 1189, 'government': 1947, 'super': 4293, 'guessed': 1989, 'saves': 3794, 'design': 1201, 'aspects': 321, 'bullet': 621, 'psychic': 3456, 'limits': 2605, 'generic': 1884, 'total': 4530, 'errors': 1516, 'fix': 1743, 'mine': 2853, 'extra': 1606, 'horses': 2170, 'moore': 2900, 'conversation': 981, 'secondly': 3845, 'wealthy': 4826, 'spent': 4105, 'rent': 3625, 'paid': 3168, 'basement': 404, 'apartment': 264, 'wealth': 4825, 'newspaper': 3005, 'magazine': 2699, 'clean': 839, 'portrayal': 3341, 'deadly': 1134, 'accurate': 90, '20th': 38, 'marry': 2744, 'trust': 4597, 'butler': 638, 'ted': 4385, 'post': 3352, 'gave': 1874, 'henry': 2083, 'fonda': 1776, 'oscars': 3133, 'golden': 1933, 'lifetime': 2592, 'amazing': 209, 'craft': 1029, 'jackie': 2373, 'genuine': 1890, 'opportunity': 3120, 'debut': 1144, 'brilliantly': 584, 'ensemble': 1492, 'justin': 2439, 'lane': 2513, 'adam': 111, 'surprised': 4311, 'writer': 4968, 'eyed': 1612, 'call': 652, 'troops': 4590, 'skill': 4010, 'tame': 4361, 'standards': 4143, 'modern': 2882, 'combat': 883, 'storyline': 4206, 'parallel': 3185, 'unusual': 4680, 'ahead': 159, 'italy': 2367, '40s': 49, '50s': 52, 'understood': 4646, 'career': 687, 'twice': 4612, 'achieved': 93, 'rings': 3697, 'plausible': 3295, 'lacked': 2502, 'intensity': 2316, 'magnificent': 2703, 'appears': 277, 'rid': 3688, 'ms': 2930, 'ironic': 2354, 'projects': 3428, 'ease': 1403, 'apparent': 268, 'opera': 3115, 'asked': 316, 'meaning': 2779, 'unbelievably': 4634, 'noticed': 3048, 'connected': 946, 'horrors': 2168, 'screaming': 3825, 'president': 3378, 'iraq': 2350, 'criminals': 1059, 'womans': 4922, 'followed': 1772, 'facts': 1624, 'kinds': 2477, 'shocked': 3937, 'waited': 4770, 'write': 4967, 'feels': 1686, 'needed': 2987, 'storm': 4204, 'hed': 2071, 'smaller': 4031, 'scope': 3819, 'audiences': 352, 'planning': 3291, 'daughters': 1123, 'revolution': 3678, 'result': 3659, 'finished': 1732, 'reel': 3581, 'lesson': 2575, 'anywhere': 262, 'revolutionary': 3679, 'neil': 2994, 'nancy': 2963, 'carol': 694, 'leading': 2545, 'lady': 2506, 'hates': 2047, 'streets': 4215, 'arm': 291, 'causing': 727, 'accidentally': 85, 'wound': 4960, 'dad': 1096, 'thousands': 4465, 'indians': 2274, 'nations': 2970, 'crush': 1073, 'nation': 2968, 'inevitable': 2281, 'earlier': 1398, 'staged': 4138, 'similarly': 3977, 'packed': 3165, 'land': 2510, 'amazingly': 210, 'lack': 2501, 'fail': 1625, 'billy': 481, 'dare': 1114, 'command': 898, 'louis': 2663, 'focuses': 1767, 'knowing': 2489, 'sir': 3997, 'villain': 4743, 'appeared': 275, 'brother': 598, 'holmes': 2138, 'hyde': 2205, 'wild': 4884, 'scared': 3803, 'status': 4163, 'depiction': 1184, 'ride': 3690, 'arms': 293, 'steps': 4175, 'amazed': 208, 'enjoyable': 1485, 'sitting': 4004, 'cave': 728, 'somewhere': 4066, 'naturally': 2973, 'deals': 1138, 'losing': 2656, 'lovely': 2669, 'typically': 4623, 'besides': 467, 'acts': 107, 'plastic': 3294, 'presumably': 3380, 'handsome': 2020, 'talent': 4352, 'personality': 3242, 'julie': 2427, 'cameo': 658, 'donald': 1320, 'credits': 1051, 'corny': 998, '1990': 24, 'assistant': 325, 'speaks': 4093, 'babe': 374, 'manhattan': 2724, 'naive': 2957, 'raw': 3532, 'justify': 2438, 'hat': 2044, 'pass': 3201, 'cook': 989, 'jr': 2422, 'sat': 3784, 'explicit': 1591, 'phantom': 3251, 'fay': 1674, 'originally': 3130, 'hook': 2151, 'explained': 1587, 'holds': 2130, 'revealed': 3669, 'experienced': 1581, 'fame': 1642, 'curtis': 1088, 'fate': 1665, 'secretly': 3849, 'doubts': 1332, 'disappoint': 1271, 'youd': 4987, 'details': 1218, 'mistakes': 2873, 'force': 1785, 'commercial': 903, 'painted': 3173, 'advertising': 132, 'exposed': 1598, 'nuts': 3063, 'ships': 3933, 'maintain': 2708, 'medical': 2789, 'suitable': 4283, 'connection': 947, 'difficult': 1248, 'standard': 4142, 'keeping': 2449, 'mile': 2842, 'useful': 4693, 'attention': 344, 'flight': 1756, 'fire': 1733, 'yelling': 4980, 'boat': 523, 'stupid': 4245, 'cases': 709, 'impossible': 2248, 'degree': 1164, 'centered': 734, 'finding': 1726, 'successfully': 4265, 'slightly': 4026, 'greater': 1964, 'pulling': 3463, 'control': 978, 'following': 1773, 'airplane': 166, 'silence': 3971, 'credibility': 1048, 'breaking': 570, 'safety': 3770, 'danes': 1109, 'quickly': 3491, 'calls': 655, 'methods': 2825, 'physical': 3262, 'conflicts': 941, 'bringing': 586, 'letting': 2581, 'touch': 4532, 'worried': 4949, 'responsible': 3655, 'beyond': 475, 'dangerous': 1111, 'laughable': 2528, 'disbelief': 1276, 'destruction': 1215, 'dropped': 1369, 'haunting': 2050, 'sinister': 3995, 'jerry': 2395, 'pg': 3250, 'terror': 4411, 'trip': 4587, 'incident': 2259, 'hong': 2148, 'kong': 2493, 'weekend': 4837, 'airport': 167, 'alice': 182, 'drug': 1372, 'heroine': 2090, 'ultimate': 4626, 'survival': 4318, 'entertained': 1498, 'palace': 3177, 'shouldnt': 3950, 'drag': 1341, 'gang': 1866, 'blatant': 502, 'pool': 3327, 'destroy': 1212, 'nose': 3036, 'tend': 4399, 'idiot': 2217, 'ask': 315, 'eva': 1531, 'dies': 1244, 'wedding': 4835, 'unoriginal': 4672, 'clichéd': 846, 'ears': 1401, 'crew': 1054, 'god': 1925, 'minor': 2857, 'unique': 4661, 'mighty': 2836, 'finish': 1731, 'offer': 3086, 'massive': 2755, 'celluloid': 732, 'club': 864, 'string': 4225, 'unfunny': 4654, 'rick': 3687, 'alongside': 196, 'francis': 1817, 'bill': 480, 'expecting': 1578, 'pick': 3265, 'pilot': 3276, 'hooked': 2152, 'subsequent': 4255, 'values': 4709, 'intrigued': 2333, 'eric': 1514, 'requires': 3641, 'wrap': 4963, 'gray': 1962, 'journey': 2420, 'annoying': 248, 'trailer': 4553, 'vampires': 4711, 'hammer': 2013, 'gothic': 1944, 'mario': 2737, 'masterpieces': 2759, 'compare': 912, 'opinion': 3117, 'summer': 4289, 'jackson': 2374, 'nostalgic': 3038, 'bakshi': 385, 'standing': 4144, 'already': 197, 'strip': 4226, 'warmth': 4795, 'sequel': 3883, 'hearted': 2064, 'aired': 165, 'paulie': 3215, 'lovable': 2666, 'forgive': 1794, 'marie': 2736, 'owner': 3158, 'blind': 506, 'poetic': 3313, 'reunion': 3667, 'helped': 2079, 'defeat': 1157, 'sum': 4287, 'words': 4938, 'images': 2234, 'brothers': 599, 'station': 4162, 'butt': 639, 'means': 2782, 'growing': 1982, 'occurs': 3077, 'september': 3882, '2001': 31, 'gas': 1873, 'chief': 789, 'sudden': 4270, 'strike': 4222, 'trade': 4546, 'orders': 3126, 'center': 733, 'disaster': 1275, 'sole': 4052, 'purpose': 3474, 'plane': 3288, 'united': 4663, 'capturing': 680, 'reaction': 3541, 'husbands': 2204, 'carrying': 702, 'equipment': 1511, '80': 58, 'trapped': 4563, 'catches': 716, 'kevin': 2456, 'duty': 1389, 'hitting': 2125, 'higher': 2100, 'sight': 3966, 'south': 4084, 'official': 3093, 'arrives': 301, 'believed': 454, 'returns': 3666, 'achievement': 94, 'unfolds': 4650, 'lesser': 2574, 'toward': 4538, 'events': 1536, 'niro': 3018, 'program': 3424, 'glory': 1921, 'ratings': 3530, 'relatives': 3600, 'reminded': 3618, 'basketball': 408, 'selling': 3871, 'album': 175, 'finest': 1729, 'freedom': 1827, 'commentary': 900, 'weird': 4840, 'thrown': 4480, 'loosely': 2649, 'nowadays': 3054, 'combination': 884, 'simon': 3979, 'matthau': 2770, 'planned': 3290, 'desert': 1197, 'island': 2360, 'enter': 1494, 'kate': 2445, 'manipulative': 2726, 'emma': 1457, 'novel': 3051, 'terribly': 4407, 'dislike': 1287, 'interpretation': 2327, 'innocence': 2292, 'delightful': 1168, 'raymond': 3534, '1996': 26, 'williams': 4887, 'pleasure': 3306, 'search': 3839, 'kidnapped': 2465, 'straight': 4208, 'wayne': 4820, 'jake': 2376, 'bite': 489, 'cable': 645, 'print': 3399, 'bucks': 606, 'hung': 2196, 'mixed': 2877, 'likable': 2596, 'defined': 1160, 'finale': 1722, 'witch': 4909, 'explains': 1589, 'christopher': 812, 'walken': 4776, 'pie': 3271, 'laura': 2534, 'andrews': 229, 'gene': 1878, 'amounts': 220, 'tough': 4536, 'cop': 992, 'dealing': 1137, 'driver': 1365, 'investigation': 2342, 'guilt': 1993, 'elegant': 1441, 'deeper': 1155, 'discovered': 1279, 'service': 3894, 'morality': 2902, 'developing': 1223, 'field': 1703, 'nicely': 3008, 'slight': 4024, 'online': 3108, 'site': 4002, 'picked': 3266, 'rights': 3695, 'purchased': 3470, 'draws': 1351, 'struggle': 4232, 'japan': 2380, 'wise': 4903, 'tree': 4575, 'weak': 4823, 'childrens': 794, 'jazz': 2386, 'convincingly': 987, 'hysterical': 2207, 'dubbed': 1378, 'stooges': 4198, 'casting': 712, 'imagery': 2233, 'executive': 1567, 'cd': 729, 'conversations': 982, 'criminal': 1058, 'greedy': 1968, 'shake': 3912, 'danger': 1110, 'pay': 3216, 'mexican': 2826, 'hotel': 2174, 'safe': 3769, 'hidden': 2095, 'shut': 3959, 'impression': 2251, 'attacks': 338, 'dozen': 1337, 'uses': 4696, 'sidekick': 3963, 'priest': 3392, 'guns': 1997, 'pops': 3332, 'convinced': 985, 'dollars': 1314, 'shoot': 3940, 'dirty': 1267, 'abc': 63, 'recognized': 3570, 'todd': 4509, 'rise': 3700, 'website': 4833, 'flawed': 1749, 'anybody': 256, 'sitcom': 4001, 'met': 2821, 'fully': 1846, 'empathy': 1462, 'extent': 1605, 'badly': 382, 'conceived': 930, 'executed': 1565, 'scripted': 3833, 'root': 3735, 'regardless': 3589, 'awake': 364, 'mgm': 2828, 'turner': 4606, 'outfit': 3143, 'margaret': 2734, 'karen': 2443, 'paris': 3189, 'telling': 4395, 'partner': 3198, 'writes': 4970, 'adventures': 131, 'novels': 3052, 'throws': 4481, 'stomach': 4194, 'blew': 505, 'spiritual': 4113, 'opportunities': 3119, 'introduce': 2335, 'clothing': 862, 'poetry': 3314, 'lovers': 2671, 'idiotic': 2218, 'dressing': 1358, 'resembles': 3645, 'rush': 3757, 'awfully': 372, 'unconvincing': 4637, 'hated': 2046, 'european': 1530, 'underrated': 4641, 'corner': 997, 'animal': 238, 'whoever': 4871, 'insane': 2295, 'description': 1196, 'tragic': 4551, 'contained': 964, 'kick': 2459, 'convincing': 986, 'expert': 1585, 'streep': 4213, 'belief': 450, 'occasional': 3073, 'inducing': 2278, 'path': 3209, 'ups': 4685, 'corrupt': 1002, 'rich': 3683, 'shower': 3955, 'lesbian': 2571, 'needless': 2988, 'response': 3653, 'exploration': 1593, 'system': 4343, 'purely': 3472, 'sleep': 4021, 'hot': 2173, 'solid': 4054, 'suspects': 4326, 'crafted': 1030, 'taxi': 4369, 'support': 4301, 'beating': 424, 'warned': 4797, 'tracks': 4544, 'complex': 924, 'challenge': 744, 'characterization': 760, 'admire': 121, 'kissing': 2483, 'everyday': 1541, 'private': 3404, 'developed': 1222, 'feet': 1687, 'renting': 3628, 'learn': 2548, 'college': 876, 'feelings': 1685, 'computer': 928, 'ie': 2220, 'questionable': 3488, 'mike': 2838, 'porn': 3336, 'fish': 1737, 'highlight': 2102, 'television': 4393, 'epic': 1506, 'emphasis': 1463, 'compelled': 916, 'sacrifice': 3764, 'queen': 3485, 'outstanding': 3146, 'strongly': 4229, 'offering': 3088, 'became': 430, 'satisfying': 3789, 'sorts': 4075, 'led': 2556, 'forth': 1803, 'belong': 458, 'encounter': 1466, 'attracted': 348, 'absence': 70, 'tie': 4487, 'unnecessary': 4671, 'translation': 4561, 'polished': 3323, 'nightmares': 3014, 'elm': 1447, 'vampire': 4710, 'fare': 1655, 'spoof': 4125, 'winner': 4897, 'giant': 1904, 'campy': 665, 'humorous': 2192, 'amongst': 218, 'pamela': 3179, 'mainly': 2706, 'mental': 2807, '16': 8, 'vice': 4726, 'tomatoes': 4514, 'security': 3852, 'closet': 859, 'switch': 4337, 'channels': 755, 'excuse': 1564, 'summary': 4288, 'fault': 1668, 'chemistry': 783, 'universal': 4664, 'bath': 410, 'profound': 3423, 'park': 3190, 'lover': 2670, 'uk': 4625, 'talked': 4357, 'measure': 2785, 'rangers': 3517, 'decided': 1149, 'imagination': 2235, 'westerns': 4853, 'persona': 3239, 'familiar': 1643, 'orson': 3131, 'welles': 4843, 'chilling': 795, 'terrifying': 4409, 'savage': 3791, 'murderer': 2940, 'host': 2172, 'heres': 2086, '100': 1, 'embarrassment': 1455, 'lloyd': 2628, 'jeff': 2389, 'purple': 3473, 'li': 2585, 'voiced': 4761, 'ha': 2001, 'travesty': 4569, 'utterly': 4701, 'expectations': 1576, 'lewis': 2584, 'movements': 2923, 'definition': 1163, 'strikes': 4223, 'glenn': 1917, 'fairly': 1631, 'lengthy': 2568, 'blair': 497, 'cabin': 644, 'pot': 3354, 'friendly': 1835, 'drink': 1360, 'drawn': 1350, 'mindless': 2851, 'ashley': 312, 'topless': 4526, 'briefly': 580, 'hart': 2040, 'unless': 4668, 'dedicated': 1153, 'murphy': 2943, 'luckily': 2680, 'humans': 2189, 'comfortable': 893, 'brenda': 575, 'wendy': 4845, 'determined': 1220, 'warrior': 4801, 'aid': 160, 'snake': 4039, 'tiger': 4490, 'techniques': 4383, 'culture': 1080, 'jumping': 2430, 'ship': 3932, 'devils': 1228, 'experiment': 1583, 'pig': 3274, 'charlie': 766, 'torture': 4528, 'alcohol': 176, 'burning': 628, 'sharp': 3920, 'granted': 1956, 'sucks': 4269, 'favorites': 1672, 'punk': 3468, 'twists': 4618, 'appreciated': 279, 'industry': 2279, 'accent': 78, 'initially': 2290, 'surprises': 4312, 'cause': 724, 'direct': 1257, 'decisions': 1152, 'staying': 4166, 'hole': 2131, 'castle': 713, 'food': 1777, 'reach': 3536, 'wicked': 4878, 'chick': 787, 'companion': 910, 'third': 4454, 'inappropriate': 2258, 'react': 3540, 'news': 3004, 'ham': 2010, 'attached': 335, 'dragged': 1342, 'buffalo': 612, 'theyd': 4442, 'carried': 699, 'clue': 865, 'remembered': 3616, 'dream': 1353, 'technology': 4384, 'demons': 1178, 'iii': 2226, 'popularity': 3334, 'lie': 2588, 'creep': 1052, 'stays': 4167, 'harry': 2038, 'clint': 851, 'eastwood': 1408, 'directs': 1266, 'disagree': 1268, 'alright': 198, 'gritty': 1976, 'quotes': 3497, 'ya': 4976, 'san': 3778, 'sandra': 3780, 'directing': 1259, 'immensely': 2242, 'visual': 4756, 'mess': 2817, 'dull': 1383, 'sympathy': 4341, 'reduced': 3579, 'forest': 1790, 'tension': 4403, 'choreographed': 802, 'condition': 938, 'wave': 4817, 'stupidity': 4246, 'downright': 1336, 'merits': 2816, 'generally': 1880, 'powerful': 3360, 'represents': 3638, 'bush': 633, 'latin': 2525, 'mexico': 2827, 'rule': 3751, 'politics': 3326, 'breath': 573, 'deeply': 1156, 'philosophical': 3253, 'resources': 3650, 'crucial': 1069, 'puts': 3481, 'glass': 1916, 'unrealistic': 4676, 'businessman': 635, 'event': 1535, 'difference': 1245, 'stood': 4197, 'walking': 4778, 'championship': 746, 'kurt': 2498, 'angle': 235, 'chris': 807, 'masters': 2760, 'kane': 2441, 'june': 2432, 'thrilling': 4473, 'surprise': 4310, 'bell': 457, 'atrocious': 334, 'per': 3223, 'wrestling': 4966, 'card': 682, 'becoming': 434, 'evident': 1547, 'bloody': 513, 'blank': 501, 'transition': 4560, 'send': 3873, 'union': 4660, 'psychological': 3458, 'thrillers': 4472, 'remote': 3621, 'sisters': 3999, 'bay': 415, 'vaguely': 4705, 'artists': 308, 'explain': 1586, 'fits': 1740, 'slap': 4015, 'sloppy': 4027, 'rural': 3756, 'areas': 286, 'narration': 2964, 'undoubtedly': 4647, 'neat': 2981, 'frequent': 1830, 'foreign': 1789, 'severe': 3904, 'social': 4046, 'eager': 1395, 'ellen': 1446, 'quote': 3496, 'un': 4629, 'catholic': 721, 'honesty': 2147, 'von': 4764, 'idiots': 2219, 'philosophy': 3254, 'streisand': 4216, 'thick': 4446, 'proper': 3436, 'foot': 1780, 'guessing': 1990, 'ideal': 2213, 'gender': 1877, 'whereas': 4864, 'legs': 2564, 'blowing': 515, 'mate': 2764, 'break': 569, 'tradition': 4548, 'liberal': 2586, 'exact': 1550, 'transfer': 4558, 'reaching': 3539, 'offered': 3087, 'shallow': 3915, 'hollow': 2134, 'meaningless': 2781, 'pseudo': 3454, 'assault': 323, 'drivel': 1363, 'hopefully': 2156, 'exposure': 1599, 'hire': 2115, 'saving': 3795, 'stated': 4159, 'extras': 1608, 'possibilities': 3348, 'weve': 4855, 'dog': 1309, 'thriller': 4471, 'reaches': 3538, 'em': 1452, 'anymore': 257, 'terrific': 4408, 'lips': 2613, 'gift': 1905, 'faithful': 1634, 'storytelling': 4207, 'appealing': 271, 'con': 929, 'smart': 4032, 'ambitious': 211, 'discover': 1278, 'bleak': 503, 'develop': 1221, 'lit': 2619, 'fashioned': 1660, 'deaf': 1135, 'ability': 65, 'revenge': 3673, 'awkward': 373, 'empty': 1465, 'build': 615, 'instantly': 2305, 'bottom': 551, 'lay': 2540, 'steven': 4180, 'pulp': 3465, 'extreme': 1609, 'edgy': 1418, '1972': 18, 'visible': 4752, 'seemingly': 3861, 'expensive': 1579, 'breaks': 571, 'cared': 686, 'jon': 2415, 'cowboy': 1026, 'burt': 630, 'nights': 3015, 'voight': 4763, 'transformation': 4559, 'reynolds': 3682, 'ned': 2985, 'cox': 1027, 'suggest': 4278, 'treated': 4572, 'commercials': 904, 'personalities': 3241, 'wouldve': 4959, 'paint': 3172, 'spell': 4101, 'warriors': 4802, 'lee': 2557, 'locked': 2635, '1930s': 11, 'step': 4173, 'columbo': 882, 'advantage': 129, 'advance': 127, 'drew': 1359, 'roberts': 3712, 'yeah': 4977, 'kinda': 2476, 'spectacular': 4098, 'props': 3439, 'principal': 3398, 'behavior': 445, 'impressed': 2250, 'occasionally': 3074, 'round': 3740, 'wooden': 4934, 'west': 4851, 'irrelevant': 2357, 'ruins': 3750, 'backdrop': 378, 'overrated': 3155, 'unpredictable': 4674, 'logical': 2637, 'fascinated': 1657, 'sounded': 4079, 'facing': 1620, 'fears': 1677, 'pointless': 3318, 'towards': 4539, 'unwatchable': 4681, 'countryside': 1016, 'anderson': 227, 'richards': 3685, 'england': 1482, 'aware': 367, 'forgotten': 1796, 'smile': 4033, 'stellar': 4172, 'allows': 192, 'connect': 945, 'harsh': 2039, 'shine': 3929, 'gem': 1876, 'afternoon': 144, 'train': 4555, 'wreck': 4965, 'grown': 1983, 'shelf': 3924, 'honor': 2149, 'cuba': 1076, 'carl': 693, 'african': 142, 'sunday': 4291, 'motivation': 2913, 'achieve': 92, 'mission': 2870, 'colonel': 877, 'hal': 2005, 'bitter': 491, 'curious': 1084, 'triumph': 4589, 'strength': 4217, 'scooby': 3818, 'doo': 1324, 'enjoying': 1487, 'wars': 4803, 'names': 2962, 'amy': 222, 'funnier': 1849, 'holiday': 2133, 'cliché': 845, 'mysteries': 2953, 'intrigue': 2332, 'increasingly': 2267, 'suffered': 4274, 'fourth': 1812, 'neighbors': 2993, 'cartoons': 706, 'walks': 4779, 'lol': 2638, 'sleeping': 4022, 'nomination': 3025, '2000': 30, 'sexuality': 3907, 'despair': 1206, 'families': 1644, 'anger': 234, 'simplicity': 3981, 'intention': 2318, 'inevitably': 2282, 'homosexual': 2144, 'youth': 4994, 'cover': 1023, 'kapoor': 2442, 'khan': 2458, 'mtv': 2932, 'gangsters': 1868, 'montana': 2894, 'hello': 2077, 'brian': 576, 'quirky': 3493, 'consider': 950, 'vacation': 4703, 'lawrence': 2537, 'wearing': 4830, 'settle': 3900, 'struggles': 4233, 'resolution': 3648, 'reference': 3582, 'flesh': 1752, 'everywhere': 1545, 'sign': 3967, 'cleverly': 843, 'detail': 1216, 'multiple': 2935, 'struck': 4230, 'emotionally': 1460, 'physically': 3263, '2nd': 41, 'provoking': 3452, 'mildly': 2840, 'haunted': 2049, 'jewish': 2400, 'comedian': 888, 'serving': 3895, 'hitler': 2123, 'kiss': 2482, 'clues': 866, 'goofy': 1938, 'daily': 1098, 'stayed': 4165, 'discuss': 1282, 'expressed': 1601, 'generations': 1883, 'concern': 932, 'worry': 4950, 'tons': 4519, 'literature': 2621, 'hearts': 2065, 'lyrics': 2690, 'remains': 3610, 'surviving': 4321, 'numerous': 3061, 'boom': 537, 'shadow': 3910, 'ignore': 2223, 'aging': 153, 'escape': 1517, 'theatrical': 4429, 'dramas': 1346, '1990s': 25, 'soap': 4044, 'superbly': 4295, 'sally': 3774, 'costume': 1006, 'reads': 3545, 'goldberg': 1932, 'greatly': 1966, 'hint': 2111, 'mel': 2795, '90': 60, 'jonathan': 2416, 'incompetent': 2265, 'heat': 2066, 'training': 4557, 'contract': 974, 'delivery': 1173, 'buildings': 617, 'memory': 2803, 'memories': 2802, '12': 3, 'robot': 3715, 'hardy': 2036, 'kennedy': 2453, 'bobby': 525, 'kidding': 2464, 'stylish': 4249, 'kim': 2474, 'lemmon': 2565, 'aunt': 354, 'witches': 4910, 'cannibal': 670, '70s': 56, '40': 48, 'artist': 306, 'cruise': 1072, 'respect': 3651, 'understanding': 4644, 'appreciation': 280, 'experiences': 1582, 'faced': 1617, 'eg': 1434, 'engaged': 1480, 'quiet': 3492, 'revelation': 3672, 'allowed': 190, 'provide': 3448, 'critical': 1063, 'balance': 386, 'believes': 455, 'underlying': 4640, 'blow': 514, 'letter': 2579, 'letters': 2580, 'possibility': 3349, 'nail': 2956, 'signs': 3970, 'heroes': 2088, 'religion': 3606, 'therefore': 4438, 'max': 2773, 'nevertheless': 3001, '75': 57, 'bold': 528, 'historically': 2119, 'described': 1194, 'raise': 3507, 'fortunately': 1804, 'grew': 1971, 'shortly': 3945, '1999': 27, 'information': 2287, 'internet': 2326, 'unfortunate': 4652, 'forces': 1787, 'sides': 3964, 'convoluted': 988, 'semi': 3872, 'bone': 533, 'helps': 2081, 'overly': 3154, 'melodramatic': 2797, 'limited': 2604, 'range': 3516, 'annoyed': 247, 'variety': 4713, 'linda': 2607, 'colorful': 879, 'financial': 1724, 'colors': 880, 'bacall': 376, 'kudos': 2496, 'russell': 3759, 'unforgettable': 4651, 'cure': 1082, 'ryan': 3763, 'impress': 2249, 'directorial': 1264, 'advanced': 128, 'cuts': 1092, 'plant': 3293, 'wolf': 4920, 'tunes': 4602, 'aged': 149, '50': 51, 'junior': 2434, 'adequate': 120, 'tech': 4379, 'user': 4695, 'versions': 4720, 'felix': 1688, 'newly': 3003, 'stale': 4139, 'stereotypical': 4178, 'protect': 3443, 'allowing': 191, 'amanda': 205, 'captain': 675, 'carter': 704, 'feminist': 1694, 'ready': 3546, 'pretend': 3381, 'realized': 3553, 'teacher': 4373, 'davis': 1127, 'seasons': 3842, 'stronger': 4228, 'providing': 3451, 'peace': 3219, 'weapons': 4828, 'solve': 4057, 'cameron': 662, 'mitchell': 2875, 'soldier': 4050, 'mill': 2845, 'teen': 4387, 'gross': 1977, 'installment': 2302, 'appearing': 276, 'random': 3514, 'succeed': 4260, 'entertain': 1497, 'laughter': 2533, 'toilet': 4511, 'moody': 2898, 'cg': 740, 'pet': 3246, 'rabbit': 3498, 'wacky': 4768, 'bugs': 614, 'issues': 2364, 'overlooked': 3153, 'watches': 4813, 'borrowed': 545, 'heavily': 2068, 'fill': 1713, 'olivier': 3102, 'richardson': 3686, 'importance': 2245, 'spy': 4133, 'robin': 3713, 'heston': 2093, 'pulls': 3464, 'grows': 1984, 'chair': 743, 'branagh': 564, 'convey': 983, 'enjoys': 1489, 'aforementioned': 139, 'size': 4009, 'screenwriter': 3831, 'cameos': 659, 'ancient': 225, 'position': 3345, 'ego': 1435, 'race': 3499, 'beneath': 463, 'poem': 3312, 'military': 2844, 'officers': 3092, 'temple': 4397, 'remain': 3608, 'cary': 707, 'grant': 1955, 'douglas': 1333, 'flynn': 1764, 'receive': 3563, 'marvelous': 2749, 'arguably': 288, 'macy': 2693, 'perform': 3227, 'easier': 1404, 'titles': 4505, 'opens': 3114, 'toy': 4541, 'bridge': 578, 'gordon': 1939, 'shop': 3943, 'dreams': 1354, 'thinks': 4453, 'mountain': 2916, 'beloved': 460, 'lately': 2522, 'le': 2542, 'purchase': 3469, 'musicals': 2947, 'singers': 3991, 'ps': 3453, 'photo': 3257, 'interview': 2328, 'represented': 3637, 'chaplin': 757, 'keaton': 2447, 'disc': 1277, 'heck': 2070, 'hundred': 2194, 'web': 4832, 'themes': 4433, 'block': 508, 'wood': 4933, 'machine': 2691, 'splatter': 4115, 'creature': 1046, 'satisfied': 3787, 'setting': 3898, 'focusing': 1768, 'attraction': 349, 'designs': 1203, 'detailed': 1217, 'cgi': 741, 'breathtaking': 574, 'iron': 2353, 'fighting': 1708, 'vegas': 4716, 'urge': 4688, 'irritating': 2358, 'purposes': 3475, 'porno': 3337, 'childish': 792, 'womens': 4924, 'overdone': 3151, 'speech': 4099, 'remarks': 3614, 'redeeming': 3577, 'neighborhood': 2992, 'beast': 421, 'neighbor': 2991, 'illogical': 2230, 'stephen': 4174, 'zone': 4999, 'shining': 3931, 'breasts': 572, 'jobs': 2405, 'photographer': 3259, 'wears': 4831, 'mentions': 2812, 'hits': 2124, 'chases': 772, 'losers': 2654, 'inane': 2257, 'monkey': 2889, 'unintentional': 4657, 'ticket': 4486, 'worthless': 4954, 'mistress': 2874, 'isolated': 2362, 'picks': 3268, 'twisted': 4617, 'possessed': 3347, 'worn': 4948, 'racist': 3503, 'unable': 4630, 'grab': 1948, 'beaten': 423, 'trail': 4552, 'bore': 540, 'talented': 4353, '1960s': 14, 'merely': 2814, 'superficial': 4296, 'divorce': 1300, 'buddies': 608, 'wear': 4829, 'cheese': 781, 'table': 4344, 'altogether': 202, 'endearing': 1469, 'health': 2059, 'running': 3754, 'lonely': 2641, 'argue': 289, 'urban': 4687, 'texas': 4417, 'commit': 905, 'mechanical': 2787, 'depicts': 1185, 'week': 4836, 'calling': 654, 'bud': 607, 'split': 4117, 'waves': 4818, 'bird': 484, 'accomplished': 87, 'uncle': 4635, 'sink': 3996, 'bull': 620, 'steve': 4179, 'insight': 2297, 'che': 774, '1971': 17, 'sunshine': 4292, 'witty': 4917, 'alert': 178, 'sincere': 3988, 'differences': 1246, 'russian': 3760, 'perspective': 3245, 'drop': 1368, 'suffer': 4273, 'handle': 2017, 'skip': 4013, 'dick': 1238, 'disjointed': 1286, 'falk': 1636, 'hank': 2023, 'unbearable': 4632, 'blame': 499, 'juvenile': 2440, 'miracle': 2860, 'scrooge': 3835, 'holly': 2135, 'hunter': 2198, 'psycho': 3457, 'bettie': 472, 'notorious': 3050, 'covers': 1025, 'splendid': 4116, 'fool': 1778, 'sport': 4127, 'pages': 3167, 'shape': 3917, 'cards': 684, 'odds': 3081, 'essence': 1521, 'matched': 2762, 'celebrity': 730, 'madonna': 2697, 'kay': 2446, 'jealous': 2387, 'lawyer': 2539, 'helicopter': 2075, 'fly': 1762, 'randomly': 3515, 'picking': 3267, 'robots': 3716, 'ourselves': 3139, 'trilogy': 4585, 'clips': 853, 'drawing': 1349, 'smooth': 4038, 'advise': 134, 'matrix': 2766, 'lowest': 2676, 'costs': 1005, 'monster': 2891, 'everyones': 1543, 'favourite': 1673, 'nostalgia': 3037, 'garbage': 1869, 'unintentionally': 4658, 'homage': 2140, 'liking': 2602, 'eighties': 1437, 'bet': 469, 'petty': 3249, 'report': 3634, 'remotely': 3622, 'christian': 809, 'bible': 476, 'christians': 810, 'distracting': 1296, 'bland': 500, 'kirk': 2481, 'johnson': 2410, 'christ': 808, 'fancy': 1649, 'namely': 2961, 'careful': 689, 'accents': 79, 'matthew': 2771, 'university': 4666, 'rules': 3752, 'sophisticated': 4072, 'persons': 3244, 'surrounding': 4317, 'similarities': 3976, 'brains': 563, 'editor': 1423, 'accept': 80, 'understandable': 4643, 'escaped': 1518, 'entirely': 1503, 'structure': 4231, 'disease': 1284, 'peoples': 3222, 'disappear': 1269, 'imaginative': 2236, 'depicted': 1183, 'absurd': 73, 'cell': 731, 'vague': 4704, 'tricks': 4582, 'trick': 4581, 'jumps': 2431, 'blend': 504, 'cia': 815, 'wit': 4908, 'contrast': 976, 'remarkably': 3613, 'dutch': 1388, 'sucked': 4268, 'tongue': 4517, 'cheek': 780, 'ian': 2208, 'grasp': 1959, 'sutherland': 4331, 'mars': 2745, 'bat': 409, 'par': 3184, 'aka': 168, 'suffers': 4276, 'explanation': 1590, 'stan': 4140, 'showcase': 3952, 'describes': 1195, 'buried': 625, 'spots': 4130, 'appearances': 274, 'virtually': 4750, 'moronic': 2906, 'unit': 4662, 'mayor': 2776, 'promising': 3433, 'elsewhere': 1449, 'supposedly': 4305, 'intelligence': 2312, 'arrested': 297, 'attorney': 347, 'forgot': 1795, 'court': 1021, 'mail': 2704, 'clark': 833, 'leo': 2569, 'michelle': 2830, 'oz': 3159, 'st': 4135, 'corporate': 999, 'network': 2999, 'legal': 2561, 'winds': 4895, 'loser': 2653, 'overcome': 3150, 'considerable': 951, 'unreal': 4675, 'learning': 2550, 'jeremy': 2393, 'conservative': 949, 'backgrounds': 380, 'jesus': 2398, 'theyve': 4445, 'ignorant': 2222, 'wells': 4844, 'consequences': 948, 'enormous': 1490, 'warner': 4798, '1940s': 12, 'yellow': 4981, 'drunken': 1375, 'strangers': 4212, 'wisdom': 4902, 'willis': 4890, 'popcorn': 3331, 'explosions': 1597, 'africa': 141, 'slaughter': 4018, 'prepared': 3371, 'delivering': 1171, 'curse': 1087, 'driven': 1364, 'pushing': 3479, 'prove': 3445, 'kung': 2497, 'football': 1782, '2002': 32, 'ninja': 3017, 'capital': 674, 'beats': 425, 'native': 2971, 'rats': 3531, 'lucas': 2678, 'suffering': 4275, 'basis': 407, 'ashamed': 311, 'sci': 3813, 'fi': 1700, 'messages': 2819, 'outer': 3142, 'strictly': 4221, 'crappy': 1033, 'godzilla': 1928, 'explosion': 1596, 'paying': 3217, 'rex': 3681, 'dinosaur': 1254, 'fortune': 1805, 'throat': 4475, 'spielberg': 4107, 'thank': 4420, 'mentioning': 2811, 'spoil': 4119, 'mouse': 2918, 'knowledge': 2490, 'figured': 1711, 'dub': 1377, 'mafia': 2698, 'plague': 3285, 'imagined': 2238, 'kings': 2480, 'kingdom': 2479, 'winter': 4900, 'studio': 4238, 'endless': 1473, 'lust': 2687, 'bedroom': 436, 'catching': 717, 'stanley': 4146, 'museum': 2944, 'aliens': 184, 'toys': 4542, 'travel': 4566, 'fired': 1734, 'boot': 538, 'garden': 1871, 'rambo': 3511, 'burned': 627, 'staff': 4136, 'los': 2651, 'angeles': 232, 'protagonists': 3442, '17': 9, 'meat': 2786, 'jaws': 2384, 'miike': 2837, 'performing': 3233, 'murderous': 2941, 'invasion': 2339, 'object': 3065, 'machines': 2692, 'scripts': 3834, 'visually': 4757, 'asking': 317, 'instant': 2304, 'waters': 4816, 'changes': 752, 'account': 89, 'tiresome': 4501, 'teens': 4391, 'ridden': 3689, 'fitting': 1741, 'via': 4725, 'accepted': 82, 'susan': 4324, 'mountains': 2917, 'uwe': 4702, 'boll': 529, 'seed': 3854, 'downhill': 1335, 'shock': 3936, 'plans': 3292, 'questions': 3489, 'homer': 2143, 'tad': 4345, 'dubbing': 1379, 'tonight': 4518, 'alexander': 180, 'ethan': 1528, 'van': 4712, 'gerard': 1894, 'maggie': 2700, 'alex': 179, 'houses': 2179, 'formulaic': 1802, 'presented': 3376, 'fabulous': 1615, 'touches': 4534, 'rough': 3739, 'hood': 2150, 'instinct': 2307, 'hadnt': 2003, 'potentially': 3356, 'slick': 4023, 'buff': 611, 'miscast': 2862, 'displayed': 1291, 'insulting': 2309, 'goal': 1924, 'colour': 881, 'audio': 353, 'recorded': 3574, 'raised': 3508, 'thief': 4447, 'hiding': 2098, 'flies': 1755, 'behave': 444, 'engage': 1479, 'charge': 762, 'horrifying': 2166, 'chest': 785, 'punch': 3466, 'scientist': 3816, 'radio': 3504, 'destroyed': 1213, 'substance': 4256, 'reveals': 3671, 'mass': 2752, 'creator': 1044, 'acceptable': 81, 'suggests': 4280, 'devil': 1227, 'greed': 1967, 'served': 3892, 'elizabeth': 1445, 'testament': 4416, 'authority': 359, 'society': 4047, 'somebody': 4059, 'corruption': 1003, 'clown': 863, 'fond': 1775, 'disturbed': 1298, 'werewolf': 4849, 'buck': 605, 'scenario': 3806, 'psychotic': 3459, 'chaos': 756, 'huh': 2186, 'menace': 2805, 'threatening': 4467, 'shirt': 3935, 'covered': 1024, 'cops': 994, 'phony': 3256, 'wins': 4899, 'descent': 1192, 'resort': 3649, 'whale': 4856, 'thumbs': 4484, 'generous': 1885, 'sandler': 3779, 'poster': 3353, 'stretched': 4220, 'darkness': 1118, 'answers': 251, 'incomprehensible': 2266, 'mentally': 2808, 'nuclear': 3056, 'shed': 3922, 'spending': 4103, 'hip': 2113, 'simpson': 3984, 'forgettable': 1793, 'roots': 3736, 'slightest': 4025, 'concerning': 934, 'cried': 1055, 'ignored': 2224, 'drugs': 1373, 'lifestyle': 2591, 'domino': 1318, 'acid': 95, 'unexpected': 4649, 'suck': 4267, 'primary': 3394, 'anyways': 261, 'brady': 561, 'yesterday': 4983, 'rage': 3505, 'gory': 1942, 'chan': 747, 'fever': 1698, 'press': 3379, 'citizen': 825, 'complaint': 921, 'exaggerated': 1552, 'guard': 1987, 'abandoned': 62, 'returned': 3664, 'attitude': 345, 'prostitute': 3440, 'alike': 185, 'millions': 2848, 'alcoholic': 177, 'decision': 1151, 'aids': 161, 'solution': 4056, 'rocky': 3721, 'inventive': 2340, 'elephant': 1444, 'blows': 517, 'rooms': 3734, 'surface': 4308, 'twin': 4614, 'birthday': 487, 'passes': 3203, 'education': 1424, 'separate': 3881, 'domestic': 1317, 'realizes': 3554, 'abusive': 75, 'witnesses': 4916, 'stress': 4218, 'larry': 2518, 'stops': 4201, 'climactic': 849, 'issue': 2363, 'valuable': 4707, 'germany': 1897, 'wwii': 4975, 'virginia': 4749, 'cooper': 991, 'panic': 3181, 'fresh': 1832, 'illegal': 2228, 'widmark': 4881, 'illness': 2229, 'defend': 1158, 'recognition': 3568, 'hunt': 2197, 'underground': 4639, 'widely': 4880, 'satan': 3785, 'irony': 2356, 'passing': 3204, 'unsettling': 4678, 'adams': 112, 'leslie': 2572, 'charm': 768, 'awe': 369, 'ballet': 388, 'rain': 3506, 'wore': 4939, 'formula': 1801, 'pal': 3176, 'firstly': 1736, 'saga': 3771, 'marks': 2741, 'timeless': 4495, 'headed': 2057, 'ensues': 1493, 'nyc': 3064, 'cusack': 1089, 'folk': 1769, 'tender': 4400, 'emily': 1456, 'desperately': 1208, 'visit': 4754, 'weakest': 4824, 'slave': 4019, 'cup': 1081, 'tea': 4371, 'frankenstein': 1821, 'alternate': 200, 'dinner': 1253, 'introduces': 2337, 'relies': 3605, 'terrorists': 4413, 'bomb': 531, 'defense': 1159, 'racism': 3502, 'ho': 2126, 'ad': 110, 'demented': 1176, 'surrounded': 4316, 'suffice': 4277, 'holy': 2139, 'rising': 3701, 'andy': 230, 'charles': 765, 'identify': 2215, 'cats': 722, 'shall': 3914, 'coach': 869, 'fields': 1704, 'shy': 3960, 'scare': 3801, 'gentle': 1889, 'curiosity': 1083, 'wrapped': 4964, 'hop': 2153, 'cultural': 1079, 'crack': 1028, 'dozens': 1338, 'combine': 885, 'quit': 3494, 'julia': 2426, 'robbery': 3709, 'dress': 1356, 'eddie': 1415, 'hitchcock': 2122, 'stinker': 4189, 'chuck': 813, 'amateur': 206, 'coherent': 872, 'trouble': 4591, 'spirited': 4111, 'darker': 1117, 'mask': 2751, 'ingredients': 2288, 'rolled': 3727, 'wanting': 4789, 'countless': 1013, 'remaining': 3609, 'oil': 3096, 'shelley': 3926, 'winters': 4901, 'resist': 3647, 'thankfully': 4421, 'depression': 1188, 'regret': 3590, 'imitation': 2240, 'paranoia': 3186, 'performers': 3232, 'atmospheric': 333, 'link': 2611, 'halloween': 2009, 'carpenter': 695, 'teeth': 4392, 'tooth': 4523, 'hippie': 2114, 'buying': 642, 'fallen': 1638, 'asleep': 319, 'worthwhile': 4955, 'eaten': 1411, 'singer': 3990, 'steel': 4171, 'ireland': 2351, 'carradine': 696, 'dentist': 1180, 'dear': 1141, 'doctors': 1304, 'ken': 2452, 'cringe': 1060, 'serve': 3891, 'pearl': 3220, 'precious': 3366, 'wandering': 4784, 'superhero': 4297, 'shell': 3925, 'device': 1226, 'doomed': 1326, 'rap': 3520, 'associated': 326, 'twilight': 4613, 'lone': 2640, 'seek': 3856, 'activities': 102, 'waitress': 4772, 'myers': 2951, 'swimming': 4336, 'involvement': 2346, 'closest': 858, 'integrity': 2310, 'familys': 1646, 'traditional': 4549, 'stiller': 4187, 'landscapes': 2512, 'explored': 1595, 'environment': 1505, 'agrees': 157, 'lab': 2500, 'wasting': 4809, 'stole': 4192, 'california': 651, 'meaningful': 2780, '2003': 33, 'anime': 242, 'shorts': 3946, 'workers': 4943, 'trial': 4579, 'crisis': 1061, 'partly': 3197, 'dressed': 1357, 'futuristic': 1856, 'cities': 824, 'disneys': 1289, 'cinderella': 816, 'opposed': 3121, 'mature': 2772, 'prince': 3396, 'fbi': 1675, 'santa': 3781, 'howard': 2181, 'traveling': 4567, 'ann': 243, 'necessarily': 2982, 'hardcore': 2033, 'shoes': 3939, 'cinemas': 818, 'couples': 1018, 'armed': 292, 'attend': 343, 'affect': 136, 'captured': 678, 'recall': 3562, 'amitabh': 216, 'ridiculously': 3692, 'anna': 244, 'uninspired': 4656, 'midnight': 2834, 'realizing': 3555, 'racial': 3501, 'global': 1919, 'superman': 4299, 'suited': 4284, 'buffs': 613, 'ah': 158, 'mildred': 2841, 'dynamic': 1393, 'changing': 753, 'code': 870, 'del': 1165, 'commented': 901, 'professor': 3422, 'copies': 993, 'maria': 2735, 'constructed': 960, 'introduction': 2338, 'diane': 1237, 'beer': 438, 'models': 2881, 'journalist': 2419, 'creators': 1045, 'nonsensical': 3030, 'flashbacks': 1746, 'frustrated': 1841, 'bathroom': 411, 'boredom': 542, 'balls': 389, 'competition': 919, 'theyll': 4443, 'portraying': 3343, 'gadget': 1859, 'laws': 2538, 'sin': 3985, 'witnessed': 4915, 'resident': 3646, 'miller': 2846, 'prize': 3405, 'travels': 4568, 'established': 1524, 'crocodile': 1066, 'chain': 742, 'judging': 2424, 'doll': 1312, 'funeral': 1848, 'research': 3643, 'chased': 771, 'rubber': 3745, 'spring': 4132, 'documentaries': 1305, 'daddy': 1097, 'donna': 1322, 'reasonable': 3558, 'tortured': 4529, 'faster': 1662, 'rental': 3626, 'claims': 831, 'widow': 4882, 'assigned': 324, 'flaw': 1748, 'currently': 1086, 'ultra': 4628, 'heaven': 2067, 'outcome': 3141, 'brilliance': 582, 'comical': 895, 'arrival': 298, 'credible': 1049, 'blond': 510, 'shoots': 3942, 'progresses': 3426, 'shirley': 3934, 'explore': 1594, 'icon': 2210, 'continued': 971, 'dawn': 1128, 'hills': 2108, 'plight': 3308, 'chasing': 773, 'barbara': 396, 'arrived': 300, 'circumstances': 823, 'peters': 3248, 'composed': 927, 'drives': 1366, 'shadows': 3911, 'piano': 3264, 'suits': 4285, 'turkey': 4603, 'extended': 1604, 'politically': 3325, 'destroying': 1214, 'respected': 3652, 'rushed': 3758, 'controversial': 979, 'perry': 3237, 'perfection': 3225, 'explaining': 1588, 'refuses': 3586, 'flop': 1759, 'priceless': 3390, 'highlights': 2103, 'treats': 4574, '1980s': 21, 'flashback': 1745, 'scores': 3821, 'greek': 1969, 'guilty': 1994, 'dancer': 1105, '2004': 34, 'judy': 2425, 'lily': 2603, 'jenny': 2392, 'showdown': 3953, 'wished': 4905, 'styles': 4248, 'responsibility': 3654, 'stretch': 4219, 'consistent': 954, 'korean': 2494, 'chosen': 806, 'comparing': 914, 'property': 3438, 'essential': 1522, 'significant': 3969, 'chorus': 804, 'doors': 1328, 'realise': 3548, 'warren': 4800, 'beatty': 426, 'pleasantly': 3303, 'lynch': 2689, 'charlotte': 767, 'brooklyn': 595, 'chicks': 788, 'offended': 3084, 'stinks': 4190, 'educational': 1425, 'depressed': 1186, 'annie': 246, 'omen': 3103, 'wondered': 4927, 'agreed': 156, 'carries': 700, 'classical': 837, 'hurts': 2202, 'grinch': 1974, 'viewings': 4740, 'steals': 4170, 'claimed': 830, 'dragon': 1343, 'wannabe': 4786, 'equivalent': 1512, 'sounding': 4080, 'replaced': 3633, 'freeman': 1828, 'rank': 3518, 'counter': 1012, 'task': 4366, 'morgan': 2904, 'knock': 2487, 'lively': 2625, 'notably': 3041, 'delight': 1167, 'britain': 588, 'gruesome': 1985, 'jamie': 2378, 'succeeded': 4261, 'killings': 2472, 'happily': 2029, 'dvds': 1391, 'jumped': 2429, '3d': 46, 'sentence': 3879, 'suspicious': 4330, 'elvira': 1450, 'visits': 4755, 'creation': 1041, 'stanwyck': 4147, 'retarded': 3661, 'parody': 3192, 'trite': 4588, 'abraham': 69, 'faults': 1669, 'lincoln': 2606, 'progress': 3425, 'propaganda': 3435, 'desired': 1205, 'satisfy': 3788, 'blade': 495, 'clip': 852, 'charisma': 763, 'implausible': 2244, 'saturday': 3790, 'surfing': 4309, 'damon': 1102, 'terry': 4414, 'abilities': 64, 'eyre': 1614, 'rochester': 3717, '1983': 22, 'timothy': 4498, 'dalton': 1099, 'germans': 1896, 'nazis': 2977, 'nazi': 2976, 'distribution': 1297, 'banned': 394, 'sixties': 4008, 'trashy': 4565, 'guide': 1992, 'mrs': 2929, 'dan': 1103, 'victoria': 4731, 'mixture': 2878, 'merit': 2815, 'bourne': 554, 'da': 1095, 'interaction': 2321, 'obscure': 3067, 'resemblance': 3644, 'represent': 3636, 'destiny': 1211, 'wounded': 4961, 'demand': 1174, 'sullivan': 4286, 'relief': 3604, 'georges': 1893, 'complexity': 925, 'library': 2587, 'sold': 4049, 'pro': 3406, 'benefit': 464, 'diana': 1236, 'atlantis': 331, 'wed': 4834, 'jesse': 2396, 'andrew': 228, 'norman': 3034, 'robinson': 3714, 'inferior': 2284, 'hideous': 2097, 'massacre': 2753, 'hollywoods': 2137, 'glorious': 1920, 'humble': 2190, 'parker': 3191, 'kicks': 2462, 'parties': 3196, 'broadcast': 591, 'harder': 2034, 'survivor': 4322, 'rotten': 3738, 'taught': 4368, 'clumsy': 867, 'sappy': 3782, 'dust': 1387, 'closed': 855, 'simplistic': 3982, 'trek': 4577, 'dialogs': 1232, 'coffee': 871, 'abysmal': 76, 'patients': 3212, 'vast': 4715, 'screens': 3830, 'overacting': 3148, 'neo': 2997, 'movement': 2922, 'stealing': 4169, 'afford': 138, 'demands': 1175, 'soviet': 4086, 'ear': 1396, 'unhappy': 4655, 'laughably': 2529, 'performs': 3234, 'doc': 1302, 'march': 2733, 'morris': 2907, 'bus': 632, 'bottle': 550, 'promised': 3431, 'edgar': 1416, 'performer': 3231, 'et': 1526, 'theory': 4436, 'scientific': 3815, 'attitudes': 346, '2007': 37, 'promises': 3432, 'method': 2824, 'league': 2547, 'beliefs': 451, 'sticks': 4184, 'cagney': 647, 'enters': 1496, 'proceeds': 3411, 'escapes': 1519, 'fury': 1854, 'pays': 3218, 'carrey': 697, 'burton': 631, 'grandmother': 1954, 'scarecrow': 3802, 'patient': 3211, 'pretending': 3382, 'influenced': 2286, 'troubled': 4592, '2005': 35, 'intent': 2317, 'grey': 1972, 'pink': 3277, 'construction': 961, 'usa': 4690, 'friday': 1833, 'mundane': 2937, 'outrageous': 3144, 'drops': 1371, 'analysis': 224, 'hilariously': 2106, 'kubrick': 2495, 'twelve': 4610, 'davies': 1126, 'paltrow': 3178, 'poverty': 3357, 'oddly': 3080, 'stilted': 4188, 'prom': 3429, 'australian': 356, 'hopeless': 2157, 'alfred': 181, 'florida': 1760, 'insult': 2308, 'exercise': 1568, 'wing': 4896, 'cake': 649, 'walker': 4777, 'arnold': 295, 'nelson': 2996, '1973': 19, 'hbo': 2054, 'cube': 1077, 'exotic': 1574, 'spooky': 4126, 'lees': 2558, 'trailers': 4554, 'recording': 3575, 'assumed': 328, 'southern': 4085, 'vehicle': 4717, 'francisco': 1818, 'arrive': 299, 'punishment': 3467, 'seagal': 3837, 'tight': 4491, 'motives': 2915, 'solely': 4053, '1968': 15, 'hoffman': 2127, 'albert': 174, 'household': 2178, 'dickens': 1239, 'sends': 3874, 'willie': 4888, 'frustration': 1842, 'loaded': 2630, 'portrait': 3339, 'melting': 2798, 'secrets': 3850, 'calm': 656, 'spider': 4106, 'blah': 496, 'distinct': 1295, 'karloff': 2444, 'broad': 590, 'giallo': 1903, 'accompanied': 86, '3rd': 47, 'trademark': 4547, 'likewise': 2601, 'admittedly': 123, 'sue': 4272, 'rat': 3525, 'dialogues': 1234, 'itll': 2368, 'species': 4095, 'notion': 3049, 'communist': 908, 'minimal': 2855, 'misery': 2865, 'masses': 2754, 'restored': 3658, 'louise': 2664, 'warming': 4794, 'biography': 483, 'tracy': 4545, 'chess': 784, 'soccer': 4045, 'teach': 4372, 'someones': 4062, 'operation': 3116, 'encounters': 1467, 'farm': 1656, 'floating': 1757, 'snl': 4041, 'wholly': 4873, 'lion': 2612, 'edie': 1419, 'molly': 2884, 'leonard': 2570, 'lying': 2688, 'akshay': 169, 'spanish': 4089, 'feed': 1682, 'fifteen': 1705, 'pat': 3208, 'royal': 3744, 'gandhi': 1865, 'brosnan': 597, 'endure': 1475, 'trained': 4556, 'receives': 3565, 'overlook': 3152, 'unseen': 4677, 'tour': 4537, 'pit': 3278, 'investigate': 2341, 'cardboard': 683, 'consistently': 955, 'foul': 1809, 'tribute': 4580, 'retired': 3662, 'thrills': 4474, 'practice': 3363, 'map': 2732, 'guarantee': 1986, 'hopper': 2160, 'der': 1190, 'australia': 355, 'homeless': 2142, 'slapstick': 4016, 'directions': 1261, 'subplots': 4254, 'gifted': 1906, 'swim': 4335, 'express': 1600, 'bergman': 465, 'vulnerable': 4767, 'spain': 4088, 'nurse': 3062, 'pan': 3180, 'button': 640, 'bumbling': 623, 'kenneth': 2454, 'suspend': 4327, 'messed': 2820, 'dave': 1124, 'listed': 2616, 'agents': 151, 'civil': 827, 'bears': 420, 'powell': 3358, 'menacing': 2806, 'ocean': 3078, 'dinosaurs': 1255, 'blob': 507, 'dracula': 1340, 'mall': 2718, 'monkeys': 2890, 'prisoners': 3403, 'heights': 2072, 'boxing': 556, '13th': 5, 'hugh': 2185, 'deliberately': 1166, 'lucy': 2682, 'gundam': 1996, 'franco': 1819, 'orange': 3124, 'swedish': 4333, 'robbins': 3710, 'classes': 835, 'april': 283, 'lena': 2566, 'chicago': 786, 'ruby': 3747, 'ramones': 3512, 'spock': 4118, 'marty': 2748, 'excessive': 1560, 'gabriel': 1858, 'iran': 2349, 'polanski': 3321, 'pokemon': 3320, 'modesty': 2883, 'maniac': 2725, 'dolph': 1316}\n"
     ]
    }
   ],
   "source": [
    "print(str(vocabulary))"
   ]
  },
  {
   "cell_type": "markdown",
   "metadata": {},
   "source": [
    "Using the SageMaker runtime and the name of our endpoint, we can invoke the endpoint and send it the `test_bow` data."
   ]
  },
  {
   "cell_type": "code",
   "execution_count": 46,
   "metadata": {},
   "outputs": [
    {
     "ename": "ParamValidationError",
     "evalue": "Parameter validation failed:\nInvalid type for parameter Body, value: [0, 0, 0, 0, 0, 0, 0, 0, 0, 0, 0, 0, 0, 0, 0, 0, 0, 0, 0, 0, 0, 0, 0, 0, 0, 0, 0, 0, 0, 0, 0, 0, 0, 0, 0, 0, 0, 0, 0, 0, 0, 0, 0, 0, 0, 0, 0, 0, 0, 0, 0, 0, 0, 0, 0, 0, 0, 0, 0, 0, 0, 0, 0, 0, 0, 0, 0, 0, 0, 0, 0, 0, 0, 0, 0, 0, 0, 0, 0, 0, 0, 0, 0, 0, 0, 0, 0, 0, 0, 0, 0, 0, 0, 0, 0, 0, 0, 0, 0, 0, 0, 0, 0, 0, 0, 0, 0, 0, 0, 0, 0, 0, 0, 0, 0, 0, 0, 0, 0, 0, 0, 0, 0, 0, 0, 0, 0, 0, 0, 0, 0, 0, 0, 0, 0, 0, 0, 0, 0, 0, 0, 0, 0, 0, 0, 0, 0, 0, 0, 0, 0, 0, 0, 0, 0, 0, 0, 0, 0, 0, 0, 0, 0, 0, 0, 0, 0, 0, 0, 0, 0, 0, 0, 0, 0, 0, 0, 0, 0, 0, 0, 0, 0, 0, 0, 0, 0, 0, 0, 0, 0, 0, 0, 0, 0, 0, 0, 0, 0, 0, 0, 0, 0, 0, 0, 0, 0, 0, 0, 0, 0, 0, 0, 0, 0, 0, 0, 0, 0, 0, 0, 0, 0, 0, 0, 0, 1, 0, 0, 0, 0, 0, 0, 0, 0, 0, 0, 0, 0, 0, 0, 0, 0, 0, 0, 0, 0, 0, 0, 0, 0, 0, 0, 0, 0, 1, 0, 0, 0, 0, 0, 0, 0, 0, 0, 0, 0, 0, 0, 0, 0, 0, 0, 0, 0, 0, 0, 0, 0, 0, 0, 0, 0, 0, 0, 0, 0, 0, 0, 0, 0, 0, 0, 0, 0, 0, 0, 0, 0, 0, 0, 0, 0, 0, 0, 0, 0, 0, 0, 0, 0, 0, 0, 0, 0, 0, 0, 0, 0, 0, 0, 0, 0, 0, 0, 0, 0, 0, 0, 0, 0, 0, 0, 0, 0, 0, 0, 0, 0, 0, 0, 0, 0, 0, 0, 0, 0, 0, 0, 0, 0, 0, 0, 0, 0, 0, 0, 0, 0, 0, 0, 0, 0, 0, 0, 0, 0, 0, 0, 0, 0, 0, 0, 0, 0, 0, 0, 0, 0, 0, 0, 0, 0, 0, 0, 0, 0, 0, 0, 0, 0, 0, 0, 0, 0, 0, 0, 0, 0, 0, 0, 0, 0, 0, 0, 0, 0, 0, 0, 0, 0, 0, 0, 0, 0, 0, 0, 0, 0, 0, 0, 0, 0, 0, 0, 0, 0, 0, 0, 0, 0, 0, 0, 0, 0, 0, 0, 0, 0, 0, 0, 0, 0, 0, 0, 0, 0, 0, 0, 0, 0, 0, 0, 0, 0, 0, 0, 0, 0, 0, 0, 0, 0, 0, 0, 0, 0, 0, 0, 0, 0, 0, 0, 0, 0, 0, 0, 0, 0, 0, 0, 0, 0, 0, 0, 0, 0, 0, 0, 0, 0, 0, 0, 0, 0, 0, 0, 0, 0, 0, 0, 0, 0, 0, 0, 0, 0, 0, 0, 0, 0, 0, 0, 0, 0, 0, 0, 0, 0, 0, 0, 0, 0, 0, 0, 0, 0, 0, 0, 0, 0, 0, 0, 0, 0, 0, 0, 0, 0, 0, 0, 0, 0, 0, 0, 0, 0, 0, 0, 0, 0, 0, 0, 0, 0, 0, 0, 0, 0, 0, 0, 0, 0, 0, 0, 0, 0, 0, 0, 0, 0, 0, 0, 0, 0, 0, 0, 0, 0, 0, 0, 0, 0, 0, 0, 0, 0, 0, 0, 0, 0, 0, 0, 0, 0, 0, 0, 0, 0, 0, 0, 0, 0, 0, 0, 0, 0, 0, 0, 0, 0, 0, 0, 0, 0, 0, 0, 0, 0, 0, 0, 0, 0, 0, 0, 0, 0, 0, 0, 0, 0, 0, 0, 0, 0, 0, 0, 1, 0, 0, 0, 0, 0, 0, 0, 0, 0, 0, 0, 0, 0, 0, 0, 0, 0, 0, 0, 0, 0, 0, 0, 0, 0, 0, 0, 0, 0, 0, 0, 0, 0, 0, 0, 0, 0, 0, 0, 0, 0, 0, 0, 0, 0, 0, 0, 0, 0, 0, 0, 0, 0, 0, 0, 0, 0, 0, 0, 0, 0, 0, 0, 0, 0, 0, 0, 0, 0, 0, 0, 0, 0, 0, 0, 0, 0, 0, 0, 0, 0, 0, 0, 0, 0, 0, 0, 0, 0, 0, 0, 0, 0, 0, 0, 0, 0, 0, 0, 0, 0, 0, 0, 0, 0, 0, 0, 0, 0, 0, 0, 0, 0, 0, 0, 0, 0, 0, 0, 0, 0, 0, 0, 0, 0, 0, 0, 0, 0, 0, 0, 0, 0, 0, 0, 0, 0, 0, 0, 0, 0, 0, 0, 0, 0, 0, 0, 0, 0, 0, 0, 0, 0, 0, 0, 0, 0, 0, 0, 0, 0, 0, 0, 0, 0, 0, 0, 0, 0, 0, 0, 0, 0, 0, 0, 0, 0, 0, 0, 0, 0, 0, 0, 0, 0, 0, 0, 0, 0, 0, 0, 0, 0, 0, 0, 0, 0, 0, 0, 0, 0, 0, 0, 0, 0, 0, 0, 0, 0, 0, 0, 0, 0, 0, 0, 0, 0, 0, 0, 0, 0, 0, 0, 0, 0, 0, 0, 0, 0, 0, 0, 0, 0, 0, 0, 0, 0, 0, 0, 0, 0, 0, 0, 0, 0, 0, 0, 0, 0, 0, 0, 0, 0, 1, 0, 0, 0, 0, 0, 0, 0, 0, 0, 0, 0, 0, 0, 0, 0, 0, 0, 0, 0, 0, 0, 0, 0, 0, 0, 0, 0, 0, 0, 0, 0, 0, 0, 0, 0, 0, 0, 0, 0, 0, 0, 0, 0, 0, 0, 0, 0, 0, 0, 0, 0, 0, 0, 0, 0, 0, 0, 0, 0, 0, 0, 0, 0, 0, 0, 0, 0, 0, 0, 0, 0, 0, 0, 0, 0, 0, 0, 0, 0, 0, 0, 0, 0, 0, 0, 0, 1, 0, 0, 0, 0, 0, 0, 0, 0, 0, 0, 0, 0, 0, 0, 0, 0, 0, 0, 0, 0, 0, 0, 0, 0, 0, 0, 0, 0, 0, 0, 0, 0, 0, 0, 0, 0, 0, 0, 0, 0, 0, 0, 0, 0, 0, 0, 0, 0, 0, 0, 0, 0, 0, 0, 0, 0, 0, 0, 0, 0, 0, 0, 0, 0, 0, 0, 0, 0, 0, 0, 0, 0, 0, 0, 0, 0, 0, 0, 0, 0, 0, 0, 0, 0, 0, 0, 0, 0, 0, 0, 0, 0, 0, 0, 0, 0, 0, 0, 0, 0, 0, 0, 0, 0, 0, 0, 0, 0, 0, 0, 0, 0, 0, 0, 0, 0, 0, 0, 0, 0, 0, 0, 0, 0, 0, 0, 0, 0, 0, 0, 0, 0, 0, 0, 0, 0, 0, 0, 0, 0, 0, 0, 0, 0, 0, 0, 0, 0, 0, 0, 0, 0, 0, 0, 0, 0, 0, 0, 0, 0, 0, 0, 0, 0, 0, 0, 0, 0, 0, 0, 0, 0, 0, 0, 0, 0, 0, 0, 0, 0, 0, 0, 0, 0, 0, 0, 0, 0, 0, 0, 0, 0, 0, 0, 0, 0, 0, 0, 0, 0, 0, 0, 0, 0, 0, 0, 0, 0, 0, 0, 0, 0, 0, 0, 0, 0, 0, 0, 0, 0, 0, 0, 0, 0, 0, 0, 0, 0, 0, 0, 0, 0, 0, 0, 0, 0, 0, 0, 0, 0, 0, 0, 0, 0, 0, 0, 0, 0, 0, 0, 1, 0, 0, 0, 0, 0, 0, 0, 0, 0, 0, 0, 0, 0, 0, 0, 0, 0, 0, 0, 0, 0, 0, 0, 0, 0, 0, 0, 0, 0, 0, 0, 0, 0, 0, 0, 0, 0, 0, 0, 0, 0, 0, 0, 0, 0, 0, 0, 0, 0, 0, 0, 0, 0, 0, 0, 1, 0, 0, 0, 0, 0, 0, 0, 0, 0, 0, 0, 0, 0, 0, 0, 0, 0, 0, 0, 0, 0, 0, 0, 0, 0, 0, 0, 0, 0, 0, 0, 0, 0, 0, 0, 0, 0, 0, 0, 0, 0, 0, 0, 0, 0, 0, 0, 0, 0, 0, 0, 0, 0, 0, 0, 0, 0, 0, 0, 0, 0, 0, 0, 0, 0, 0, 0, 0, 0, 0, 0, 0, 0, 0, 0, 0, 0, 0, 0, 0, 0, 0, 0, 0, 0, 0, 0, 0, 0, 0, 0, 0, 0, 0, 0, 0, 0, 0, 0, 0, 0, 0, 0, 0, 0, 0, 0, 0, 0, 0, 0, 0, 0, 0, 0, 0, 0, 0, 0, 0, 0, 0, 0, 0, 0, 0, 0, 0, 0, 0, 0, 0, 0, 0, 0, 0, 0, 0, 0, 0, 0, 0, 0, 0, 0, 0, 0, 0, 0, 0, 0, 0, 0, 0, 0, 0, 0, 0, 0, 0, 0, 0, 0, 0, 0, 0, 0, 0, 0, 0, 0, 0, 0, 0, 0, 0, 0, 0, 0, 0, 0, 0, 0, 0, 0, 0, 0, 0, 0, 0, 0, 0, 0, 0, 0, 0, 0, 0, 0, 0, 0, 0, 0, 0, 0, 0, 0, 0, 0, 0, 0, 0, 0, 0, 0, 0, 0, 0, 0, 0, 0, 0, 0, 0, 0, 0, 0, 0, 0, 0, 0, 0, 0, 0, 0, 0, 0, 0, 0, 0, 0, 0, 0, 0, 0, 0, 0, 0, 0, 0, 0, 0, 0, 0, 0, 0, 0, 0, 0, 0, 0, 0, 0, 0, 0, 0, 0, 0, 0, 0, 0, 0, 0, 0, 0, 0, 0, 0, 0, 0, 0, 0, 0, 0, 0, 0, 0, 0, 0, 0, 0, 0, 0, 0, 0, 0, 0, 0, 0, 0, 0, 0, 0, 0, 0, 0, 0, 0, 0, 0, 0, 0, 0, 0, 0, 0, 0, 0, 0, 0, 0, 0, 0, 0, 0, 0, 0, 0, 0, 0, 0, 0, 0, 0, 0, 0, 0, 0, 0, 0, 0, 0, 0, 0, 0, 0, 0, 0, 0, 0, 0, 0, 0, 0, 0, 0, 0, 0, 0, 0, 0, 0, 0, 0, 0, 0, 0, 0, 0, 0, 0, 0, 0, 0, 0, 0, 0, 0, 0, 0, 0, 0, 0, 0, 0, 0, 0, 0, 0, 0, 0, 0, 0, 0, 0, 0, 0, 0, 0, 0, 0, 0, 0, 0, 0, 0, 0, 0, 0, 0, 0, 0, 0, 0, 0, 0, 0, 0, 0, 0, 0, 0, 0, 0, 0, 0, 0, 0, 0, 0, 0, 0, 0, 0, 0, 0, 0, 0, 0, 0, 0, 0, 0, 0, 0, 0, 0, 0, 0, 0, 0, 0, 0, 0, 0, 0, 0, 0, 0, 0, 0, 0, 0, 0, 0, 0, 0, 0, 0, 0, 0, 0, 0, 0, 0, 0, 0, 0, 0, 0, 0, 0, 0, 0, 0, 0, 0, 0, 0, 0, 0, 0, 0, 0, 0, 0, 0, 0, 0, 0, 0, 0, 0, 0, 0, 0, 0, 0, 0, 0, 0, 0, 0, 0, 0, 0, 0, 0, 0, 0, 0, 0, 0, 0, 0, 0, 0, 0, 0, 0, 0, 0, 0, 0, 0, 0, 0, 0, 0, 0, 0, 0, 0, 0, 0, 0, 0, 0, 0, 0, 0, 0, 0, 0, 0, 0, 0, 0, 0, 0, 0, 0, 0, 0, 0, 0, 0, 0, 0, 0, 0, 0, 0, 0, 0, 0, 0, 0, 0, 0, 0, 0, 0, 0, 0, 0, 0, 0, 0, 0, 0, 0, 0, 0, 0, 0, 0, 0, 0, 0, 0, 0, 0, 0, 0, 0, 0, 0, 0, 0, 0, 0, 0, 0, 0, 0, 0, 0, 0, 0, 0, 0, 0, 0, 0, 0, 0, 0, 0, 0, 0, 0, 0, 0, 0, 0, 0, 0, 0, 0, 0, 0, 0, 0, 0, 0, 0, 0, 0, 0, 0, 0, 0, 0, 0, 0, 0, 0, 0, 0, 0, 0, 0, 0, 0, 0, 0, 0, 0, 0, 0, 0, 0, 0, 0, 0, 0, 0, 0, 0, 0, 1, 0, 0, 0, 0, 0, 0, 0, 0, 0, 0, 0, 0, 0, 0, 0, 0, 0, 0, 0, 0, 0, 0, 0, 0, 0, 0, 0, 0, 0, 0, 0, 0, 0, 0, 0, 0, 0, 0, 0, 0, 0, 0, 0, 0, 0, 0, 0, 0, 0, 0, 0, 0, 0, 0, 0, 0, 0, 0, 0, 0, 0, 0, 0, 0, 0, 0, 0, 0, 0, 0, 0, 0, 0, 0, 1, 0, 0, 0, 0, 0, 0, 0, 0, 0, 0, 0, 0, 0, 0, 0, 0, 0, 0, 0, 0, 1, 0, 0, 1, 0, 0, 0, 0, 0, 0, 0, 0, 0, 0, 0, 0, 0, 0, 0, 0, 0, 0, 0, 0, 0, 0, 0, 0, 0, 0, 0, 0, 0, 0, 0, 0, 0, 0, 0, 0, 0, 0, 0, 0, 0, 0, 0, 0, 0, 0, 0, 0, 0, 0, 0, 0, 0, 0, 0, 0, 0, 0, 0, 0, 0, 0, 0, 0, 0, 0, 0, 0, 0, 0, 0, 0, 0, 0, 0, 0, 0, 0, 0, 0, 0, 0, 0, 0, 0, 0, 0, 0, 0, 0, 0, 0, 0, 0, 0, 0, 0, 0, 0, 0, 0, 0, 0, 0, 0, 0, 0, 0, 0, 0, 0, 0, 0, 0, 0, 0, 0, 0, 0, 0, 0, 0, 0, 0, 0, 0, 0, 0, 0, 0, 0, 0, 0, 0, 0, 0, 0, 0, 0, 0, 0, 0, 0, 0, 0, 0, 0, 0, 0, 0, 0, 0, 0, 0, 0, 0, 0, 0, 0, 0, 0, 0, 0, 0, 0, 0, 0, 0, 0, 0, 0, 0, 0, 0, 0, 0, 0, 0, 0, 0, 0, 0, 0, 0, 0, 0, 0, 0, 0, 0, 0, 0, 0, 0, 0, 0, 0, 0, 0, 0, 0, 0, 0, 0, 0, 0, 0, 0, 0, 0, 0, 0, 0, 0, 0, 0, 0, 0, 0, 0, 0, 0, 0, 0, 0, 0, 0, 0, 0, 0, 0, 0, 0, 0, 0, 0, 0, 0, 0, 0, 0, 0, 0, 0, 0, 0, 0, 0, 0, 0, 0, 0, 0, 0, 0, 0, 0, 0, 0, 0, 0, 0, 0, 0, 0, 0, 0, 0, 0, 0, 0, 0, 0, 0, 0, 0, 0, 0, 0, 0, 0, 0, 0, 0, 0, 0, 0, 0, 0, 0, 0, 0, 0, 0, 0, 0, 0, 0, 0, 0, 0, 0, 0, 0, 0, 0, 0, 0, 0, 0, 0, 0, 0, 0, 0, 0, 0, 0, 0, 0, 0, 0, 0, 0, 0, 0, 0, 0, 0, 0, 0, 0, 0, 0, 0, 0, 0, 0, 0, 0, 0, 0, 0, 0, 0, 0, 0, 0, 0, 0, 0, 0, 0, 0, 0, 0, 0, 0, 0, 0, 0, 0, 0, 0, 0, 0, 0, 0, 0, 0, 0, 0, 0, 0, 0, 0, 0, 0, 0, 0, 0, 0, 0, 0, 0, 0, 0, 0, 0, 0, 0, 0, 0, 0, 0, 0, 0, 0, 0, 0, 0, 0, 0, 0, 0, 0, 0, 0, 0, 0, 0, 0, 0, 0, 0, 0, 0, 0, 0, 0, 0, 0, 0, 0, 0, 0, 0, 0, 0, 0, 0, 0, 0, 0, 0, 0, 0, 0, 0, 0, 0, 0, 0, 0, 0, 0, 0, 0, 0, 0, 0, 0, 0, 0, 0, 0, 0, 0, 0, 0, 0, 0, 0, 0, 0, 1, 0, 0, 0, 0, 0, 0, 0, 0, 0, 0, 0, 0, 0, 0, 0, 0, 0, 0, 0, 0, 0, 0, 0, 0, 0, 0, 0, 0, 0, 0, 0, 0, 0, 0, 0, 0, 0, 0, 0, 0, 0, 0, 0, 0, 0, 0, 0, 0, 0, 0, 0, 0, 0, 0, 0, 0, 0, 0, 0, 0, 0, 0, 0, 0, 0, 0, 0, 0, 0, 0, 0, 0, 0, 0, 0, 0, 0, 0, 0, 0, 0, 0, 0, 0, 0, 0, 0, 0, 0, 0, 0, 0, 0, 0, 0, 0, 0, 0, 0, 0, 0, 0, 0, 0, 0, 0, 0, 0, 0, 0, 0, 0, 0, 0, 0, 0, 0, 0, 0, 0, 0, 0, 0, 0, 0, 0, 0, 0, 0, 0, 0, 0, 0, 0, 0, 0, 0, 0, 0, 0, 0, 0, 0, 0, 0, 0, 0, 0, 0, 0, 0, 0, 0, 0, 0, 0, 0, 0, 0, 0, 0, 0, 0, 0, 0, 0, 0, 0, 0, 0, 0, 0, 0, 0, 0, 0, 0, 0, 0, 0, 0, 0, 0, 0, 0, 0, 0, 0, 0, 0, 0, 0, 0, 0, 0, 0, 0, 0, 0, 0, 0, 0, 0, 0, 0, 0, 0, 0, 0, 0, 0, 0, 0, 0, 0, 0, 0, 0, 0, 0, 0, 0, 0, 0, 0, 0, 0, 0, 0, 0, 0, 0, 0, 0, 0, 0, 0, 0, 0, 0, 0, 0, 0, 0, 0, 0, 0, 0, 0, 0, 0, 0, 0, 0, 0, 0, 0, 0, 0, 0, 0, 0, 0, 0, 0, 0, 0, 0, 0, 0, 0, 0, 0, 0, 0, 0, 0, 0, 0, 0, 0, 0, 0, 0, 0, 0, 0, 0, 0, 0, 0, 0, 0, 0, 0, 0, 0, 0, 0, 0, 0, 0, 0, 0, 0, 0, 0, 0, 0, 0, 0, 0, 0, 0, 0, 0, 0, 0, 0, 0, 0, 0, 0, 0, 0, 0, 0, 0, 0, 0, 0, 0, 0, 0, 0, 0, 0, 0, 0, 0, 0, 0, 0, 0, 0, 0, 0, 0, 0, 0, 0, 0, 0, 0, 0, 0, 0, 0, 0, 0, 0, 0, 0, 0, 0, 0, 0, 0, 0, 0, 0, 0, 0, 0, 0, 0, 0, 0, 0, 0, 0, 0, 0, 0, 0, 0, 0, 0, 0, 0, 0, 0, 0, 0, 0, 0, 0, 0, 0, 0, 0, 0, 0, 0, 0, 0, 0, 0, 0, 0, 0, 0, 0, 0, 0, 0, 0, 0, 0, 0, 0, 0, 0, 0, 0, 0, 0, 0, 0, 0, 0, 0, 0, 0, 0, 0, 0, 0, 0, 0, 0, 0, 0, 0, 0, 0, 0, 0, 0, 0, 0, 0, 0, 0, 0, 0, 0, 0, 0, 0, 0, 0, 0, 0, 0, 0, 0, 0, 0, 0, 0, 0, 0, 0, 0, 0, 0, 0, 0, 0, 0, 0, 0, 0, 0, 0, 0, 0, 0, 0, 0, 0, 0, 0, 0, 0, 0, 0, 0, 0, 0, 0, 0, 0, 0, 0, 0, 0, 0, 0, 0, 0, 0, 1, 0, 0, 0, 0, 0, 0, 0, 0, 0, 0, 0, 0, 0, 0, 0, 0, 0, 0, 0, 0, 0, 0, 0, 0, 0, 0, 0, 0, 0, 0, 0, 0, 0, 0, 0, 2, 0, 0, 0, 0, 0, 0, 0, 0, 0, 0, 0, 0, 0, 0, 0, 0, 0, 0, 0, 0, 0, 0, 0, 0, 0, 0, 0, 0, 0, 0, 0, 0, 0, 0, 0, 0, 0, 0, 0, 0, 1, 0, 0, 0, 0, 0, 0, 0, 0, 0, 0, 0, 0, 0, 0, 0, 0, 0, 0, 0, 0, 0, 0, 0, 0, 0, 0, 0, 0, 0, 0, 0, 0, 0, 0, 0, 0, 0, 0, 0, 0, 0, 0, 0, 0, 0, 0, 0, 0, 0, 0, 0, 0, 0, 0, 0, 0, 0, 0, 0, 0, 0, 0, 0, 0, 0, 0, 0, 0, 0, 0, 0, 0, 0, 0, 0, 0, 0, 0, 0, 0, 0, 0, 0, 0, 0, 0, 0, 0, 0, 0, 0, 0, 0, 0, 0, 0, 0, 0, 0, 0, 0, 0, 0, 0, 0, 0, 0, 0, 0, 0, 0, 0, 0, 0, 0, 0, 0, 0, 0, 0, 0, 0, 0, 0, 0, 0, 0, 0, 0, 0, 0, 0, 0, 0, 0, 0, 0, 0, 0, 0, 0, 0, 0, 0, 0, 0, 0, 0, 0, 0, 0, 0, 0, 0, 0, 0, 0, 0, 0, 0, 0, 0, 0, 0, 0, 0, 0, 0, 0, 0, 0, 0, 0, 0, 0, 0, 0, 0, 0, 0, 0, 0, 0, 0, 0, 0, 0, 0, 0, 0, 0, 0, 0, 0, 0, 0, 0, 0, 0, 0, 0, 0, 0, 0, 0, 0, 0, 0, 0, 0, 0, 0, 0, 0, 0, 0, 0, 0, 0, 0, 0, 0, 0, 0, 0, 0, 0, 0, 0, 0, 0, 0, 0, 0, 0, 0, 0, 0, 0, 0, 0, 0, 0, 0, 0, 0, 0, 0, 0, 0, 0, 0, 0, 0, 0, 0, 0, 0, 0, 0, 0, 0, 0, 0, 0, 0, 0, 0, 0, 0, 0, 0, 0, 0, 0, 0, 0, 0, 0, 0, 0, 0, 0, 0, 0, 0, 0, 0, 0, 0, 0, 0, 0, 0, 0, 0, 0, 0, 0, 0, 0, 0, 0, 0, 0, 0, 0, 0, 0, 0, 0, 0, 0, 0, 0, 0, 0, 0, 0, 0, 0, 0, 0, 0, 0, 0, 0, 0, 0, 0, 0, 0, 0, 0, 0, 0, 0, 0, 0, 0, 0, 0, 0, 0, 0, 0, 0, 0, 0, 0, 0, 0, 0, 0, 0, 0, 0, 0, 0, 0, 0, 0, 0, 0, 0, 0, 0, 0, 0, 0, 0, 0, 0, 0, 0, 0, 0, 0, 0, 0, 0, 0, 0, 0, 0, 0, 0, 0, 0, 0, 0, 0, 0, 0, 0, 0, 0, 0, 0, 0, 0, 0, 0, 0, 0, 0, 0, 0, 0, 0, 0, 0, 0, 0, 0, 0, 0, 0, 0, 0, 0, 0, 0, 0, 0, 0, 0, 0, 0, 0, 0, 0, 0, 0, 0, 0, 0, 0, 0, 0, 0, 0, 0, 0, 0, 0, 0, 0, 0, 0, 0, 0, 0, 0, 0, 0, 0, 0, 0, 0, 0, 0, 0, 0, 0, 0, 0, 0, 0, 0, 0, 0, 0, 0, 0, 0, 0, 0, 0, 0, 0, 0, 0, 0, 0, 0, 0, 0, 0, 0, 0, 0, 0, 0, 0, 0, 0, 1, 0, 0, 0, 0, 0, 0, 0, 0, 0, 0, 0, 0, 0, 0, 0, 0, 0, 0, 0, 0, 0, 0, 0, 0, 0, 0, 0, 0, 0, 0, 0, 0, 0, 0, 0, 0, 0, 0, 0, 0, 0, 0, 0, 0, 0, 0, 0, 0, 0, 0, 0, 0, 0, 0, 0, 0, 0, 0, 0, 0, 0, 0, 0, 0, 0, 0, 0, 0, 0, 0, 0, 0, 0, 0, 0, 0, 0, 0, 0, 0, 0, 0, 0, 0, 0, 0, 0, 0, 0, 0, 0, 0, 0, 0, 0, 0, 0, 0, 0, 0, 0, 0, 0, 0, 0, 0, 0, 0, 0, 2, 0, 0, 0, 0, 0, 0, 0, 0, 0, 0, 0, 0, 0, 0, 0, 0, 0, 0, 0, 0, 0, 0, 0, 0, 0, 0, 0, 0, 0, 0, 0, 0, 0, 0, 0, 0, 0, 0, 0, 0, 0, 0, 0, 0, 0, 0, 0, 0, 0, 0, 0, 0, 0, 0, 0, 0, 0, 0, 0, 0, 0, 0, 0, 0, 0, 0, 0, 0, 0, 0, 0, 0, 0, 0, 0, 0, 0, 0, 0, 0, 0, 0, 0, 0, 0, 0, 0, 0, 0, 0, 0, 0, 0, 0, 0, 0, 0, 0, 0, 0, 0, 0, 0, 0, 0, 0, 0, 0, 0, 0, 0, 0, 0, 0, 0, 0, 0, 0, 0, 0, 0, 0, 0, 0, 0, 0, 0, 0, 0, 0, 0, 0, 0, 0, 0, 0, 0, 0, 0, 0, 0, 0, 0, 0, 0, 0, 0, 0, 0, 0, 0, 0, 0, 0, 0, 0, 0, 0, 0, 0, 0, 0, 0, 0, 0, 0, 0, 0, 0, 0, 0, 0, 0, 0, 0, 0, 0, 0, 0, 0, 0, 0, 0, 0, 0, 0, 0, 0, 0, 0, 0, 0, 0, 0, 0, 0, 0, 0, 0, 0, 0, 0, 0, 0, 0, 0, 0, 0, 0, 0, 0, 0, 0, 0, 0, 0, 0, 0, 0, 0, 0, 0, 0, 0, 0, 0, 0, 0, 0, 0, 0, 0, 0, 0, 0, 0, 0, 0, 0, 0, 0, 0, 0, 0, 0, 0, 0, 0, 0, 0, 0, 0, 0, 0, 0, 0, 0, 0, 0, 0, 0, 0, 0, 0, 0, 0, 0, 0, 0, 0, 0, 0, 0, 0, 0, 0, 0, 0, 0, 0, 0, 0, 0, 0, 0, 0, 0, 0, 0, 0, 0, 0, 0, 0, 0, 0, 0, 0, 0, 0, 0, 0, 0, 0, 0, 0, 0, 0, 0, 0, 0, 0, 0, 0, 0, 0, 0, 0, 0, 0, 0, 0, 0, 0, 0, 0, 0, 0, 0, 0, 0, 0, 0, 0, 0, 0, 0, 0, 0, 0, 0, 0, 0, 0, 0, 0, 0, 0, 0, 0, 0, 0, 0, 0, 0, 0, 0, 0, 0, 0, 0, 0, 0, 0, 0, 0, 0, 0, 0, 0, 0, 0, 0, 0, 0, 0, 0, 0, 0, 0, 0, 0, 0, 0, 0, 0, 0, 0, 0, 0, 0, 0, 0, 0, 0, 0, 0, 0, 0, 0, 0, 0, 0, 0, 0, 0, 0, 0, 0, 0, 0, 0, 0, 0, 0, 0, 0, 0, 0, 0, 0, 0, 0, 0, 0, 0, 0, 0, 0, 0, 0, 0, 0, 0, 0, 0, 0, 0, 0, 0, 0, 0, 0, 0, 0, 0, 0, 0, 0, 0, 0, 0, 0, 0, 0, 0, 0, 0, 0, 0, 0, 0, 0, 0, 0, 0, 0, 0, 0, 0, 0, 0, 0, 0, 0, 0, 0, 0, 0, 0, 0, 0, 0, 0, 0, 0, 0, 0, 0, 0, 0, 0, 0, 0, 0, 0, 0, 0, 0, 0, 0, 0, 0, 0, 0, 0, 0, 0, 0, 0, 0, 0, 0, 0, 0, 0, 0, 0, 0, 0, 0, 0, 0, 0, 0, 0, 0, 0, 0, 0, 0, 0, 0, 0, 0, 0, 0, 0, 0, 0, 0, 0, 0, 0, 0, 0, 0, 0, 0, 0, 0, 0, 0, 0, 0, 0, 0, 0, 0, 0, 0, 0, 0, 0, 0, 0, 0, 0, 0, 0, 0, 0, 0, 0, 0, 0, 0, 0, 0, 0, 0, 0, 0, 0, 0, 0, 0, 0, 0, 0, 0, 0, 0, 0, 0, 0, 0, 0, 0, 0, 0, 0, 0, 0, 0, 0, 0, 0, 0, 0, 0, 0, 0, 0, 0, 0, 0, 0, 0, 0, 0, 0, 0, 0, 0, 0, 0, 0, 0, 0, 0, 0, 0, 0, 0, 0, 0, 0, 0, 0, 0, 0, 0, 0, 0, 0, 0, 0, 0, 0, 0, 0, 0, 0, 0, 0, 0, 0, 0, 0, 0, 0, 0, 0, 0, 0, 0, 0, 0, 0, 0, 0, 0, 0, 0, 0, 0, 0, 0, 0, 0, 0, 0, 0, 0, 0, 0, 0, 0, 0, 0, 1, 0, 0, 0, 0, 0, 0, 0, 0, 0, 0, 0, 0, 0, 0, 0, 0, 0, 0, 0, 0, 0, 0, 0, 0, 0, 0, 0, 0, 0, 0, 0, 0, 0, 0, 0, 0, 0, 0, 0, 0, 0, 0, 0, 0, 0, 0, 0, 0, 0, 0, 0, 0, 0, 0, 0, 0, 0, 0, 0, 0, 0, 0, 0, 0, 0, 0, 0, 0, 0, 0, 0, 0, 0, 0, 0, 0, 0, 0, 0, 0, 0, 0, 0, 0, 0, 0, 0, 0, 0, 0, 0, 0, 0, 0, 0, 0, 0, 0, 0, 0, 0, 0, 0, 0, 0, 0, 0, 1, 0, 0, 0, 0, 0, 0, 0, 0, 0, 0, 0, 0, 0, 0, 0, 0, 0, 0, 0, 0, 0, 0, 0, 0, 0, 0, 0, 0, 0, 0, 0, 0, 0, 0, 0, 0, 0, 0, 0, 0, 0, 0, 0, 0, 0, 0, 0, 0, 0, 0, 0, 0, 0, 0, 0, 0, 0, 0, 0, 0, 0, 0, 0, 0, 0, 0, 0, 0, 0, 0, 0, 0, 0, 0, 0, 0, 0, 0, 0, 0, 0, 0, 0, 0, 0, 0, 0, 0, 0, 0, 0, 0, 0, 0, 0, 0, 0, 0, 0, 0, 0, 0, 0, 0, 0, 0, 0, 0, 0, 0, 0, 0, 0, 0, 0, 0, 0, 0, 0, 0, 0, 0, 0, 0, 0, 0, 0, 0, 0, 0, 0, 0, 0, 0, 0, 0, 0, 0, 0, 0, 0, 0, 0, 0, 0, 0, 0, 0, 0, 0, 0, 0, 0, 0, 0, 0, 0, 0, 0, 0, 0, 0, 0, 0, 0, 0, 0, 0, 0, 0, 0, 0, 0, 0, 0, 0, 0, 0, 0, 0, 0, 0, 0, 0, 0, 0, 0, 0, 0, 0, 0, 0, 0, 0, 0, 0, 0, 0, 0, 0, 0, 0, 0, 0, 0, 0, 0, 0, 0, 0, 0, 0, 0, 0, 0, 0, 0, 0, 0, 0, 0, 0, 0, 0, 0, 0, 0, 0, 0, 0, 0, 0, 0, 0, 0, 0, 0, 0, 0, 0, 0, 0, 0, 0, 0, 0, 0, 0, 0, 0, 0, 0, 0, 0, 0, 0, 0, 0, 0, 0, 0, 0, 0, 0, 0, 0, 0, 0, 0, 0, 0, 0, 0, 0, 0, 0, 0, 0, 0, 0, 0, 0, 0, 0, 0, 0, 0, 0, 0, 0, 0, 0, 0, 0, 0, 0, 0, 0, 0, 0, 0, 0, 0, 0, 0, 0, 0, 0, 0, 0, 0, 0, 0, 0, 0, 0, 0, 0, 0, 0, 0, 0, 0, 0, 0, 0, 0, 0, 0, 0, 0, 0, 0, 0, 0, 0, 0, 0, 0, 0, 0, 0, 0, 0, 0, 0, 0, 0, 0, 0, 0, 0, 0, 0, 0, 0, 0, 0, 0, 0, 0, 0, 0, 0, 0, 0, 0, 0, 0, 0, 0, 0, 0, 0, 0, 0, 0, 0, 0, 0, 0, 0, 0, 0, 0, 0, 0, 0, 0, 0, 0, 0, 0, 0, 0, 0, 0, 0, 0, 0, 0, 0, 0, 0, 0, 0, 0, 0, 0, 0, 0, 0, 0, 0, 0, 0, 0, 0, 0, 0, 0, 0, 0, 0, 0, 0, 0, 0, 0, 0, 0, 0, 0, 0, 0, 0, 0, 0, 0, 0, 0, 0, 0, 0, 0, 0, 0, 0, 0, 0, 0, 0, 0, 0, 0, 0, 0, 0, 0, 0, 0, 0, 0, 0, 2, 0, 1, 0], type: <class 'list'>, valid types: <class 'bytes'>, <class 'bytearray'>, file-like object",
     "output_type": "error",
     "traceback": [
      "\u001b[0;31m---------------------------------------------------------------------------\u001b[0m",
      "\u001b[0;31mParamValidationError\u001b[0m                      Traceback (most recent call last)",
      "\u001b[0;32m<ipython-input-46-c9ab54ae3a48>\u001b[0m in \u001b[0;36m<module>\u001b[0;34m\u001b[0m\n\u001b[1;32m      1\u001b[0m response = runtime.invoke_endpoint(EndpointName = xgb_predictor.endpoint, # The name of the endpoint we created\n\u001b[1;32m      2\u001b[0m                                        \u001b[0mContentType\u001b[0m \u001b[0;34m=\u001b[0m \u001b[0;34m'text/csv'\u001b[0m\u001b[0;34m,\u001b[0m                     \u001b[0;31m# The data format that is expected\u001b[0m\u001b[0;34m\u001b[0m\u001b[0;34m\u001b[0m\u001b[0m\n\u001b[0;32m----> 3\u001b[0;31m                                        Body = test_bow)\n\u001b[0m",
      "\u001b[0;32m~/anaconda3/envs/python3/lib/python3.6/site-packages/botocore/client.py\u001b[0m in \u001b[0;36m_api_call\u001b[0;34m(self, *args, **kwargs)\u001b[0m\n\u001b[1;32m    314\u001b[0m                     \"%s() only accepts keyword arguments.\" % py_operation_name)\n\u001b[1;32m    315\u001b[0m             \u001b[0;31m# The \"self\" in this scope is referring to the BaseClient.\u001b[0m\u001b[0;34m\u001b[0m\u001b[0;34m\u001b[0m\u001b[0;34m\u001b[0m\u001b[0m\n\u001b[0;32m--> 316\u001b[0;31m             \u001b[0;32mreturn\u001b[0m \u001b[0mself\u001b[0m\u001b[0;34m.\u001b[0m\u001b[0m_make_api_call\u001b[0m\u001b[0;34m(\u001b[0m\u001b[0moperation_name\u001b[0m\u001b[0;34m,\u001b[0m \u001b[0mkwargs\u001b[0m\u001b[0;34m)\u001b[0m\u001b[0;34m\u001b[0m\u001b[0;34m\u001b[0m\u001b[0m\n\u001b[0m\u001b[1;32m    317\u001b[0m \u001b[0;34m\u001b[0m\u001b[0m\n\u001b[1;32m    318\u001b[0m         \u001b[0m_api_call\u001b[0m\u001b[0;34m.\u001b[0m\u001b[0m__name__\u001b[0m \u001b[0;34m=\u001b[0m \u001b[0mstr\u001b[0m\u001b[0;34m(\u001b[0m\u001b[0mpy_operation_name\u001b[0m\u001b[0;34m)\u001b[0m\u001b[0;34m\u001b[0m\u001b[0;34m\u001b[0m\u001b[0m\n",
      "\u001b[0;32m~/anaconda3/envs/python3/lib/python3.6/site-packages/botocore/client.py\u001b[0m in \u001b[0;36m_make_api_call\u001b[0;34m(self, operation_name, api_params)\u001b[0m\n\u001b[1;32m    606\u001b[0m         }\n\u001b[1;32m    607\u001b[0m         request_dict = self._convert_to_request_dict(\n\u001b[0;32m--> 608\u001b[0;31m             api_params, operation_model, context=request_context)\n\u001b[0m\u001b[1;32m    609\u001b[0m \u001b[0;34m\u001b[0m\u001b[0m\n\u001b[1;32m    610\u001b[0m         \u001b[0mservice_id\u001b[0m \u001b[0;34m=\u001b[0m \u001b[0mself\u001b[0m\u001b[0;34m.\u001b[0m\u001b[0m_service_model\u001b[0m\u001b[0;34m.\u001b[0m\u001b[0mservice_id\u001b[0m\u001b[0;34m.\u001b[0m\u001b[0mhyphenize\u001b[0m\u001b[0;34m(\u001b[0m\u001b[0;34m)\u001b[0m\u001b[0;34m\u001b[0m\u001b[0;34m\u001b[0m\u001b[0m\n",
      "\u001b[0;32m~/anaconda3/envs/python3/lib/python3.6/site-packages/botocore/client.py\u001b[0m in \u001b[0;36m_convert_to_request_dict\u001b[0;34m(self, api_params, operation_model, context)\u001b[0m\n\u001b[1;32m    654\u001b[0m             api_params, operation_model, context)\n\u001b[1;32m    655\u001b[0m         request_dict = self._serializer.serialize_to_request(\n\u001b[0;32m--> 656\u001b[0;31m             api_params, operation_model)\n\u001b[0m\u001b[1;32m    657\u001b[0m         \u001b[0;32mif\u001b[0m \u001b[0;32mnot\u001b[0m \u001b[0mself\u001b[0m\u001b[0;34m.\u001b[0m\u001b[0m_client_config\u001b[0m\u001b[0;34m.\u001b[0m\u001b[0minject_host_prefix\u001b[0m\u001b[0;34m:\u001b[0m\u001b[0;34m\u001b[0m\u001b[0;34m\u001b[0m\u001b[0m\n\u001b[1;32m    658\u001b[0m             \u001b[0mrequest_dict\u001b[0m\u001b[0;34m.\u001b[0m\u001b[0mpop\u001b[0m\u001b[0;34m(\u001b[0m\u001b[0;34m'host_prefix'\u001b[0m\u001b[0;34m,\u001b[0m \u001b[0;32mNone\u001b[0m\u001b[0;34m)\u001b[0m\u001b[0;34m\u001b[0m\u001b[0;34m\u001b[0m\u001b[0m\n",
      "\u001b[0;32m~/anaconda3/envs/python3/lib/python3.6/site-packages/botocore/validate.py\u001b[0m in \u001b[0;36mserialize_to_request\u001b[0;34m(self, parameters, operation_model)\u001b[0m\n\u001b[1;32m    295\u001b[0m                                                     operation_model.input_shape)\n\u001b[1;32m    296\u001b[0m             \u001b[0;32mif\u001b[0m \u001b[0mreport\u001b[0m\u001b[0;34m.\u001b[0m\u001b[0mhas_errors\u001b[0m\u001b[0;34m(\u001b[0m\u001b[0;34m)\u001b[0m\u001b[0;34m:\u001b[0m\u001b[0;34m\u001b[0m\u001b[0;34m\u001b[0m\u001b[0m\n\u001b[0;32m--> 297\u001b[0;31m                 \u001b[0;32mraise\u001b[0m \u001b[0mParamValidationError\u001b[0m\u001b[0;34m(\u001b[0m\u001b[0mreport\u001b[0m\u001b[0;34m=\u001b[0m\u001b[0mreport\u001b[0m\u001b[0;34m.\u001b[0m\u001b[0mgenerate_report\u001b[0m\u001b[0;34m(\u001b[0m\u001b[0;34m)\u001b[0m\u001b[0;34m)\u001b[0m\u001b[0;34m\u001b[0m\u001b[0;34m\u001b[0m\u001b[0m\n\u001b[0m\u001b[1;32m    298\u001b[0m         return self._serializer.serialize_to_request(parameters,\n\u001b[1;32m    299\u001b[0m                                                      operation_model)\n",
      "\u001b[0;31mParamValidationError\u001b[0m: Parameter validation failed:\nInvalid type for parameter Body, value: [0, 0, 0, 0, 0, 0, 0, 0, 0, 0, 0, 0, 0, 0, 0, 0, 0, 0, 0, 0, 0, 0, 0, 0, 0, 0, 0, 0, 0, 0, 0, 0, 0, 0, 0, 0, 0, 0, 0, 0, 0, 0, 0, 0, 0, 0, 0, 0, 0, 0, 0, 0, 0, 0, 0, 0, 0, 0, 0, 0, 0, 0, 0, 0, 0, 0, 0, 0, 0, 0, 0, 0, 0, 0, 0, 0, 0, 0, 0, 0, 0, 0, 0, 0, 0, 0, 0, 0, 0, 0, 0, 0, 0, 0, 0, 0, 0, 0, 0, 0, 0, 0, 0, 0, 0, 0, 0, 0, 0, 0, 0, 0, 0, 0, 0, 0, 0, 0, 0, 0, 0, 0, 0, 0, 0, 0, 0, 0, 0, 0, 0, 0, 0, 0, 0, 0, 0, 0, 0, 0, 0, 0, 0, 0, 0, 0, 0, 0, 0, 0, 0, 0, 0, 0, 0, 0, 0, 0, 0, 0, 0, 0, 0, 0, 0, 0, 0, 0, 0, 0, 0, 0, 0, 0, 0, 0, 0, 0, 0, 0, 0, 0, 0, 0, 0, 0, 0, 0, 0, 0, 0, 0, 0, 0, 0, 0, 0, 0, 0, 0, 0, 0, 0, 0, 0, 0, 0, 0, 0, 0, 0, 0, 0, 0, 0, 0, 0, 0, 0, 0, 0, 0, 0, 0, 0, 0, 1, 0, 0, 0, 0, 0, 0, 0, 0, 0, 0, 0, 0, 0, 0, 0, 0, 0, 0, 0, 0, 0, 0, 0, 0, 0, 0, 0, 0, 1, 0, 0, 0, 0, 0, 0, 0, 0, 0, 0, 0, 0, 0, 0, 0, 0, 0, 0, 0, 0, 0, 0, 0, 0, 0, 0, 0, 0, 0, 0, 0, 0, 0, 0, 0, 0, 0, 0, 0, 0, 0, 0, 0, 0, 0, 0, 0, 0, 0, 0, 0, 0, 0, 0, 0, 0, 0, 0, 0, 0, 0, 0, 0, 0, 0, 0, 0, 0, 0, 0, 0, 0, 0, 0, 0, 0, 0, 0, 0, 0, 0, 0, 0, 0, 0, 0, 0, 0, 0, 0, 0, 0, 0, 0, 0, 0, 0, 0, 0, 0, 0, 0, 0, 0, 0, 0, 0, 0, 0, 0, 0, 0, 0, 0, 0, 0, 0, 0, 0, 0, 0, 0, 0, 0, 0, 0, 0, 0, 0, 0, 0, 0, 0, 0, 0, 0, 0, 0, 0, 0, 0, 0, 0, 0, 0, 0, 0, 0, 0, 0, 0, 0, 0, 0, 0, 0, 0, 0, 0, 0, 0, 0, 0, 0, 0, 0, 0, 0, 0, 0, 0, 0, 0, 0, 0, 0, 0, 0, 0, 0, 0, 0, 0, 0, 0, 0, 0, 0, 0, 0, 0, 0, 0, 0, 0, 0, 0, 0, 0, 0, 0, 0, 0, 0, 0, 0, 0, 0, 0, 0, 0, 0, 0, 0, 0, 0, 0, 0, 0, 0, 0, 0, 0, 0, 0, 0, 0, 0, 0, 0, 0, 0, 0, 0, 0, 0, 0, 0, 0, 0, 0, 0, 0, 0, 0, 0, 0, 0, 0, 0, 0, 0, 0, 0, 0, 0, 0, 0, 0, 0, 0, 0, 0, 0, 0, 0, 0, 0, 0, 0, 0, 0, 0, 0, 0, 0, 0, 0, 0, 0, 0, 0, 0, 0, 0, 0, 0, 0, 0, 0, 0, 0, 0, 0, 0, 0, 0, 0, 0, 0, 0, 0, 0, 0, 0, 0, 0, 0, 0, 0, 0, 0, 0, 0, 0, 0, 0, 0, 0, 0, 0, 0, 0, 0, 0, 0, 0, 0, 0, 0, 0, 0, 0, 0, 0, 0, 0, 0, 0, 0, 0, 0, 0, 0, 0, 0, 0, 0, 0, 0, 0, 0, 0, 0, 0, 0, 0, 0, 0, 0, 0, 0, 0, 0, 0, 0, 0, 0, 0, 0, 0, 0, 0, 0, 0, 0, 0, 0, 0, 0, 0, 1, 0, 0, 0, 0, 0, 0, 0, 0, 0, 0, 0, 0, 0, 0, 0, 0, 0, 0, 0, 0, 0, 0, 0, 0, 0, 0, 0, 0, 0, 0, 0, 0, 0, 0, 0, 0, 0, 0, 0, 0, 0, 0, 0, 0, 0, 0, 0, 0, 0, 0, 0, 0, 0, 0, 0, 0, 0, 0, 0, 0, 0, 0, 0, 0, 0, 0, 0, 0, 0, 0, 0, 0, 0, 0, 0, 0, 0, 0, 0, 0, 0, 0, 0, 0, 0, 0, 0, 0, 0, 0, 0, 0, 0, 0, 0, 0, 0, 0, 0, 0, 0, 0, 0, 0, 0, 0, 0, 0, 0, 0, 0, 0, 0, 0, 0, 0, 0, 0, 0, 0, 0, 0, 0, 0, 0, 0, 0, 0, 0, 0, 0, 0, 0, 0, 0, 0, 0, 0, 0, 0, 0, 0, 0, 0, 0, 0, 0, 0, 0, 0, 0, 0, 0, 0, 0, 0, 0, 0, 0, 0, 0, 0, 0, 0, 0, 0, 0, 0, 0, 0, 0, 0, 0, 0, 0, 0, 0, 0, 0, 0, 0, 0, 0, 0, 0, 0, 0, 0, 0, 0, 0, 0, 0, 0, 0, 0, 0, 0, 0, 0, 0, 0, 0, 0, 0, 0, 0, 0, 0, 0, 0, 0, 0, 0, 0, 0, 0, 0, 0, 0, 0, 0, 0, 0, 0, 0, 0, 0, 0, 0, 0, 0, 0, 0, 0, 0, 0, 0, 0, 0, 0, 0, 0, 0, 0, 0, 0, 0, 0, 0, 0, 0, 0, 1, 0, 0, 0, 0, 0, 0, 0, 0, 0, 0, 0, 0, 0, 0, 0, 0, 0, 0, 0, 0, 0, 0, 0, 0, 0, 0, 0, 0, 0, 0, 0, 0, 0, 0, 0, 0, 0, 0, 0, 0, 0, 0, 0, 0, 0, 0, 0, 0, 0, 0, 0, 0, 0, 0, 0, 0, 0, 0, 0, 0, 0, 0, 0, 0, 0, 0, 0, 0, 0, 0, 0, 0, 0, 0, 0, 0, 0, 0, 0, 0, 0, 0, 0, 0, 0, 0, 1, 0, 0, 0, 0, 0, 0, 0, 0, 0, 0, 0, 0, 0, 0, 0, 0, 0, 0, 0, 0, 0, 0, 0, 0, 0, 0, 0, 0, 0, 0, 0, 0, 0, 0, 0, 0, 0, 0, 0, 0, 0, 0, 0, 0, 0, 0, 0, 0, 0, 0, 0, 0, 0, 0, 0, 0, 0, 0, 0, 0, 0, 0, 0, 0, 0, 0, 0, 0, 0, 0, 0, 0, 0, 0, 0, 0, 0, 0, 0, 0, 0, 0, 0, 0, 0, 0, 0, 0, 0, 0, 0, 0, 0, 0, 0, 0, 0, 0, 0, 0, 0, 0, 0, 0, 0, 0, 0, 0, 0, 0, 0, 0, 0, 0, 0, 0, 0, 0, 0, 0, 0, 0, 0, 0, 0, 0, 0, 0, 0, 0, 0, 0, 0, 0, 0, 0, 0, 0, 0, 0, 0, 0, 0, 0, 0, 0, 0, 0, 0, 0, 0, 0, 0, 0, 0, 0, 0, 0, 0, 0, 0, 0, 0, 0, 0, 0, 0, 0, 0, 0, 0, 0, 0, 0, 0, 0, 0, 0, 0, 0, 0, 0, 0, 0, 0, 0, 0, 0, 0, 0, 0, 0, 0, 0, 0, 0, 0, 0, 0, 0, 0, 0, 0, 0, 0, 0, 0, 0, 0, 0, 0, 0, 0, 0, 0, 0, 0, 0, 0, 0, 0, 0, 0, 0, 0, 0, 0, 0, 0, 0, 0, 0, 0, 0, 0, 0, 0, 0, 0, 0, 0, 0, 0, 0, 0, 0, 0, 0, 0, 0, 1, 0, 0, 0, 0, 0, 0, 0, 0, 0, 0, 0, 0, 0, 0, 0, 0, 0, 0, 0, 0, 0, 0, 0, 0, 0, 0, 0, 0, 0, 0, 0, 0, 0, 0, 0, 0, 0, 0, 0, 0, 0, 0, 0, 0, 0, 0, 0, 0, 0, 0, 0, 0, 0, 0, 0, 1, 0, 0, 0, 0, 0, 0, 0, 0, 0, 0, 0, 0, 0, 0, 0, 0, 0, 0, 0, 0, 0, 0, 0, 0, 0, 0, 0, 0, 0, 0, 0, 0, 0, 0, 0, 0, 0, 0, 0, 0, 0, 0, 0, 0, 0, 0, 0, 0, 0, 0, 0, 0, 0, 0, 0, 0, 0, 0, 0, 0, 0, 0, 0, 0, 0, 0, 0, 0, 0, 0, 0, 0, 0, 0, 0, 0, 0, 0, 0, 0, 0, 0, 0, 0, 0, 0, 0, 0, 0, 0, 0, 0, 0, 0, 0, 0, 0, 0, 0, 0, 0, 0, 0, 0, 0, 0, 0, 0, 0, 0, 0, 0, 0, 0, 0, 0, 0, 0, 0, 0, 0, 0, 0, 0, 0, 0, 0, 0, 0, 0, 0, 0, 0, 0, 0, 0, 0, 0, 0, 0, 0, 0, 0, 0, 0, 0, 0, 0, 0, 0, 0, 0, 0, 0, 0, 0, 0, 0, 0, 0, 0, 0, 0, 0, 0, 0, 0, 0, 0, 0, 0, 0, 0, 0, 0, 0, 0, 0, 0, 0, 0, 0, 0, 0, 0, 0, 0, 0, 0, 0, 0, 0, 0, 0, 0, 0, 0, 0, 0, 0, 0, 0, 0, 0, 0, 0, 0, 0, 0, 0, 0, 0, 0, 0, 0, 0, 0, 0, 0, 0, 0, 0, 0, 0, 0, 0, 0, 0, 0, 0, 0, 0, 0, 0, 0, 0, 0, 0, 0, 0, 0, 0, 0, 0, 0, 0, 0, 0, 0, 0, 0, 0, 0, 0, 0, 0, 0, 0, 0, 0, 0, 0, 0, 0, 0, 0, 0, 0, 0, 0, 0, 0, 0, 0, 0, 0, 0, 0, 0, 0, 0, 0, 0, 0, 0, 0, 0, 0, 0, 0, 0, 0, 0, 0, 0, 0, 0, 0, 0, 0, 0, 0, 0, 0, 0, 0, 0, 0, 0, 0, 0, 0, 0, 0, 0, 0, 0, 0, 0, 0, 0, 0, 0, 0, 0, 0, 0, 0, 0, 0, 0, 0, 0, 0, 0, 0, 0, 0, 0, 0, 0, 0, 0, 0, 0, 0, 0, 0, 0, 0, 0, 0, 0, 0, 0, 0, 0, 0, 0, 0, 0, 0, 0, 0, 0, 0, 0, 0, 0, 0, 0, 0, 0, 0, 0, 0, 0, 0, 0, 0, 0, 0, 0, 0, 0, 0, 0, 0, 0, 0, 0, 0, 0, 0, 0, 0, 0, 0, 0, 0, 0, 0, 0, 0, 0, 0, 0, 0, 0, 0, 0, 0, 0, 0, 0, 0, 0, 0, 0, 0, 0, 0, 0, 0, 0, 0, 0, 0, 0, 0, 0, 0, 0, 0, 0, 0, 0, 0, 0, 0, 0, 0, 0, 0, 0, 0, 0, 0, 0, 0, 0, 0, 0, 0, 0, 0, 0, 0, 0, 0, 0, 0, 0, 0, 0, 0, 0, 0, 0, 0, 0, 0, 0, 0, 0, 0, 0, 0, 0, 0, 0, 0, 0, 0, 0, 0, 0, 0, 0, 0, 0, 0, 0, 0, 0, 0, 0, 0, 0, 0, 0, 0, 0, 0, 0, 0, 0, 0, 0, 0, 0, 0, 0, 0, 0, 0, 0, 0, 0, 0, 0, 0, 0, 0, 0, 0, 0, 0, 0, 0, 0, 0, 0, 0, 0, 0, 0, 0, 0, 0, 0, 0, 0, 0, 0, 0, 0, 0, 0, 0, 0, 0, 0, 0, 0, 0, 0, 0, 0, 0, 0, 0, 0, 0, 0, 0, 0, 0, 0, 0, 0, 0, 0, 0, 0, 0, 0, 0, 0, 0, 0, 0, 0, 0, 0, 0, 0, 0, 0, 0, 0, 0, 0, 0, 0, 0, 0, 0, 0, 0, 0, 0, 0, 0, 0, 0, 0, 0, 0, 0, 0, 0, 0, 0, 0, 0, 0, 0, 0, 0, 0, 0, 0, 0, 0, 0, 0, 0, 0, 0, 0, 0, 0, 0, 0, 0, 0, 0, 0, 0, 0, 0, 0, 0, 0, 0, 0, 0, 0, 0, 0, 0, 0, 0, 0, 0, 0, 0, 0, 0, 0, 0, 0, 0, 0, 0, 0, 0, 0, 0, 0, 0, 0, 0, 0, 0, 0, 0, 0, 0, 0, 1, 0, 0, 0, 0, 0, 0, 0, 0, 0, 0, 0, 0, 0, 0, 0, 0, 0, 0, 0, 0, 0, 0, 0, 0, 0, 0, 0, 0, 0, 0, 0, 0, 0, 0, 0, 0, 0, 0, 0, 0, 0, 0, 0, 0, 0, 0, 0, 0, 0, 0, 0, 0, 0, 0, 0, 0, 0, 0, 0, 0, 0, 0, 0, 0, 0, 0, 0, 0, 0, 0, 0, 0, 0, 0, 1, 0, 0, 0, 0, 0, 0, 0, 0, 0, 0, 0, 0, 0, 0, 0, 0, 0, 0, 0, 0, 1, 0, 0, 1, 0, 0, 0, 0, 0, 0, 0, 0, 0, 0, 0, 0, 0, 0, 0, 0, 0, 0, 0, 0, 0, 0, 0, 0, 0, 0, 0, 0, 0, 0, 0, 0, 0, 0, 0, 0, 0, 0, 0, 0, 0, 0, 0, 0, 0, 0, 0, 0, 0, 0, 0, 0, 0, 0, 0, 0, 0, 0, 0, 0, 0, 0, 0, 0, 0, 0, 0, 0, 0, 0, 0, 0, 0, 0, 0, 0, 0, 0, 0, 0, 0, 0, 0, 0, 0, 0, 0, 0, 0, 0, 0, 0, 0, 0, 0, 0, 0, 0, 0, 0, 0, 0, 0, 0, 0, 0, 0, 0, 0, 0, 0, 0, 0, 0, 0, 0, 0, 0, 0, 0, 0, 0, 0, 0, 0, 0, 0, 0, 0, 0, 0, 0, 0, 0, 0, 0, 0, 0, 0, 0, 0, 0, 0, 0, 0, 0, 0, 0, 0, 0, 0, 0, 0, 0, 0, 0, 0, 0, 0, 0, 0, 0, 0, 0, 0, 0, 0, 0, 0, 0, 0, 0, 0, 0, 0, 0, 0, 0, 0, 0, 0, 0, 0, 0, 0, 0, 0, 0, 0, 0, 0, 0, 0, 0, 0, 0, 0, 0, 0, 0, 0, 0, 0, 0, 0, 0, 0, 0, 0, 0, 0, 0, 0, 0, 0, 0, 0, 0, 0, 0, 0, 0, 0, 0, 0, 0, 0, 0, 0, 0, 0, 0, 0, 0, 0, 0, 0, 0, 0, 0, 0, 0, 0, 0, 0, 0, 0, 0, 0, 0, 0, 0, 0, 0, 0, 0, 0, 0, 0, 0, 0, 0, 0, 0, 0, 0, 0, 0, 0, 0, 0, 0, 0, 0, 0, 0, 0, 0, 0, 0, 0, 0, 0, 0, 0, 0, 0, 0, 0, 0, 0, 0, 0, 0, 0, 0, 0, 0, 0, 0, 0, 0, 0, 0, 0, 0, 0, 0, 0, 0, 0, 0, 0, 0, 0, 0, 0, 0, 0, 0, 0, 0, 0, 0, 0, 0, 0, 0, 0, 0, 0, 0, 0, 0, 0, 0, 0, 0, 0, 0, 0, 0, 0, 0, 0, 0, 0, 0, 0, 0, 0, 0, 0, 0, 0, 0, 0, 0, 0, 0, 0, 0, 0, 0, 0, 0, 0, 0, 0, 0, 0, 0, 0, 0, 0, 0, 0, 0, 0, 0, 0, 0, 0, 0, 0, 0, 0, 0, 0, 0, 0, 0, 0, 0, 0, 0, 0, 0, 0, 0, 0, 0, 0, 0, 0, 0, 0, 0, 0, 0, 0, 0, 0, 0, 0, 0, 0, 0, 0, 0, 0, 0, 0, 0, 0, 0, 0, 0, 0, 0, 0, 0, 0, 0, 0, 0, 0, 0, 0, 0, 0, 0, 0, 0, 0, 0, 0, 0, 0, 0, 0, 0, 0, 0, 0, 0, 0, 0, 0, 0, 0, 0, 0, 0, 0, 1, 0, 0, 0, 0, 0, 0, 0, 0, 0, 0, 0, 0, 0, 0, 0, 0, 0, 0, 0, 0, 0, 0, 0, 0, 0, 0, 0, 0, 0, 0, 0, 0, 0, 0, 0, 0, 0, 0, 0, 0, 0, 0, 0, 0, 0, 0, 0, 0, 0, 0, 0, 0, 0, 0, 0, 0, 0, 0, 0, 0, 0, 0, 0, 0, 0, 0, 0, 0, 0, 0, 0, 0, 0, 0, 0, 0, 0, 0, 0, 0, 0, 0, 0, 0, 0, 0, 0, 0, 0, 0, 0, 0, 0, 0, 0, 0, 0, 0, 0, 0, 0, 0, 0, 0, 0, 0, 0, 0, 0, 0, 0, 0, 0, 0, 0, 0, 0, 0, 0, 0, 0, 0, 0, 0, 0, 0, 0, 0, 0, 0, 0, 0, 0, 0, 0, 0, 0, 0, 0, 0, 0, 0, 0, 0, 0, 0, 0, 0, 0, 0, 0, 0, 0, 0, 0, 0, 0, 0, 0, 0, 0, 0, 0, 0, 0, 0, 0, 0, 0, 0, 0, 0, 0, 0, 0, 0, 0, 0, 0, 0, 0, 0, 0, 0, 0, 0, 0, 0, 0, 0, 0, 0, 0, 0, 0, 0, 0, 0, 0, 0, 0, 0, 0, 0, 0, 0, 0, 0, 0, 0, 0, 0, 0, 0, 0, 0, 0, 0, 0, 0, 0, 0, 0, 0, 0, 0, 0, 0, 0, 0, 0, 0, 0, 0, 0, 0, 0, 0, 0, 0, 0, 0, 0, 0, 0, 0, 0, 0, 0, 0, 0, 0, 0, 0, 0, 0, 0, 0, 0, 0, 0, 0, 0, 0, 0, 0, 0, 0, 0, 0, 0, 0, 0, 0, 0, 0, 0, 0, 0, 0, 0, 0, 0, 0, 0, 0, 0, 0, 0, 0, 0, 0, 0, 0, 0, 0, 0, 0, 0, 0, 0, 0, 0, 0, 0, 0, 0, 0, 0, 0, 0, 0, 0, 0, 0, 0, 0, 0, 0, 0, 0, 0, 0, 0, 0, 0, 0, 0, 0, 0, 0, 0, 0, 0, 0, 0, 0, 0, 0, 0, 0, 0, 0, 0, 0, 0, 0, 0, 0, 0, 0, 0, 0, 0, 0, 0, 0, 0, 0, 0, 0, 0, 0, 0, 0, 0, 0, 0, 0, 0, 0, 0, 0, 0, 0, 0, 0, 0, 0, 0, 0, 0, 0, 0, 0, 0, 0, 0, 0, 0, 0, 0, 0, 0, 0, 0, 0, 0, 0, 0, 0, 0, 0, 0, 0, 0, 0, 0, 0, 0, 0, 0, 0, 0, 0, 0, 0, 0, 0, 0, 0, 0, 0, 0, 0, 0, 0, 0, 0, 0, 0, 0, 0, 0, 0, 0, 0, 0, 0, 0, 0, 0, 0, 0, 0, 0, 0, 0, 0, 0, 0, 0, 0, 0, 0, 0, 0, 0, 0, 0, 0, 0, 0, 0, 0, 0, 0, 0, 0, 0, 0, 0, 0, 0, 0, 0, 0, 0, 0, 0, 0, 0, 0, 0, 0, 0, 0, 0, 0, 0, 0, 0, 0, 0, 0, 0, 0, 0, 0, 0, 0, 0, 0, 0, 0, 0, 0, 0, 0, 0, 0, 0, 0, 1, 0, 0, 0, 0, 0, 0, 0, 0, 0, 0, 0, 0, 0, 0, 0, 0, 0, 0, 0, 0, 0, 0, 0, 0, 0, 0, 0, 0, 0, 0, 0, 0, 0, 0, 0, 2, 0, 0, 0, 0, 0, 0, 0, 0, 0, 0, 0, 0, 0, 0, 0, 0, 0, 0, 0, 0, 0, 0, 0, 0, 0, 0, 0, 0, 0, 0, 0, 0, 0, 0, 0, 0, 0, 0, 0, 0, 1, 0, 0, 0, 0, 0, 0, 0, 0, 0, 0, 0, 0, 0, 0, 0, 0, 0, 0, 0, 0, 0, 0, 0, 0, 0, 0, 0, 0, 0, 0, 0, 0, 0, 0, 0, 0, 0, 0, 0, 0, 0, 0, 0, 0, 0, 0, 0, 0, 0, 0, 0, 0, 0, 0, 0, 0, 0, 0, 0, 0, 0, 0, 0, 0, 0, 0, 0, 0, 0, 0, 0, 0, 0, 0, 0, 0, 0, 0, 0, 0, 0, 0, 0, 0, 0, 0, 0, 0, 0, 0, 0, 0, 0, 0, 0, 0, 0, 0, 0, 0, 0, 0, 0, 0, 0, 0, 0, 0, 0, 0, 0, 0, 0, 0, 0, 0, 0, 0, 0, 0, 0, 0, 0, 0, 0, 0, 0, 0, 0, 0, 0, 0, 0, 0, 0, 0, 0, 0, 0, 0, 0, 0, 0, 0, 0, 0, 0, 0, 0, 0, 0, 0, 0, 0, 0, 0, 0, 0, 0, 0, 0, 0, 0, 0, 0, 0, 0, 0, 0, 0, 0, 0, 0, 0, 0, 0, 0, 0, 0, 0, 0, 0, 0, 0, 0, 0, 0, 0, 0, 0, 0, 0, 0, 0, 0, 0, 0, 0, 0, 0, 0, 0, 0, 0, 0, 0, 0, 0, 0, 0, 0, 0, 0, 0, 0, 0, 0, 0, 0, 0, 0, 0, 0, 0, 0, 0, 0, 0, 0, 0, 0, 0, 0, 0, 0, 0, 0, 0, 0, 0, 0, 0, 0, 0, 0, 0, 0, 0, 0, 0, 0, 0, 0, 0, 0, 0, 0, 0, 0, 0, 0, 0, 0, 0, 0, 0, 0, 0, 0, 0, 0, 0, 0, 0, 0, 0, 0, 0, 0, 0, 0, 0, 0, 0, 0, 0, 0, 0, 0, 0, 0, 0, 0, 0, 0, 0, 0, 0, 0, 0, 0, 0, 0, 0, 0, 0, 0, 0, 0, 0, 0, 0, 0, 0, 0, 0, 0, 0, 0, 0, 0, 0, 0, 0, 0, 0, 0, 0, 0, 0, 0, 0, 0, 0, 0, 0, 0, 0, 0, 0, 0, 0, 0, 0, 0, 0, 0, 0, 0, 0, 0, 0, 0, 0, 0, 0, 0, 0, 0, 0, 0, 0, 0, 0, 0, 0, 0, 0, 0, 0, 0, 0, 0, 0, 0, 0, 0, 0, 0, 0, 0, 0, 0, 0, 0, 0, 0, 0, 0, 0, 0, 0, 0, 0, 0, 0, 0, 0, 0, 0, 0, 0, 0, 0, 0, 0, 0, 0, 0, 0, 0, 0, 0, 0, 0, 0, 0, 0, 0, 0, 0, 0, 0, 0, 0, 0, 0, 0, 0, 0, 0, 0, 0, 0, 0, 0, 0, 0, 0, 0, 0, 0, 0, 0, 0, 0, 0, 0, 0, 0, 0, 0, 0, 0, 0, 0, 0, 0, 0, 0, 0, 0, 0, 0, 0, 0, 0, 0, 0, 0, 0, 0, 0, 0, 0, 0, 0, 0, 0, 0, 0, 0, 0, 0, 0, 0, 0, 0, 0, 0, 0, 0, 0, 0, 0, 0, 0, 1, 0, 0, 0, 0, 0, 0, 0, 0, 0, 0, 0, 0, 0, 0, 0, 0, 0, 0, 0, 0, 0, 0, 0, 0, 0, 0, 0, 0, 0, 0, 0, 0, 0, 0, 0, 0, 0, 0, 0, 0, 0, 0, 0, 0, 0, 0, 0, 0, 0, 0, 0, 0, 0, 0, 0, 0, 0, 0, 0, 0, 0, 0, 0, 0, 0, 0, 0, 0, 0, 0, 0, 0, 0, 0, 0, 0, 0, 0, 0, 0, 0, 0, 0, 0, 0, 0, 0, 0, 0, 0, 0, 0, 0, 0, 0, 0, 0, 0, 0, 0, 0, 0, 0, 0, 0, 0, 0, 0, 0, 2, 0, 0, 0, 0, 0, 0, 0, 0, 0, 0, 0, 0, 0, 0, 0, 0, 0, 0, 0, 0, 0, 0, 0, 0, 0, 0, 0, 0, 0, 0, 0, 0, 0, 0, 0, 0, 0, 0, 0, 0, 0, 0, 0, 0, 0, 0, 0, 0, 0, 0, 0, 0, 0, 0, 0, 0, 0, 0, 0, 0, 0, 0, 0, 0, 0, 0, 0, 0, 0, 0, 0, 0, 0, 0, 0, 0, 0, 0, 0, 0, 0, 0, 0, 0, 0, 0, 0, 0, 0, 0, 0, 0, 0, 0, 0, 0, 0, 0, 0, 0, 0, 0, 0, 0, 0, 0, 0, 0, 0, 0, 0, 0, 0, 0, 0, 0, 0, 0, 0, 0, 0, 0, 0, 0, 0, 0, 0, 0, 0, 0, 0, 0, 0, 0, 0, 0, 0, 0, 0, 0, 0, 0, 0, 0, 0, 0, 0, 0, 0, 0, 0, 0, 0, 0, 0, 0, 0, 0, 0, 0, 0, 0, 0, 0, 0, 0, 0, 0, 0, 0, 0, 0, 0, 0, 0, 0, 0, 0, 0, 0, 0, 0, 0, 0, 0, 0, 0, 0, 0, 0, 0, 0, 0, 0, 0, 0, 0, 0, 0, 0, 0, 0, 0, 0, 0, 0, 0, 0, 0, 0, 0, 0, 0, 0, 0, 0, 0, 0, 0, 0, 0, 0, 0, 0, 0, 0, 0, 0, 0, 0, 0, 0, 0, 0, 0, 0, 0, 0, 0, 0, 0, 0, 0, 0, 0, 0, 0, 0, 0, 0, 0, 0, 0, 0, 0, 0, 0, 0, 0, 0, 0, 0, 0, 0, 0, 0, 0, 0, 0, 0, 0, 0, 0, 0, 0, 0, 0, 0, 0, 0, 0, 0, 0, 0, 0, 0, 0, 0, 0, 0, 0, 0, 0, 0, 0, 0, 0, 0, 0, 0, 0, 0, 0, 0, 0, 0, 0, 0, 0, 0, 0, 0, 0, 0, 0, 0, 0, 0, 0, 0, 0, 0, 0, 0, 0, 0, 0, 0, 0, 0, 0, 0, 0, 0, 0, 0, 0, 0, 0, 0, 0, 0, 0, 0, 0, 0, 0, 0, 0, 0, 0, 0, 0, 0, 0, 0, 0, 0, 0, 0, 0, 0, 0, 0, 0, 0, 0, 0, 0, 0, 0, 0, 0, 0, 0, 0, 0, 0, 0, 0, 0, 0, 0, 0, 0, 0, 0, 0, 0, 0, 0, 0, 0, 0, 0, 0, 0, 0, 0, 0, 0, 0, 0, 0, 0, 0, 0, 0, 0, 0, 0, 0, 0, 0, 0, 0, 0, 0, 0, 0, 0, 0, 0, 0, 0, 0, 0, 0, 0, 0, 0, 0, 0, 0, 0, 0, 0, 0, 0, 0, 0, 0, 0, 0, 0, 0, 0, 0, 0, 0, 0, 0, 0, 0, 0, 0, 0, 0, 0, 0, 0, 0, 0, 0, 0, 0, 0, 0, 0, 0, 0, 0, 0, 0, 0, 0, 0, 0, 0, 0, 0, 0, 0, 0, 0, 0, 0, 0, 0, 0, 0, 0, 0, 0, 0, 0, 0, 0, 0, 0, 0, 0, 0, 0, 0, 0, 0, 0, 0, 0, 0, 0, 0, 0, 0, 0, 0, 0, 0, 0, 0, 0, 0, 0, 0, 0, 0, 0, 0, 0, 0, 0, 0, 0, 0, 0, 0, 0, 0, 0, 0, 0, 0, 0, 0, 0, 0, 0, 0, 0, 0, 0, 0, 0, 0, 0, 0, 0, 0, 0, 0, 0, 0, 0, 0, 0, 0, 0, 0, 0, 0, 0, 0, 0, 0, 0, 0, 0, 0, 0, 0, 0, 0, 0, 0, 0, 0, 0, 0, 0, 0, 0, 0, 0, 0, 0, 0, 0, 0, 0, 0, 0, 0, 0, 0, 0, 0, 0, 0, 0, 0, 0, 0, 0, 0, 0, 0, 0, 0, 0, 0, 0, 0, 0, 0, 0, 0, 0, 0, 0, 0, 0, 0, 0, 0, 0, 0, 0, 0, 0, 0, 0, 0, 0, 0, 0, 0, 0, 0, 0, 0, 0, 0, 0, 0, 0, 0, 0, 0, 0, 0, 0, 0, 0, 0, 0, 0, 0, 0, 0, 0, 0, 0, 0, 0, 0, 0, 0, 0, 0, 0, 0, 0, 0, 0, 0, 0, 0, 0, 0, 0, 1, 0, 0, 0, 0, 0, 0, 0, 0, 0, 0, 0, 0, 0, 0, 0, 0, 0, 0, 0, 0, 0, 0, 0, 0, 0, 0, 0, 0, 0, 0, 0, 0, 0, 0, 0, 0, 0, 0, 0, 0, 0, 0, 0, 0, 0, 0, 0, 0, 0, 0, 0, 0, 0, 0, 0, 0, 0, 0, 0, 0, 0, 0, 0, 0, 0, 0, 0, 0, 0, 0, 0, 0, 0, 0, 0, 0, 0, 0, 0, 0, 0, 0, 0, 0, 0, 0, 0, 0, 0, 0, 0, 0, 0, 0, 0, 0, 0, 0, 0, 0, 0, 0, 0, 0, 0, 0, 0, 1, 0, 0, 0, 0, 0, 0, 0, 0, 0, 0, 0, 0, 0, 0, 0, 0, 0, 0, 0, 0, 0, 0, 0, 0, 0, 0, 0, 0, 0, 0, 0, 0, 0, 0, 0, 0, 0, 0, 0, 0, 0, 0, 0, 0, 0, 0, 0, 0, 0, 0, 0, 0, 0, 0, 0, 0, 0, 0, 0, 0, 0, 0, 0, 0, 0, 0, 0, 0, 0, 0, 0, 0, 0, 0, 0, 0, 0, 0, 0, 0, 0, 0, 0, 0, 0, 0, 0, 0, 0, 0, 0, 0, 0, 0, 0, 0, 0, 0, 0, 0, 0, 0, 0, 0, 0, 0, 0, 0, 0, 0, 0, 0, 0, 0, 0, 0, 0, 0, 0, 0, 0, 0, 0, 0, 0, 0, 0, 0, 0, 0, 0, 0, 0, 0, 0, 0, 0, 0, 0, 0, 0, 0, 0, 0, 0, 0, 0, 0, 0, 0, 0, 0, 0, 0, 0, 0, 0, 0, 0, 0, 0, 0, 0, 0, 0, 0, 0, 0, 0, 0, 0, 0, 0, 0, 0, 0, 0, 0, 0, 0, 0, 0, 0, 0, 0, 0, 0, 0, 0, 0, 0, 0, 0, 0, 0, 0, 0, 0, 0, 0, 0, 0, 0, 0, 0, 0, 0, 0, 0, 0, 0, 0, 0, 0, 0, 0, 0, 0, 0, 0, 0, 0, 0, 0, 0, 0, 0, 0, 0, 0, 0, 0, 0, 0, 0, 0, 0, 0, 0, 0, 0, 0, 0, 0, 0, 0, 0, 0, 0, 0, 0, 0, 0, 0, 0, 0, 0, 0, 0, 0, 0, 0, 0, 0, 0, 0, 0, 0, 0, 0, 0, 0, 0, 0, 0, 0, 0, 0, 0, 0, 0, 0, 0, 0, 0, 0, 0, 0, 0, 0, 0, 0, 0, 0, 0, 0, 0, 0, 0, 0, 0, 0, 0, 0, 0, 0, 0, 0, 0, 0, 0, 0, 0, 0, 0, 0, 0, 0, 0, 0, 0, 0, 0, 0, 0, 0, 0, 0, 0, 0, 0, 0, 0, 0, 0, 0, 0, 0, 0, 0, 0, 0, 0, 0, 0, 0, 0, 0, 0, 0, 0, 0, 0, 0, 0, 0, 0, 0, 0, 0, 0, 0, 0, 0, 0, 0, 0, 0, 0, 0, 0, 0, 0, 0, 0, 0, 0, 0, 0, 0, 0, 0, 0, 0, 0, 0, 0, 0, 0, 0, 0, 0, 0, 0, 0, 0, 0, 0, 0, 0, 0, 0, 0, 0, 0, 0, 0, 0, 0, 0, 0, 0, 0, 0, 0, 0, 0, 0, 0, 0, 0, 0, 0, 0, 0, 0, 0, 0, 0, 0, 0, 0, 0, 0, 0, 0, 0, 0, 0, 0, 0, 0, 0, 0, 0, 0, 0, 0, 0, 0, 0, 0, 0, 0, 0, 0, 0, 0, 0, 0, 0, 0, 0, 0, 2, 0, 1, 0], type: <class 'list'>, valid types: <class 'bytes'>, <class 'bytearray'>, file-like object"
     ]
    }
   ],
   "source": [
    "response = runtime.invoke_endpoint(EndpointName = xgb_predictor.endpoint, # The name of the endpoint we created\n",
    "                                       ContentType = 'text/csv',                     # The data format that is expected\n",
    "                                       Body = test_bow)"
   ]
  },
  {
   "cell_type": "markdown",
   "metadata": {},
   "source": [
    "So why did we get an error?\n",
    "\n",
    "Because we tried to send the endpoint a list of integers but it expected us to send data of type `text/csv`. So, we need to convert it."
   ]
  },
  {
   "cell_type": "code",
   "execution_count": 47,
   "metadata": {},
   "outputs": [],
   "source": [
    "response = runtime.invoke_endpoint(EndpointName = xgb_predictor.endpoint, # The name of the endpoint we created\n",
    "                                       ContentType = 'text/csv',                     # The data format that is expected\n",
    "                                       Body = ','.join([str(val) for val in test_bow]).encode('utf-8'))"
   ]
  },
  {
   "cell_type": "code",
   "execution_count": 48,
   "metadata": {},
   "outputs": [
    {
     "name": "stdout",
     "output_type": "stream",
     "text": [
      "{'ResponseMetadata': {'RequestId': '3ce8087e-56f6-4f6c-a555-8965a78c11ad', 'HTTPStatusCode': 200, 'HTTPHeaders': {'x-amzn-requestid': '3ce8087e-56f6-4f6c-a555-8965a78c11ad', 'x-amzn-invoked-production-variant': 'AllTraffic', 'date': 'Sat, 29 Aug 2020 13:26:33 GMT', 'content-type': 'text/csv; charset=utf-8', 'content-length': '14'}, 'RetryAttempts': 0}, 'ContentType': 'text/csv; charset=utf-8', 'InvokedProductionVariant': 'AllTraffic', 'Body': <botocore.response.StreamingBody object at 0x7f56b2344710>}\n"
     ]
    }
   ],
   "source": [
    "print(response)"
   ]
  },
  {
   "cell_type": "markdown",
   "metadata": {},
   "source": [
    "As we can see, the response from our model is a somewhat complicated looking dict that contains a bunch of information. The bit that we are most interested in is `'Body'` object which is a streaming object that we need to `read` in order to make use of."
   ]
  },
  {
   "cell_type": "code",
   "execution_count": 49,
   "metadata": {},
   "outputs": [
    {
     "name": "stdout",
     "output_type": "stream",
     "text": [
      "0.550658285618\n"
     ]
    }
   ],
   "source": [
    "response = response['Body'].read().decode('utf-8')\n",
    "print(response)"
   ]
  },
  {
   "cell_type": "markdown",
   "metadata": {},
   "source": [
    "Now that we know how to process the incoming user data we can start setting up the infrastructure to make our simple web app work. To do this we will make use of two different services. Amazon's Lambda and API Gateway services.\n",
    "\n",
    "Lambda is a service which allows someone to write some relatively simple code and have it executed whenever a chosen trigger occurs. For example, you may want to update a database whenever new data is uploaded to a folder stored on S3.\n",
    "\n",
    "API Gateway is a service that allows you to create HTTP endpoints (url addresses) which are connected to other AWS services. One of the benefits to this is that you get to decide what credentials, if any, are required to access these endpoints.\n",
    "\n",
    "In our case we are going to set up an HTTP endpoint through API Gateway which is open to the public. Then, whenever anyone sends data to our public endpoint we will trigger a Lambda function which will send the input (in our case a review) to our model's endpoint and then return the result."
   ]
  },
  {
   "cell_type": "markdown",
   "metadata": {},
   "source": [
    "### Setting up a Lambda function\n",
    "\n",
    "The first thing we are going to do is set up a Lambda function. This Lambda function will be executed whenever our public API has data sent to it. When it is executed it will receive the data, perform any sort of processing that is required, send the data (the review) to the SageMaker endpoint we've created and then return the result.\n",
    "\n",
    "#### Part A: Create an IAM Role for the Lambda function\n",
    "\n",
    "Since we want the Lambda function to call a SageMaker endpoint, we need to make sure that it has permission to do so. To do this, we will construct a role that we can later give the Lambda function.\n",
    "\n",
    "Using the AWS Console, navigate to the **IAM** page and click on **Roles**. Then, click on **Create role**. Make sure that the **AWS service** is the type of trusted entity selected and choose **Lambda** as the service that will use this role, then click **Next: Permissions**.\n",
    "\n",
    "In the search box type `sagemaker` and select the check box next to the **AmazonSageMakerFullAccess** policy. Then, click on **Next: Review**.\n",
    "\n",
    "Lastly, give this role a name. Make sure you use a name that you will remember later on, for example `LambdaSageMakerRole`. Then, click on **Create role**."
   ]
  },
  {
   "cell_type": "markdown",
   "metadata": {},
   "source": [
    "#### Part B: Create a Lambda function\n",
    "\n",
    "Now it is time to actually create the Lambda function. Remember from earlier that in order to process the user provided input and send it to our endpoint we need to gather two pieces of information:\n",
    "\n",
    " - The name of the endpoint, and\n",
    " - the vocabulary object.\n",
    "\n",
    "We will copy these pieces of information to our Lambda function after we create it.\n",
    "\n",
    "To start, using the AWS Console, navigate to the AWS Lambda page and click on **Create a function**. When you get to the next page, make sure that **Author from scratch** is selected. Now, name your Lambda function, using a name that you will remember later on, for example `sentiment_analysis_xgboost_func`. Make sure that the **Python 3.6** runtime is selected and then choose the role that you created in the previous part. Then, click on **Create Function**.\n",
    "\n",
    "On the next page you will see some information about the Lambda function you've just created. If you scroll down you should see an editor in which you can write the code that will be executed when your Lambda function is triggered. Collecting the code we wrote above to process a single review and adding it to the provided example `lambda_handler` we arrive at the following.\n",
    "\n",
    "```python\n",
    "# We need to use the low-level library to interact with SageMaker since the SageMaker API\n",
    "# is not available natively through Lambda.\n",
    "import boto3\n",
    "\n",
    "# And we need the regular expression library to do some of the data processing\n",
    "import re\n",
    "\n",
    "REPLACE_NO_SPACE = re.compile(\"(\\.)|(\\;)|(\\:)|(\\!)|(\\')|(\\?)|(\\,)|(\\\")|(\\()|(\\))|(\\[)|(\\])\")\n",
    "REPLACE_WITH_SPACE = re.compile(\"(<br\\s*/><br\\s*/>)|(\\-)|(\\/)\")\n",
    "\n",
    "def review_to_words(review):\n",
    "    words = REPLACE_NO_SPACE.sub(\"\", review.lower())\n",
    "    words = REPLACE_WITH_SPACE.sub(\" \", words)\n",
    "    return words\n",
    "    \n",
    "def bow_encoding(words, vocabulary):\n",
    "    bow = [0] * len(vocabulary) # Start by setting the count for each word in the vocabulary to zero.\n",
    "    for word in words.split():  # For each word in the string\n",
    "        if word in vocabulary:  # If the word is one that occurs in the vocabulary, increase its count.\n",
    "            bow[vocabulary[word]] += 1\n",
    "    return bow\n",
    "\n",
    "\n",
    "def lambda_handler(event, context):\n",
    "    \n",
    "    vocab = \"*** ACTUAL VOCABULARY GOES HERE ***\"\n",
    "    \n",
    "    words = review_to_words(event['body'])\n",
    "    bow = bow_encoding(words, vocab)\n",
    "\n",
    "    # The SageMaker runtime is what allows us to invoke the endpoint that we've created.\n",
    "    runtime = boto3.Session().client('sagemaker-runtime')\n",
    "\n",
    "    # Now we use the SageMaker runtime to invoke our endpoint, sending the review we were given\n",
    "    response = runtime.invoke_endpoint(EndpointName = '***ENDPOINT NAME HERE***',# The name of the endpoint we created\n",
    "                                       ContentType = 'text/csv',                 # The data format that is expected\n",
    "                                       Body = ','.join([str(val) for val in bow]).encode('utf-8')) # The actual review\n",
    "\n",
    "    # The response is an HTTP response whose body contains the result of our inference\n",
    "    result = response['Body'].read().decode('utf-8')\n",
    "    \n",
    "    # Round the result so that our web app only gets '1' or '0' as a response.\n",
    "    result = round(float(result))\n",
    "\n",
    "    return {\n",
    "        'statusCode' : 200,\n",
    "        'headers' : { 'Content-Type' : 'text/plain', 'Access-Control-Allow-Origin' : '*' },\n",
    "        'body' : str(result)\n",
    "    }\n",
    "```"
   ]
  },
  {
   "cell_type": "markdown",
   "metadata": {},
   "source": [
    "Once you have copy and pasted the code above into the Lambda code editor, replace the `**ENDPOINT NAME HERE**` portion with the name of the endpoint that we deployed earlier. You can determine the name of the endpoint using the code cell below."
   ]
  },
  {
   "cell_type": "code",
   "execution_count": 51,
   "metadata": {},
   "outputs": [
    {
     "data": {
      "text/plain": [
       "'xgboost-2020-08-29-12-37-35-612'"
      ]
     },
     "execution_count": 51,
     "metadata": {},
     "output_type": "execute_result"
    }
   ],
   "source": [
    "xgb_predictor.endpoint"
   ]
  },
  {
   "cell_type": "markdown",
   "metadata": {},
   "source": [
    "In addition, you will need to copy the vocabulary dict to the appropriate place in the code at the beginning of the `lambda_handler` method. The cell below prints out the vocabulary dict in a way that is easy to copy and paste."
   ]
  },
  {
   "cell_type": "code",
   "execution_count": 52,
   "metadata": {},
   "outputs": [
    {
     "name": "stdout",
     "output_type": "stream",
     "text": [
      "{'for': 1783, 'this': 4456, 'movie': 2925, 'years': 4979, 'apparently': 269, 'it': 2365, 'aint': 163, 'available': 360, 'here': 2085, 'in': 2256, 'the': 4425, 'states': 4161, 'so': 4043, 'bought': 552, 'me': 2777, 'copy': 995, 'off': 3083, 'four': 1811, 'young': 4989, 'hunters': 2199, 'and': 226, 'three': 4468, 'of': 3082, 'their': 4430, 'into': 2331, 'woods': 4935, 'searching': 3840, 'bear': 419, 'that': 4423, 'has': 2042, 'killed': 2468, 'several': 3903, 'what': 4857, 'they': 4441, 'find': 1725, 'is': 2359, 'an': 223, 'ex': 1549, 'vietnam': 4734, 'gone': 1934, 'crazy': 1036, 'he': 2055, 'kills': 2473, 'some': 4058, 'his': 2117, 'victims': 4729, 'using': 4697, 'with': 4911, 'long': 2642, 'metal': 2822, 'finger': 1730, 'la': 2499, 'freddy': 1825, 'as': 310, 'soon': 4071, 'night': 3012, 'falls': 1640, 'one': 3106, 'girls': 1910, 'goes': 1929, 'walk': 4774, 'after': 143, 'brief': 579, 'argument': 290, 'her': 2084, 'boyfriend': 558, 'she': 3921, 'gets': 1899, 'group': 1979, 'finds': 1727, 'body': 527, 'all': 187, 'hide': 2096, 'waiting': 4771, 'once': 3105, 'sun': 4290, 'comes': 892, 'up': 4682, 'them': 4431, 'try': 4599, 'make': 2711, 'out': 3140, 'but': 637, 'fall': 1637, 'victim': 4728, 'by': 643, 'seven': 3901, 'bodies': 526, 'not': 3039, 'lot': 2659, 'gore': 1940, 'couple': 1017, 'good': 1936, 'murders': 2942, 'especially': 1520, 'guys': 2000, 'get': 1898, 'somewhat': 4065, 'ways': 4821, 'blown': 516, 'car': 681, 'shot': 3947, 'to': 4506, 'death': 1142, 'knife': 2486, 'through': 4476, 'head': 2056, 'overall': 3149, 'trap': 4562, 'nice': 3007, 'slasher': 4017, 'film': 1715, 'from': 1839, 'late': 2521, '80s': 59, 'nothing': 3046, 'new': 3002, 'just': 2436, 'well': 4842, 'acted': 98, 'fast': 1661, 'paced': 3161, 'pretty': 3384, 'ladies': 2505, '10': 0, 'course': 1020, 'was': 4804, 'watching': 4814, 'loved': 2668, 'liked': 2598, 'season': 3841, 'ok': 3097, 'final': 1721, 'there': 4437, 'spin': 4109, 'show': 3951, 'didnt': 1241, 'know': 2488, 'about': 67, 'at': 330, 'my': 2950, 'friends': 1836, 'told': 4512, 'really': 3556, 'excited': 1561, 'watched': 4812, 'first': 1735, 'episodes': 1508, 'piece': 3272, 'rubbish': 3746, 'teenage': 4388, 'girl': 1908, 'drama': 1345, 'fest': 1695, 'no': 3019, 'science': 3814, 'fiction': 1701, 'hardly': 2035, 'any': 255, 'end': 1468, 'every': 1539, 'episode': 1507, 'we': 4822, 'can': 666, 'catch': 715, 'glimpse': 1918, 'thats': 4424, 'who': 4870, 'cares': 691, 'did': 1240, 'decide': 1148, 'next': 3006, 'shows': 3958, 'target': 4364, 'audience': 351, 'will': 4885, 'be': 417, 'females': 1693, 'under': 4638, '18': 10, 'boring': 543, 'religious': 3607, 'nonsense': 3029, 'talking': 4358, 'more': 2903, 'sad': 3765, 'moment': 2886, 'watch': 4810, 'stargate': 4149, 'ruined': 3749, 'over': 3147, 'real': 3547, 'independent': 2271, 'day': 1130, 'age': 148, 'where': 4863, 'latest': 2524, 'mainstream': 2707, 'hollywood': 2136, 'appear': 272, 'cutting': 1093, 'edge': 1417, 'im': 2231, 'sorry': 4073, 'say': 3797, 'general': 1879, 'public': 3460, 'tends': 4401, 'usually': 4699, 'than': 4419, 'clever': 842, 'marketing': 2740, 'which': 4866, 'why': 4877, 'should': 3949, 'glad': 1915, 'films': 1720, 'like': 2597, 'hatred': 2048, 'minute': 2858, 'exist': 1569, 'across': 96, 'board': 522, 'makes': 2714, 'point': 3316, 'its': 2369, 'own': 3157, 'indie': 2275, 'horror': 2167, 'love': 2667, 'or': 3123, 'hate': 2045, 'isnt': 2361, 'afraid': 140, 'being': 447, 'you': 4986, 'sense': 3875, 'director': 1263, 'fake': 1635, 'blood': 512, 'place': 3282, 'hes': 2092, 'tell': 4394, 'stories': 4203, 'ones': 3107, 'may': 2774, 'section': 3851, 'your': 4991, 'video': 4732, 'store': 4202, 'dont': 1323, 'fooled': 1779, 'story': 4205, 'also': 199, 'people': 3221, 'pushed': 3478, 'oh': 3095, 'distant': 1294, 'light': 2593, 'if': 2221, 'expect': 1575, 'evil': 1548, 'dead': 1133, 'stay': 4164, 'away': 368, 'dig': 1249, 'points': 3319, 'suspense': 4328, 'genres': 1888, 'check': 778, 'yes': 4982, 'bruce': 602, 'campbell': 664, 'produce': 3413, 'sure': 4306, 'proud': 3444, 'anyone': 258, 'never': 3000, 'tried': 4583, 'bank': 393, 'on': 3104, 'image': 2232, 'obvious': 3070, 'involved': 2345, 'could': 1008, 'do': 1301, 'either': 1438, 'advice': 133, 'though': 4460, 'anything': 259, 'mr': 2928, 'anyway': 260, 'see': 3853, 'else': 1448, 'are': 284, 'trying': 4600, 'acting': 99, 'done': 1321, 'although': 201, 'oscar': 3132, 'caliber': 650, 'perhaps': 3235, 'intentionally': 2319, 'performances': 3229, 'often': 3094, 'actors': 104, 'such': 4266, 'these': 4440, 'even': 1533, 'seem': 3859, 'seemed': 3860, 'took': 4522, 'very': 4722, 'seriously': 3890, 'typical': 4622, 'technically': 4381, 'competent': 918, 'editing': 1421, 'cinematography': 821, 'given': 1912, 'budget': 610, 'keeps': 2450, 'quick': 3490, 'pace': 3160, 'without': 4913, 'down': 1334, 'bad': 381, 'anti': 253, 'have': 2051, 'look': 2644, 'those': 4459, 'multi': 2934, 'million': 2847, 'dollar': 1313, 'personally': 3243, 'problem': 3408, 'folks': 1770, 'actually': 109, 'care': 685, 'medium': 2791, 'reached': 3537, 'broke': 593, 'ass': 322, 'pulled': 3462, 'threw': 4469, 'wind': 4893, 'made': 2695, 'damn': 1101, 'worst': 4952, 'ever': 1538, 'script': 3832, 'location': 2633, 'everything': 1544, 'would': 4957, 'little': 2622, 'chance': 748, 'were': 4847, 'attractive': 350, 'women': 4923, 'think': 4451, 'word': 4937, 'beach': 418, 'title': 4503, 'looking': 2646, 'wouldnt': 4958, 'wow': 4962, 'been': 437, 'tied': 4488, 'thinking': 4452, 'cool': 990, 'going': 1930, 'flash': 1744, 'back': 377, 'starts': 4157, 'kid': 2463, 'filming': 1717, 'probably': 3407, 'better': 471, 'wasnt': 4806, 'mean': 2778, 'mostly': 2909, 'horrible': 2162, 'lines': 2610, 'poor': 3328, 'had': 2002, 'deal': 1136, 'guess': 1988, 'best': 468, 'ruin': 3748, 'twins': 4615, 'only': 3109, 'skills': 4011, 'drags': 1344, 'supposed': 4304, 'shocking': 3938, 'conclusion': 937, 'seen': 3863, 'worse': 4951, 'low': 2674, 'movies': 2926, 'considering': 953, 'hype': 2206, 'die': 1242, 'disappointed': 1272, 'way': 4819, 'reviewers': 3676, 'stuff': 4241, 'same': 3776, 'eight': 1436, 'far': 1653, 'trio': 4586, 'tales': 4355, 'thing': 4449, 'called': 653, 'taylor': 4370, 'inside': 2296, 'themselves': 4434, 'unknown': 4667, 'left': 2559, 'bit': 488, 'damage': 1100, 'id': 2211, 'many': 2731, 'later': 2523, 'still': 4186, 'right': 3694, 'itself': 2370, 'tells': 4396, 'tale': 4351, 'woman': 4921, 'whose': 4876, 'husband': 2203, 'died': 1243, 'fact': 1621, 'torn': 4527, 'apart': 263, 'suspect': 4325, 'man': 2719, 'existed': 1570, 'seems': 3862, 'able': 66, 'project': 3427, 'inner': 2291, 'demon': 1177, 'sister': 3998, 'when': 4861, 'attempts': 342, 'talk': 4356, 'while': 4867, 'reporter': 3635, 'wants': 4790, 'jump': 2428, 'skin': 4012, 'speed': 4100, 'freak': 1823, 'sent': 3878, 'psychiatrist': 3455, 'happens': 2028, 'former': 1799, 'member': 2799, 'results': 3660, 'doctor': 1303, 'helping': 2080, 'realize': 3552, 'desire': 1204, 'segments': 3866, 'part': 3193, 'lets': 2578, 'loose': 2648, 'kind': 2475, 'lived': 2624, 'wonders': 4931, 'because': 431, 'survive': 4319, 'longer': 2643, 'creepy': 1053, 'suspenseful': 4329, 'youre': 4992, 'premise': 3370, 'settings': 3899, 'unlike': 4669, 'conventional': 980, 'adds': 119, 'sort': 4074, 'feel': 1683, 'manages': 2723, 'atmosphere': 332, 'throughout': 4477, 'much': 2933, 'credit': 1050, 'mouth': 2919, 'hanging': 2022, 'open': 3111, 'portion': 3338, 'time': 4494, 'scares': 3804, 'came': 657, 'hit': 2121, 'hard': 2032, 'found': 1810, 'interesting': 2324, 'disturbing': 1299, 'give': 1911, 'theaters': 4427, 'does': 1307, 'deserve': 1198, 'prequel': 3372, 'tag': 4346, 'instead': 2306, 'common': 907, 'theme': 4432, 'rip': 3698, 'previously': 3388, 'sequels': 3884, 'etc': 1527, 'plot': 3309, 'ball': 387, 'character': 759, 'development': 1224, 'non': 3026, 'existent': 1572, 'felt': 1691, 'comedy': 891, 'needs': 2989, 'stop': 4199, 'laugh': 2527, 'looks': 2647, 'excellent': 1555, 'brought': 600, 'enjoyment': 1488, 'big': 477, 'fan': 1648, 'recommend': 3571, 'then': 4435, 'treat': 4571, 'ripped': 3699, 'original': 3128, 'exactly': 1551, 'level': 2582, 'ring': 3696, 'japanese': 2381, 'flick': 1753, 'nonetheless': 3028, 'wish': 4904, 'north': 3035, 'american': 213, 'producers': 3416, 'take': 4347, 'page': 3166, 'put': 3480, 'less': 2573, 'cheap': 775, 'flicks': 1754, 'lots': 2660, 'examples': 1554, 'scenes': 3809, 'face': 1616, 'scene': 3807, 'staring': 4150, 'behind': 446, 'actress': 105, 'wall': 4780, 'suddenly': 4271, 'smiling': 4034, 'second': 3844, 'worth': 4953, 'checking': 779, 'genre': 1887, 'earth': 1402, 'screen': 3827, 'adaptation': 113, 'bbc': 416, 'discovery': 1281, 'channel': 754, 'series': 3888, 'planet': 3289, 'offers': 3089, 'quite': 3495, 'nature': 2974, 'beauty': 429, 'truly': 4596, 'jaw': 2383, 'dropping': 1370, 'moments': 2887, 'how': 2180, 'hell': 2076, 'footage': 1781, 'taking': 4350, 'awesome': 370, 'animals': 239, 'natural': 2972, 'message': 2818, 'circle': 822, 'life': 2590, 'cruel': 1071, 'witness': 4914, 'great': 1963, 'white': 4869, 'shark': 3919, 'adorable': 124, 'various': 4714, 'narrator': 2966, 'james': 2377, 'earl': 1397, 'jones': 2417, 'gods': 1927, 'eye': 1611, 'views': 4741, 'literally': 2620, 'hundreds': 2195, 'hours': 2176, 'format': 1798, 'couldve': 1010, 'theres': 4439, 'always': 203, 'since': 3987, 'disney': 1288, 'studios': 4239, 'produced': 3414, 'count': 1011, 'come': 887, 'mark': 2738, 'funniest': 1850, 'don': 1319, 'understand': 4642, 'critics': 1065, 'funny': 1851, 'sweet': 4334, '11': 2, 'fell': 1689, 'days': 1131, 'got': 1943, 'vhs': 4724, 'till': 4492, 'today': 4507, 'shown': 3957, 'nobody': 3021, 'knew': 2485, 'before': 439, 'nearly': 2980, 'knows': 2492, 'potential': 3355, 'monsters': 2892, 'enough': 1491, 'wanted': 4788, 'want': 4787, 'mad': 2694, 'painfully': 3171, 'predictable': 3367, 'twenty': 4611, 'sidney': 3965, 'lumet': 2686, 'garbo': 1870, 'talks': 4359, 'quality': 3484, 'quest': 3486, 'working': 4944, 'named': 2960, 'ron': 3732, 'silver': 3974, 'son': 4067, 'anne': 245, 'eccentric': 1413, 'above': 68, 'becomes': 433, 'brain': 562, 'decides': 1150, 'go': 1923, 'track': 4543, 'bring': 585, 'mother': 2910, 'full': 1845, 'scenery': 3808, 'loves': 2672, 'stands': 4145, 'ends': 1474, 'jail': 2375, 'outside': 3145, 'artificial': 305, 'lame': 2509, 'note': 3043, 'striking': 4224, 'false': 1641, 'rest': 3656, 'characters': 761, 'equally': 1510, 'dimensional': 1252, 'flat': 1747, 'attempted': 340, 'dating': 1121, 'lisa': 2614, 'carrie': 698, 'fisher': 1738, 'co': 868, 'worker': 4942, 'jane': 2379, 'catherine': 720, 'happen': 2025, 'other': 3134, 'intriguing': 2334, 'captivating': 676, 'simply': 3983, 'material': 2765, 'absolutely': 72, 'begin': 441, 'follow': 1771, 'both': 547, 'uninteresting': 4659, 'plenty': 3307, 'guest': 1991, 'stars': 4153, 'speak': 4091, 'including': 2263, 'harvey': 2041, 'gay': 1875, 'imagine': 2237, 'yet': 4984, 'another': 249, 'highly': 2104, 'halfway': 2007, 'decent': 1147, 'statement': 4160, 'role': 3724, 'our': 3138, 'lives': 2626, 'none': 3027, 'bored': 541, 'case': 708, 'too': 4521, 'directed': 1258, 'making': 2716, 'him': 2109, 'easily': 1405, 'most': 2908, 'viewed': 4736, 'misses': 2868, 'stranger': 4211, 'among': 217, 'us': 4689, 'hasnt': 2043, 'grade': 1950, '45': 50, '24': 39, '1984': 23, '25': 40, 'friend': 1834, 'clearly': 841, 'taste': 4367, 'class': 834, 'suggested': 4279, 'work': 4940, 'amateurish': 207, 'self': 3867, 'angry': 237, 'filmmaker': 1718, 'bunch': 624, 'nudity': 3058, 'single': 3993, 'element': 1442, 'possibly': 3351, 'save': 3792, 'lighting': 2594, 'appalling': 267, 'dialog': 1231, 'direction': 1260, 'saw': 3796, 'exploitation': 1592, 'filmmakers': 1719, 'during': 1386, 'recent': 3566, 'featured': 1679, 'spoke': 4123, 'something': 4063, 'important': 2246, 'viewing': 4739, 'whatsoever': 4860, 'style': 4247, 'effects': 1431, 'fun': 1847, 'avoid': 362, 'smith': 4035, 'ben': 462, 'thomas': 4457, 'collection': 875, 'agent': 150, 'meeting': 2793, 'gotten': 1946, 'caused': 725, 'deaths': 1143, 'whilst': 4868, 'driving': 1367, 'phone': 3255, 'follows': 1774, 'attempt': 339, 'frankly': 1822, 'crime': 1056, 'line': 2608, 'subtle': 4258, 'green': 1970, 'house': 2177, 'window': 4894, 'happening': 2027, 'ending': 1471, 'titanic': 4502, 'surprising': 4313, 'compared': 913, 'twist': 4616, 'confusion': 944, 'doubt': 1331, 'normally': 3033, 'boys': 559, 'guy': 1999, 'gun': 1995, 'ford': 1788, 'saying': 3798, 'whenever': 4862, 'tries': 4584, 'act': 97, 'serious': 3889, 'pathetic': 3210, 'gain': 1862, 'obviously': 3071, 'desperate': 1207, 'main': 2705, 'reason': 3557, 'forward': 1807, 'understated': 4645, 'performance': 3228, 'alone': 194, 'fantastic': 1651, 'ironically': 2355, 'nominated': 3024, 'major': 2709, 'award': 365, 'supporting': 4302, 'cast': 711, 'grand': 1952, 'dawson': 1129, 'looked': 2645, 'door': 1327, 'whole': 4872, 'woody': 4936, 'barry': 400, 'fine': 1728, 'players': 3299, 'throwing': 4479, 'usual': 4698, 'clichés': 847, 'sentimental': 3880, 'choice': 798, 'cry': 1074, 'few': 1699, 'times': 4496, 'heart': 2063, 'situations': 4006, 'relate': 3592, 'moves': 2924, 'onto': 3110, 'desperation': 1209, 'pursuit': 3476, 'happiness': 2030, 'remember': 3615, 'seeing': 3855, 're': 3535, 'runs': 3755, 'americas': 215, 'home': 2141, 'videos': 4733, 'bob': 524, 'mom': 2885, 'lucky': 2681, 'family': 1645, 'yourself': 4993, 'hang': 2021, 'places': 3284, 'maybe': 2775, 'join': 2411, 'sing': 3989, 'kids': 2466, 'adults': 126, 'ages': 152, 'parts': 3199, 'meant': 2783, 'enjoy': 1484, 'matter': 2768, 'cheesy': 782, 'definitely': 1162, 'conspiracy': 957, 'bargain': 399, 'bin': 482, 'thought': 4461, 'lost': 2658, 'treasure': 4570, 'hear': 2060, 'pacing': 3162, 'slow': 4028, 'plain': 3286, 'cold': 873, 'leaves': 2554, 'sean': 3838, 'source': 4083, 'community': 909, 'stand': 4141, 'scream': 3824, 'worlds': 4947, 'media': 2788, 'notice': 3047, 'stuck': 4235, 'producing': 3417, 'basic': 405, 'version': 4719, 'eventually': 1537, 'player': 3298, 'classic': 836, 'failed': 1626, 'box': 555, 'managed': 2721, 'run': 3753, 'spread': 4131, 'normal': 3032, 'cant': 672, 'beautiful': 427, 'soundtrack': 4082, 'superb': 4294, 'masterful': 2757, 'camera': 660, 'flawless': 1750, 'two': 4619, 'moved': 2921, 'actual': 108, 'animation': 241, 'except': 1556, 'dancing': 1108, 'totally': 4531, 'alive': 186, 'animated': 240, 'poorly': 3329, 'wondering': 4930, 'games': 1864, 'market': 2739, 'cut': 1090, 'realism': 3549, 'frame': 1814, 'neither': 2995, 'moving': 2927, 'havent': 2052, 'recommended': 3572, 'reputation': 3639, 'fantasy': 1652, 'tragedy': 4550, 'sits': 4003, 'last': 2519, 'month': 2895, 'free': 1826, 'sneak': 4040, 'preview': 3386, 'walked': 4775, 'process': 3412, 'choices': 799, 'past': 3207, 'couldnt': 1009, 'wrong': 4973, 'hoping': 2159, 'release': 3601, 'aspect': 320, 'turned': 4605, 'waste': 4807, 'innovative': 2294, 'creative': 1042, 'shots': 3948, 'ideas': 2214, 'together': 4510, 'need': 2986, 'display': 1290, 'opinions': 3118, 'warn': 4796, 'everyone': 1542, 'imdb': 2239, 'spoilers': 4122, 'claim': 829, 'born': 544, 'killers': 2470, 'brilliant': 583, 'criticism': 1064, 'obsession': 3069, 'violence': 4746, 'content': 967, 'oliver': 3101, 'stone': 4195, 'serial': 3887, 'vicious': 4727, 'innocent': 2293, 'portrays': 3344, 'someone': 4061, 'deserved': 1199, 'hurt': 2201, 'engaging': 1481, 'presents': 3377, 'unpleasant': 4673, 'dumb': 1384, 'broken': 594, 'english': 1483, 'speaking': 4092, 'lazy': 2541, 'fat': 1663, 'person': 3238, 'stereotype': 4176, 'old': 3099, 'indian': 2273, 'theyre': 4444, 'dude': 1380, 'chinese': 797, 'mickey': 2831, 'sexy': 3909, 'surreal': 4315, 'visuals': 4758, 'bound': 553, 'justice': 2437, 'police': 3322, 'prison': 3401, 'portrayed': 3342, 'brutal': 603, 'ugly': 4624, 'again': 146, 'within': 4912, 'reality': 3551, 'subtlety': 4259, 'says': 3799, 'specific': 4096, 'proof': 3434, 'fails': 1628, 'lies': 2589, 'world': 4946, 'reactions': 3542, 'inspiration': 2299, 'committed': 906, 'failure': 1629, 'opposite': 3122, 'horrendous': 2161, 'nowhere': 3055, 'five': 1742, 'parents': 3188, 'regular': 3591, 'cartoon': 705, 'bullets': 622, 'started': 4155, 'flying': 1763, 'agree': 155, 'upset': 4686, 'set': 3896, 'truth': 4598, 'deep': 1154, 'likes': 2600, 'cult': 1078, 'classics': 838, 'cat': 714, 'nine': 3016, 'correct': 1001, 'ralph': 3510, 'involves': 2347, 'rented': 3627, 'offensive': 3085, 'era': 1513, 'street': 4214, 'fighter': 1707, 'starring': 4152, 'brad': 560, 'pitt': 3280, 'heavy': 2069, 'dealt': 1139, 'pop': 3330, 'tape': 4363, 'youll': 4988, 'screening': 3828, '2006': 36, 'theatre': 4428, 'international': 2325, 'festival': 1696, 'china': 796, 'sell': 3869, 'interviews': 2329, 'human': 2187, 'frequently': 1831, 'doing': 1311, 'due': 1381, 'bits': 490, 'high': 2099, 'estate': 1525, 'around': 296, 'showing': 3956, 'mansion': 2730, 'others': 3135, 'living': 2627, 'opening': 3113, 'factory': 1623, 'floor': 1758, 'feature': 1678, 'documentary': 1306, 'built': 619, 'subject': 4251, 'jennifer': 2391, 'producer': 3415, 'nick': 3011, 'de': 1132, 'cinematographer': 820, 'peter': 3247, 'edward': 1426, 'stage': 4137, 'introduced': 2336, 'key': 2457, 'ground': 1978, 'access': 83, 'huge': 2184, 'author': 358, 'am': 204, 'jim': 2401, 'works': 4945, 'scott': 3822, 'rendition': 3624, 'dark': 1116, 'sexually': 3908, 'noir': 3022, 'closely': 856, 'text': 4418, 'jason': 2382, 'patrick': 3213, 'rachel': 3500, 'ward': 4792, 'careers': 688, 'might': 2835, 'book': 535, 'creates': 1039, 'passion': 3205, 'logic': 2636, 'double': 1330, 'cross': 1067, 'hand': 2014, 'must': 2949, 'fans': 1650, 'thru': 4482, 'weeks': 4838, 'town': 4540, 'valley': 4706, 'forget': 1792, 'tedious': 4386, 'road': 3707, 'live': 2623, 'include': 2260, 'chase': 770, 'included': 2261, 'moon': 2899, 'drive': 1362, 'empire': 1464, 'production': 3419, 'jeffrey': 2390, 'matt': 2767, 'joke': 2413, 'bigger': 478, 'regarding': 3588, 'notes': 3045, 'bar': 395, 'name': 2959, 'welcome': 4841, 'square': 4134, 'turn': 4604, 'early': 1399, 'violent': 4747, 'rebel': 3561, 'derek': 1191, 'luke': 2685, 'navy': 2975, 'dr': 1339, 'denzel': 1181, 'washington': 4805, 'against': 147, 'superior': 4298, 'beginning': 442, 'treatment': 4573, 'confidence': 939, 'childhood': 791, 'revealing': 3670, 'painful': 3170, 'generated': 1881, 'foster': 1808, 'meanwhile': 2784, 'meets': 2794, 'joy': 2421, 'each': 1394, 'personal': 3240, 'problems': 3409, 'true': 4595, 'touching': 4535, 'positive': 3346, 'sensitive': 3877, 'child': 790, 'abuse': 74, 'hands': 2019, 'vote': 4765, 'brazil': 568, 'returning': 3665, 'ran': 3513, 'school': 3811, 'teachers': 4374, '35': 45, 'teaching': 4375, 'lead': 2543, 'believe': 453, 'satire': 3786, 'closer': 857, 'students': 4237, 'situation': 4005, 'remind': 3617, 'schools': 3812, 'student': 4236, 'repeatedly': 3631, 'burn': 626, 'immediately': 2241, 'inspector': 2298, 'fetched': 1697, 'pity': 3281, 'spoiler': 4121, 'memorable': 2801, 'smoking': 4037, 'kitchen': 2484, 'lights': 2595, 'perfect': 3224, 'beat': 422, 'loads': 2631, 'properly': 3437, 'alas': 172, 'began': 440, 'lose': 2652, 'faith': 1633, 'half': 2006, 'proceedings': 3410, 'occurred': 3076, 'duo': 1385, 'obnoxious': 3066, 'appreciate': 278, 'relative': 3598, 'contemporary': 966, 'prefer': 3368, 'company': 911, 'fit': 1739, 'viewers': 4738, 'minded': 2850, 'notable': 3040, 'appearance': 273, 'paul': 3214, 'pre': 3365, 'form': 1797, 'having': 2053, 'read': 3543, 'reviews': 3677, 'mind': 2849, 'however': 2182, 'majority': 2710, 'said': 3772, 'complicated': 926, 'leave': 2553, 'confused': 942, 'ties': 4489, 'kicking': 2461, 'youve': 4995, 'missed': 2867, 'stock': 4191, 'intelligent': 2313, 'different': 1247, 'spends': 4104, 'minutes': 2859, 'himself': 2110, 'similar': 3975, 'mentioned': 2810, 'specifically': 4097, 'gives': 1913, 'ray': 3533, 'afterwards': 145, 'start': 4154, 'symbolism': 4339, 'hints': 2112, 'laid': 2507, 'top': 4524, 'game': 1863, 'cage': 646, 'buddy': 609, 'action': 100, 'thanks': 4422, 'large': 2515, 'weapon': 4827, 'brown': 601, 'lou': 2661, 'local': 2632, 'takes': 4349, 'saved': 3793, 'now': 3053, 'soft': 4048, 'throw': 4478, 'wait': 4769, 'crash': 1034, 'leaving': 2555, 'until': 4679, 'thugs': 4483, 'picture': 3269, 'plan': 3287, 'went': 4846, 'core': 996, 'tone': 4516, 'worked': 4941, 'doesnt': 1308, 'holding': 2129, 'bag': 383, 'elements': 1443, 'luck': 2679, 'actresses': 106, 'used': 4692, 'concept': 931, 'created': 1038, 'appeal': 270, 'baby': 375, '20': 29, '30': 42, '90s': 61, 'black': 493, 'listen': 2617, 'rock': 3718, 'music': 2945, 'bands': 391, 'enemy': 1477, '60s': 54, 'biggest': 479, 'period': 3236, 'pieces': 3273, 'buy': 641, 'certain': 738, 'arent': 287, 'whatever': 4858, 'decade': 1145, 'weight': 4839, 'strong': 4227, 'fred': 1824, 'astaire': 329, 'ginger': 1907, 'rogers': 3723, 'screenplay': 3829, 'exceptionally': 1559, 'mediocre': 2790, 'play': 3296, 'baker': 384, 'martin': 2747, 'dancers': 1106, 'professional': 3421, 'ended': 1470, 'joined': 2412, 'meet': 2792, 'relationship': 3596, 'entertaining': 1499, 'comic': 894, 'subplot': 4253, 'father': 1666, 'rather': 3528, 'charming': 769, 'exceptional': 1558, 'berlin': 466, 'score': 3820, 'chances': 749, 'talents': 4354, 'sea': 3836, 'band': 390, 'sings': 3994, 'dances': 1107, 'suit': 4282, 'catchy': 718, 'let': 2577, 'solo': 4055, 'tap': 4362, 'dance': 1104, 'tune': 4601, 'silly': 3973, 'win': 4892, 'contest': 968, 'routine': 3741, 'putting': 3482, 'number': 3059, 'choreography': 803, 'effect': 1428, 'finally': 1723, 'figures': 1712, 'evening': 1534, 'clothes': 861, 'romantic': 3731, 'contrived': 977, 'song': 4068, 'things': 4450, 'wrote': 4974, 'reminiscent': 3620, 'cole': 874, 'matches': 2763, 'sit': 4000, 'dialogue': 1233, 'necessary': 2983, 'rarely': 3524, 'musical': 2946, 'numbers': 3060, 'songs': 4069, 'western': 4852, 'concerned': 933, 'jimmy': 2402, 'stewart': 4182, 'gold': 1931, 'sheriff': 3927, 'john': 2408, 'giving': 1914, 'wonderfully': 4929, 'whom': 4874, 'unfortunately': 4653, 'ruth': 3761, 'roman': 3729, 'instance': 2303, 'jay': 2385, 'walter': 4783, 'plays': 3301, 'builds': 618, 'front': 1840, 'restaurant': 3657, 'business': 634, 'anthony': 252, 'mann': 2727, 'naked': 2958, 'country': 1015, 'contains': 965, 'special': 4094, 'feeling': 1684, 'landscape': 2511, 'gorgeous': 1941, 'equal': 1509, 'success': 4263, 'suppose': 4303, 'considered': 952, 'cliche': 844, 'selfish': 3868, 'learns': 2551, 'existence': 1571, 'addition': 118, 'ive': 2371, 'french': 1829, 'ought': 3137, 'playing': 3300, 'humanity': 2188, 'cynical': 1094, 'written': 4972, 'masterpiece': 2758, 'dire': 1256, 'canadian': 668, 'german': 1895, 'wonderful': 4928, 'daughter': 1122, 'term': 4404, 'prior': 3400, 'murdered': 2939, 'shes': 3928, 'devoted': 1230, 'threat': 4466, 'bond': 532, 'delivers': 1172, 'terrible': 4406, 'incoherent': 2264, 'useless': 4694, 'displays': 1292, 'help': 2078, 'scary': 3805, 'almost': 193, 'completely': 923, 'amusing': 221, 'mention': 2809, 'convince': 984, 'miss': 2866, 'worthy': 4956, 'particularly': 3195, 'reasons': 3560, 'hour': 2175, 'murder': 2938, 'short': 3944, 'productions': 3420, 'known': 2491, 'definite': 1161, 'filmed': 1716, 'relatively': 3599, 'small': 4030, '60': 53, 'fox': 1813, 'blue': 518, 'sky': 4014, 'incredible': 2268, 'job': 2404, 'combined': 886, 'state': 4158, 'art': 303, 'digital': 1250, 'perfectly': 3226, 'voice': 4760, 'dennis': 1179, 'create': 1037, 'friendship': 1837, 'caring': 692, 'fellow': 1690, 'members': 2800, 'sometimes': 4064, 'creatures': 1047, 'political': 3324, 'getting': 1900, 'along': 195, 'share': 3918, 'space': 4087, 'required': 3640, 'david': 1125, 'provides': 3450, 'serves': 3893, 'move': 2920, 'strangely': 4210, 'believable': 452, 'snow': 4042, 'rocks': 3720, 'ice': 2209, 'individual': 2276, 'facial': 1619, 'expressions': 1603, 'particular': 3194, 'entire': 1502, 'sequence': 3885, 'expression': 1602, 'children': 793, 'theater': 4426, 'tired': 4500, 'model': 2880, 'vs': 4766, '1970s': 16, 'miserably': 2864, 'near': 2978, 'eating': 1412, 'decades': 1146, 'adapted': 114, 'fatal': 1664, 'tiny': 4499, 'ludicrous': 2683, 'boy': 557, 'attacked': 337, 'crying': 1075, 'bed': 435, 'robert': 3711, 'george': 1892, 'leg': 2560, 'list': 2615, 'walls': 4782, 'paper': 3183, 'hope': 2154, 'use': 4691, 'money': 2888, 'watchable': 4811, 'seventies': 3902, 'qualities': 3483, 'embarrassing': 1454, 'tv': 4609, 'vengeance': 4718, 'push': 3477, 'pile': 3275, 'affected': 137, 'dreadful': 1352, 'review': 3674, 'synopsis': 4342, 'hamlet': 2012, 'goodness': 1937, 'sake': 3773, 'embarrassed': 1453, 'admit': 122, 'mystery': 2955, '3000': 43, 'judge': 2423, 'cannot': 671, 'attempting': 341, 'comedic': 889, 'dreary': 1355, 'depressing': 1187, 'spend': 4102, 'entertainment': 1500, 'reasonably': 3559, 'sounds': 4081, 'mst3k': 2931, 'comments': 902, 'shakespeare': 3913, 'allow': 189, 'flow': 1761, 'rating': 3529, 'scale': 3800, 'legendary': 2563, 'hero': 2087, 'rob': 3708, 'roy': 3743, 'battles': 414, 'historical': 2118, 'despite': 1210, 'primarily': 3393, 'fictional': 1702, 'rate': 3526, 'choose': 800, 'between': 474, '13': 4, 'century': 737, 'william': 4886, 'wallace': 4781, 'noted': 3044, 'larger': 2517, 'national': 2969, 'figure': 1710, 'ordinary': 3127, 'revolves': 3680, 'scottish': 3823, 'wife': 4883, 'mary': 2750, 'sons': 4070, 'begins': 443, 'hunting': 2200, 'stolen': 4193, 'wishes': 4906, 'improve': 2253, 'thousand': 4464, 'noble': 3020, 'order': 3125, 'alan': 171, 'missing': 2869, 'conflict': 940, 'sleazy': 4020, 'factor': 1622, 'seeks': 3858, 'involve': 2344, 'rival': 3704, 'duke': 1382, 'charismatic': 764, 'albeit': 173, 'irish': 2352, 'adding': 117, 'average': 361, 'viewer': 4737, 'honest': 2145, 'loving': 2673, 'loyal': 2677, 'accused': 91, 'tim': 4493, 'surely': 4307, 'sadistic': 3766, 'cinematic': 819, 'villains': 4744, 'ruthless': 3762, 'whether': 4865, 'willing': 4889, 'otherwise': 3136, 'constantly': 959, 'unaware': 4631, 'fathers': 1667, 'identity': 2216, 'rape': 3521, 'aside': 314, 'betty': 473, 'pregnant': 3369, 'suicide': 4281, 'arrogant': 302, 'essentially': 1523, 'beautifully': 428, 'passionate': 3206, 'question': 3487, 'presence': 3373, 'marriage': 2742, 'pair': 3175, 'cinema': 817, 'compelling': 917, 'jessica': 2397, 'lacking': 2503, 'brings': 587, 'courage': 1019, 'dignity': 1251, 'brutally': 604, 'raped': 3522, 'disgusting': 1285, 'spoken': 4124, 'filled': 1714, 'pride': 3391, 'grace': 1949, 'showed': 3954, 'reveal': 3668, 'pain': 3169, 'intended': 2314, 'emotional': 1459, 'further': 1852, 'features': 1680, 'costumes': 1007, 'appropriate': 282, 'battle': 413, 'gripping': 1975, 'sword': 4338, 'fight': 1706, 'featuring': 1681, 'tense': 4402, 'tommy': 4515, 'christmas': 811, 'screams': 3826, 'wizard': 4919, 'crowd': 1068, 'mirror': 2861, 'gonna': 1935, 'listening': 2618, 'deliver': 1169, 'least': 2552, 'cameras': 661, 'rare': 3523, 'happy': 2031, 'sound': 4078, 'dvd': 1390, 'possible': 3350, 'impressive': 2252, 'pictures': 3270, 'soul': 4076, 'whos': 4875, 'singing': 3992, '1980': 20, 'won': 4925, 'disappeared': 1270, 'shame': 3916, 'ridiculous': 3691, 'extremely': 1610, 'handful': 2016, 'comedies': 890, 'match': 2761, 'originality': 3129, 'distance': 1293, 'describe': 1193, 'princess': 3397, 'bride': 577, 'favorite': 1671, 'test': 4415, 'side': 3962, 'price': 3389, 'adventure': 130, 'romance': 3730, 'placed': 3283, 'date': 1119, 'deserves': 1200, 'office': 3090, 'joan': 2403, 'burns': 629, 'allen': 188, 'british': 589, 'mistaken': 2872, 'star': 4148, 'stevens': 4181, 'stiff': 4185, 'upper': 4684, 'secretary': 3848, 'hilarious': 2105, 'pointed': 3317, 'trees': 4576, 'lousy': 2665, 'flaws': 1751, 'baseball': 402, 'contrary': 975, 'sports': 4128, 'authentic': 357, 'angels': 233, 'category': 719, 'succeeds': 4262, 'latter': 2526, 'roger': 3722, 'franchise': 1816, 'struggling': 4234, 'draw': 1348, 'promise': 3430, 'asks': 318, 'diamond': 1235, 'spirits': 4112, 'manager': 2722, 'danny': 1113, 'glover': 1922, 'believing': 456, 'sees': 3864, 'team': 4376, 'turning': 4607, 'tony': 4520, 'zero': 4996, 'idea': 2212, 'pitch': 3279, 'invisible': 2343, 'everybody': 1540, 'gotta': 1945, 'reminds': 3619, 'effective': 1429, 'shooting': 3941, 'roles': 3725, 'victor': 4730, 'vincent': 4745, 'shines': 3930, 'unbelievable': 4633, 'actor': 103, 'grave': 1961, 'signed': 3968, 'complain': 920, 'stopped': 4200, 'wes': 4850, 'craven': 1035, 'hey': 2094, 'blockbuster': 509, 'forever': 1791, 'junk': 2435, 'sam': 3775, 'spare': 4090, 'effort': 1432, 'grim': 1973, '30s': 44, 'gangster': 1867, 'melodrama': 2796, 'godfather': 1926, 'taken': 4348, 'extraordinary': 1607, 'technical': 4380, 'cousin': 1022, 'terms': 4405, 'experience': 1580, 'reading': 3544, 'involving': 2348, 'tom': 4513, 'hanks': 2024, 'boss': 546, 'elderly': 1440, 'mob': 2879, 'leader': 2544, 'handed': 2015, 'room': 3733, 'enterprise': 1495, 'carefully': 690, 'delivered': 1170, 'air': 164, 'hence': 2082, 'amount': 219, 'devoid': 1229, 'humor': 2191, 'edited': 1420, 'montage': 2893, 'doom': 1325, 'highest': 2101, 'praise': 3364, 'stunning': 4242, 'indeed': 2270, 'photographed': 3258, 'designed': 1202, 'veteran': 4723, 'hall': 2008, 'likely': 2599, 'sets': 3897, 'continues': 972, 'vivid': 4759, 'color': 878, 'dramatic': 1347, 'red': 3576, 'blacks': 494, 'blues': 519, 'scheme': 3810, 'notch': 3042, 'daniel': 1112, 'craig': 1031, 'spoiled': 4120, 'law': 2536, 'importantly': 2247, 'riveting': 3706, 'seat': 3843, 'heard': 2061, 'academy': 77, 'easy': 1409, 'photography': 3260, 'incredibly': 2269, 'accident': 84, 'clear': 840, 'grandfather': 1953, 'fairy': 1632, 'contain': 963, 'interest': 2322, 'concerns': 935, 'magical': 2702, 'dying': 1392, 'girlfriend': 1909, 'seconds': 3846, 'moral': 2901, 'metaphor': 2823, 'released': 3602, 'year': 4978, 'ritter': 3703, 'kelly': 2451, 'married': 2743, 'writing': 4971, 'sadly': 3767, 'change': 750, 'uncomfortable': 4636, 'handled': 2018, 'lasted': 2520, 'ed': 1414, 'spot': 4129, 'horrific': 2165, 'stereotypes': 4177, 'fx': 1857, 'remarkable': 3612, 'officer': 3091, 'please': 3304, 'drunk': 1374, 'trash': 4564, 'bette': 470, 'concert': 936, 'laughing': 2531, 'jokes': 2414, 'antics': 254, 'eyes': 1613, 'tremendous': 4578, 'changed': 751, 'power': 3359, 'loses': 2655, 'spirit': 4110, 'rose': 3737, 'madness': 2696, 'pure': 3471, 'chose': 805, 'opened': 3112, 'france': 1815, 'myself': 2952, 'reflect': 3584, 'happened': 2026, 'previous': 3387, 'thoughts': 4463, 'emotions': 1461, 'intellectual': 2311, 'nor': 3031, 'jerk': 2394, 'regard': 3587, 'noise': 3023, 'segment': 3865, 'voices': 4762, 'fair': 1630, 'seeking': 3857, 'attack': 336, 'held': 2073, 'warm': 4793, 'ghost': 1901, 'directors': 1265, 'intense': 2315, 'sadness': 3768, 'upon': 4683, 'hearing': 2062, 'thoughtful': 4462, 'inspiring': 2301, 'effectively': 1430, 'muslim': 2948, 'wake': 4773, 'loud': 2662, 'simple': 3980, 'critic': 1062, 'expected': 1577, 'brave': 567, 'warning': 4799, 'reviewer': 3675, 'below': 461, 'falling': 1639, 'loss': 2657, 'recognize': 3569, 'mans': 2729, 'smoke': 4036, 'richard': 3684, 'brooks': 596, 'realistic': 3550, 'killing': 2471, 'focused': 1766, 'subjects': 4252, 'approach': 281, 'favor': 1670, 'locations': 2634, 'souls': 4077, 'blunt': 520, 'wilson': 4891, 'blake': 498, 'sellers': 3870, 'laurel': 2535, 'prisoner': 3402, 'makeup': 2715, 'fu': 1843, 'exception': 1557, 'constant': 958, 'references': 3583, 'bright': 581, 'motion': 2912, 'portray': 3340, 'asian': 313, 'surprisingly': 4314, 'bang': 392, 'elvis': 1451, 'helen': 2074, 'tall': 4360, 'thin': 4448, 'nervous': 2998, 'pants': 3182, 'wet': 4854, 'add': 115, 'affair': 135, 'eerie': 1427, 'comics': 896, 'forbidden': 1784, 'influence': 2285, 'wide': 4879, 'aimed': 162, 'mid': 2832, 'dated': 1120, 'central': 736, 'civilization': 828, 'continue': 970, 'relevant': 3603, 'interested': 2323, 'current': 1085, 'edition': 1422, 'dolls': 1315, 'remake': 3611, 'forty': 1806, 'ago': 154, 'capture': 677, 'magic': 2701, 'energy': 1478, 'brando': 566, 'york': 4985, 'frank': 1820, 'sinatra': 3986, 'crap': 1032, 'city': 826, 'famous': 1647, 'hold': 2128, 'sarah': 3783, 'jean': 2388, 'simmons': 3978, 'basically': 406, 'types': 4621, 'broadway': 592, 'werent': 4848, 'uneven': 4648, 'thirty': 4455, 'rated': 3527, 'ill': 2227, 'history': 2120, 'erotic': 1515, 'neck': 2984, 'kept': 2455, 'recently': 3567, 'enjoyed': 1486, 'bo': 521, 'sexual': 3906, 'inept': 2280, 'harris': 2037, 'obsessed': 3068, 'philip': 3252, 'barely': 398, 'initial': 2289, 'herself': 2091, 'miles': 2843, 'silent': 3972, 'johnny': 2409, 'furthermore': 1853, 'record': 3573, 'starred': 4151, 'joe': 2406, 'king': 2478, 'arthur': 304, 'makers': 2713, 'nicholas': 3009, 'learned': 2549, 'pretentious': 3383, 'horrid': 2164, 'senseless': 3876, 'technique': 4382, 'utter': 4700, 'tarzan': 4365, 'legend': 2562, 'lord': 2650, 'apes': 266, 'mere': 2813, 'six': 4007, 'awards': 366, 'winning': 4898, 'ape': 265, 'gary': 1872, 'future': 1855, 'ultimately': 4627, 'disappointing': 1273, 'heroic': 2089, 'master': 2756, 'universe': 4665, 'closing': 860, 'occasion': 3072, 'intentions': 2320, 'climax': 850, 'painting': 3174, 'titled': 4504, 'artistic': 307, 'nude': 3057, 'border': 539, 'hamilton': 2011, 'books': 536, 'intimate': 2330, 'older': 3100, 'territory': 4410, 'proved': 3446, 'photos': 3261, 'focus': 1765, 'angles': 236, 'become': 432, 'confusing': 943, 'farce': 1654, 'develops': 1225, 'slowly': 4029, 'wonder': 4926, 'whats': 4859, '14': 6, 'contact': 962, 'virgin': 4748, 'caught': 723, 'gag': 1860, 'complete': 922, 'forms': 1800, 'americans': 214, 'subtitles': 4257, 'certainly': 739, 'todays': 4508, 'practically': 3362, 'context': 969, 'sex': 3905, 'wishing': 4907, 'matters': 2769, 'avoided': 363, 'grow': 1981, 'beings': 448, 'risk': 3702, 'topic': 4525, 'successful': 4264, 'unlikely': 4670, 'fear': 1676, 'cute': 1091, 'pleased': 3305, 'played': 3297, 'eve': 1532, 'angel': 231, 'sheer': 3923, 'leads': 2546, 'holes': 2132, 'truck': 4594, 'humour': 2193, 'candy': 669, 'female': 1692, 'hoped': 2155, 'keep': 2448, 'male': 2717, 'camp': 663, 'close': 854, 'genuinely': 1891, 'narrative': 2965, 'presentation': 3375, 'bollywood': 530, 'evidence': 1546, 'impact': 2243, 'india': 2272, 'background': 379, 'troubles': 4593, 'product': 3418, 'coming': 897, 'countries': 1014, 'guts': 1998, 'based': 403, 'killer': 2469, 'relation': 3594, '15': 7, 'generation': 1882, 'sick': 3961, 'individuals': 2277, 'awful': 371, 'heads': 2058, 'starting': 4156, 'cars': 703, 'drinking': 1361, 'water': 4815, 'brand': 565, 'proves': 3447, 'entry': 1504, 'ranks': 3519, 'exists': 1573, 'teenager': 4389, 'detective': 1219, 'crimes': 1057, 'parent': 3187, 'overwhelming': 3156, 'disappointment': 1274, 'lacks': 2504, 'months': 2896, 'party': 3200, 'london': 2639, 'prime': 3395, 'rescue': 3642, 'jet': 2399, 'pack': 3164, 'rocket': 3719, 'faces': 1618, 'enemies': 1476, 'levels': 2583, 'mini': 2854, 'kill': 2467, 'bonus': 534, 'challenging': 745, 'load': 2629, 'view': 4735, 'repetitive': 3632, 'improved': 2254, 'graphics': 1958, 'odd': 3079, 'graphic': 1957, 'comment': 899, 'value': 4708, 'improvement': 2255, 'minds': 2852, 'canada': 667, 'eastern': 1407, 'europe': 1529, 'refreshing': 3585, 'ten': 4398, 'excitement': 1562, 'gags': 1861, 'liners': 2609, 'directly': 1262, 'enthusiasm': 1501, 'timing': 4497, 'bothered': 549, 'cheated': 776, 'earned': 1400, 'cash': 710, 'gradually': 1951, 'michael': 2829, 'caine': 648, 'al': 170, 'pacino': 3163, 'jack': 2372, 'nicholson': 3010, 'rolling': 3728, 'stones': 4196, 'forced': 1786, 'writers': 4969, 'manage': 2720, 'performed': 3230, 'added': 116, 'mistake': 2871, 'italian': 2366, 'zombie': 4997, 'honestly': 2146, 'bother': 548, 'nasty': 2967, 'gratuitous': 1960, 'fulci': 1844, 'elaborate': 1439, 'continuity': 973, 'repeated': 3630, 'miserable': 2863, 'secret': 3847, 'army': 294, 'base': 401, 'scientists': 3817, 'virus': 4751, 'failing': 1627, 'steal': 4168, 'corpse': 1000, 'terrorist': 4412, 'population': 3335, 'nearby': 2979, 'village': 4742, 'survivors': 4323, 'zombies': 4998, 'soldiers': 4051, 'received': 3564, 'area': 285, 'nightmare': 3013, 'sequences': 3886, 'birds': 485, 'example': 1553, 'birth': 486, 'hospital': 2171, 'infamous': 2283, 'belongs': 459, 'thoroughly': 4458, 'pleasant': 3302, 'negative': 2990, 'cheating': 777, 'wives': 4918, 'dogs': 1310, 'swear': 4332, '1st': 28, 'occur': 3075, 'east': 1406, 'hudson': 2183, 'river': 3705, 'joey': 2407, 'sympathetic': 4340, 'kicked': 2460, 'spike': 4108, 'lessons': 2576, 'hill': 2107, 'redemption': 3578, 'study': 4240, 'relationships': 3597, 'inspired': 2300, 'hopes': 2158, 'present': 3374, 'teenagers': 4390, 'middle': 2833, 'fights': 1709, 'causes': 726, 'fashion': 1659, 'popular': 3333, 'return': 3663, 'removed': 3623, 'passed': 3202, 'laughs': 2532, 'poignant': 3315, 'consists': 956, 'mix': 2876, 'related': 3593, 'crude': 1070, 'adult': 125, 'manner': 2728, 'language': 2514, 'mild': 2839, 'ii': 2225, 'men': 2804, 'row': 3742, 'maker': 2712, 'cost': 1004, 'horribly': 2163, 'protagonist': 3441, 'somehow': 4060, 'laughed': 2530, 'type': 4620, 'riding': 3693, 'horse': 2169, 'mysterious': 2954, 'absolute': 71, 'genius': 1886, 'war': 4791, 'efforts': 1433, 'creating': 1040, 'prevent': 3385, 'actions': 101, 'jungle': 2433, 'spite': 4114, 'includes': 2262, 'groups': 1980, 'according': 88, 'department': 1182, 'roll': 3726, 'bela': 449, 'lugosi': 2684, 'thrill': 4470, 'wont': 4932, 'younger': 4990, 'dean': 1140, 'blonde': 511, 'dorothy': 1329, 'claire': 832, 'pull': 3461, 'joseph': 2418, 'building': 616, 'lake': 2508, 'morning': 2905, 'assume': 327, 'largely': 2516, 'church': 814, 'batman': 412, 'touched': 4533, 'tears': 4378, 'centers': 735, '70': 55, 'fascinating': 1658, 'survived': 4320, 'provided': 3449, 'busy': 636, 'discussion': 1283, 'tear': 4377, 'sub': 4250, 'plots': 3310, 'alien': 183, 'stick': 4183, '1950s': 13, 'vision': 4753, 'bare': 397, 'minimum': 2856, 'hired': 2116, 'carry': 701, 'mood': 2897, 'wasted': 4808, 'greatest': 1965, 'america': 212, 'ghosts': 1902, 'mummy': 2936, 'exciting': 1563, 'discovers': 1280, 'mothers': 2911, 'frightening': 1838, 'okay': 3098, 'wanna': 4785, 'reed': 3580, 'daring': 1115, 'stunt': 4243, 'stunts': 4244, 'hair': 2004, 'raising': 3509, 'cliff': 848, 'chapter': 758, 'endings': 1472, 'lower': 2675, 'turns': 4608, 'eat': 1410, 'martial': 2746, 'arts': 309, 'samurai': 3777, 'captures': 679, 'versus': 4721, 'creativity': 1043, 'capable': 673, 'answer': 250, 'plus': 3311, 'execution': 1566, 'repeat': 3629, 'bizarre': 492, 'experiments': 1584, 'chooses': 801, 'strange': 4209, 'supernatural': 4300, 'powers': 3361, 'motivations': 2914, 'relations': 3595, 'comparison': 915, 'thus': 4485, 'length': 2567, 'dry': 1376, 'emotion': 1458, 'depth': 1189, 'government': 1947, 'super': 4293, 'guessed': 1989, 'saves': 3794, 'design': 1201, 'aspects': 321, 'bullet': 621, 'psychic': 3456, 'limits': 2605, 'generic': 1884, 'total': 4530, 'errors': 1516, 'fix': 1743, 'mine': 2853, 'extra': 1606, 'horses': 2170, 'moore': 2900, 'conversation': 981, 'secondly': 3845, 'wealthy': 4826, 'spent': 4105, 'rent': 3625, 'paid': 3168, 'basement': 404, 'apartment': 264, 'wealth': 4825, 'newspaper': 3005, 'magazine': 2699, 'clean': 839, 'portrayal': 3341, 'deadly': 1134, 'accurate': 90, '20th': 38, 'marry': 2744, 'trust': 4597, 'butler': 638, 'ted': 4385, 'post': 3352, 'gave': 1874, 'henry': 2083, 'fonda': 1776, 'oscars': 3133, 'golden': 1933, 'lifetime': 2592, 'amazing': 209, 'craft': 1029, 'jackie': 2373, 'genuine': 1890, 'opportunity': 3120, 'debut': 1144, 'brilliantly': 584, 'ensemble': 1492, 'justin': 2439, 'lane': 2513, 'adam': 111, 'surprised': 4311, 'writer': 4968, 'eyed': 1612, 'call': 652, 'troops': 4590, 'skill': 4010, 'tame': 4361, 'standards': 4143, 'modern': 2882, 'combat': 883, 'storyline': 4206, 'parallel': 3185, 'unusual': 4680, 'ahead': 159, 'italy': 2367, '40s': 49, '50s': 52, 'understood': 4646, 'career': 687, 'twice': 4612, 'achieved': 93, 'rings': 3697, 'plausible': 3295, 'lacked': 2502, 'intensity': 2316, 'magnificent': 2703, 'appears': 277, 'rid': 3688, 'ms': 2930, 'ironic': 2354, 'projects': 3428, 'ease': 1403, 'apparent': 268, 'opera': 3115, 'asked': 316, 'meaning': 2779, 'unbelievably': 4634, 'noticed': 3048, 'connected': 946, 'horrors': 2168, 'screaming': 3825, 'president': 3378, 'iraq': 2350, 'criminals': 1059, 'womans': 4922, 'followed': 1772, 'facts': 1624, 'kinds': 2477, 'shocked': 3937, 'waited': 4770, 'write': 4967, 'feels': 1686, 'needed': 2987, 'storm': 4204, 'hed': 2071, 'smaller': 4031, 'scope': 3819, 'audiences': 352, 'planning': 3291, 'daughters': 1123, 'revolution': 3678, 'result': 3659, 'finished': 1732, 'reel': 3581, 'lesson': 2575, 'anywhere': 262, 'revolutionary': 3679, 'neil': 2994, 'nancy': 2963, 'carol': 694, 'leading': 2545, 'lady': 2506, 'hates': 2047, 'streets': 4215, 'arm': 291, 'causing': 727, 'accidentally': 85, 'wound': 4960, 'dad': 1096, 'thousands': 4465, 'indians': 2274, 'nations': 2970, 'crush': 1073, 'nation': 2968, 'inevitable': 2281, 'earlier': 1398, 'staged': 4138, 'similarly': 3977, 'packed': 3165, 'land': 2510, 'amazingly': 210, 'lack': 2501, 'fail': 1625, 'billy': 481, 'dare': 1114, 'command': 898, 'louis': 2663, 'focuses': 1767, 'knowing': 2489, 'sir': 3997, 'villain': 4743, 'appeared': 275, 'brother': 598, 'holmes': 2138, 'hyde': 2205, 'wild': 4884, 'scared': 3803, 'status': 4163, 'depiction': 1184, 'ride': 3690, 'arms': 293, 'steps': 4175, 'amazed': 208, 'enjoyable': 1485, 'sitting': 4004, 'cave': 728, 'somewhere': 4066, 'naturally': 2973, 'deals': 1138, 'losing': 2656, 'lovely': 2669, 'typically': 4623, 'besides': 467, 'acts': 107, 'plastic': 3294, 'presumably': 3380, 'handsome': 2020, 'talent': 4352, 'personality': 3242, 'julie': 2427, 'cameo': 658, 'donald': 1320, 'credits': 1051, 'corny': 998, '1990': 24, 'assistant': 325, 'speaks': 4093, 'babe': 374, 'manhattan': 2724, 'naive': 2957, 'raw': 3532, 'justify': 2438, 'hat': 2044, 'pass': 3201, 'cook': 989, 'jr': 2422, 'sat': 3784, 'explicit': 1591, 'phantom': 3251, 'fay': 1674, 'originally': 3130, 'hook': 2151, 'explained': 1587, 'holds': 2130, 'revealed': 3669, 'experienced': 1581, 'fame': 1642, 'curtis': 1088, 'fate': 1665, 'secretly': 3849, 'doubts': 1332, 'disappoint': 1271, 'youd': 4987, 'details': 1218, 'mistakes': 2873, 'force': 1785, 'commercial': 903, 'painted': 3173, 'advertising': 132, 'exposed': 1598, 'nuts': 3063, 'ships': 3933, 'maintain': 2708, 'medical': 2789, 'suitable': 4283, 'connection': 947, 'difficult': 1248, 'standard': 4142, 'keeping': 2449, 'mile': 2842, 'useful': 4693, 'attention': 344, 'flight': 1756, 'fire': 1733, 'yelling': 4980, 'boat': 523, 'stupid': 4245, 'cases': 709, 'impossible': 2248, 'degree': 1164, 'centered': 734, 'finding': 1726, 'successfully': 4265, 'slightly': 4026, 'greater': 1964, 'pulling': 3463, 'control': 978, 'following': 1773, 'airplane': 166, 'silence': 3971, 'credibility': 1048, 'breaking': 570, 'safety': 3770, 'danes': 1109, 'quickly': 3491, 'calls': 655, 'methods': 2825, 'physical': 3262, 'conflicts': 941, 'bringing': 586, 'letting': 2581, 'touch': 4532, 'worried': 4949, 'responsible': 3655, 'beyond': 475, 'dangerous': 1111, 'laughable': 2528, 'disbelief': 1276, 'destruction': 1215, 'dropped': 1369, 'haunting': 2050, 'sinister': 3995, 'jerry': 2395, 'pg': 3250, 'terror': 4411, 'trip': 4587, 'incident': 2259, 'hong': 2148, 'kong': 2493, 'weekend': 4837, 'airport': 167, 'alice': 182, 'drug': 1372, 'heroine': 2090, 'ultimate': 4626, 'survival': 4318, 'entertained': 1498, 'palace': 3177, 'shouldnt': 3950, 'drag': 1341, 'gang': 1866, 'blatant': 502, 'pool': 3327, 'destroy': 1212, 'nose': 3036, 'tend': 4399, 'idiot': 2217, 'ask': 315, 'eva': 1531, 'dies': 1244, 'wedding': 4835, 'unoriginal': 4672, 'clichéd': 846, 'ears': 1401, 'crew': 1054, 'god': 1925, 'minor': 2857, 'unique': 4661, 'mighty': 2836, 'finish': 1731, 'offer': 3086, 'massive': 2755, 'celluloid': 732, 'club': 864, 'string': 4225, 'unfunny': 4654, 'rick': 3687, 'alongside': 196, 'francis': 1817, 'bill': 480, 'expecting': 1578, 'pick': 3265, 'pilot': 3276, 'hooked': 2152, 'subsequent': 4255, 'values': 4709, 'intrigued': 2333, 'eric': 1514, 'requires': 3641, 'wrap': 4963, 'gray': 1962, 'journey': 2420, 'annoying': 248, 'trailer': 4553, 'vampires': 4711, 'hammer': 2013, 'gothic': 1944, 'mario': 2737, 'masterpieces': 2759, 'compare': 912, 'opinion': 3117, 'summer': 4289, 'jackson': 2374, 'nostalgic': 3038, 'bakshi': 385, 'standing': 4144, 'already': 197, 'strip': 4226, 'warmth': 4795, 'sequel': 3883, 'hearted': 2064, 'aired': 165, 'paulie': 3215, 'lovable': 2666, 'forgive': 1794, 'marie': 2736, 'owner': 3158, 'blind': 506, 'poetic': 3313, 'reunion': 3667, 'helped': 2079, 'defeat': 1157, 'sum': 4287, 'words': 4938, 'images': 2234, 'brothers': 599, 'station': 4162, 'butt': 639, 'means': 2782, 'growing': 1982, 'occurs': 3077, 'september': 3882, '2001': 31, 'gas': 1873, 'chief': 789, 'sudden': 4270, 'strike': 4222, 'trade': 4546, 'orders': 3126, 'center': 733, 'disaster': 1275, 'sole': 4052, 'purpose': 3474, 'plane': 3288, 'united': 4663, 'capturing': 680, 'reaction': 3541, 'husbands': 2204, 'carrying': 702, 'equipment': 1511, '80': 58, 'trapped': 4563, 'catches': 716, 'kevin': 2456, 'duty': 1389, 'hitting': 2125, 'higher': 2100, 'sight': 3966, 'south': 4084, 'official': 3093, 'arrives': 301, 'believed': 454, 'returns': 3666, 'achievement': 94, 'unfolds': 4650, 'lesser': 2574, 'toward': 4538, 'events': 1536, 'niro': 3018, 'program': 3424, 'glory': 1921, 'ratings': 3530, 'relatives': 3600, 'reminded': 3618, 'basketball': 408, 'selling': 3871, 'album': 175, 'finest': 1729, 'freedom': 1827, 'commentary': 900, 'weird': 4840, 'thrown': 4480, 'loosely': 2649, 'nowadays': 3054, 'combination': 884, 'simon': 3979, 'matthau': 2770, 'planned': 3290, 'desert': 1197, 'island': 2360, 'enter': 1494, 'kate': 2445, 'manipulative': 2726, 'emma': 1457, 'novel': 3051, 'terribly': 4407, 'dislike': 1287, 'interpretation': 2327, 'innocence': 2292, 'delightful': 1168, 'raymond': 3534, '1996': 26, 'williams': 4887, 'pleasure': 3306, 'search': 3839, 'kidnapped': 2465, 'straight': 4208, 'wayne': 4820, 'jake': 2376, 'bite': 489, 'cable': 645, 'print': 3399, 'bucks': 606, 'hung': 2196, 'mixed': 2877, 'likable': 2596, 'defined': 1160, 'finale': 1722, 'witch': 4909, 'explains': 1589, 'christopher': 812, 'walken': 4776, 'pie': 3271, 'laura': 2534, 'andrews': 229, 'gene': 1878, 'amounts': 220, 'tough': 4536, 'cop': 992, 'dealing': 1137, 'driver': 1365, 'investigation': 2342, 'guilt': 1993, 'elegant': 1441, 'deeper': 1155, 'discovered': 1279, 'service': 3894, 'morality': 2902, 'developing': 1223, 'field': 1703, 'nicely': 3008, 'slight': 4024, 'online': 3108, 'site': 4002, 'picked': 3266, 'rights': 3695, 'purchased': 3470, 'draws': 1351, 'struggle': 4232, 'japan': 2380, 'wise': 4903, 'tree': 4575, 'weak': 4823, 'childrens': 794, 'jazz': 2386, 'convincingly': 987, 'hysterical': 2207, 'dubbed': 1378, 'stooges': 4198, 'casting': 712, 'imagery': 2233, 'executive': 1567, 'cd': 729, 'conversations': 982, 'criminal': 1058, 'greedy': 1968, 'shake': 3912, 'danger': 1110, 'pay': 3216, 'mexican': 2826, 'hotel': 2174, 'safe': 3769, 'hidden': 2095, 'shut': 3959, 'impression': 2251, 'attacks': 338, 'dozen': 1337, 'uses': 4696, 'sidekick': 3963, 'priest': 3392, 'guns': 1997, 'pops': 3332, 'convinced': 985, 'dollars': 1314, 'shoot': 3940, 'dirty': 1267, 'abc': 63, 'recognized': 3570, 'todd': 4509, 'rise': 3700, 'website': 4833, 'flawed': 1749, 'anybody': 256, 'sitcom': 4001, 'met': 2821, 'fully': 1846, 'empathy': 1462, 'extent': 1605, 'badly': 382, 'conceived': 930, 'executed': 1565, 'scripted': 3833, 'root': 3735, 'regardless': 3589, 'awake': 364, 'mgm': 2828, 'turner': 4606, 'outfit': 3143, 'margaret': 2734, 'karen': 2443, 'paris': 3189, 'telling': 4395, 'partner': 3198, 'writes': 4970, 'adventures': 131, 'novels': 3052, 'throws': 4481, 'stomach': 4194, 'blew': 505, 'spiritual': 4113, 'opportunities': 3119, 'introduce': 2335, 'clothing': 862, 'poetry': 3314, 'lovers': 2671, 'idiotic': 2218, 'dressing': 1358, 'resembles': 3645, 'rush': 3757, 'awfully': 372, 'unconvincing': 4637, 'hated': 2046, 'european': 1530, 'underrated': 4641, 'corner': 997, 'animal': 238, 'whoever': 4871, 'insane': 2295, 'description': 1196, 'tragic': 4551, 'contained': 964, 'kick': 2459, 'convincing': 986, 'expert': 1585, 'streep': 4213, 'belief': 450, 'occasional': 3073, 'inducing': 2278, 'path': 3209, 'ups': 4685, 'corrupt': 1002, 'rich': 3683, 'shower': 3955, 'lesbian': 2571, 'needless': 2988, 'response': 3653, 'exploration': 1593, 'system': 4343, 'purely': 3472, 'sleep': 4021, 'hot': 2173, 'solid': 4054, 'suspects': 4326, 'crafted': 1030, 'taxi': 4369, 'support': 4301, 'beating': 424, 'warned': 4797, 'tracks': 4544, 'complex': 924, 'challenge': 744, 'characterization': 760, 'admire': 121, 'kissing': 2483, 'everyday': 1541, 'private': 3404, 'developed': 1222, 'feet': 1687, 'renting': 3628, 'learn': 2548, 'college': 876, 'feelings': 1685, 'computer': 928, 'ie': 2220, 'questionable': 3488, 'mike': 2838, 'porn': 3336, 'fish': 1737, 'highlight': 2102, 'television': 4393, 'epic': 1506, 'emphasis': 1463, 'compelled': 916, 'sacrifice': 3764, 'queen': 3485, 'outstanding': 3146, 'strongly': 4229, 'offering': 3088, 'became': 430, 'satisfying': 3789, 'sorts': 4075, 'led': 2556, 'forth': 1803, 'belong': 458, 'encounter': 1466, 'attracted': 348, 'absence': 70, 'tie': 4487, 'unnecessary': 4671, 'translation': 4561, 'polished': 3323, 'nightmares': 3014, 'elm': 1447, 'vampire': 4710, 'fare': 1655, 'spoof': 4125, 'winner': 4897, 'giant': 1904, 'campy': 665, 'humorous': 2192, 'amongst': 218, 'pamela': 3179, 'mainly': 2706, 'mental': 2807, '16': 8, 'vice': 4726, 'tomatoes': 4514, 'security': 3852, 'closet': 859, 'switch': 4337, 'channels': 755, 'excuse': 1564, 'summary': 4288, 'fault': 1668, 'chemistry': 783, 'universal': 4664, 'bath': 410, 'profound': 3423, 'park': 3190, 'lover': 2670, 'uk': 4625, 'talked': 4357, 'measure': 2785, 'rangers': 3517, 'decided': 1149, 'imagination': 2235, 'westerns': 4853, 'persona': 3239, 'familiar': 1643, 'orson': 3131, 'welles': 4843, 'chilling': 795, 'terrifying': 4409, 'savage': 3791, 'murderer': 2940, 'host': 2172, 'heres': 2086, '100': 1, 'embarrassment': 1455, 'lloyd': 2628, 'jeff': 2389, 'purple': 3473, 'li': 2585, 'voiced': 4761, 'ha': 2001, 'travesty': 4569, 'utterly': 4701, 'expectations': 1576, 'lewis': 2584, 'movements': 2923, 'definition': 1163, 'strikes': 4223, 'glenn': 1917, 'fairly': 1631, 'lengthy': 2568, 'blair': 497, 'cabin': 644, 'pot': 3354, 'friendly': 1835, 'drink': 1360, 'drawn': 1350, 'mindless': 2851, 'ashley': 312, 'topless': 4526, 'briefly': 580, 'hart': 2040, 'unless': 4668, 'dedicated': 1153, 'murphy': 2943, 'luckily': 2680, 'humans': 2189, 'comfortable': 893, 'brenda': 575, 'wendy': 4845, 'determined': 1220, 'warrior': 4801, 'aid': 160, 'snake': 4039, 'tiger': 4490, 'techniques': 4383, 'culture': 1080, 'jumping': 2430, 'ship': 3932, 'devils': 1228, 'experiment': 1583, 'pig': 3274, 'charlie': 766, 'torture': 4528, 'alcohol': 176, 'burning': 628, 'sharp': 3920, 'granted': 1956, 'sucks': 4269, 'favorites': 1672, 'punk': 3468, 'twists': 4618, 'appreciated': 279, 'industry': 2279, 'accent': 78, 'initially': 2290, 'surprises': 4312, 'cause': 724, 'direct': 1257, 'decisions': 1152, 'staying': 4166, 'hole': 2131, 'castle': 713, 'food': 1777, 'reach': 3536, 'wicked': 4878, 'chick': 787, 'companion': 910, 'third': 4454, 'inappropriate': 2258, 'react': 3540, 'news': 3004, 'ham': 2010, 'attached': 335, 'dragged': 1342, 'buffalo': 612, 'theyd': 4442, 'carried': 699, 'clue': 865, 'remembered': 3616, 'dream': 1353, 'technology': 4384, 'demons': 1178, 'iii': 2226, 'popularity': 3334, 'lie': 2588, 'creep': 1052, 'stays': 4167, 'harry': 2038, 'clint': 851, 'eastwood': 1408, 'directs': 1266, 'disagree': 1268, 'alright': 198, 'gritty': 1976, 'quotes': 3497, 'ya': 4976, 'san': 3778, 'sandra': 3780, 'directing': 1259, 'immensely': 2242, 'visual': 4756, 'mess': 2817, 'dull': 1383, 'sympathy': 4341, 'reduced': 3579, 'forest': 1790, 'tension': 4403, 'choreographed': 802, 'condition': 938, 'wave': 4817, 'stupidity': 4246, 'downright': 1336, 'merits': 2816, 'generally': 1880, 'powerful': 3360, 'represents': 3638, 'bush': 633, 'latin': 2525, 'mexico': 2827, 'rule': 3751, 'politics': 3326, 'breath': 573, 'deeply': 1156, 'philosophical': 3253, 'resources': 3650, 'crucial': 1069, 'puts': 3481, 'glass': 1916, 'unrealistic': 4676, 'businessman': 635, 'event': 1535, 'difference': 1245, 'stood': 4197, 'walking': 4778, 'championship': 746, 'kurt': 2498, 'angle': 235, 'chris': 807, 'masters': 2760, 'kane': 2441, 'june': 2432, 'thrilling': 4473, 'surprise': 4310, 'bell': 457, 'atrocious': 334, 'per': 3223, 'wrestling': 4966, 'card': 682, 'becoming': 434, 'evident': 1547, 'bloody': 513, 'blank': 501, 'transition': 4560, 'send': 3873, 'union': 4660, 'psychological': 3458, 'thrillers': 4472, 'remote': 3621, 'sisters': 3999, 'bay': 415, 'vaguely': 4705, 'artists': 308, 'explain': 1586, 'fits': 1740, 'slap': 4015, 'sloppy': 4027, 'rural': 3756, 'areas': 286, 'narration': 2964, 'undoubtedly': 4647, 'neat': 2981, 'frequent': 1830, 'foreign': 1789, 'severe': 3904, 'social': 4046, 'eager': 1395, 'ellen': 1446, 'quote': 3496, 'un': 4629, 'catholic': 721, 'honesty': 2147, 'von': 4764, 'idiots': 2219, 'philosophy': 3254, 'streisand': 4216, 'thick': 4446, 'proper': 3436, 'foot': 1780, 'guessing': 1990, 'ideal': 2213, 'gender': 1877, 'whereas': 4864, 'legs': 2564, 'blowing': 515, 'mate': 2764, 'break': 569, 'tradition': 4548, 'liberal': 2586, 'exact': 1550, 'transfer': 4558, 'reaching': 3539, 'offered': 3087, 'shallow': 3915, 'hollow': 2134, 'meaningless': 2781, 'pseudo': 3454, 'assault': 323, 'drivel': 1363, 'hopefully': 2156, 'exposure': 1599, 'hire': 2115, 'saving': 3795, 'stated': 4159, 'extras': 1608, 'possibilities': 3348, 'weve': 4855, 'dog': 1309, 'thriller': 4471, 'reaches': 3538, 'em': 1452, 'anymore': 257, 'terrific': 4408, 'lips': 2613, 'gift': 1905, 'faithful': 1634, 'storytelling': 4207, 'appealing': 271, 'con': 929, 'smart': 4032, 'ambitious': 211, 'discover': 1278, 'bleak': 503, 'develop': 1221, 'lit': 2619, 'fashioned': 1660, 'deaf': 1135, 'ability': 65, 'revenge': 3673, 'awkward': 373, 'empty': 1465, 'build': 615, 'instantly': 2305, 'bottom': 551, 'lay': 2540, 'steven': 4180, 'pulp': 3465, 'extreme': 1609, 'edgy': 1418, '1972': 18, 'visible': 4752, 'seemingly': 3861, 'expensive': 1579, 'breaks': 571, 'cared': 686, 'jon': 2415, 'cowboy': 1026, 'burt': 630, 'nights': 3015, 'voight': 4763, 'transformation': 4559, 'reynolds': 3682, 'ned': 2985, 'cox': 1027, 'suggest': 4278, 'treated': 4572, 'commercials': 904, 'personalities': 3241, 'wouldve': 4959, 'paint': 3172, 'spell': 4101, 'warriors': 4802, 'lee': 2557, 'locked': 2635, '1930s': 11, 'step': 4173, 'columbo': 882, 'advantage': 129, 'advance': 127, 'drew': 1359, 'roberts': 3712, 'yeah': 4977, 'kinda': 2476, 'spectacular': 4098, 'props': 3439, 'principal': 3398, 'behavior': 445, 'impressed': 2250, 'occasionally': 3074, 'round': 3740, 'wooden': 4934, 'west': 4851, 'irrelevant': 2357, 'ruins': 3750, 'backdrop': 378, 'overrated': 3155, 'unpredictable': 4674, 'logical': 2637, 'fascinated': 1657, 'sounded': 4079, 'facing': 1620, 'fears': 1677, 'pointless': 3318, 'towards': 4539, 'unwatchable': 4681, 'countryside': 1016, 'anderson': 227, 'richards': 3685, 'england': 1482, 'aware': 367, 'forgotten': 1796, 'smile': 4033, 'stellar': 4172, 'allows': 192, 'connect': 945, 'harsh': 2039, 'shine': 3929, 'gem': 1876, 'afternoon': 144, 'train': 4555, 'wreck': 4965, 'grown': 1983, 'shelf': 3924, 'honor': 2149, 'cuba': 1076, 'carl': 693, 'african': 142, 'sunday': 4291, 'motivation': 2913, 'achieve': 92, 'mission': 2870, 'colonel': 877, 'hal': 2005, 'bitter': 491, 'curious': 1084, 'triumph': 4589, 'strength': 4217, 'scooby': 3818, 'doo': 1324, 'enjoying': 1487, 'wars': 4803, 'names': 2962, 'amy': 222, 'funnier': 1849, 'holiday': 2133, 'cliché': 845, 'mysteries': 2953, 'intrigue': 2332, 'increasingly': 2267, 'suffered': 4274, 'fourth': 1812, 'neighbors': 2993, 'cartoons': 706, 'walks': 4779, 'lol': 2638, 'sleeping': 4022, 'nomination': 3025, '2000': 30, 'sexuality': 3907, 'despair': 1206, 'families': 1644, 'anger': 234, 'simplicity': 3981, 'intention': 2318, 'inevitably': 2282, 'homosexual': 2144, 'youth': 4994, 'cover': 1023, 'kapoor': 2442, 'khan': 2458, 'mtv': 2932, 'gangsters': 1868, 'montana': 2894, 'hello': 2077, 'brian': 576, 'quirky': 3493, 'consider': 950, 'vacation': 4703, 'lawrence': 2537, 'wearing': 4830, 'settle': 3900, 'struggles': 4233, 'resolution': 3648, 'reference': 3582, 'flesh': 1752, 'everywhere': 1545, 'sign': 3967, 'cleverly': 843, 'detail': 1216, 'multiple': 2935, 'struck': 4230, 'emotionally': 1460, 'physically': 3263, '2nd': 41, 'provoking': 3452, 'mildly': 2840, 'haunted': 2049, 'jewish': 2400, 'comedian': 888, 'serving': 3895, 'hitler': 2123, 'kiss': 2482, 'clues': 866, 'goofy': 1938, 'daily': 1098, 'stayed': 4165, 'discuss': 1282, 'expressed': 1601, 'generations': 1883, 'concern': 932, 'worry': 4950, 'tons': 4519, 'literature': 2621, 'hearts': 2065, 'lyrics': 2690, 'remains': 3610, 'surviving': 4321, 'numerous': 3061, 'boom': 537, 'shadow': 3910, 'ignore': 2223, 'aging': 153, 'escape': 1517, 'theatrical': 4429, 'dramas': 1346, '1990s': 25, 'soap': 4044, 'superbly': 4295, 'sally': 3774, 'costume': 1006, 'reads': 3545, 'goldberg': 1932, 'greatly': 1966, 'hint': 2111, 'mel': 2795, '90': 60, 'jonathan': 2416, 'incompetent': 2265, 'heat': 2066, 'training': 4557, 'contract': 974, 'delivery': 1173, 'buildings': 617, 'memory': 2803, 'memories': 2802, '12': 3, 'robot': 3715, 'hardy': 2036, 'kennedy': 2453, 'bobby': 525, 'kidding': 2464, 'stylish': 4249, 'kim': 2474, 'lemmon': 2565, 'aunt': 354, 'witches': 4910, 'cannibal': 670, '70s': 56, '40': 48, 'artist': 306, 'cruise': 1072, 'respect': 3651, 'understanding': 4644, 'appreciation': 280, 'experiences': 1582, 'faced': 1617, 'eg': 1434, 'engaged': 1480, 'quiet': 3492, 'revelation': 3672, 'allowed': 190, 'provide': 3448, 'critical': 1063, 'balance': 386, 'believes': 455, 'underlying': 4640, 'blow': 514, 'letter': 2579, 'letters': 2580, 'possibility': 3349, 'nail': 2956, 'signs': 3970, 'heroes': 2088, 'religion': 3606, 'therefore': 4438, 'max': 2773, 'nevertheless': 3001, '75': 57, 'bold': 528, 'historically': 2119, 'described': 1194, 'raise': 3507, 'fortunately': 1804, 'grew': 1971, 'shortly': 3945, '1999': 27, 'information': 2287, 'internet': 2326, 'unfortunate': 4652, 'forces': 1787, 'sides': 3964, 'convoluted': 988, 'semi': 3872, 'bone': 533, 'helps': 2081, 'overly': 3154, 'melodramatic': 2797, 'limited': 2604, 'range': 3516, 'annoyed': 247, 'variety': 4713, 'linda': 2607, 'colorful': 879, 'financial': 1724, 'colors': 880, 'bacall': 376, 'kudos': 2496, 'russell': 3759, 'unforgettable': 4651, 'cure': 1082, 'ryan': 3763, 'impress': 2249, 'directorial': 1264, 'advanced': 128, 'cuts': 1092, 'plant': 3293, 'wolf': 4920, 'tunes': 4602, 'aged': 149, '50': 51, 'junior': 2434, 'adequate': 120, 'tech': 4379, 'user': 4695, 'versions': 4720, 'felix': 1688, 'newly': 3003, 'stale': 4139, 'stereotypical': 4178, 'protect': 3443, 'allowing': 191, 'amanda': 205, 'captain': 675, 'carter': 704, 'feminist': 1694, 'ready': 3546, 'pretend': 3381, 'realized': 3553, 'teacher': 4373, 'davis': 1127, 'seasons': 3842, 'stronger': 4228, 'providing': 3451, 'peace': 3219, 'weapons': 4828, 'solve': 4057, 'cameron': 662, 'mitchell': 2875, 'soldier': 4050, 'mill': 2845, 'teen': 4387, 'gross': 1977, 'installment': 2302, 'appearing': 276, 'random': 3514, 'succeed': 4260, 'entertain': 1497, 'laughter': 2533, 'toilet': 4511, 'moody': 2898, 'cg': 740, 'pet': 3246, 'rabbit': 3498, 'wacky': 4768, 'bugs': 614, 'issues': 2364, 'overlooked': 3153, 'watches': 4813, 'borrowed': 545, 'heavily': 2068, 'fill': 1713, 'olivier': 3102, 'richardson': 3686, 'importance': 2245, 'spy': 4133, 'robin': 3713, 'heston': 2093, 'pulls': 3464, 'grows': 1984, 'chair': 743, 'branagh': 564, 'convey': 983, 'enjoys': 1489, 'aforementioned': 139, 'size': 4009, 'screenwriter': 3831, 'cameos': 659, 'ancient': 225, 'position': 3345, 'ego': 1435, 'race': 3499, 'beneath': 463, 'poem': 3312, 'military': 2844, 'officers': 3092, 'temple': 4397, 'remain': 3608, 'cary': 707, 'grant': 1955, 'douglas': 1333, 'flynn': 1764, 'receive': 3563, 'marvelous': 2749, 'arguably': 288, 'macy': 2693, 'perform': 3227, 'easier': 1404, 'titles': 4505, 'opens': 3114, 'toy': 4541, 'bridge': 578, 'gordon': 1939, 'shop': 3943, 'dreams': 1354, 'thinks': 4453, 'mountain': 2916, 'beloved': 460, 'lately': 2522, 'le': 2542, 'purchase': 3469, 'musicals': 2947, 'singers': 3991, 'ps': 3453, 'photo': 3257, 'interview': 2328, 'represented': 3637, 'chaplin': 757, 'keaton': 2447, 'disc': 1277, 'heck': 2070, 'hundred': 2194, 'web': 4832, 'themes': 4433, 'block': 508, 'wood': 4933, 'machine': 2691, 'splatter': 4115, 'creature': 1046, 'satisfied': 3787, 'setting': 3898, 'focusing': 1768, 'attraction': 349, 'designs': 1203, 'detailed': 1217, 'cgi': 741, 'breathtaking': 574, 'iron': 2353, 'fighting': 1708, 'vegas': 4716, 'urge': 4688, 'irritating': 2358, 'purposes': 3475, 'porno': 3337, 'childish': 792, 'womens': 4924, 'overdone': 3151, 'speech': 4099, 'remarks': 3614, 'redeeming': 3577, 'neighborhood': 2992, 'beast': 421, 'neighbor': 2991, 'illogical': 2230, 'stephen': 4174, 'zone': 4999, 'shining': 3931, 'breasts': 572, 'jobs': 2405, 'photographer': 3259, 'wears': 4831, 'mentions': 2812, 'hits': 2124, 'chases': 772, 'losers': 2654, 'inane': 2257, 'monkey': 2889, 'unintentional': 4657, 'ticket': 4486, 'worthless': 4954, 'mistress': 2874, 'isolated': 2362, 'picks': 3268, 'twisted': 4617, 'possessed': 3347, 'worn': 4948, 'racist': 3503, 'unable': 4630, 'grab': 1948, 'beaten': 423, 'trail': 4552, 'bore': 540, 'talented': 4353, '1960s': 14, 'merely': 2814, 'superficial': 4296, 'divorce': 1300, 'buddies': 608, 'wear': 4829, 'cheese': 781, 'table': 4344, 'altogether': 202, 'endearing': 1469, 'health': 2059, 'running': 3754, 'lonely': 2641, 'argue': 289, 'urban': 4687, 'texas': 4417, 'commit': 905, 'mechanical': 2787, 'depicts': 1185, 'week': 4836, 'calling': 654, 'bud': 607, 'split': 4117, 'waves': 4818, 'bird': 484, 'accomplished': 87, 'uncle': 4635, 'sink': 3996, 'bull': 620, 'steve': 4179, 'insight': 2297, 'che': 774, '1971': 17, 'sunshine': 4292, 'witty': 4917, 'alert': 178, 'sincere': 3988, 'differences': 1246, 'russian': 3760, 'perspective': 3245, 'drop': 1368, 'suffer': 4273, 'handle': 2017, 'skip': 4013, 'dick': 1238, 'disjointed': 1286, 'falk': 1636, 'hank': 2023, 'unbearable': 4632, 'blame': 499, 'juvenile': 2440, 'miracle': 2860, 'scrooge': 3835, 'holly': 2135, 'hunter': 2198, 'psycho': 3457, 'bettie': 472, 'notorious': 3050, 'covers': 1025, 'splendid': 4116, 'fool': 1778, 'sport': 4127, 'pages': 3167, 'shape': 3917, 'cards': 684, 'odds': 3081, 'essence': 1521, 'matched': 2762, 'celebrity': 730, 'madonna': 2697, 'kay': 2446, 'jealous': 2387, 'lawyer': 2539, 'helicopter': 2075, 'fly': 1762, 'randomly': 3515, 'picking': 3267, 'robots': 3716, 'ourselves': 3139, 'trilogy': 4585, 'clips': 853, 'drawing': 1349, 'smooth': 4038, 'advise': 134, 'matrix': 2766, 'lowest': 2676, 'costs': 1005, 'monster': 2891, 'everyones': 1543, 'favourite': 1673, 'nostalgia': 3037, 'garbage': 1869, 'unintentionally': 4658, 'homage': 2140, 'liking': 2602, 'eighties': 1437, 'bet': 469, 'petty': 3249, 'report': 3634, 'remotely': 3622, 'christian': 809, 'bible': 476, 'christians': 810, 'distracting': 1296, 'bland': 500, 'kirk': 2481, 'johnson': 2410, 'christ': 808, 'fancy': 1649, 'namely': 2961, 'careful': 689, 'accents': 79, 'matthew': 2771, 'university': 4666, 'rules': 3752, 'sophisticated': 4072, 'persons': 3244, 'surrounding': 4317, 'similarities': 3976, 'brains': 563, 'editor': 1423, 'accept': 80, 'understandable': 4643, 'escaped': 1518, 'entirely': 1503, 'structure': 4231, 'disease': 1284, 'peoples': 3222, 'disappear': 1269, 'imaginative': 2236, 'depicted': 1183, 'absurd': 73, 'cell': 731, 'vague': 4704, 'tricks': 4582, 'trick': 4581, 'jumps': 2431, 'blend': 504, 'cia': 815, 'wit': 4908, 'contrast': 976, 'remarkably': 3613, 'dutch': 1388, 'sucked': 4268, 'tongue': 4517, 'cheek': 780, 'ian': 2208, 'grasp': 1959, 'sutherland': 4331, 'mars': 2745, 'bat': 409, 'par': 3184, 'aka': 168, 'suffers': 4276, 'explanation': 1590, 'stan': 4140, 'showcase': 3952, 'describes': 1195, 'buried': 625, 'spots': 4130, 'appearances': 274, 'virtually': 4750, 'moronic': 2906, 'unit': 4662, 'mayor': 2776, 'promising': 3433, 'elsewhere': 1449, 'supposedly': 4305, 'intelligence': 2312, 'arrested': 297, 'attorney': 347, 'forgot': 1795, 'court': 1021, 'mail': 2704, 'clark': 833, 'leo': 2569, 'michelle': 2830, 'oz': 3159, 'st': 4135, 'corporate': 999, 'network': 2999, 'legal': 2561, 'winds': 4895, 'loser': 2653, 'overcome': 3150, 'considerable': 951, 'unreal': 4675, 'learning': 2550, 'jeremy': 2393, 'conservative': 949, 'backgrounds': 380, 'jesus': 2398, 'theyve': 4445, 'ignorant': 2222, 'wells': 4844, 'consequences': 948, 'enormous': 1490, 'warner': 4798, '1940s': 12, 'yellow': 4981, 'drunken': 1375, 'strangers': 4212, 'wisdom': 4902, 'willis': 4890, 'popcorn': 3331, 'explosions': 1597, 'africa': 141, 'slaughter': 4018, 'prepared': 3371, 'delivering': 1171, 'curse': 1087, 'driven': 1364, 'pushing': 3479, 'prove': 3445, 'kung': 2497, 'football': 1782, '2002': 32, 'ninja': 3017, 'capital': 674, 'beats': 425, 'native': 2971, 'rats': 3531, 'lucas': 2678, 'suffering': 4275, 'basis': 407, 'ashamed': 311, 'sci': 3813, 'fi': 1700, 'messages': 2819, 'outer': 3142, 'strictly': 4221, 'crappy': 1033, 'godzilla': 1928, 'explosion': 1596, 'paying': 3217, 'rex': 3681, 'dinosaur': 1254, 'fortune': 1805, 'throat': 4475, 'spielberg': 4107, 'thank': 4420, 'mentioning': 2811, 'spoil': 4119, 'mouse': 2918, 'knowledge': 2490, 'figured': 1711, 'dub': 1377, 'mafia': 2698, 'plague': 3285, 'imagined': 2238, 'kings': 2480, 'kingdom': 2479, 'winter': 4900, 'studio': 4238, 'endless': 1473, 'lust': 2687, 'bedroom': 436, 'catching': 717, 'stanley': 4146, 'museum': 2944, 'aliens': 184, 'toys': 4542, 'travel': 4566, 'fired': 1734, 'boot': 538, 'garden': 1871, 'rambo': 3511, 'burned': 627, 'staff': 4136, 'los': 2651, 'angeles': 232, 'protagonists': 3442, '17': 9, 'meat': 2786, 'jaws': 2384, 'miike': 2837, 'performing': 3233, 'murderous': 2941, 'invasion': 2339, 'object': 3065, 'machines': 2692, 'scripts': 3834, 'visually': 4757, 'asking': 317, 'instant': 2304, 'waters': 4816, 'changes': 752, 'account': 89, 'tiresome': 4501, 'teens': 4391, 'ridden': 3689, 'fitting': 1741, 'via': 4725, 'accepted': 82, 'susan': 4324, 'mountains': 2917, 'uwe': 4702, 'boll': 529, 'seed': 3854, 'downhill': 1335, 'shock': 3936, 'plans': 3292, 'questions': 3489, 'homer': 2143, 'tad': 4345, 'dubbing': 1379, 'tonight': 4518, 'alexander': 180, 'ethan': 1528, 'van': 4712, 'gerard': 1894, 'maggie': 2700, 'alex': 179, 'houses': 2179, 'formulaic': 1802, 'presented': 3376, 'fabulous': 1615, 'touches': 4534, 'rough': 3739, 'hood': 2150, 'instinct': 2307, 'hadnt': 2003, 'potentially': 3356, 'slick': 4023, 'buff': 611, 'miscast': 2862, 'displayed': 1291, 'insulting': 2309, 'goal': 1924, 'colour': 881, 'audio': 353, 'recorded': 3574, 'raised': 3508, 'thief': 4447, 'hiding': 2098, 'flies': 1755, 'behave': 444, 'engage': 1479, 'charge': 762, 'horrifying': 2166, 'chest': 785, 'punch': 3466, 'scientist': 3816, 'radio': 3504, 'destroyed': 1213, 'substance': 4256, 'reveals': 3671, 'mass': 2752, 'creator': 1044, 'acceptable': 81, 'suggests': 4280, 'devil': 1227, 'greed': 1967, 'served': 3892, 'elizabeth': 1445, 'testament': 4416, 'authority': 359, 'society': 4047, 'somebody': 4059, 'corruption': 1003, 'clown': 863, 'fond': 1775, 'disturbed': 1298, 'werewolf': 4849, 'buck': 605, 'scenario': 3806, 'psychotic': 3459, 'chaos': 756, 'huh': 2186, 'menace': 2805, 'threatening': 4467, 'shirt': 3935, 'covered': 1024, 'cops': 994, 'phony': 3256, 'wins': 4899, 'descent': 1192, 'resort': 3649, 'whale': 4856, 'thumbs': 4484, 'generous': 1885, 'sandler': 3779, 'poster': 3353, 'stretched': 4220, 'darkness': 1118, 'answers': 251, 'incomprehensible': 2266, 'mentally': 2808, 'nuclear': 3056, 'shed': 3922, 'spending': 4103, 'hip': 2113, 'simpson': 3984, 'forgettable': 1793, 'roots': 3736, 'slightest': 4025, 'concerning': 934, 'cried': 1055, 'ignored': 2224, 'drugs': 1373, 'lifestyle': 2591, 'domino': 1318, 'acid': 95, 'unexpected': 4649, 'suck': 4267, 'primary': 3394, 'anyways': 261, 'brady': 561, 'yesterday': 4983, 'rage': 3505, 'gory': 1942, 'chan': 747, 'fever': 1698, 'press': 3379, 'citizen': 825, 'complaint': 921, 'exaggerated': 1552, 'guard': 1987, 'abandoned': 62, 'returned': 3664, 'attitude': 345, 'prostitute': 3440, 'alike': 185, 'millions': 2848, 'alcoholic': 177, 'decision': 1151, 'aids': 161, 'solution': 4056, 'rocky': 3721, 'inventive': 2340, 'elephant': 1444, 'blows': 517, 'rooms': 3734, 'surface': 4308, 'twin': 4614, 'birthday': 487, 'passes': 3203, 'education': 1424, 'separate': 3881, 'domestic': 1317, 'realizes': 3554, 'abusive': 75, 'witnesses': 4916, 'stress': 4218, 'larry': 2518, 'stops': 4201, 'climactic': 849, 'issue': 2363, 'valuable': 4707, 'germany': 1897, 'wwii': 4975, 'virginia': 4749, 'cooper': 991, 'panic': 3181, 'fresh': 1832, 'illegal': 2228, 'widmark': 4881, 'illness': 2229, 'defend': 1158, 'recognition': 3568, 'hunt': 2197, 'underground': 4639, 'widely': 4880, 'satan': 3785, 'irony': 2356, 'passing': 3204, 'unsettling': 4678, 'adams': 112, 'leslie': 2572, 'charm': 768, 'awe': 369, 'ballet': 388, 'rain': 3506, 'wore': 4939, 'formula': 1801, 'pal': 3176, 'firstly': 1736, 'saga': 3771, 'marks': 2741, 'timeless': 4495, 'headed': 2057, 'ensues': 1493, 'nyc': 3064, 'cusack': 1089, 'folk': 1769, 'tender': 4400, 'emily': 1456, 'desperately': 1208, 'visit': 4754, 'weakest': 4824, 'slave': 4019, 'cup': 1081, 'tea': 4371, 'frankenstein': 1821, 'alternate': 200, 'dinner': 1253, 'introduces': 2337, 'relies': 3605, 'terrorists': 4413, 'bomb': 531, 'defense': 1159, 'racism': 3502, 'ho': 2126, 'ad': 110, 'demented': 1176, 'surrounded': 4316, 'suffice': 4277, 'holy': 2139, 'rising': 3701, 'andy': 230, 'charles': 765, 'identify': 2215, 'cats': 722, 'shall': 3914, 'coach': 869, 'fields': 1704, 'shy': 3960, 'scare': 3801, 'gentle': 1889, 'curiosity': 1083, 'wrapped': 4964, 'hop': 2153, 'cultural': 1079, 'crack': 1028, 'dozens': 1338, 'combine': 885, 'quit': 3494, 'julia': 2426, 'robbery': 3709, 'dress': 1356, 'eddie': 1415, 'hitchcock': 2122, 'stinker': 4189, 'chuck': 813, 'amateur': 206, 'coherent': 872, 'trouble': 4591, 'spirited': 4111, 'darker': 1117, 'mask': 2751, 'ingredients': 2288, 'rolled': 3727, 'wanting': 4789, 'countless': 1013, 'remaining': 3609, 'oil': 3096, 'shelley': 3926, 'winters': 4901, 'resist': 3647, 'thankfully': 4421, 'depression': 1188, 'regret': 3590, 'imitation': 2240, 'paranoia': 3186, 'performers': 3232, 'atmospheric': 333, 'link': 2611, 'halloween': 2009, 'carpenter': 695, 'teeth': 4392, 'tooth': 4523, 'hippie': 2114, 'buying': 642, 'fallen': 1638, 'asleep': 319, 'worthwhile': 4955, 'eaten': 1411, 'singer': 3990, 'steel': 4171, 'ireland': 2351, 'carradine': 696, 'dentist': 1180, 'dear': 1141, 'doctors': 1304, 'ken': 2452, 'cringe': 1060, 'serve': 3891, 'pearl': 3220, 'precious': 3366, 'wandering': 4784, 'superhero': 4297, 'shell': 3925, 'device': 1226, 'doomed': 1326, 'rap': 3520, 'associated': 326, 'twilight': 4613, 'lone': 2640, 'seek': 3856, 'activities': 102, 'waitress': 4772, 'myers': 2951, 'swimming': 4336, 'involvement': 2346, 'closest': 858, 'integrity': 2310, 'familys': 1646, 'traditional': 4549, 'stiller': 4187, 'landscapes': 2512, 'explored': 1595, 'environment': 1505, 'agrees': 157, 'lab': 2500, 'wasting': 4809, 'stole': 4192, 'california': 651, 'meaningful': 2780, '2003': 33, 'anime': 242, 'shorts': 3946, 'workers': 4943, 'trial': 4579, 'crisis': 1061, 'partly': 3197, 'dressed': 1357, 'futuristic': 1856, 'cities': 824, 'disneys': 1289, 'cinderella': 816, 'opposed': 3121, 'mature': 2772, 'prince': 3396, 'fbi': 1675, 'santa': 3781, 'howard': 2181, 'traveling': 4567, 'ann': 243, 'necessarily': 2982, 'hardcore': 2033, 'shoes': 3939, 'cinemas': 818, 'couples': 1018, 'armed': 292, 'attend': 343, 'affect': 136, 'captured': 678, 'recall': 3562, 'amitabh': 216, 'ridiculously': 3692, 'anna': 244, 'uninspired': 4656, 'midnight': 2834, 'realizing': 3555, 'racial': 3501, 'global': 1919, 'superman': 4299, 'suited': 4284, 'buffs': 613, 'ah': 158, 'mildred': 2841, 'dynamic': 1393, 'changing': 753, 'code': 870, 'del': 1165, 'commented': 901, 'professor': 3422, 'copies': 993, 'maria': 2735, 'constructed': 960, 'introduction': 2338, 'diane': 1237, 'beer': 438, 'models': 2881, 'journalist': 2419, 'creators': 1045, 'nonsensical': 3030, 'flashbacks': 1746, 'frustrated': 1841, 'bathroom': 411, 'boredom': 542, 'balls': 389, 'competition': 919, 'theyll': 4443, 'portraying': 3343, 'gadget': 1859, 'laws': 2538, 'sin': 3985, 'witnessed': 4915, 'resident': 3646, 'miller': 2846, 'prize': 3405, 'travels': 4568, 'established': 1524, 'crocodile': 1066, 'chain': 742, 'judging': 2424, 'doll': 1312, 'funeral': 1848, 'research': 3643, 'chased': 771, 'rubber': 3745, 'spring': 4132, 'documentaries': 1305, 'daddy': 1097, 'donna': 1322, 'reasonable': 3558, 'tortured': 4529, 'faster': 1662, 'rental': 3626, 'claims': 831, 'widow': 4882, 'assigned': 324, 'flaw': 1748, 'currently': 1086, 'ultra': 4628, 'heaven': 2067, 'outcome': 3141, 'brilliance': 582, 'comical': 895, 'arrival': 298, 'credible': 1049, 'blond': 510, 'shoots': 3942, 'progresses': 3426, 'shirley': 3934, 'explore': 1594, 'icon': 2210, 'continued': 971, 'dawn': 1128, 'hills': 2108, 'plight': 3308, 'chasing': 773, 'barbara': 396, 'arrived': 300, 'circumstances': 823, 'peters': 3248, 'composed': 927, 'drives': 1366, 'shadows': 3911, 'piano': 3264, 'suits': 4285, 'turkey': 4603, 'extended': 1604, 'politically': 3325, 'destroying': 1214, 'respected': 3652, 'rushed': 3758, 'controversial': 979, 'perry': 3237, 'perfection': 3225, 'explaining': 1588, 'refuses': 3586, 'flop': 1759, 'priceless': 3390, 'highlights': 2103, 'treats': 4574, '1980s': 21, 'flashback': 1745, 'scores': 3821, 'greek': 1969, 'guilty': 1994, 'dancer': 1105, '2004': 34, 'judy': 2425, 'lily': 2603, 'jenny': 2392, 'showdown': 3953, 'wished': 4905, 'styles': 4248, 'responsibility': 3654, 'stretch': 4219, 'consistent': 954, 'korean': 2494, 'chosen': 806, 'comparing': 914, 'property': 3438, 'essential': 1522, 'significant': 3969, 'chorus': 804, 'doors': 1328, 'realise': 3548, 'warren': 4800, 'beatty': 426, 'pleasantly': 3303, 'lynch': 2689, 'charlotte': 767, 'brooklyn': 595, 'chicks': 788, 'offended': 3084, 'stinks': 4190, 'educational': 1425, 'depressed': 1186, 'annie': 246, 'omen': 3103, 'wondered': 4927, 'agreed': 156, 'carries': 700, 'classical': 837, 'hurts': 2202, 'grinch': 1974, 'viewings': 4740, 'steals': 4170, 'claimed': 830, 'dragon': 1343, 'wannabe': 4786, 'equivalent': 1512, 'sounding': 4080, 'replaced': 3633, 'freeman': 1828, 'rank': 3518, 'counter': 1012, 'task': 4366, 'morgan': 2904, 'knock': 2487, 'lively': 2625, 'notably': 3041, 'delight': 1167, 'britain': 588, 'gruesome': 1985, 'jamie': 2378, 'succeeded': 4261, 'killings': 2472, 'happily': 2029, 'dvds': 1391, 'jumped': 2429, '3d': 46, 'sentence': 3879, 'suspicious': 4330, 'elvira': 1450, 'visits': 4755, 'creation': 1041, 'stanwyck': 4147, 'retarded': 3661, 'parody': 3192, 'trite': 4588, 'abraham': 69, 'faults': 1669, 'lincoln': 2606, 'progress': 3425, 'propaganda': 3435, 'desired': 1205, 'satisfy': 3788, 'blade': 495, 'clip': 852, 'charisma': 763, 'implausible': 2244, 'saturday': 3790, 'surfing': 4309, 'damon': 1102, 'terry': 4414, 'abilities': 64, 'eyre': 1614, 'rochester': 3717, '1983': 22, 'timothy': 4498, 'dalton': 1099, 'germans': 1896, 'nazis': 2977, 'nazi': 2976, 'distribution': 1297, 'banned': 394, 'sixties': 4008, 'trashy': 4565, 'guide': 1992, 'mrs': 2929, 'dan': 1103, 'victoria': 4731, 'mixture': 2878, 'merit': 2815, 'bourne': 554, 'da': 1095, 'interaction': 2321, 'obscure': 3067, 'resemblance': 3644, 'represent': 3636, 'destiny': 1211, 'wounded': 4961, 'demand': 1174, 'sullivan': 4286, 'relief': 3604, 'georges': 1893, 'complexity': 925, 'library': 2587, 'sold': 4049, 'pro': 3406, 'benefit': 464, 'diana': 1236, 'atlantis': 331, 'wed': 4834, 'jesse': 2396, 'andrew': 228, 'norman': 3034, 'robinson': 3714, 'inferior': 2284, 'hideous': 2097, 'massacre': 2753, 'hollywoods': 2137, 'glorious': 1920, 'humble': 2190, 'parker': 3191, 'kicks': 2462, 'parties': 3196, 'broadcast': 591, 'harder': 2034, 'survivor': 4322, 'rotten': 3738, 'taught': 4368, 'clumsy': 867, 'sappy': 3782, 'dust': 1387, 'closed': 855, 'simplistic': 3982, 'trek': 4577, 'dialogs': 1232, 'coffee': 871, 'abysmal': 76, 'patients': 3212, 'vast': 4715, 'screens': 3830, 'overacting': 3148, 'neo': 2997, 'movement': 2922, 'stealing': 4169, 'afford': 138, 'demands': 1175, 'soviet': 4086, 'ear': 1396, 'unhappy': 4655, 'laughably': 2529, 'performs': 3234, 'doc': 1302, 'march': 2733, 'morris': 2907, 'bus': 632, 'bottle': 550, 'promised': 3431, 'edgar': 1416, 'performer': 3231, 'et': 1526, 'theory': 4436, 'scientific': 3815, 'attitudes': 346, '2007': 37, 'promises': 3432, 'method': 2824, 'league': 2547, 'beliefs': 451, 'sticks': 4184, 'cagney': 647, 'enters': 1496, 'proceeds': 3411, 'escapes': 1519, 'fury': 1854, 'pays': 3218, 'carrey': 697, 'burton': 631, 'grandmother': 1954, 'scarecrow': 3802, 'patient': 3211, 'pretending': 3382, 'influenced': 2286, 'troubled': 4592, '2005': 35, 'intent': 2317, 'grey': 1972, 'pink': 3277, 'construction': 961, 'usa': 4690, 'friday': 1833, 'mundane': 2937, 'outrageous': 3144, 'drops': 1371, 'analysis': 224, 'hilariously': 2106, 'kubrick': 2495, 'twelve': 4610, 'davies': 1126, 'paltrow': 3178, 'poverty': 3357, 'oddly': 3080, 'stilted': 4188, 'prom': 3429, 'australian': 356, 'hopeless': 2157, 'alfred': 181, 'florida': 1760, 'insult': 2308, 'exercise': 1568, 'wing': 4896, 'cake': 649, 'walker': 4777, 'arnold': 295, 'nelson': 2996, '1973': 19, 'hbo': 2054, 'cube': 1077, 'exotic': 1574, 'spooky': 4126, 'lees': 2558, 'trailers': 4554, 'recording': 3575, 'assumed': 328, 'southern': 4085, 'vehicle': 4717, 'francisco': 1818, 'arrive': 299, 'punishment': 3467, 'seagal': 3837, 'tight': 4491, 'motives': 2915, 'solely': 4053, '1968': 15, 'hoffman': 2127, 'albert': 174, 'household': 2178, 'dickens': 1239, 'sends': 3874, 'willie': 4888, 'frustration': 1842, 'loaded': 2630, 'portrait': 3339, 'melting': 2798, 'secrets': 3850, 'calm': 656, 'spider': 4106, 'blah': 496, 'distinct': 1295, 'karloff': 2444, 'broad': 590, 'giallo': 1903, 'accompanied': 86, '3rd': 47, 'trademark': 4547, 'likewise': 2601, 'admittedly': 123, 'sue': 4272, 'rat': 3525, 'dialogues': 1234, 'itll': 2368, 'species': 4095, 'notion': 3049, 'communist': 908, 'minimal': 2855, 'misery': 2865, 'masses': 2754, 'restored': 3658, 'louise': 2664, 'warming': 4794, 'biography': 483, 'tracy': 4545, 'chess': 784, 'soccer': 4045, 'teach': 4372, 'someones': 4062, 'operation': 3116, 'encounters': 1467, 'farm': 1656, 'floating': 1757, 'snl': 4041, 'wholly': 4873, 'lion': 2612, 'edie': 1419, 'molly': 2884, 'leonard': 2570, 'lying': 2688, 'akshay': 169, 'spanish': 4089, 'feed': 1682, 'fifteen': 1705, 'pat': 3208, 'royal': 3744, 'gandhi': 1865, 'brosnan': 597, 'endure': 1475, 'trained': 4556, 'receives': 3565, 'overlook': 3152, 'unseen': 4677, 'tour': 4537, 'pit': 3278, 'investigate': 2341, 'cardboard': 683, 'consistently': 955, 'foul': 1809, 'tribute': 4580, 'retired': 3662, 'thrills': 4474, 'practice': 3363, 'map': 2732, 'guarantee': 1986, 'hopper': 2160, 'der': 1190, 'australia': 355, 'homeless': 2142, 'slapstick': 4016, 'directions': 1261, 'subplots': 4254, 'gifted': 1906, 'swim': 4335, 'express': 1600, 'bergman': 465, 'vulnerable': 4767, 'spain': 4088, 'nurse': 3062, 'pan': 3180, 'button': 640, 'bumbling': 623, 'kenneth': 2454, 'suspend': 4327, 'messed': 2820, 'dave': 1124, 'listed': 2616, 'agents': 151, 'civil': 827, 'bears': 420, 'powell': 3358, 'menacing': 2806, 'ocean': 3078, 'dinosaurs': 1255, 'blob': 507, 'dracula': 1340, 'mall': 2718, 'monkeys': 2890, 'prisoners': 3403, 'heights': 2072, 'boxing': 556, '13th': 5, 'hugh': 2185, 'deliberately': 1166, 'lucy': 2682, 'gundam': 1996, 'franco': 1819, 'orange': 3124, 'swedish': 4333, 'robbins': 3710, 'classes': 835, 'april': 283, 'lena': 2566, 'chicago': 786, 'ruby': 3747, 'ramones': 3512, 'spock': 4118, 'marty': 2748, 'excessive': 1560, 'gabriel': 1858, 'iran': 2349, 'polanski': 3321, 'pokemon': 3320, 'modesty': 2883, 'maniac': 2725, 'dolph': 1316}\n"
     ]
    }
   ],
   "source": [
    "print(str(vocabulary))"
   ]
  },
  {
   "cell_type": "markdown",
   "metadata": {},
   "source": [
    "Once you have added the endpoint name to the Lambda function, click on **Save**. Your Lambda function is now up and running. Next we need to create a way for our web app to execute the Lambda function."
   ]
  },
  {
   "cell_type": "markdown",
   "metadata": {},
   "source": [
    "### Setting up API Gateway\n",
    "\n",
    "Now that our Lambda function is set up, it is time to create a new API using API Gateway that will trigger the Lambda function we have just created.\n",
    "\n",
    "Using AWS Console, navigate to **Amazon API Gateway** and then click on **Get started**.\n",
    "\n",
    "On the next page, make sure that **New API** is selected and give the new api a name, for example, `sentiment_analysis_web_app`. Then, click on **Create API**.\n",
    "\n",
    "Now we have created an API, however it doesn't currently do anything. What we want it to do is to trigger the Lambda function that we created earlier.\n",
    "\n",
    "Select the **Actions** dropdown menu and click **Create Method**. A new blank method will be created, select its dropdown menu and select **POST**, then click on the check mark beside it.\n",
    "\n",
    "For the integration point, make sure that **Lambda Function** is selected and click on the **Use Lambda Proxy integration**. This option makes sure that the data that is sent to the API is then sent directly to the Lambda function with no processing. It also means that the return value must be a proper response object as it will also not be processed by API Gateway.\n",
    "\n",
    "Type the name of the Lambda function you created earlier into the **Lambda Function** text entry box and then click on **Save**. Click on **OK** in the pop-up box that then appears, giving permission to API Gateway to invoke the Lambda function you created.\n",
    "\n",
    "The last step in creating the API Gateway is to select the **Actions** dropdown and click on **Deploy API**. You will need to create a new Deployment stage and name it anything you like, for example `prod`.\n",
    "\n",
    "You have now successfully set up a public API to access your SageMaker model. Make sure to copy or write down the URL provided to invoke your newly created public API as this will be needed in the next step. This URL can be found at the top of the page, highlighted in blue next to the text **Invoke URL**."
   ]
  },
  {
   "cell_type": "markdown",
   "metadata": {},
   "source": [
    "## Step 7: Deploying our web app\n",
    "\n",
    "Now that we have a publicly available API, we can start using it in a web app. For our purposes, we have provided a simple static html file which can make use of the public api you created earlier.\n",
    "\n",
    "In the `website` folder there should be a file called `index.html`. Download the file to your computer and open that file up in a text editor of your choice. There should be a line which contains **\\*\\*REPLACE WITH PUBLIC API URL\\*\\***. Replace this string with the url that you wrote down in the last step and then save the file.\n",
    "\n",
    "Now, if you open `index.html` on your local computer, your browser will behave as a local web server and you can use the provided site to interact with your SageMaker model.\n",
    "\n",
    "If you'd like to go further, you can host this html file anywhere you'd like, for example using github or hosting a static site on Amazon's S3. Once you have done this you can share the link with anyone you'd like and have them play with it too!\n",
    "\n",
    "> **Important Note** In order for the web app to communicate with the SageMaker endpoint, the endpoint has to actually be deployed and running. This means that you are paying for it. Make sure that the endpoint is running when you want to use the web app but that you shut it down when you don't need it, otherwise you will end up with a surprisingly large AWS bill."
   ]
  },
  {
   "cell_type": "markdown",
   "metadata": {},
   "source": [
    "### Delete the endpoint\n",
    "\n",
    "Remember to always shut down your endpoint if you are no longer using it. You are charged for the length of time that the endpoint is running so if you forget and leave it on you could end up with an unexpectedly large bill."
   ]
  },
  {
   "cell_type": "code",
   "execution_count": 53,
   "metadata": {},
   "outputs": [],
   "source": [
    "xgb_predictor.delete_endpoint()"
   ]
  },
  {
   "cell_type": "markdown",
   "metadata": {},
   "source": [
    "## Optional: Clean up\n",
    "\n",
    "The default notebook instance on SageMaker doesn't have a lot of excess disk space available. As you continue to complete and execute notebooks you will eventually fill up this disk space, leading to errors which can be difficult to diagnose. Once you are completely finished using a notebook it is a good idea to remove the files that you created along the way. Of course, you can do this from the terminal or from the notebook hub if you would like. The cell below contains some commands to clean up the created files from within the notebook."
   ]
  },
  {
   "cell_type": "code",
   "execution_count": 54,
   "metadata": {},
   "outputs": [
    {
     "ename": "OSError",
     "evalue": "[Errno 12] Cannot allocate memory",
     "output_type": "error",
     "traceback": [
      "\u001b[0;31m---------------------------------------------------------------------------\u001b[0m",
      "\u001b[0;31mOSError\u001b[0m                                   Traceback (most recent call last)",
      "\u001b[0;32m<ipython-input-54-2c87d8eefdf2>\u001b[0m in \u001b[0;36m<module>\u001b[0;34m\u001b[0m\n\u001b[1;32m      1\u001b[0m \u001b[0;31m# First we will remove all of the files contained in the data_dir directory\u001b[0m\u001b[0;34m\u001b[0m\u001b[0;34m\u001b[0m\u001b[0;34m\u001b[0m\u001b[0m\n\u001b[0;32m----> 2\u001b[0;31m \u001b[0mget_ipython\u001b[0m\u001b[0;34m(\u001b[0m\u001b[0;34m)\u001b[0m\u001b[0;34m.\u001b[0m\u001b[0msystem\u001b[0m\u001b[0;34m(\u001b[0m\u001b[0;34m'rm $data_dir/*'\u001b[0m\u001b[0;34m)\u001b[0m\u001b[0;34m\u001b[0m\u001b[0;34m\u001b[0m\u001b[0m\n\u001b[0m\u001b[1;32m      3\u001b[0m \u001b[0;34m\u001b[0m\u001b[0m\n\u001b[1;32m      4\u001b[0m \u001b[0;31m# And then we delete the directory itself\u001b[0m\u001b[0;34m\u001b[0m\u001b[0;34m\u001b[0m\u001b[0;34m\u001b[0m\u001b[0m\n\u001b[1;32m      5\u001b[0m \u001b[0mget_ipython\u001b[0m\u001b[0;34m(\u001b[0m\u001b[0;34m)\u001b[0m\u001b[0;34m.\u001b[0m\u001b[0msystem\u001b[0m\u001b[0;34m(\u001b[0m\u001b[0;34m'rmdir $data_dir'\u001b[0m\u001b[0;34m)\u001b[0m\u001b[0;34m\u001b[0m\u001b[0;34m\u001b[0m\u001b[0m\n",
      "\u001b[0;32m~/anaconda3/envs/python3/lib/python3.6/site-packages/IPython/core/interactiveshell.py\u001b[0m in \u001b[0;36msystem_piped\u001b[0;34m(self, cmd)\u001b[0m\n\u001b[1;32m   2454\u001b[0m         \u001b[0;31m# a non-None value would trigger :func:`sys.displayhook` calls.\u001b[0m\u001b[0;34m\u001b[0m\u001b[0;34m\u001b[0m\u001b[0;34m\u001b[0m\u001b[0m\n\u001b[1;32m   2455\u001b[0m         \u001b[0;31m# Instead, we store the exit_code in user_ns.\u001b[0m\u001b[0;34m\u001b[0m\u001b[0;34m\u001b[0m\u001b[0;34m\u001b[0m\u001b[0m\n\u001b[0;32m-> 2456\u001b[0;31m         \u001b[0mself\u001b[0m\u001b[0;34m.\u001b[0m\u001b[0muser_ns\u001b[0m\u001b[0;34m[\u001b[0m\u001b[0;34m'_exit_code'\u001b[0m\u001b[0;34m]\u001b[0m \u001b[0;34m=\u001b[0m \u001b[0msystem\u001b[0m\u001b[0;34m(\u001b[0m\u001b[0mself\u001b[0m\u001b[0;34m.\u001b[0m\u001b[0mvar_expand\u001b[0m\u001b[0;34m(\u001b[0m\u001b[0mcmd\u001b[0m\u001b[0;34m,\u001b[0m \u001b[0mdepth\u001b[0m\u001b[0;34m=\u001b[0m\u001b[0;36m1\u001b[0m\u001b[0;34m)\u001b[0m\u001b[0;34m)\u001b[0m\u001b[0;34m\u001b[0m\u001b[0;34m\u001b[0m\u001b[0m\n\u001b[0m\u001b[1;32m   2457\u001b[0m \u001b[0;34m\u001b[0m\u001b[0m\n\u001b[1;32m   2458\u001b[0m     \u001b[0;32mdef\u001b[0m \u001b[0msystem_raw\u001b[0m\u001b[0;34m(\u001b[0m\u001b[0mself\u001b[0m\u001b[0;34m,\u001b[0m \u001b[0mcmd\u001b[0m\u001b[0;34m)\u001b[0m\u001b[0;34m:\u001b[0m\u001b[0;34m\u001b[0m\u001b[0;34m\u001b[0m\u001b[0m\n",
      "\u001b[0;32m~/anaconda3/envs/python3/lib/python3.6/site-packages/IPython/utils/_process_posix.py\u001b[0m in \u001b[0;36msystem\u001b[0;34m(self, cmd)\u001b[0m\n\u001b[1;32m    154\u001b[0m                 \u001b[0mchild\u001b[0m \u001b[0;34m=\u001b[0m \u001b[0mpexpect\u001b[0m\u001b[0;34m.\u001b[0m\u001b[0mspawnb\u001b[0m\u001b[0;34m(\u001b[0m\u001b[0mself\u001b[0m\u001b[0;34m.\u001b[0m\u001b[0msh\u001b[0m\u001b[0;34m,\u001b[0m \u001b[0margs\u001b[0m\u001b[0;34m=\u001b[0m\u001b[0;34m[\u001b[0m\u001b[0;34m'-c'\u001b[0m\u001b[0;34m,\u001b[0m \u001b[0mcmd\u001b[0m\u001b[0;34m]\u001b[0m\u001b[0;34m)\u001b[0m \u001b[0;31m# Pexpect-U\u001b[0m\u001b[0;34m\u001b[0m\u001b[0;34m\u001b[0m\u001b[0m\n\u001b[1;32m    155\u001b[0m             \u001b[0;32melse\u001b[0m\u001b[0;34m:\u001b[0m\u001b[0;34m\u001b[0m\u001b[0;34m\u001b[0m\u001b[0m\n\u001b[0;32m--> 156\u001b[0;31m                 \u001b[0mchild\u001b[0m \u001b[0;34m=\u001b[0m \u001b[0mpexpect\u001b[0m\u001b[0;34m.\u001b[0m\u001b[0mspawn\u001b[0m\u001b[0;34m(\u001b[0m\u001b[0mself\u001b[0m\u001b[0;34m.\u001b[0m\u001b[0msh\u001b[0m\u001b[0;34m,\u001b[0m \u001b[0margs\u001b[0m\u001b[0;34m=\u001b[0m\u001b[0;34m[\u001b[0m\u001b[0;34m'-c'\u001b[0m\u001b[0;34m,\u001b[0m \u001b[0mcmd\u001b[0m\u001b[0;34m]\u001b[0m\u001b[0;34m)\u001b[0m  \u001b[0;31m# Vanilla Pexpect\u001b[0m\u001b[0;34m\u001b[0m\u001b[0;34m\u001b[0m\u001b[0m\n\u001b[0m\u001b[1;32m    157\u001b[0m             \u001b[0mflush\u001b[0m \u001b[0;34m=\u001b[0m \u001b[0msys\u001b[0m\u001b[0;34m.\u001b[0m\u001b[0mstdout\u001b[0m\u001b[0;34m.\u001b[0m\u001b[0mflush\u001b[0m\u001b[0;34m\u001b[0m\u001b[0;34m\u001b[0m\u001b[0m\n\u001b[1;32m    158\u001b[0m             \u001b[0;32mwhile\u001b[0m \u001b[0;32mTrue\u001b[0m\u001b[0;34m:\u001b[0m\u001b[0;34m\u001b[0m\u001b[0;34m\u001b[0m\u001b[0m\n",
      "\u001b[0;32m~/anaconda3/envs/python3/lib/python3.6/site-packages/pexpect/pty_spawn.py\u001b[0m in \u001b[0;36m__init__\u001b[0;34m(self, command, args, timeout, maxread, searchwindowsize, logfile, cwd, env, ignore_sighup, echo, preexec_fn, encoding, codec_errors, dimensions, use_poll)\u001b[0m\n\u001b[1;32m    203\u001b[0m             \u001b[0mself\u001b[0m\u001b[0;34m.\u001b[0m\u001b[0mname\u001b[0m \u001b[0;34m=\u001b[0m \u001b[0;34m'<pexpect factory incomplete>'\u001b[0m\u001b[0;34m\u001b[0m\u001b[0;34m\u001b[0m\u001b[0m\n\u001b[1;32m    204\u001b[0m         \u001b[0;32melse\u001b[0m\u001b[0;34m:\u001b[0m\u001b[0;34m\u001b[0m\u001b[0;34m\u001b[0m\u001b[0m\n\u001b[0;32m--> 205\u001b[0;31m             \u001b[0mself\u001b[0m\u001b[0;34m.\u001b[0m\u001b[0m_spawn\u001b[0m\u001b[0;34m(\u001b[0m\u001b[0mcommand\u001b[0m\u001b[0;34m,\u001b[0m \u001b[0margs\u001b[0m\u001b[0;34m,\u001b[0m \u001b[0mpreexec_fn\u001b[0m\u001b[0;34m,\u001b[0m \u001b[0mdimensions\u001b[0m\u001b[0;34m)\u001b[0m\u001b[0;34m\u001b[0m\u001b[0;34m\u001b[0m\u001b[0m\n\u001b[0m\u001b[1;32m    206\u001b[0m         \u001b[0mself\u001b[0m\u001b[0;34m.\u001b[0m\u001b[0muse_poll\u001b[0m \u001b[0;34m=\u001b[0m \u001b[0muse_poll\u001b[0m\u001b[0;34m\u001b[0m\u001b[0;34m\u001b[0m\u001b[0m\n\u001b[1;32m    207\u001b[0m \u001b[0;34m\u001b[0m\u001b[0m\n",
      "\u001b[0;32m~/anaconda3/envs/python3/lib/python3.6/site-packages/pexpect/pty_spawn.py\u001b[0m in \u001b[0;36m_spawn\u001b[0;34m(self, command, args, preexec_fn, dimensions)\u001b[0m\n\u001b[1;32m    302\u001b[0m \u001b[0;34m\u001b[0m\u001b[0m\n\u001b[1;32m    303\u001b[0m         self.ptyproc = self._spawnpty(self.args, env=self.env,\n\u001b[0;32m--> 304\u001b[0;31m                                      cwd=self.cwd, **kwargs)\n\u001b[0m\u001b[1;32m    305\u001b[0m \u001b[0;34m\u001b[0m\u001b[0m\n\u001b[1;32m    306\u001b[0m         \u001b[0mself\u001b[0m\u001b[0;34m.\u001b[0m\u001b[0mpid\u001b[0m \u001b[0;34m=\u001b[0m \u001b[0mself\u001b[0m\u001b[0;34m.\u001b[0m\u001b[0mptyproc\u001b[0m\u001b[0;34m.\u001b[0m\u001b[0mpid\u001b[0m\u001b[0;34m\u001b[0m\u001b[0;34m\u001b[0m\u001b[0m\n",
      "\u001b[0;32m~/anaconda3/envs/python3/lib/python3.6/site-packages/pexpect/pty_spawn.py\u001b[0m in \u001b[0;36m_spawnpty\u001b[0;34m(self, args, **kwargs)\u001b[0m\n\u001b[1;32m    313\u001b[0m     \u001b[0;32mdef\u001b[0m \u001b[0m_spawnpty\u001b[0m\u001b[0;34m(\u001b[0m\u001b[0mself\u001b[0m\u001b[0;34m,\u001b[0m \u001b[0margs\u001b[0m\u001b[0;34m,\u001b[0m \u001b[0;34m**\u001b[0m\u001b[0mkwargs\u001b[0m\u001b[0;34m)\u001b[0m\u001b[0;34m:\u001b[0m\u001b[0;34m\u001b[0m\u001b[0;34m\u001b[0m\u001b[0m\n\u001b[1;32m    314\u001b[0m         \u001b[0;34m'''Spawn a pty and return an instance of PtyProcess.'''\u001b[0m\u001b[0;34m\u001b[0m\u001b[0;34m\u001b[0m\u001b[0m\n\u001b[0;32m--> 315\u001b[0;31m         \u001b[0;32mreturn\u001b[0m \u001b[0mptyprocess\u001b[0m\u001b[0;34m.\u001b[0m\u001b[0mPtyProcess\u001b[0m\u001b[0;34m.\u001b[0m\u001b[0mspawn\u001b[0m\u001b[0;34m(\u001b[0m\u001b[0margs\u001b[0m\u001b[0;34m,\u001b[0m \u001b[0;34m**\u001b[0m\u001b[0mkwargs\u001b[0m\u001b[0;34m)\u001b[0m\u001b[0;34m\u001b[0m\u001b[0;34m\u001b[0m\u001b[0m\n\u001b[0m\u001b[1;32m    316\u001b[0m \u001b[0;34m\u001b[0m\u001b[0m\n\u001b[1;32m    317\u001b[0m     \u001b[0;32mdef\u001b[0m \u001b[0mclose\u001b[0m\u001b[0;34m(\u001b[0m\u001b[0mself\u001b[0m\u001b[0;34m,\u001b[0m \u001b[0mforce\u001b[0m\u001b[0;34m=\u001b[0m\u001b[0;32mTrue\u001b[0m\u001b[0;34m)\u001b[0m\u001b[0;34m:\u001b[0m\u001b[0;34m\u001b[0m\u001b[0;34m\u001b[0m\u001b[0m\n",
      "\u001b[0;32m~/anaconda3/envs/python3/lib/python3.6/site-packages/ptyprocess/ptyprocess.py\u001b[0m in \u001b[0;36mspawn\u001b[0;34m(cls, argv, cwd, env, echo, preexec_fn, dimensions)\u001b[0m\n\u001b[1;32m    224\u001b[0m \u001b[0;34m\u001b[0m\u001b[0m\n\u001b[1;32m    225\u001b[0m         \u001b[0;32mif\u001b[0m \u001b[0muse_native_pty_fork\u001b[0m\u001b[0;34m:\u001b[0m\u001b[0;34m\u001b[0m\u001b[0;34m\u001b[0m\u001b[0m\n\u001b[0;32m--> 226\u001b[0;31m             \u001b[0mpid\u001b[0m\u001b[0;34m,\u001b[0m \u001b[0mfd\u001b[0m \u001b[0;34m=\u001b[0m \u001b[0mpty\u001b[0m\u001b[0;34m.\u001b[0m\u001b[0mfork\u001b[0m\u001b[0;34m(\u001b[0m\u001b[0;34m)\u001b[0m\u001b[0;34m\u001b[0m\u001b[0;34m\u001b[0m\u001b[0m\n\u001b[0m\u001b[1;32m    227\u001b[0m         \u001b[0;32melse\u001b[0m\u001b[0;34m:\u001b[0m\u001b[0;34m\u001b[0m\u001b[0;34m\u001b[0m\u001b[0m\n\u001b[1;32m    228\u001b[0m             \u001b[0;31m# Use internal fork_pty, for Solaris\u001b[0m\u001b[0;34m\u001b[0m\u001b[0;34m\u001b[0m\u001b[0;34m\u001b[0m\u001b[0m\n",
      "\u001b[0;32m~/anaconda3/envs/python3/lib/python3.6/pty.py\u001b[0m in \u001b[0;36mfork\u001b[0;34m()\u001b[0m\n\u001b[1;32m     95\u001b[0m \u001b[0;34m\u001b[0m\u001b[0m\n\u001b[1;32m     96\u001b[0m     \u001b[0mmaster_fd\u001b[0m\u001b[0;34m,\u001b[0m \u001b[0mslave_fd\u001b[0m \u001b[0;34m=\u001b[0m \u001b[0mopenpty\u001b[0m\u001b[0;34m(\u001b[0m\u001b[0;34m)\u001b[0m\u001b[0;34m\u001b[0m\u001b[0;34m\u001b[0m\u001b[0m\n\u001b[0;32m---> 97\u001b[0;31m     \u001b[0mpid\u001b[0m \u001b[0;34m=\u001b[0m \u001b[0mos\u001b[0m\u001b[0;34m.\u001b[0m\u001b[0mfork\u001b[0m\u001b[0;34m(\u001b[0m\u001b[0;34m)\u001b[0m\u001b[0;34m\u001b[0m\u001b[0;34m\u001b[0m\u001b[0m\n\u001b[0m\u001b[1;32m     98\u001b[0m     \u001b[0;32mif\u001b[0m \u001b[0mpid\u001b[0m \u001b[0;34m==\u001b[0m \u001b[0mCHILD\u001b[0m\u001b[0;34m:\u001b[0m\u001b[0;34m\u001b[0m\u001b[0;34m\u001b[0m\u001b[0m\n\u001b[1;32m     99\u001b[0m         \u001b[0;31m# Establish a new session.\u001b[0m\u001b[0;34m\u001b[0m\u001b[0;34m\u001b[0m\u001b[0;34m\u001b[0m\u001b[0m\n",
      "\u001b[0;31mOSError\u001b[0m: [Errno 12] Cannot allocate memory"
     ]
    }
   ],
   "source": [
    "# First we will remove all of the files contained in the data_dir directory\n",
    "!rm $data_dir/*\n",
    "\n",
    "# And then we delete the directory itself\n",
    "!rmdir $data_dir\n",
    "\n",
    "# Similarly we remove the files in the cache_dir directory and the directory itself\n",
    "!rm $cache_dir/*\n",
    "!rmdir $cache_dir"
   ]
  },
  {
   "cell_type": "code",
   "execution_count": null,
   "metadata": {},
   "outputs": [],
   "source": []
  }
 ],
 "metadata": {
  "kernelspec": {
   "display_name": "conda_python3",
   "language": "python",
   "name": "conda_python3"
  },
  "language_info": {
   "codemirror_mode": {
    "name": "ipython",
    "version": 3
   },
   "file_extension": ".py",
   "mimetype": "text/x-python",
   "name": "python",
   "nbconvert_exporter": "python",
   "pygments_lexer": "ipython3",
   "version": "3.6.10"
  }
 },
 "nbformat": 4,
 "nbformat_minor": 2
}
